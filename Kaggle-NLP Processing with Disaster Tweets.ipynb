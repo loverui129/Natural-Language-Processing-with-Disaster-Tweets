{
 "cells": [
  {
   "cell_type": "markdown",
   "id": "b81e851d-c008-4400-b877-64632315e93c",
   "metadata": {},
   "source": [
    "# NLP Processing with Disaster Tweets\n",
    "## Problem Description\n",
    "The competition focuses on leveraging Natural Language Processing (NLP) to classify tweets as related or unrelated to real disasters. Social media, especially Twitter, is widely used during emergencies to share real-time information. However, not all tweets containing disaster-related terms actually refer to real disasters (e.g., \"The sky was ablaze with colors\" vs. \"The forest is ablaze due to wildfires\"). This introduces the challenge of accurately distinguishing between figurative language and literal disaster-related tweets.\n",
    "\n",
    "The dataset provided contains 10,000 tweets, each labeled as:\n",
    "\n",
    "    1: The tweet describes a real disaster.\n",
    "    0: The tweet does not describe a real disaster.\n"
   ]
  },
  {
   "cell_type": "markdown",
   "id": "98cf3bda-976b-43b8-abad-1a8dfe5ccfde",
   "metadata": {},
   "source": [
    "## Goals of the Competition\n",
    "The primary goal is to build a machine learning model capable of classifying tweets as disaster-related or not disaster-related. This involves:\n",
    "\n",
    "    1.Extracting meaningful patterns and features from the text.\n",
    "    2.Training a predictive model using the labeled dataset.\n",
    "    3.Generating predictions for an unseen test set to evaluate model performance."
   ]
  },
  {
   "cell_type": "markdown",
   "id": "604ee693-613a-4527-b951-568404bd30b4",
   "metadata": {},
   "source": [
    "## Evaluation\n",
    "Submissions are evaluated using the F1 score, which balances Precision (correctly predicted disaster-related tweets out of all predicted disaster tweets) and Recall (correctly predicted disaster-related tweets out of all actual disaster tweets). A higher F1 score reflects better classification performance."
   ]
  },
  {
   "cell_type": "markdown",
   "id": "57e2d3d2-cb64-4e5a-bedd-1842eacfae07",
   "metadata": {},
   "source": [
    "## Dataset Description\n",
    "The dataset consists of two main files: train.csv and test.csv. These files include structured data that allows you to build and evaluate a machine learning model for tweet classification.\n",
    "\n",
    "### Train Dataset (train.csv)\n",
    "The training dataset contains 7,613 rows and the following columns:\n",
    "\n",
    "    id: A unique identifier for each tweet.\n",
    "    text: The tweet content as raw text.\n",
    "    keyword: A keyword extracted from the tweet (if available). This can help identify disaster-related context.\n",
    "    location: The location mentioned in the tweet (if available). May include noise or missing values.\n",
    "    target: The target variable, where:\n",
    "    1: The tweet is related to a real disaster.\n",
    "    0: The tweet is not related to a real disaster.\n",
    "\n",
    "### Test Dataset (test.csv)\n",
    "The test dataset contains 3,263 rows and is similar to the train dataset, except it does not include the target column. Your task is to predict the target values for these tweets and submit the results.\n",
    "\n",
    "    id: A unique identifier for each tweet.\n",
    "    text: The tweet content as raw text.\n",
    "    keyword: A keyword extracted from the tweet (if available).\n",
    "    location: The location mentioned in the tweet (if available).\n"
   ]
  },
  {
   "cell_type": "markdown",
   "id": "70c203a3-1ede-492f-a916-6d040e53459b",
   "metadata": {},
   "source": [
    "# Step1 EDA"
   ]
  },
  {
   "cell_type": "code",
   "execution_count": 11,
   "id": "b7d9e0d2-5d90-42ae-be6b-7fd37e481735",
   "metadata": {},
   "outputs": [],
   "source": [
    "import pandas as pd\n",
    "import matplotlib.pyplot as plt\n",
    "import seaborn as sns\n",
    "import numpy as np"
   ]
  },
  {
   "cell_type": "code",
   "execution_count": 13,
   "id": "bd1d75ef-9df7-425b-ad97-a0aa30305342",
   "metadata": {},
   "outputs": [],
   "source": [
    "# Loas datasets\n",
    "train_data=pd.read_csv('train.csv')\n",
    "test_data=pd.read_csv('test.csv')"
   ]
  },
  {
   "cell_type": "code",
   "execution_count": 4,
   "id": "3f4237f8-d6e8-40d4-b540-53095b4adcb1",
   "metadata": {},
   "outputs": [
    {
     "name": "stdout",
     "output_type": "stream",
     "text": [
      "Training Data Overview:\n",
      "<class 'pandas.core.frame.DataFrame'>\n",
      "RangeIndex: 7613 entries, 0 to 7612\n",
      "Data columns (total 5 columns):\n",
      " #   Column    Non-Null Count  Dtype \n",
      "---  ------    --------------  ----- \n",
      " 0   id        7613 non-null   int64 \n",
      " 1   keyword   7552 non-null   object\n",
      " 2   location  5080 non-null   object\n",
      " 3   text      7613 non-null   object\n",
      " 4   target    7613 non-null   int64 \n",
      "dtypes: int64(2), object(3)\n",
      "memory usage: 297.5+ KB\n",
      "None\n",
      "Test Data Overview\n",
      "<class 'pandas.core.frame.DataFrame'>\n",
      "RangeIndex: 3263 entries, 0 to 3262\n",
      "Data columns (total 4 columns):\n",
      " #   Column    Non-Null Count  Dtype \n",
      "---  ------    --------------  ----- \n",
      " 0   id        3263 non-null   int64 \n",
      " 1   keyword   3237 non-null   object\n",
      " 2   location  2158 non-null   object\n",
      " 3   text      3263 non-null   object\n",
      "dtypes: int64(1), object(3)\n",
      "memory usage: 102.1+ KB\n",
      "None\n"
     ]
    }
   ],
   "source": [
    "# Display basic info about training and test datasets\n",
    "print('Training Data Overview:')\n",
    "print(train_data.info())\n",
    "print('Test Data Overview')\n",
    "print(test_data.info())"
   ]
  },
  {
   "cell_type": "code",
   "execution_count": 5,
   "id": "31c010a8-8971-4523-a00d-7307b2f641ab",
   "metadata": {},
   "outputs": [
    {
     "name": "stdout",
     "output_type": "stream",
     "text": [
      "\n",
      "Missing values in Training Data:\n",
      "id             0\n",
      "keyword       61\n",
      "location    2533\n",
      "text           0\n",
      "target         0\n",
      "dtype: int64\n",
      "\n",
      "Missing Values in Test Data\n",
      "id             0\n",
      "keyword       26\n",
      "location    1105\n",
      "text           0\n",
      "dtype: int64\n"
     ]
    }
   ],
   "source": [
    "# Check missing values in both datasets \n",
    "print('\\nMissing values in Training Data:')\n",
    "print(train_data.isnull().sum())\n",
    "print('\\nMissing Values in Test Data')\n",
    "print(test_data.isnull().sum())"
   ]
  },
  {
   "cell_type": "code",
   "execution_count": 6,
   "id": "87ec59ee-65f9-4d2a-8d30-352026418926",
   "metadata": {},
   "outputs": [
    {
     "name": "stdout",
     "output_type": "stream",
     "text": [
      "\n",
      "Target Distribution:\n",
      "target\n",
      "0    0.57034\n",
      "1    0.42966\n",
      "Name: proportion, dtype: float64\n"
     ]
    }
   ],
   "source": [
    "# Analyze target variable distribution\n",
    "print('\\nTarget Distribution:')\n",
    "print(train_data['target'].value_counts(normalize=True))"
   ]
  },
  {
   "cell_type": "code",
   "execution_count": 12,
   "id": "21a5e254-8619-4a74-b268-5d71a6195574",
   "metadata": {},
   "outputs": [
    {
     "data": {
      "image/png": "[encoded data removed]",
      "text/plain": [
       "<Figure size 640x480 with 1 Axes>"
      ]
     },
     "metadata": {},
     "output_type": "display_data"
    }
   ],
   "source": [
    "# Visualize the distribution of the target variable\n",
    "sns.countplot(data=train_data, x='target',palette='viridis')\n",
    "plt.title('Target Distribution (0:Not Disaster,1: Disaster)')\n",
    "plt.xlabel('Target')\n",
    "plt.ylabel('Count')\n",
    "plt.show()\n"
   ]
  },
  {
   "cell_type": "code",
   "execution_count": 14,
   "id": "74465e6a-343f-4bc9-8f86-e59b6cb9906d",
   "metadata": {},
   "outputs": [
    {
     "name": "stderr",
     "output_type": "stream",
     "text": [
      "/opt/anaconda3/lib/python3.11/site-packages/seaborn/_oldcore.py:1119: FutureWarning: use_inf_as_na option is deprecated and will be removed in a future version. Convert inf values to NaN before operating instead.\n",
      "  with pd.option_context('mode.use_inf_as_na', True):\n"
     ]
    },
    {
     "data": {
      "image/png": "[encoded data removed]",
      "text/plain": [
       "<Figure size 640x480 with 1 Axes>"
      ]
     },
     "metadata": {},
     "output_type": "display_data"
    }
   ],
   "source": [
    "# Analyze tweet text length (character count and word count)\n",
    "train_data['text_length']=train_data['text'].apply(len)  # Calculate character count for each tweet\n",
    "train_data['word_count']=train_data['text'].apply(lambda x: len(x.split()))  # Calculate word count for each tweet\n",
    "# Visualize the distribution of tweet text length\n",
    "sns.histplot(train_data['text_length'], bins=30,kde=True,color='blue')\n",
    "plt.title('Tweet Text Length Distribution')\n",
    "plt.xlabel('Character Count')\n",
    "plt.ylabel('Frequency')\n",
    "plt.show()"
   ]
  },
  {
   "cell_type": "code",
   "execution_count": 15,
   "id": "42f009dc-36a4-4bf4-85aa-7ed3cb67c067",
   "metadata": {},
   "outputs": [
    {
     "name": "stdout",
     "output_type": "stream",
     "text": [
      "\n",
      "Top 20 Keywords for Target = 1 (Disaster-Related):\n",
      "keyword\n",
      "derailment               39\n",
      "wreckage                 39\n",
      "outbreak                 39\n",
      "debris                   37\n",
      "oil%20spill              37\n",
      "typhoon                  37\n",
      "evacuated                32\n",
      "suicide%20bombing        32\n",
      "rescuers                 32\n",
      "suicide%20bomb           32\n",
      "nuclear%20disaster       31\n",
      "razed                    31\n",
      "suicide%20bomber         30\n",
      "earthquake               30\n",
      "airplane%20accident      30\n",
      "collision                29\n",
      "wildfire                 29\n",
      "bridge%20collapse        29\n",
      "evacuation               28\n",
      "buildings%20on%20fire    28\n",
      "Name: count, dtype: int64\n",
      "\n",
      "Top 20 Keywords for Target = 0 (Not Disaster-Related):\n",
      "keyword\n",
      "body%20bags    40\n",
      "harm           37\n",
      "armageddon     37\n",
      "wrecked        36\n",
      "ruin           36\n",
      "deluge         36\n",
      "explode        35\n",
      "twister        35\n",
      "fear           35\n",
      "siren          35\n",
      "aftershock     34\n",
      "panic          34\n",
      "screaming      34\n",
      "blizzard       33\n",
      "blazing        33\n",
      "blaze          33\n",
      "crush          33\n",
      "sinking        33\n",
      "traumatised    33\n",
      "curfew         32\n",
      "Name: count, dtype: int64\n"
     ]
    },
    {
     "data": {
      "image/png": "[encoded data removed]",
      "text/plain": [
       "<Figure size 640x480 with 1 Axes>"
      ]
     },
     "metadata": {},
     "output_type": "display_data"
    },
    {
     "data": {
      "image/png": "[encoded data removed]",
      "text/plain": [
       "<Figure size 640x480 with 1 Axes>"
      ]
     },
     "metadata": {},
     "output_type": "display_data"
    }
   ],
   "source": [
    "# VIsualize the top 20 most frequent keywords\n",
    "# Filter data by target 1 (1: disaster-related, 0: not disaster-related)\n",
    "target_1_keywords=train_data[train_data['target']==1]['keyword']\n",
    "target_0_keywords=train_data[train_data['target']==0]['keyword']\n",
    "\n",
    "# Count the top 20 keywords for target = 1\n",
    "top_20_target_1=target_1_keywords.value_counts().head(20)\n",
    "print(\"\\nTop 20 Keywords for Target = 1 (Disaster-Related):\")\n",
    "print(top_20_target_1)\n",
    "\n",
    "# Count the top 20 keywords for target = 0\n",
    "top_20_target_0=target_0_keywords.value_counts().head(20)\n",
    "print(\"\\nTop 20 Keywords for Target = 0 (Not Disaster-Related):\")\n",
    "print(top_20_target_0)\n",
    "\n",
    "# Plot the top20 keywords for taget 1 \n",
    "sns.barplot(y=top_20_target_1.index, x=top_20_target_1.values, palette='viridis')\n",
    "plt.title('Top 20 Keywords for Target = 1 (Disaster-Related)')\n",
    "plt.xlabel('Frequency')\n",
    "plt.ylabel('Keyword')\n",
    "plt.show()\n",
    "\n",
    "# Plot the top 20 keywords for target = 0\n",
    "sns.barplot(y=top_20_target_0.index,x=top_20_target_0.values, palette='viridis')\n",
    "plt.title('Top 20 Keywords for Target=0 (Not Disaster-Related)')\n",
    "plt.xlabel('Frequency')\n",
    "plt.ylabel('Keyword')\n",
    "plt.show()\n"
   ]
  },
  {
   "cell_type": "markdown",
   "id": "10309905-eaac-4ea5-ae59-9e0c9fb8cc4e",
   "metadata": {},
   "source": [
    "# Step2 Data Preprocessing and Feature Engineering "
   ]
  },
  {
   "cell_type": "code",
   "execution_count": 15,
   "id": "df919239-7b33-4aec-ab3e-9fa5b0a8bb11",
   "metadata": {},
   "outputs": [
    {
     "name": "stdout",
     "output_type": "stream",
     "text": [
      "['missing_target_1' 'missing_target_0' 'ablaze' 'accident' 'aftershock'\n",
      " 'airplane accident' 'ambulance' 'annihilated' 'annihilation' 'apocalypse'\n",
      " 'armageddon' 'army' 'arson' 'arsonist' 'attack' 'attacked' 'avalanche'\n",
      " 'battle' 'bioterror' 'bioterrorism']\n",
      "['missing' 'ablaze' 'accident' 'aftershock' 'airplane accident'\n",
      " 'ambulance' 'annihilated' 'annihilation' 'apocalypse' 'armageddon' 'army'\n",
      " 'arson' 'arsonist' 'attack' 'attacked' 'avalanche' 'battle' 'bioterror'\n",
      " 'bioterrorism' 'blaze']\n",
      "Index(['id', 'keyword', 'text', 'target'], dtype='object')\n",
      "Index(['id', 'keyword', 'text'], dtype='object')\n"
     ]
    }
   ],
   "source": [
    "# 1. Processing 'keyword' data\n",
    "# Repalce missing values in the 'keyword'column with 'missing_taget_1' or missing_target_0\n",
    "train_data.loc[(train_data['keyword'].isnull()) & (train_data['target']==1),'keyword']='missing_target_1'\n",
    "train_data.loc[(train_data['keyword'].isnull()) & (train_data['target']== 0),'keyword'] ='missing_target_0'\n",
    "\n",
    "# For the test set, since we don't have the target column, replace all missing values with 'missing'\n",
    "test_data['keyword'].fillna('missing',inplace=True)\n",
    "\n",
    "# Normalize 'keyword' column,replace%20 with a space in 'keyword'column\n",
    "train_data['keyword']=train_data['keyword'].str.replace('%20',' ',regex=False)\n",
    "test_data['keyword']=test_data['keyword'].str.replace('%20',' ',regex=False)\n",
    "# Print to verify the updated 'keyword' column\n",
    "print(train_data['keyword'].unique()[:20])  # Display first 20 unique keywords\n",
    "print(test_data['keyword'].unique()[:20])  \n",
    "\n",
    "# Drop the 'location' column\n",
    "train_data.drop(columns=['location'],inplace=True)\n",
    "test_data.drop(columns=['location'],inplace=True)\n",
    "print(train_data.columns)\n",
    "print(test_data.columns)\n"
   ]
  },
  {
   "cell_type": "code",
   "execution_count": 17,
   "id": "642633a0-74ec-4487-b568-cb74c63564d6",
   "metadata": {},
   "outputs": [
    {
     "name": "stderr",
     "output_type": "stream",
     "text": [
      "[nltk_data] Downloading package stopwords to\n",
      "[nltk_data]     /Users/ruizhang/nltk_data...\n",
      "[nltk_data]   Package stopwords is already up-to-date!\n"
     ]
    },
    {
     "data": {
      "text/plain": [
       "(0    ourdeedsarethereasonofthis#earthquakemayallahf...\n",
       " 1                      forestfirenearlarongesaskcanada\n",
       " 2    allresidentsaskedtoshelterinplacearebeingnotif...\n",
       " 3    peoplereceive#wildfiresevacuationordersincalif...\n",
       " 4    justgotsentthisphotofromruby#alaskaassmokefrom...\n",
       " 5    #rockyfireupdatecaliforniahwyclosedinbothdirec...\n",
       " 6    #flood#disasterheavyraincausesflashfloodingofs...\n",
       " 7            imontopofthehillandicanseeafireinthewoods\n",
       " 8    theresanemergencyevacuationhappeningnowinthebu...\n",
       " 9              imafraidthatthetornadoiscomingtoourarea\n",
       " Name: cleaned_text, dtype: object,\n",
       " 0                        justhappenedaterriblecarcrash\n",
       " 1    heardabout#earthquakeisdifferentcitiesstaysafe...\n",
       " 2    thereisaforestfireatspotpondgeesearefleeingacr...\n",
       " 3                 apocalypselighting#spokane#wildfires\n",
       " 4                 typhoonsoudelorkillsinchinaandtaiwan\n",
       " 5                           wereshakingitsanearthquake\n",
       " 6    theydprobablystillshowmorelifethanarsenaldidye...\n",
       " 7                                         heyhowareyou\n",
       " 8                                         whatanicehat\n",
       " 9                                              fuckoff\n",
       " Name: cleaned_text, dtype: object)"
      ]
     },
     "execution_count": 17,
     "metadata": {},
     "output_type": "execute_result"
    }
   ],
   "source": [
    "# 2.Column 'text' Precessing \n",
    "# Remove punctuation(special letters), hash tags,stop words,noise content,numbers and handling cases.\n",
    "import re\n",
    "from nltk.corpus import stopwords\n",
    "import nltk\n",
    "nltk.download('stopwords')\n",
    "stop_words=set(stopwords.words('english'))\n",
    "def clean_text(text):\n",
    "    # Remove URL\n",
    "    text=re.sub(r'http\\S+','',text) \n",
    "    # Remove punctuation and special characters,keep hastags\n",
    "    text=re.sub(r'[^a-zA-Z#\\s]','',text)\n",
    "    # Covert text to lowercase\n",
    "    text=text.lower()\n",
    "    # Remove extra spaces btw words\n",
    "    text=re.sub(r'\\s+','',text)\n",
    "    # Remove stopwords\n",
    "    text=' '.join(word for word in text.split() if word not in stop_words)  \n",
    "    return text\n",
    "# Apply the cleaning function to the 'text' column in the training dataset\n",
    "train_data['cleaned_text']=train_data['text'].apply(clean_text)\n",
    "test_data['cleaned_text']=test_data['text'].apply(clean_text)\n",
    "\n",
    "# Display cleaned samples\n",
    "train_cleaned_samples=train_data['cleaned_text'].head(10)\n",
    "test_cleaned_samples=test_data['cleaned_text'].head(10)\n",
    "train_cleaned_samples, test_cleaned_samples"
   ]
  },
  {
   "cell_type": "code",
   "execution_count": 19,
   "id": "bd82ce6d-cfa0-4e30-b03a-f2d7f476ff3d",
   "metadata": {},
   "outputs": [
    {
     "name": "stdout",
     "output_type": "stream",
     "text": [
      "keyword\n",
      "fatalities             45\n",
      "missing_target_1       42\n",
      "deluge                 42\n",
      "armageddon             42\n",
      "sinking                41\n",
      "                       ..\n",
      "forest fire            19\n",
      "epicentre              12\n",
      "threat                 11\n",
      "inundation             10\n",
      "radiation emergency     9\n",
      "Name: count, Length: 223, dtype: int64\n"
     ]
    }
   ],
   "source": [
    "# 3.Feature Engineering\n",
    "# Frequency Encoding\n",
    "keyword_frequency=train_data['keyword'].value_counts()\n",
    "\n",
    "# Map frequency to 'keyword'column\n",
    "train_data['keyword_frequency']=train_data['keyword'].map(keyword_frequency)\n",
    "test_data['keyword_frequency'] = test_data['keyword'].map(keyword_frequency).fillna(0)\n",
    "\n",
    "# Display the transformed column\n",
    "print(keyword_frequency)"
   ]
  },
  {
   "cell_type": "code",
   "execution_count": 21,
   "id": "952a9a1a-a9a8-4908-b1aa-0b15a5234280",
   "metadata": {},
   "outputs": [
    {
     "name": "stdout",
     "output_type": "stream",
     "text": [
      "      id            keyword  \\\n",
      "0      1   missing_target_1   \n",
      "1      4   missing_target_1   \n",
      "2      5   missing_target_1   \n",
      "3      6   missing_target_1   \n",
      "4      7   missing_target_1   \n",
      "..   ...                ...   \n",
      "145  209  airplane accident   \n",
      "146  210  airplane accident   \n",
      "147  211  airplane accident   \n",
      "148  212  airplane accident   \n",
      "149  213  airplane accident   \n",
      "\n",
      "                                                  text  target  \\\n",
      "0    Our Deeds are the Reason of this #earthquake M...       1   \n",
      "1               Forest fire near La Ronge Sask. Canada       1   \n",
      "2    All residents asked to 'shelter in place' are ...       1   \n",
      "3    13,000 people receive #wildfires evacuation or...       1   \n",
      "4    Just got sent this photo from Ruby #Alaska as ...       1   \n",
      "..                                                 ...     ...   \n",
      "145  #Horrible #Accident Man Died In Wings Airplane...       1   \n",
      "146  Experts in France begin examining airplane deb...       1   \n",
      "147  Experts in France begin examining airplane deb...       1   \n",
      "148  #KCA #VoteJKT48ID mbataweel: #RIP #BINLADEN Fa...       1   \n",
      "149  I almost sent my coworker nudes on accident th...       0   \n",
      "\n",
      "                                          cleaned_text  keyword_frequency  \n",
      "0    ourdeedsarethereasonofthis#earthquakemayallahf...                 42  \n",
      "1                      forestfirenearlarongesaskcanada                 42  \n",
      "2    allresidentsaskedtoshelterinplacearebeingnotif...                 42  \n",
      "3    peoplereceive#wildfiresevacuationordersincalif...                 42  \n",
      "4    justgotsentthisphotofromruby#alaskaassmokefrom...                 42  \n",
      "..                                                 ...                ...  \n",
      "145  #horrible#accidentmandiedinwingsairplane#watch...                 35  \n",
      "146  expertsinfrancebeginexaminingairplanedebrisfou...                 35  \n",
      "147  expertsinfrancebeginexaminingairplanedebrisfou...                 35  \n",
      "148  #kca#votejktidmbataweel#rip#binladenfamilymemb...                 35  \n",
      "149  ialmostsentmycoworkernudesonaccidentthankgodfo...                 35  \n",
      "\n",
      "[150 rows x 6 columns]\n"
     ]
    }
   ],
   "source": [
    "print(train_data.head(150))"
   ]
  },
  {
   "cell_type": "code",
   "execution_count": 27,
   "id": "b9dfe4ff-f627-4a0c-b429-b0df2a01eafe",
   "metadata": {},
   "outputs": [
    {
     "name": "stdout",
     "output_type": "stream",
     "text": [
      "Index(['id', 'keyword', 'text', 'target', 'text_length', 'word_count',\n",
      "       'cleaned_text', 'keyword_frequency'],\n",
      "      dtype='object')\n",
      "Index(['id', 'keyword', 'text', 'cleaned_text', 'keyword_frequency'], dtype='object')\n"
     ]
    }
   ],
   "source": [
    "print(train_data.columns)\n",
    "print(test_data.columns)"
   ]
  },
  {
   "cell_type": "code",
   "execution_count": 29,
   "id": "8e51c916-2560-4b1c-b2bd-0b0ade38663f",
   "metadata": {},
   "outputs": [
    {
     "name": "stdout",
     "output_type": "stream",
     "text": [
      "Requirement already satisfied: tensorflow in /opt/anaconda3/lib/python3.11/site-packages (2.18.0)\n",
      "Requirement already satisfied: absl-py>=1.0.0 in /opt/anaconda3/lib/python3.11/site-packages (from tensorflow) (2.1.0)\n",
      "Requirement already satisfied: astunparse>=1.6.0 in /opt/anaconda3/lib/python3.11/site-packages (from tensorflow) (1.6.3)\n",
      "Requirement already satisfied: flatbuffers>=24.3.25 in /opt/anaconda3/lib/python3.11/site-packages (from tensorflow) (24.12.23)\n",
      "Requirement already satisfied: gast!=0.5.0,!=0.5.1,!=0.5.2,>=0.2.1 in /opt/anaconda3/lib/python3.11/site-packages (from tensorflow) (0.6.0)\n",
      "Requirement already satisfied: google-pasta>=0.1.1 in /opt/anaconda3/lib/python3.11/site-packages (from tensorflow) (0.2.0)\n",
      "Requirement already satisfied: libclang>=13.0.0 in /opt/anaconda3/lib/python3.11/site-packages (from tensorflow) (18.1.1)\n",
      "Requirement already satisfied: opt-einsum>=2.3.2 in /opt/anaconda3/lib/python3.11/site-packages (from tensorflow) (3.4.0)\n",
      "Requirement already satisfied: packaging in /opt/anaconda3/lib/python3.11/site-packages (from tensorflow) (23.1)\n",
      "Requirement already satisfied: protobuf!=4.21.0,!=4.21.1,!=4.21.2,!=4.21.3,!=4.21.4,!=4.21.5,<6.0.0dev,>=3.20.3 in /opt/anaconda3/lib/python3.11/site-packages (from tensorflow) (3.20.3)\n",
      "Requirement already satisfied: requests<3,>=2.21.0 in /opt/anaconda3/lib/python3.11/site-packages (from tensorflow) (2.32.3)\n",
      "Requirement already satisfied: setuptools in /opt/anaconda3/lib/python3.11/site-packages (from tensorflow) (68.2.2)\n",
      "Requirement already satisfied: six>=1.12.0 in /opt/anaconda3/lib/python3.11/site-packages (from tensorflow) (1.16.0)\n",
      "Requirement already satisfied: termcolor>=1.1.0 in /opt/anaconda3/lib/python3.11/site-packages (from tensorflow) (2.5.0)\n",
      "Requirement already satisfied: typing-extensions>=3.6.6 in /opt/anaconda3/lib/python3.11/site-packages (from tensorflow) (4.9.0)\n",
      "Requirement already satisfied: wrapt>=1.11.0 in /opt/anaconda3/lib/python3.11/site-packages (from tensorflow) (1.14.1)\n",
      "Requirement already satisfied: grpcio<2.0,>=1.24.3 in /opt/anaconda3/lib/python3.11/site-packages (from tensorflow) (1.68.1)\n",
      "Requirement already satisfied: tensorboard<2.19,>=2.18 in /opt/anaconda3/lib/python3.11/site-packages (from tensorflow) (2.18.0)\n",
      "Requirement already satisfied: keras>=3.5.0 in /opt/anaconda3/lib/python3.11/site-packages (from tensorflow) (3.7.0)\n",
      "Requirement already satisfied: numpy<2.1.0,>=1.26.0 in /opt/anaconda3/lib/python3.11/site-packages (from tensorflow) (1.26.4)\n",
      "Requirement already satisfied: h5py>=3.11.0 in /opt/anaconda3/lib/python3.11/site-packages (from tensorflow) (3.12.1)\n",
      "Requirement already satisfied: ml-dtypes<0.5.0,>=0.4.0 in /opt/anaconda3/lib/python3.11/site-packages (from tensorflow) (0.4.1)\n",
      "Requirement already satisfied: tensorflow-io-gcs-filesystem>=0.23.1 in /opt/anaconda3/lib/python3.11/site-packages (from tensorflow) (0.37.1)\n",
      "Requirement already satisfied: wheel<1.0,>=0.23.0 in /opt/anaconda3/lib/python3.11/site-packages (from astunparse>=1.6.0->tensorflow) (0.41.2)\n",
      "Requirement already satisfied: rich in /opt/anaconda3/lib/python3.11/site-packages (from keras>=3.5.0->tensorflow) (13.3.5)\n",
      "Requirement already satisfied: namex in /opt/anaconda3/lib/python3.11/site-packages (from keras>=3.5.0->tensorflow) (0.0.8)\n",
      "Requirement already satisfied: optree in /opt/anaconda3/lib/python3.11/site-packages (from keras>=3.5.0->tensorflow) (0.13.1)\n",
      "Requirement already satisfied: charset-normalizer<4,>=2 in /opt/anaconda3/lib/python3.11/site-packages (from requests<3,>=2.21.0->tensorflow) (2.0.4)\n",
      "Requirement already satisfied: idna<4,>=2.5 in /opt/anaconda3/lib/python3.11/site-packages (from requests<3,>=2.21.0->tensorflow) (3.4)\n",
      "Requirement already satisfied: urllib3<3,>=1.21.1 in /opt/anaconda3/lib/python3.11/site-packages (from requests<3,>=2.21.0->tensorflow) (2.0.7)\n",
      "Requirement already satisfied: certifi>=2017.4.17 in /opt/anaconda3/lib/python3.11/site-packages (from requests<3,>=2.21.0->tensorflow) (2024.8.30)\n",
      "Requirement already satisfied: markdown>=2.6.8 in /opt/anaconda3/lib/python3.11/site-packages (from tensorboard<2.19,>=2.18->tensorflow) (3.4.1)\n",
      "Requirement already satisfied: tensorboard-data-server<0.8.0,>=0.7.0 in /opt/anaconda3/lib/python3.11/site-packages (from tensorboard<2.19,>=2.18->tensorflow) (0.7.2)\n",
      "Requirement already satisfied: werkzeug>=1.0.1 in /opt/anaconda3/lib/python3.11/site-packages (from tensorboard<2.19,>=2.18->tensorflow) (2.2.3)\n",
      "Requirement already satisfied: MarkupSafe>=2.1.1 in /opt/anaconda3/lib/python3.11/site-packages (from werkzeug>=1.0.1->tensorboard<2.19,>=2.18->tensorflow) (2.1.3)\n",
      "Requirement already satisfied: markdown-it-py<3.0.0,>=2.2.0 in /opt/anaconda3/lib/python3.11/site-packages (from rich->keras>=3.5.0->tensorflow) (2.2.0)\n",
      "Requirement already satisfied: pygments<3.0.0,>=2.13.0 in /opt/anaconda3/lib/python3.11/site-packages (from rich->keras>=3.5.0->tensorflow) (2.15.1)\n",
      "Requirement already satisfied: mdurl~=0.1 in /opt/anaconda3/lib/python3.11/site-packages (from markdown-it-py<3.0.0,>=2.2.0->rich->keras>=3.5.0->tensorflow) (0.1.0)\n"
     ]
    }
   ],
   "source": [
    "# 4.Text Tokenization and Sequence Padding/Truncation\"\n",
    "!pip install tensorflow"
   ]
  },
  {
   "cell_type": "code",
   "execution_count": 23,
   "id": "2f2b1a0f-3a6c-49b4-829e-c7e7402a330c",
   "metadata": {},
   "outputs": [
    {
     "name": "stdout",
     "output_type": "stream",
     "text": [
      "Sample padded train sequence:\n",
      "[[709 710   0   0   0   0   0   0   0   0   0   0   0   0   0   0   0   0\n",
      "    0   0   0   0   0   0   0   0   0   0   0   0   0   0   0   0   0   0\n",
      "    0   0   0   0   0   0   0   0   0   0   0   0   0   0   0   0   0   0\n",
      "    0   0   0   0   0   0   0   0   0   0   0   0   0   0   0   0   0   0\n",
      "    0   0   0   0   0   0   0   0   0   0   0   0   0   0   0   0   0   0\n",
      "    0   0   0   0   0   0   0   0   0   0   0   0   0   0   0   0   0   0\n",
      "    0   0   0   0   0   0   0   0   0   0   0   0   0   0   0   0   0   0\n",
      "    0   0   0   0   0   0   0   0   0   0   0   0   0   0]]\n",
      "Shape of padded train data: (7613, 140)\n",
      "Shape of padded test data: (3263, 140)\n"
     ]
    }
   ],
   "source": [
    "from tensorflow.keras.preprocessing.text import Tokenizer\n",
    "from tensorflow.keras.preprocessing.sequence import pad_sequences\n",
    "\n",
    "# Toekdnize the train data\n",
    "# Initialized the tokenizer and fit it on the 'cleaned_text' column\n",
    "tokenizer=Tokenizer()\n",
    "tokenizer.fit_on_texts(train_data['cleaned_text'])\n",
    "\n",
    "# Convert text to sequences of integers\n",
    "train_sequences=tokenizer.texts_to_sequences(train_data['cleaned_text'])\n",
    "test_sequences=tokenizer.texts_to_sequences(test_data['cleaned_text'])\n",
    "\n",
    "# Define max length and apply padding and truncation \n",
    "max_length=140\n",
    "\n",
    "# Pad and truncate the sequences to the same length \n",
    "train_padded=pad_sequences(train_sequences,maxlen=max_length,padding='post',truncating='post')\n",
    "test_padded=pad_sequences(test_sequences, maxlen=max_length,padding='post',truncating='post')\n",
    "\n",
    "# Verify the results \n",
    "print(f\"Sample padded train sequence:\\n{train_padded[:1]}\")\n",
    "print(f\"Shape of padded train data: {train_padded.shape}\")\n",
    "print(f\"Shape of padded test data: {test_padded.shape}\")"
   ]
  },
  {
   "cell_type": "code",
   "execution_count": 25,
   "id": "5f9b599d-3540-4a64-bc3e-5a8cea33b5c0",
   "metadata": {},
   "outputs": [
    {
     "name": "stdout",
     "output_type": "stream",
     "text": [
      "Loaded400000 word vectors from GloVe\n",
      "Embedding matrix created with shape (8771, 100).\n"
     ]
    }
   ],
   "source": [
    "# 5.Words Embedding\n",
    "# Loading GloVe and creating embedding matrix\n",
    "from tensorflow.keras.layers import Embedding \n",
    "\n",
    "# Define paths \n",
    "glove_file_path='/Users/ruizhang/Desktop/master /ML/Deep Learning/RNN-Recurrent 循环处理/glove.6B/glove.6B.100d.txt'\n",
    "embedding_dim=100 # Set the dimension of GloVe vectors\n",
    "\n",
    "# Load GloVe embeddings\n",
    "embeddings_index={}\n",
    "with open(glove_file_path,'r',encoding='utf-8') as f :\n",
    "    for line in f:\n",
    "        values=line.split()\n",
    "        word=values[0]\n",
    "        coefs=np.asarray(values[1:],dtype='float32')\n",
    "        embeddings_index[word]=coefs\n",
    "print(f'Loaded{len(embeddings_index)} word vectors from GloVe')\n",
    "\n",
    "# Create embedding matrix\n",
    "word_index=tokenizer.word_index # Get the word_index mapping from the tokenizer\n",
    "vocab_size=len(word_index)+1 # Add 1 because indexing starts from 1 \n",
    "embedding_matrix=np.zeros((vocab_size,embedding_dim))\n",
    "\n",
    "for word,i in word_index.items():\n",
    "    embedding_vector=embeddings_index.get(word)  # Get GloVe vectorfor the word\n",
    "    if embedding_vector is not None:\n",
    "        embedding_matrix[i]=embedding_vector # If found in Glove,use it \n",
    "    else:\n",
    "        embedding_matrix[i]=np.random.normal(size=(embedding_dim))\n",
    "\n",
    "print(f'Embedding matrix created with shape {embedding_matrix.shape}.')\n",
    "        "
   ]
  },
  {
   "cell_type": "markdown",
   "id": "4dd903e9-73ca-4e60-a72d-6cf1356a9c00",
   "metadata": {},
   "source": [
    "# Step3 Model Architecture-LSTM Model"
   ]
  },
  {
   "cell_type": "code",
   "execution_count": 27,
   "id": "91c7335d-522c-467b-9b96-907e0070fe72",
   "metadata": {},
   "outputs": [],
   "source": [
    "# Use the embedding matrix to initialize the Embedding layer\n",
    "# Pass the embedding matrix to the embedding layer, and build your RNN/LSTM model\n",
    "import tensorflow as tf\n",
    "from tensorflow.keras import backend as K\n",
    "from tensorflow.keras.models import Sequential\n",
    "from tensorflow.keras.layers import LSTM, Dense, Embedding\n",
    "from tensorflow.keras.optimizers import Adam\n",
    "from tensorflow.keras.layers import Dropout\n",
    "from tensorflow.keras.callbacks import EarlyStopping"
   ]
  },
  {
   "cell_type": "code",
   "execution_count": 45,
   "id": "ff55f684-5eda-490e-88ee-9beb83ce0060",
   "metadata": {},
   "outputs": [
    {
     "name": "stderr",
     "output_type": "stream",
     "text": [
      "/opt/anaconda3/lib/python3.11/site-packages/keras/src/layers/core/embedding.py:90: UserWarning: Argument `input_length` is deprecated. Just remove it.\n",
      "  warnings.warn(\n"
     ]
    },
    {
     "data": {
      "text/html": [
       "<pre style=\"white-space:pre;overflow-x:auto;line-height:normal;font-family:Menlo,'DejaVu Sans Mono',consolas,'Courier New',monospace\"><span style=\"font-weight: bold\">Model: \"sequential_1\"</span>\n",
       "</pre>\n"
      ],
      "text/plain": [
       "\u001b[1mModel: \"sequential_1\"\u001b[0m\n"
      ]
     },
     "metadata": {},
     "output_type": "display_data"
    },
    {
     "data": {
      "text/html": [
       "<pre style=\"white-space:pre;overflow-x:auto;line-height:normal;font-family:Menlo,'DejaVu Sans Mono',consolas,'Courier New',monospace\">┏━━━━━━━━━━━━━━━━━━━━━━━━━━━━━━━━━┳━━━━━━━━━━━━━━━━━━━━━━━━┳━━━━━━━━━━━━━━━┓\n",
       "┃<span style=\"font-weight: bold\"> Layer (type)                    </span>┃<span style=\"font-weight: bold\"> Output Shape           </span>┃<span style=\"font-weight: bold\">       Param # </span>┃\n",
       "┡━━━━━━━━━━━━━━━━━━━━━━━━━━━━━━━━━╇━━━━━━━━━━━━━━━━━━━━━━━━╇━━━━━━━━━━━━━━━┩\n",
       "│ embedding_1 (<span style=\"color: #0087ff; text-decoration-color: #0087ff\">Embedding</span>)         │ (<span style=\"color: #00d7ff; text-decoration-color: #00d7ff\">None</span>, <span style=\"color: #00af00; text-decoration-color: #00af00\">140</span>, <span style=\"color: #00af00; text-decoration-color: #00af00\">100</span>)       │       <span style=\"color: #00af00; text-decoration-color: #00af00\">877,100</span> │\n",
       "├─────────────────────────────────┼────────────────────────┼───────────────┤\n",
       "│ lstm_1 (<span style=\"color: #0087ff; text-decoration-color: #0087ff\">LSTM</span>)                   │ (<span style=\"color: #00d7ff; text-decoration-color: #00d7ff\">None</span>, <span style=\"color: #00af00; text-decoration-color: #00af00\">140</span>, <span style=\"color: #00af00; text-decoration-color: #00af00\">128</span>)       │       <span style=\"color: #00af00; text-decoration-color: #00af00\">117,248</span> │\n",
       "├─────────────────────────────────┼────────────────────────┼───────────────┤\n",
       "│ dropout_1 (<span style=\"color: #0087ff; text-decoration-color: #0087ff\">Dropout</span>)             │ (<span style=\"color: #00d7ff; text-decoration-color: #00d7ff\">None</span>, <span style=\"color: #00af00; text-decoration-color: #00af00\">140</span>, <span style=\"color: #00af00; text-decoration-color: #00af00\">128</span>)       │             <span style=\"color: #00af00; text-decoration-color: #00af00\">0</span> │\n",
       "├─────────────────────────────────┼────────────────────────┼───────────────┤\n",
       "│ lstm_2 (<span style=\"color: #0087ff; text-decoration-color: #0087ff\">LSTM</span>)                   │ (<span style=\"color: #00d7ff; text-decoration-color: #00d7ff\">None</span>, <span style=\"color: #00af00; text-decoration-color: #00af00\">64</span>)             │        <span style=\"color: #00af00; text-decoration-color: #00af00\">49,408</span> │\n",
       "├─────────────────────────────────┼────────────────────────┼───────────────┤\n",
       "│ dense_1 (<span style=\"color: #0087ff; text-decoration-color: #0087ff\">Dense</span>)                 │ (<span style=\"color: #00d7ff; text-decoration-color: #00d7ff\">None</span>, <span style=\"color: #00af00; text-decoration-color: #00af00\">1</span>)              │            <span style=\"color: #00af00; text-decoration-color: #00af00\">65</span> │\n",
       "└─────────────────────────────────┴────────────────────────┴───────────────┘\n",
       "</pre>\n"
      ],
      "text/plain": [
       "┏━━━━━━━━━━━━━━━━━━━━━━━━━━━━━━━━━┳━━━━━━━━━━━━━━━━━━━━━━━━┳━━━━━━━━━━━━━━━┓\n",
       "┃\u001b[1m \u001b[0m\u001b[1mLayer (type)                   \u001b[0m\u001b[1m \u001b[0m┃\u001b[1m \u001b[0m\u001b[1mOutput Shape          \u001b[0m\u001b[1m \u001b[0m┃\u001b[1m \u001b[0m\u001b[1m      Param #\u001b[0m\u001b[1m \u001b[0m┃\n",
       "┡━━━━━━━━━━━━━━━━━━━━━━━━━━━━━━━━━╇━━━━━━━━━━━━━━━━━━━━━━━━╇━━━━━━━━━━━━━━━┩\n",
       "│ embedding_1 (\u001b[38;5;33mEmbedding\u001b[0m)         │ (\u001b[38;5;45mNone\u001b[0m, \u001b[38;5;34m140\u001b[0m, \u001b[38;5;34m100\u001b[0m)       │       \u001b[38;5;34m877,100\u001b[0m │\n",
       "├─────────────────────────────────┼────────────────────────┼───────────────┤\n",
       "│ lstm_1 (\u001b[38;5;33mLSTM\u001b[0m)                   │ (\u001b[38;5;45mNone\u001b[0m, \u001b[38;5;34m140\u001b[0m, \u001b[38;5;34m128\u001b[0m)       │       \u001b[38;5;34m117,248\u001b[0m │\n",
       "├─────────────────────────────────┼────────────────────────┼───────────────┤\n",
       "│ dropout_1 (\u001b[38;5;33mDropout\u001b[0m)             │ (\u001b[38;5;45mNone\u001b[0m, \u001b[38;5;34m140\u001b[0m, \u001b[38;5;34m128\u001b[0m)       │             \u001b[38;5;34m0\u001b[0m │\n",
       "├─────────────────────────────────┼────────────────────────┼───────────────┤\n",
       "│ lstm_2 (\u001b[38;5;33mLSTM\u001b[0m)                   │ (\u001b[38;5;45mNone\u001b[0m, \u001b[38;5;34m64\u001b[0m)             │        \u001b[38;5;34m49,408\u001b[0m │\n",
       "├─────────────────────────────────┼────────────────────────┼───────────────┤\n",
       "│ dense_1 (\u001b[38;5;33mDense\u001b[0m)                 │ (\u001b[38;5;45mNone\u001b[0m, \u001b[38;5;34m1\u001b[0m)              │            \u001b[38;5;34m65\u001b[0m │\n",
       "└─────────────────────────────────┴────────────────────────┴───────────────┘\n"
      ]
     },
     "metadata": {},
     "output_type": "display_data"
    },
    {
     "data": {
      "text/html": [
       "<pre style=\"white-space:pre;overflow-x:auto;line-height:normal;font-family:Menlo,'DejaVu Sans Mono',consolas,'Courier New',monospace\"><span style=\"font-weight: bold\"> Total params: </span><span style=\"color: #00af00; text-decoration-color: #00af00\">1,043,821</span> (3.98 MB)\n",
       "</pre>\n"
      ],
      "text/plain": [
       "\u001b[1m Total params: \u001b[0m\u001b[38;5;34m1,043,821\u001b[0m (3.98 MB)\n"
      ]
     },
     "metadata": {},
     "output_type": "display_data"
    },
    {
     "data": {
      "text/html": [
       "<pre style=\"white-space:pre;overflow-x:auto;line-height:normal;font-family:Menlo,'DejaVu Sans Mono',consolas,'Courier New',monospace\"><span style=\"font-weight: bold\"> Trainable params: </span><span style=\"color: #00af00; text-decoration-color: #00af00\">166,721</span> (651.25 KB)\n",
       "</pre>\n"
      ],
      "text/plain": [
       "\u001b[1m Trainable params: \u001b[0m\u001b[38;5;34m166,721\u001b[0m (651.25 KB)\n"
      ]
     },
     "metadata": {},
     "output_type": "display_data"
    },
    {
     "data": {
      "text/html": [
       "<pre style=\"white-space:pre;overflow-x:auto;line-height:normal;font-family:Menlo,'DejaVu Sans Mono',consolas,'Courier New',monospace\"><span style=\"font-weight: bold\"> Non-trainable params: </span><span style=\"color: #00af00; text-decoration-color: #00af00\">877,100</span> (3.35 MB)\n",
       "</pre>\n"
      ],
      "text/plain": [
       "\u001b[1m Non-trainable params: \u001b[0m\u001b[38;5;34m877,100\u001b[0m (3.35 MB)\n"
      ]
     },
     "metadata": {},
     "output_type": "display_data"
    }
   ],
   "source": [
    "# Custom F1- score metric\n",
    "def f1_score(y_true,y_pred):\n",
    "    y_true=K.cast(y_true,'float32')  # Convert y_true to float32\n",
    "    y_pred=K.round(y_pred)  # Round predicted values to 0 or 1\n",
    "    tp=K.sum(K.cast(y_true*y_pred,'float'), axis=0)  # True positives\n",
    "    fp=K.sum(K.cast((1-y_true)*y_pred,'float'), axis=0)  # False positives\n",
    "    fn=K.sum(K.cast(y_true*(1-y_pred), 'float'), axis=0)  # False negatives\n",
    "\n",
    "    precision=tp/(tp+fp+K.epsilon())  # Precision\n",
    "    recall=tp/(tp+fn+K.epsilon())  # Recall\n",
    "    \n",
    "    f1=2*(precision*recall)/(precision+recall+K.epsilon())  # F1-score\n",
    "    return K.mean(f1)\n",
    "\n",
    "    \n",
    "# Define model\n",
    "model=Sequential([\n",
    "    # Embedding layer\n",
    "    Embedding(input_dim=vocab_size,output_dim=embedding_dim,weights=[embedding_matrix],input_length=max_length,trainable=False),\n",
    "    #Add LSTM layer    \n",
    "    LSTM(128,return_sequences=True),\n",
    "    Dropout(0.2), # Add dropout for regularization\n",
    "    LSTM(64),     # Add an additional LSTM layer for experimentation\n",
    "    Dense(1,activation='sigmoid') # Output layer for binary classification\n",
    "])\n",
    "\n",
    "# Complie the model\n",
    "optimizer = Adam(learning_rate=1e-3)  # Reduce learning rate\n",
    "model.compile(optimizer='adam',loss='binary_crossentropy',metrics=['accuracy',f1_score])\n",
    "\n",
    "# Build the model by specifying an input shape\n",
    "model.build(input_shape=(None,max_length))\n",
    "\n",
    "# Display model summary\n",
    "model.summary()"
   ]
  },
  {
   "cell_type": "markdown",
   "id": "45517894-9bf2-40c8-8701-efd45c35f2da",
   "metadata": {},
   "source": [
    "# Step4 Model training"
   ]
  },
  {
   "cell_type": "code",
   "execution_count": 48,
   "id": "008aed94-27fe-43da-aead-1ac465d8c826",
   "metadata": {},
   "outputs": [
    {
     "name": "stdout",
     "output_type": "stream",
     "text": [
      "target\n",
      "0    4342\n",
      "1    3271\n",
      "Name: count, dtype: int64\n"
     ]
    }
   ],
   "source": [
    "print(train_data['target'].value_counts())"
   ]
  },
  {
   "cell_type": "code",
   "execution_count": 50,
   "id": "5b3ac7ff-935b-4c04-a83b-f63972a1ebff",
   "metadata": {},
   "outputs": [
    {
     "name": "stdout",
     "output_type": "stream",
     "text": [
      "Epoch 1/10\n",
      "\u001b[1m191/191\u001b[0m \u001b[32m━━━━━━━━━━━━━━━━━━━━\u001b[0m\u001b[37m\u001b[0m \u001b[1m22s\u001b[0m 112ms/step - accuracy: 0.4289 - f1_score: 0.5678 - loss: 0.8402 - val_accuracy: 0.4655 - val_f1_score: 0.5967 - val_loss: 0.6960\n",
      "Epoch 2/10\n",
      "\u001b[1m191/191\u001b[0m \u001b[32m━━━━━━━━━━━━━━━━━━━━\u001b[0m\u001b[37m\u001b[0m \u001b[1m22s\u001b[0m 114ms/step - accuracy: 0.4247 - f1_score: 0.5902 - loss: 0.8394 - val_accuracy: 0.4655 - val_f1_score: 0.5967 - val_loss: 0.6966\n",
      "Epoch 3/10\n",
      "\u001b[1m191/191\u001b[0m \u001b[32m━━━━━━━━━━━━━━━━━━━━\u001b[0m\u001b[37m\u001b[0m \u001b[1m22s\u001b[0m 115ms/step - accuracy: 0.4120 - f1_score: 0.5777 - loss: 0.8357 - val_accuracy: 0.4655 - val_f1_score: 0.5967 - val_loss: 0.6961\n",
      "Epoch 4/10\n",
      "\u001b[1m191/191\u001b[0m \u001b[32m━━━━━━━━━━━━━━━━━━━━\u001b[0m\u001b[37m\u001b[0m \u001b[1m22s\u001b[0m 115ms/step - accuracy: 0.4263 - f1_score: 0.5928 - loss: 0.8394 - val_accuracy: 0.4655 - val_f1_score: 0.5967 - val_loss: 0.6956\n",
      "Epoch 5/10\n",
      "\u001b[1m191/191\u001b[0m \u001b[32m━━━━━━━━━━━━━━━━━━━━\u001b[0m\u001b[37m\u001b[0m \u001b[1m22s\u001b[0m 115ms/step - accuracy: 0.4156 - f1_score: 0.5834 - loss: 0.8367 - val_accuracy: 0.4655 - val_f1_score: 0.5967 - val_loss: 0.6974\n",
      "Epoch 6/10\n",
      "\u001b[1m191/191\u001b[0m \u001b[32m━━━━━━━━━━━━━━━━━━━━\u001b[0m\u001b[37m\u001b[0m \u001b[1m22s\u001b[0m 115ms/step - accuracy: 0.4201 - f1_score: 0.5874 - loss: 0.8380 - val_accuracy: 0.4655 - val_f1_score: 0.5967 - val_loss: 0.6968\n",
      "Epoch 7/10\n",
      "\u001b[1m191/191\u001b[0m \u001b[32m━━━━━━━━━━━━━━━━━━━━\u001b[0m\u001b[37m\u001b[0m \u001b[1m22s\u001b[0m 115ms/step - accuracy: 0.4315 - f1_score: 0.5981 - loss: 0.8405 - val_accuracy: 0.4655 - val_f1_score: 0.5967 - val_loss: 0.6955\n",
      "Epoch 8/10\n",
      "\u001b[1m191/191\u001b[0m \u001b[32m━━━━━━━━━━━━━━━━━━━━\u001b[0m\u001b[37m\u001b[0m \u001b[1m22s\u001b[0m 114ms/step - accuracy: 0.4170 - f1_score: 0.5836 - loss: 0.8371 - val_accuracy: 0.4655 - val_f1_score: 0.5967 - val_loss: 0.6978\n",
      "Epoch 9/10\n",
      "\u001b[1m191/191\u001b[0m \u001b[32m━━━━━━━━━━━━━━━━━━━━\u001b[0m\u001b[37m\u001b[0m \u001b[1m22s\u001b[0m 114ms/step - accuracy: 0.4146 - f1_score: 0.5805 - loss: 0.8367 - val_accuracy: 0.4655 - val_f1_score: 0.5967 - val_loss: 0.6966\n",
      "Epoch 10/10\n",
      "\u001b[1m191/191\u001b[0m \u001b[32m━━━━━━━━━━━━━━━━━━━━\u001b[0m\u001b[37m\u001b[0m \u001b[1m22s\u001b[0m 117ms/step - accuracy: 0.4040 - f1_score: 0.5697 - loss: 0.8337 - val_accuracy: 0.4655 - val_f1_score: 0.5967 - val_loss: 0.6975\n"
     ]
    }
   ],
   "source": [
    "# Train in model with validation split\n",
    "early_stopping=EarlyStopping(monitor='val_loss',patience=3,restore_best_weights=True)\n",
    "class_weight={0: 1, 1: 1.5}  # give more weright on 1\n",
    "history=model.fit(\n",
    "    train_padded,\n",
    "    train_data['target'],\n",
    "    validation_split=0.2,  # 20% of the data will be used for validation\n",
    "    epochs=10,             # Set the number of epochs \n",
    "    batch_size=32, \n",
    "    class_weight=class_weight,  # Use class weights\n",
    "    callbacks=[early_stopping], # Set the batch size (you can adjust)\n",
    "    verbose=1              # Print progress during training\n",
    ")"
   ]
  },
  {
   "cell_type": "code",
   "execution_count": 52,
   "id": "9559ade5-57b3-4797-ad42-d904f1e3cc5e",
   "metadata": {},
   "outputs": [
    {
     "name": "stdout",
     "output_type": "stream",
     "text": [
      "\u001b[1m238/238\u001b[0m \u001b[32m━━━━━━━━━━━━━━━━━━━━\u001b[0m\u001b[37m\u001b[0m \u001b[1m9s\u001b[0m 35ms/step\n",
      "F1 Score on validation set: 0.6011\n"
     ]
    }
   ],
   "source": [
    "# Evaluation \n",
    "from sklearn.metrics import f1_score\n",
    "\n",
    "# Prediction on validation set \n",
    "val_predictions=model.predict(train_padded)\n",
    "val_predictions=(val_predictions>0.5).astype(int)  # Convert probabilities to binary labels\n",
    "\n",
    "# Calculate F1 score\n",
    "f1=f1_score(train_data['target'], val_predictions)\n",
    "print(f\"F1 Score on validation set: {f1:.4f}\")"
   ]
  },
  {
   "cell_type": "markdown",
   "id": "67480e7f-851c-4d19-85c1-25c6add4c593",
   "metadata": {},
   "source": [
    "## Hyperparameters Tuning"
   ]
  },
  {
   "cell_type": "code",
   "execution_count": 29,
   "id": "3272410a-ad61-49b4-a47c-798045260d42",
   "metadata": {},
   "outputs": [
    {
     "name": "stdout",
     "output_type": "stream",
     "text": [
      "Training with lr=0.0001, batch_size=16, dropout=0.2, units=64\n",
      "Epoch 1/10\n"
     ]
    },
    {
     "name": "stderr",
     "output_type": "stream",
     "text": [
      "/opt/anaconda3/lib/python3.11/site-packages/keras/src/layers/core/embedding.py:90: UserWarning: Argument `input_length` is deprecated. Just remove it.\n",
      "  warnings.warn(\n"
     ]
    },
    {
     "name": "stdout",
     "output_type": "stream",
     "text": [
      "\u001b[1m381/381\u001b[0m \u001b[32m━━━━━━━━━━━━━━━━━━━━\u001b[0m\u001b[37m\u001b[0m \u001b[1m19s\u001b[0m 45ms/step - accuracy: 0.4576 - f1_score: 0.4424 - loss: 0.8380 - val_accuracy: 0.4655 - val_f1_score: 0.5879 - val_loss: 0.6959\n",
      "Epoch 2/10\n",
      "\u001b[1m381/381\u001b[0m \u001b[32m━━━━━━━━━━━━━━━━━━━━\u001b[0m\u001b[37m\u001b[0m \u001b[1m17s\u001b[0m 45ms/step - accuracy: 0.4289 - f1_score: 0.5907 - loss: 0.8403 - val_accuracy: 0.4655 - val_f1_score: 0.5879 - val_loss: 0.6960\n",
      "Epoch 3/10\n",
      "\u001b[1m381/381\u001b[0m \u001b[32m━━━━━━━━━━━━━━━━━━━━\u001b[0m\u001b[37m\u001b[0m \u001b[1m17s\u001b[0m 44ms/step - accuracy: 0.4163 - f1_score: 0.5743 - loss: 0.8368 - val_accuracy: 0.4655 - val_f1_score: 0.5879 - val_loss: 0.6964\n",
      "Epoch 4/10\n",
      "\u001b[1m381/381\u001b[0m \u001b[32m━━━━━━━━━━━━━━━━━━━━\u001b[0m\u001b[37m\u001b[0m \u001b[1m17s\u001b[0m 44ms/step - accuracy: 0.4311 - f1_score: 0.5917 - loss: 0.8406 - val_accuracy: 0.4655 - val_f1_score: 0.5879 - val_loss: 0.6957\n",
      "Epoch 5/10\n",
      "\u001b[1m381/381\u001b[0m \u001b[32m━━━━━━━━━━━━━━━━━━━━\u001b[0m\u001b[37m\u001b[0m \u001b[1m17s\u001b[0m 44ms/step - accuracy: 0.4203 - f1_score: 0.5829 - loss: 0.8379 - val_accuracy: 0.4655 - val_f1_score: 0.5879 - val_loss: 0.6964\n",
      "Epoch 6/10\n",
      "\u001b[1m381/381\u001b[0m \u001b[32m━━━━━━━━━━━━━━━━━━━━\u001b[0m\u001b[37m\u001b[0m \u001b[1m17s\u001b[0m 44ms/step - accuracy: 0.4248 - f1_score: 0.5867 - loss: 0.8390 - val_accuracy: 0.4655 - val_f1_score: 0.5879 - val_loss: 0.6960\n",
      "Epoch 7/10\n",
      "\u001b[1m381/381\u001b[0m \u001b[32m━━━━━━━━━━━━━━━━━━━━\u001b[0m\u001b[37m\u001b[0m \u001b[1m17s\u001b[0m 44ms/step - accuracy: 0.4188 - f1_score: 0.5799 - loss: 0.8375 - val_accuracy: 0.4655 - val_f1_score: 0.5879 - val_loss: 0.6969\n",
      "Training with lr=0.0001, batch_size=16, dropout=0.2, units=128\n",
      "Epoch 1/10\n"
     ]
    },
    {
     "name": "stderr",
     "output_type": "stream",
     "text": [
      "/opt/anaconda3/lib/python3.11/site-packages/keras/src/layers/core/embedding.py:90: UserWarning: Argument `input_length` is deprecated. Just remove it.\n",
      "  warnings.warn(\n"
     ]
    },
    {
     "name": "stdout",
     "output_type": "stream",
     "text": [
      "\u001b[1m381/381\u001b[0m \u001b[32m━━━━━━━━━━━━━━━━━━━━\u001b[0m\u001b[37m\u001b[0m \u001b[1m34s\u001b[0m 88ms/step - accuracy: 0.5461 - f1_score: 0.1815 - loss: 0.8334 - val_accuracy: 0.4655 - val_f1_score: 0.5879 - val_loss: 0.7037\n",
      "Epoch 2/10\n",
      "\u001b[1m381/381\u001b[0m \u001b[32m━━━━━━━━━━━━━━━━━━━━\u001b[0m\u001b[37m\u001b[0m \u001b[1m34s\u001b[0m 90ms/step - accuracy: 0.4170 - f1_score: 0.5786 - loss: 0.8373 - val_accuracy: 0.4655 - val_f1_score: 0.5879 - val_loss: 0.6982\n",
      "Epoch 3/10\n",
      "\u001b[1m381/381\u001b[0m \u001b[32m━━━━━━━━━━━━━━━━━━━━\u001b[0m\u001b[37m\u001b[0m \u001b[1m34s\u001b[0m 89ms/step - accuracy: 0.4227 - f1_score: 0.5840 - loss: 0.8384 - val_accuracy: 0.4655 - val_f1_score: 0.5879 - val_loss: 0.6975\n",
      "Epoch 4/10\n",
      "\u001b[1m381/381\u001b[0m \u001b[32m━━━━━━━━━━━━━━━━━━━━\u001b[0m\u001b[37m\u001b[0m \u001b[1m33s\u001b[0m 87ms/step - accuracy: 0.4167 - f1_score: 0.5772 - loss: 0.8371 - val_accuracy: 0.4655 - val_f1_score: 0.5879 - val_loss: 0.6977\n",
      "Epoch 5/10\n",
      "\u001b[1m381/381\u001b[0m \u001b[32m━━━━━━━━━━━━━━━━━━━━\u001b[0m\u001b[37m\u001b[0m \u001b[1m34s\u001b[0m 89ms/step - accuracy: 0.4147 - f1_score: 0.5759 - loss: 0.8366 - val_accuracy: 0.4655 - val_f1_score: 0.5879 - val_loss: 0.6980\n",
      "Epoch 6/10\n",
      "\u001b[1m381/381\u001b[0m \u001b[32m━━━━━━━━━━━━━━━━━━━━\u001b[0m\u001b[37m\u001b[0m \u001b[1m33s\u001b[0m 88ms/step - accuracy: 0.4181 - f1_score: 0.5784 - loss: 0.8375 - val_accuracy: 0.4655 - val_f1_score: 0.5879 - val_loss: 0.6967\n",
      "Epoch 7/10\n",
      "\u001b[1m381/381\u001b[0m \u001b[32m━━━━━━━━━━━━━━━━━━━━\u001b[0m\u001b[37m\u001b[0m \u001b[1m33s\u001b[0m 88ms/step - accuracy: 0.4176 - f1_score: 0.5771 - loss: 0.8372 - val_accuracy: 0.4655 - val_f1_score: 0.5879 - val_loss: 0.6971\n",
      "Epoch 8/10\n",
      "\u001b[1m381/381\u001b[0m \u001b[32m━━━━━━━━━━━━━━━━━━━━\u001b[0m\u001b[37m\u001b[0m \u001b[1m34s\u001b[0m 88ms/step - accuracy: 0.4245 - f1_score: 0.5868 - loss: 0.8389 - val_accuracy: 0.4655 - val_f1_score: 0.5879 - val_loss: 0.6965\n",
      "Epoch 9/10\n",
      "\u001b[1m381/381\u001b[0m \u001b[32m━━━━━━━━━━━━━━━━━━━━\u001b[0m\u001b[37m\u001b[0m \u001b[1m33s\u001b[0m 88ms/step - accuracy: 0.4174 - f1_score: 0.5766 - loss: 0.8372 - val_accuracy: 0.4655 - val_f1_score: 0.5879 - val_loss: 0.6966\n",
      "Epoch 10/10\n",
      "\u001b[1m381/381\u001b[0m \u001b[32m━━━━━━━━━━━━━━━━━━━━\u001b[0m\u001b[37m\u001b[0m \u001b[1m35s\u001b[0m 91ms/step - accuracy: 0.4100 - f1_score: 0.5707 - loss: 0.8353 - val_accuracy: 0.4655 - val_f1_score: 0.5879 - val_loss: 0.6976\n",
      "Training with lr=0.0001, batch_size=16, dropout=0.2, units=256\n",
      "Epoch 1/10\n"
     ]
    },
    {
     "name": "stderr",
     "output_type": "stream",
     "text": [
      "/opt/anaconda3/lib/python3.11/site-packages/keras/src/layers/core/embedding.py:90: UserWarning: Argument `input_length` is deprecated. Just remove it.\n",
      "  warnings.warn(\n"
     ]
    },
    {
     "name": "stdout",
     "output_type": "stream",
     "text": [
      "\u001b[1m381/381\u001b[0m \u001b[32m━━━━━━━━━━━━━━━━━━━━\u001b[0m\u001b[37m\u001b[0m \u001b[1m55s\u001b[0m 141ms/step - accuracy: 0.4282 - f1_score: 0.5579 - loss: 0.8403 - val_accuracy: 0.4655 - val_f1_score: 0.5879 - val_loss: 0.6953\n",
      "Epoch 2/10\n",
      "\u001b[1m381/381\u001b[0m \u001b[32m━━━━━━━━━━━━━━━━━━━━\u001b[0m\u001b[37m\u001b[0m \u001b[1m54s\u001b[0m 142ms/step - accuracy: 0.4302 - f1_score: 0.5931 - loss: 0.8405 - val_accuracy: 0.4655 - val_f1_score: 0.5879 - val_loss: 0.6954\n",
      "Epoch 3/10\n",
      "\u001b[1m381/381\u001b[0m \u001b[32m━━━━━━━━━━━━━━━━━━━━\u001b[0m\u001b[37m\u001b[0m \u001b[1m55s\u001b[0m 143ms/step - accuracy: 0.4174 - f1_score: 0.5765 - loss: 0.8372 - val_accuracy: 0.4655 - val_f1_score: 0.5879 - val_loss: 0.6972\n",
      "Epoch 4/10\n",
      "\u001b[1m381/381\u001b[0m \u001b[32m━━━━━━━━━━━━━━━━━━━━\u001b[0m\u001b[37m\u001b[0m \u001b[1m55s\u001b[0m 144ms/step - accuracy: 0.4306 - f1_score: 0.5890 - loss: 0.8404 - val_accuracy: 0.4655 - val_f1_score: 0.5879 - val_loss: 0.6949\n",
      "Epoch 5/10\n",
      "\u001b[1m381/381\u001b[0m \u001b[32m━━━━━━━━━━━━━━━━━━━━\u001b[0m\u001b[37m\u001b[0m \u001b[1m55s\u001b[0m 145ms/step - accuracy: 0.4287 - f1_score: 0.5895 - loss: 0.8403 - val_accuracy: 0.4655 - val_f1_score: 0.5879 - val_loss: 0.6963\n",
      "Epoch 6/10\n",
      "\u001b[1m381/381\u001b[0m \u001b[32m━━━━━━━━━━━━━━━━━━━━\u001b[0m\u001b[37m\u001b[0m \u001b[1m56s\u001b[0m 146ms/step - accuracy: 0.4341 - f1_score: 0.5929 - loss: 0.8413 - val_accuracy: 0.4655 - val_f1_score: 0.5879 - val_loss: 0.6957\n",
      "Epoch 7/10\n",
      "\u001b[1m381/381\u001b[0m \u001b[32m━━━━━━━━━━━━━━━━━━━━\u001b[0m\u001b[37m\u001b[0m \u001b[1m56s\u001b[0m 147ms/step - accuracy: 0.4173 - f1_score: 0.5772 - loss: 0.8371 - val_accuracy: 0.4655 - val_f1_score: 0.5879 - val_loss: 0.6966\n",
      "Training with lr=0.0001, batch_size=16, dropout=0.3, units=64\n",
      "Epoch 1/10\n"
     ]
    },
    {
     "name": "stderr",
     "output_type": "stream",
     "text": [
      "/opt/anaconda3/lib/python3.11/site-packages/keras/src/layers/core/embedding.py:90: UserWarning: Argument `input_length` is deprecated. Just remove it.\n",
      "  warnings.warn(\n"
     ]
    },
    {
     "name": "stdout",
     "output_type": "stream",
     "text": [
      "\u001b[1m381/381\u001b[0m \u001b[32m━━━━━━━━━━━━━━━━━━━━\u001b[0m\u001b[37m\u001b[0m \u001b[1m18s\u001b[0m 45ms/step - accuracy: 0.4153 - f1_score: 0.5670 - loss: 0.8377 - val_accuracy: 0.4655 - val_f1_score: 0.5879 - val_loss: 0.6987\n",
      "Epoch 2/10\n",
      "\u001b[1m381/381\u001b[0m \u001b[32m━━━━━━━━━━━━━━━━━━━━\u001b[0m\u001b[37m\u001b[0m \u001b[1m17s\u001b[0m 43ms/step - accuracy: 0.4202 - f1_score: 0.5809 - loss: 0.8381 - val_accuracy: 0.4655 - val_f1_score: 0.5879 - val_loss: 0.6973\n",
      "Epoch 3/10\n",
      "\u001b[1m381/381\u001b[0m \u001b[32m━━━━━━━━━━━━━━━━━━━━\u001b[0m\u001b[37m\u001b[0m \u001b[1m17s\u001b[0m 43ms/step - accuracy: 0.4146 - f1_score: 0.5767 - loss: 0.8365 - val_accuracy: 0.4655 - val_f1_score: 0.5879 - val_loss: 0.6979\n",
      "Epoch 4/10\n",
      "\u001b[1m381/381\u001b[0m \u001b[32m━━━━━━━━━━━━━━━━━━━━\u001b[0m\u001b[37m\u001b[0m \u001b[1m16s\u001b[0m 43ms/step - accuracy: 0.4143 - f1_score: 0.5757 - loss: 0.8365 - val_accuracy: 0.4655 - val_f1_score: 0.5879 - val_loss: 0.6975\n",
      "Epoch 5/10\n",
      "\u001b[1m381/381\u001b[0m \u001b[32m━━━━━━━━━━━━━━━━━━━━\u001b[0m\u001b[37m\u001b[0m \u001b[1m17s\u001b[0m 43ms/step - accuracy: 0.4342 - f1_score: 0.5931 - loss: 0.8410 - val_accuracy: 0.4655 - val_f1_score: 0.5879 - val_loss: 0.6963\n",
      "Epoch 6/10\n",
      "\u001b[1m381/381\u001b[0m \u001b[32m━━━━━━━━━━━━━━━━━━━━\u001b[0m\u001b[37m\u001b[0m \u001b[1m17s\u001b[0m 44ms/step - accuracy: 0.4233 - f1_score: 0.5852 - loss: 0.8387 - val_accuracy: 0.4655 - val_f1_score: 0.5879 - val_loss: 0.6961\n",
      "Epoch 7/10\n",
      "\u001b[1m381/381\u001b[0m \u001b[32m━━━━━━━━━━━━━━━━━━━━\u001b[0m\u001b[37m\u001b[0m \u001b[1m17s\u001b[0m 43ms/step - accuracy: 0.4110 - f1_score: 0.5690 - loss: 0.8355 - val_accuracy: 0.4655 - val_f1_score: 0.5879 - val_loss: 0.6970\n",
      "Epoch 8/10\n",
      "\u001b[1m381/381\u001b[0m \u001b[32m━━━━━━━━━━━━━━━━━━━━\u001b[0m\u001b[37m\u001b[0m \u001b[1m17s\u001b[0m 44ms/step - accuracy: 0.4160 - f1_score: 0.5778 - loss: 0.8368 - val_accuracy: 0.4655 - val_f1_score: 0.5879 - val_loss: 0.6974\n",
      "Epoch 9/10\n",
      "\u001b[1m381/381\u001b[0m \u001b[32m━━━━━━━━━━━━━━━━━━━━\u001b[0m\u001b[37m\u001b[0m \u001b[1m16s\u001b[0m 43ms/step - accuracy: 0.4199 - f1_score: 0.5805 - loss: 0.8378 - val_accuracy: 0.4655 - val_f1_score: 0.5879 - val_loss: 0.6973\n",
      "Training with lr=0.0001, batch_size=16, dropout=0.3, units=128\n",
      "Epoch 1/10\n"
     ]
    },
    {
     "name": "stderr",
     "output_type": "stream",
     "text": [
      "/opt/anaconda3/lib/python3.11/site-packages/keras/src/layers/core/embedding.py:90: UserWarning: Argument `input_length` is deprecated. Just remove it.\n",
      "  warnings.warn(\n"
     ]
    },
    {
     "name": "stdout",
     "output_type": "stream",
     "text": [
      "\u001b[1m381/381\u001b[0m \u001b[32m━━━━━━━━━━━━━━━━━━━━\u001b[0m\u001b[37m\u001b[0m \u001b[1m34s\u001b[0m 86ms/step - accuracy: 0.4210 - f1_score: 0.5726 - loss: 0.8394 - val_accuracy: 0.4655 - val_f1_score: 0.5879 - val_loss: 0.6966\n",
      "Epoch 2/10\n",
      "\u001b[1m381/381\u001b[0m \u001b[32m━━━━━━━━━━━━━━━━━━━━\u001b[0m\u001b[37m\u001b[0m \u001b[1m34s\u001b[0m 90ms/step - accuracy: 0.4205 - f1_score: 0.5804 - loss: 0.8380 - val_accuracy: 0.4655 - val_f1_score: 0.5879 - val_loss: 0.6966\n",
      "Epoch 3/10\n",
      "\u001b[1m381/381\u001b[0m \u001b[32m━━━━━━━━━━━━━━━━━━━━\u001b[0m\u001b[37m\u001b[0m \u001b[1m33s\u001b[0m 87ms/step - accuracy: 0.4298 - f1_score: 0.5918 - loss: 0.8403 - val_accuracy: 0.4655 - val_f1_score: 0.5879 - val_loss: 0.6956\n",
      "Epoch 4/10\n",
      "\u001b[1m381/381\u001b[0m \u001b[32m━━━━━━━━━━━━━━━━━━━━\u001b[0m\u001b[37m\u001b[0m \u001b[1m34s\u001b[0m 90ms/step - accuracy: 0.4212 - f1_score: 0.5832 - loss: 0.8381 - val_accuracy: 0.4655 - val_f1_score: 0.5879 - val_loss: 0.6969\n",
      "Epoch 5/10\n",
      "\u001b[1m381/381\u001b[0m \u001b[32m━━━━━━━━━━━━━━━━━━━━\u001b[0m\u001b[37m\u001b[0m \u001b[1m34s\u001b[0m 90ms/step - accuracy: 0.4141 - f1_score: 0.5737 - loss: 0.8364 - val_accuracy: 0.4655 - val_f1_score: 0.5879 - val_loss: 0.6976\n",
      "Epoch 6/10\n",
      "\u001b[1m381/381\u001b[0m \u001b[32m━━━━━━━━━━━━━━━━━━━━\u001b[0m\u001b[37m\u001b[0m \u001b[1m34s\u001b[0m 88ms/step - accuracy: 0.4119 - f1_score: 0.5721 - loss: 0.8359 - val_accuracy: 0.4655 - val_f1_score: 0.5879 - val_loss: 0.6969\n",
      "Training with lr=0.0001, batch_size=16, dropout=0.3, units=256\n",
      "Epoch 1/10\n"
     ]
    },
    {
     "name": "stderr",
     "output_type": "stream",
     "text": [
      "/opt/anaconda3/lib/python3.11/site-packages/keras/src/layers/core/embedding.py:90: UserWarning: Argument `input_length` is deprecated. Just remove it.\n",
      "  warnings.warn(\n"
     ]
    },
    {
     "name": "stdout",
     "output_type": "stream",
     "text": [
      "\u001b[1m381/381\u001b[0m \u001b[32m━━━━━━━━━━━━━━━━━━━━\u001b[0m\u001b[37m\u001b[0m \u001b[1m56s\u001b[0m 144ms/step - accuracy: 0.4279 - f1_score: 0.5124 - loss: 0.8367 - val_accuracy: 0.4655 - val_f1_score: 0.5879 - val_loss: 0.6985\n",
      "Epoch 2/10\n",
      "\u001b[1m381/381\u001b[0m \u001b[32m━━━━━━━━━━━━━━━━━━━━\u001b[0m\u001b[37m\u001b[0m \u001b[1m55s\u001b[0m 144ms/step - accuracy: 0.4206 - f1_score: 0.5792 - loss: 0.8382 - val_accuracy: 0.4655 - val_f1_score: 0.5879 - val_loss: 0.6966\n",
      "Epoch 3/10\n",
      "\u001b[1m381/381\u001b[0m \u001b[32m━━━━━━━━━━━━━━━━━━━━\u001b[0m\u001b[37m\u001b[0m \u001b[1m54s\u001b[0m 142ms/step - accuracy: 0.4146 - f1_score: 0.5749 - loss: 0.8365 - val_accuracy: 0.4655 - val_f1_score: 0.5879 - val_loss: 0.6975\n",
      "Epoch 4/10\n",
      "\u001b[1m381/381\u001b[0m \u001b[32m━━━━━━━━━━━━━━━━━━━━\u001b[0m\u001b[37m\u001b[0m \u001b[1m54s\u001b[0m 141ms/step - accuracy: 0.4197 - f1_score: 0.5808 - loss: 0.8377 - val_accuracy: 0.4655 - val_f1_score: 0.5879 - val_loss: 0.6962\n",
      "Epoch 5/10\n",
      "\u001b[1m381/381\u001b[0m \u001b[32m━━━━━━━━━━━━━━━━━━━━\u001b[0m\u001b[37m\u001b[0m \u001b[1m55s\u001b[0m 144ms/step - accuracy: 0.4244 - f1_score: 0.5855 - loss: 0.8389 - val_accuracy: 0.4655 - val_f1_score: 0.5879 - val_loss: 0.6961\n",
      "Epoch 6/10\n",
      "\u001b[1m381/381\u001b[0m \u001b[32m━━━━━━━━━━━━━━━━━━━━\u001b[0m\u001b[37m\u001b[0m \u001b[1m54s\u001b[0m 142ms/step - accuracy: 0.4219 - f1_score: 0.5802 - loss: 0.8383 - val_accuracy: 0.4655 - val_f1_score: 0.5879 - val_loss: 0.6967\n",
      "Epoch 7/10\n",
      "\u001b[1m381/381\u001b[0m \u001b[32m━━━━━━━━━━━━━━━━━━━━\u001b[0m\u001b[37m\u001b[0m \u001b[1m55s\u001b[0m 145ms/step - accuracy: 0.4247 - f1_score: 0.5863 - loss: 0.8390 - val_accuracy: 0.4655 - val_f1_score: 0.5879 - val_loss: 0.6960\n",
      "Epoch 8/10\n",
      "\u001b[1m381/381\u001b[0m \u001b[32m━━━━━━━━━━━━━━━━━━━━\u001b[0m\u001b[37m\u001b[0m \u001b[1m54s\u001b[0m 142ms/step - accuracy: 0.4273 - f1_score: 0.5885 - loss: 0.8397 - val_accuracy: 0.4655 - val_f1_score: 0.5879 - val_loss: 0.6964\n",
      "Epoch 9/10\n",
      "\u001b[1m381/381\u001b[0m \u001b[32m━━━━━━━━━━━━━━━━━━━━\u001b[0m\u001b[37m\u001b[0m \u001b[1m55s\u001b[0m 145ms/step - accuracy: 0.4182 - f1_score: 0.5778 - loss: 0.8373 - val_accuracy: 0.4655 - val_f1_score: 0.5879 - val_loss: 0.6969\n",
      "Epoch 10/10\n",
      "\u001b[1m381/381\u001b[0m \u001b[32m━━━━━━━━━━━━━━━━━━━━\u001b[0m\u001b[37m\u001b[0m \u001b[1m55s\u001b[0m 144ms/step - accuracy: 0.4203 - f1_score: 0.5796 - loss: 0.8379 - val_accuracy: 0.4655 - val_f1_score: 0.5879 - val_loss: 0.6969\n",
      "Training with lr=0.0001, batch_size=16, dropout=0.4, units=64\n",
      "Epoch 1/10\n"
     ]
    },
    {
     "name": "stderr",
     "output_type": "stream",
     "text": [
      "/opt/anaconda3/lib/python3.11/site-packages/keras/src/layers/core/embedding.py:90: UserWarning: Argument `input_length` is deprecated. Just remove it.\n",
      "  warnings.warn(\n"
     ]
    },
    {
     "name": "stdout",
     "output_type": "stream",
     "text": [
      "\u001b[1m381/381\u001b[0m \u001b[32m━━━━━━━━━━━━━━━━━━━━\u001b[0m\u001b[37m\u001b[0m \u001b[1m18s\u001b[0m 45ms/step - accuracy: 0.4261 - f1_score: 0.5748 - loss: 0.8404 - val_accuracy: 0.4655 - val_f1_score: 0.5879 - val_loss: 0.6965\n",
      "Epoch 2/10\n",
      "\u001b[1m381/381\u001b[0m \u001b[32m━━━━━━━━━━━━━━━━━━━━\u001b[0m\u001b[37m\u001b[0m \u001b[1m17s\u001b[0m 44ms/step - accuracy: 0.4233 - f1_score: 0.5834 - loss: 0.8388 - val_accuracy: 0.4655 - val_f1_score: 0.5879 - val_loss: 0.6961\n",
      "Epoch 3/10\n",
      "\u001b[1m381/381\u001b[0m \u001b[32m━━━━━━━━━━━━━━━━━━━━\u001b[0m\u001b[37m\u001b[0m \u001b[1m17s\u001b[0m 45ms/step - accuracy: 0.4255 - f1_score: 0.5871 - loss: 0.8392 - val_accuracy: 0.4655 - val_f1_score: 0.5879 - val_loss: 0.6960\n",
      "Epoch 4/10\n",
      "\u001b[1m381/381\u001b[0m \u001b[32m━━━━━━━━━━━━━━━━━━━━\u001b[0m\u001b[37m\u001b[0m \u001b[1m17s\u001b[0m 45ms/step - accuracy: 0.4228 - f1_score: 0.5842 - loss: 0.8385 - val_accuracy: 0.4655 - val_f1_score: 0.5879 - val_loss: 0.6961\n",
      "Epoch 5/10\n",
      "\u001b[1m381/381\u001b[0m \u001b[32m━━━━━━━━━━━━━━━━━━━━\u001b[0m\u001b[37m\u001b[0m \u001b[1m17s\u001b[0m 44ms/step - accuracy: 0.4136 - f1_score: 0.5746 - loss: 0.8361 - val_accuracy: 0.4655 - val_f1_score: 0.5879 - val_loss: 0.6972\n",
      "Epoch 6/10\n",
      "\u001b[1m381/381\u001b[0m \u001b[32m━━━━━━━━━━━━━━━━━━━━\u001b[0m\u001b[37m\u001b[0m \u001b[1m17s\u001b[0m 44ms/step - accuracy: 0.4264 - f1_score: 0.5883 - loss: 0.8393 - val_accuracy: 0.4655 - val_f1_score: 0.5879 - val_loss: 0.6963\n",
      "Training with lr=0.0001, batch_size=16, dropout=0.4, units=128\n",
      "Epoch 1/10\n"
     ]
    },
    {
     "name": "stderr",
     "output_type": "stream",
     "text": [
      "/opt/anaconda3/lib/python3.11/site-packages/keras/src/layers/core/embedding.py:90: UserWarning: Argument `input_length` is deprecated. Just remove it.\n",
      "  warnings.warn(\n"
     ]
    },
    {
     "name": "stdout",
     "output_type": "stream",
     "text": [
      "\u001b[1m381/381\u001b[0m \u001b[32m━━━━━━━━━━━━━━━━━━━━\u001b[0m\u001b[37m\u001b[0m \u001b[1m34s\u001b[0m 86ms/step - accuracy: 0.5068 - f1_score: 0.3201 - loss: 0.8367 - val_accuracy: 0.4655 - val_f1_score: 0.5879 - val_loss: 0.6954\n",
      "Epoch 2/10\n",
      "\u001b[1m381/381\u001b[0m \u001b[32m━━━━━━━━━━━━━━━━━━━━\u001b[0m\u001b[37m\u001b[0m \u001b[1m33s\u001b[0m 87ms/step - accuracy: 0.4240 - f1_score: 0.5859 - loss: 0.8391 - val_accuracy: 0.4655 - val_f1_score: 0.5879 - val_loss: 0.6964\n",
      "Epoch 3/10\n",
      "\u001b[1m381/381\u001b[0m \u001b[32m━━━━━━━━━━━━━━━━━━━━\u001b[0m\u001b[37m\u001b[0m \u001b[1m33s\u001b[0m 87ms/step - accuracy: 0.4242 - f1_score: 0.5842 - loss: 0.8390 - val_accuracy: 0.4655 - val_f1_score: 0.5879 - val_loss: 0.6962\n",
      "Epoch 4/10\n",
      "\u001b[1m381/381\u001b[0m \u001b[32m━━━━━━━━━━━━━━━━━━━━\u001b[0m\u001b[37m\u001b[0m \u001b[1m34s\u001b[0m 88ms/step - accuracy: 0.4174 - f1_score: 0.5766 - loss: 0.8371 - val_accuracy: 0.4655 - val_f1_score: 0.5879 - val_loss: 0.6970\n",
      "Training with lr=0.0001, batch_size=16, dropout=0.4, units=256\n",
      "Epoch 1/10\n"
     ]
    },
    {
     "name": "stderr",
     "output_type": "stream",
     "text": [
      "/opt/anaconda3/lib/python3.11/site-packages/keras/src/layers/core/embedding.py:90: UserWarning: Argument `input_length` is deprecated. Just remove it.\n",
      "  warnings.warn(\n"
     ]
    },
    {
     "name": "stdout",
     "output_type": "stream",
     "text": [
      "\u001b[1m381/381\u001b[0m \u001b[32m━━━━━━━━━━━━━━━━━━━━\u001b[0m\u001b[37m\u001b[0m \u001b[1m55s\u001b[0m 141ms/step - accuracy: 0.4267 - f1_score: 0.5774 - loss: 0.8402 - val_accuracy: 0.4655 - val_f1_score: 0.5879 - val_loss: 0.6952\n",
      "Epoch 2/10\n",
      "\u001b[1m381/381\u001b[0m \u001b[32m━━━━━━━━━━━━━━━━━━━━\u001b[0m\u001b[37m\u001b[0m \u001b[1m53s\u001b[0m 139ms/step - accuracy: 0.4327 - f1_score: 0.5943 - loss: 0.8409 - val_accuracy: 0.4655 - val_f1_score: 0.5879 - val_loss: 0.6951\n",
      "Epoch 3/10\n",
      "\u001b[1m381/381\u001b[0m \u001b[32m━━━━━━━━━━━━━━━━━━━━\u001b[0m\u001b[37m\u001b[0m \u001b[1m54s\u001b[0m 141ms/step - accuracy: 0.4171 - f1_score: 0.5782 - loss: 0.8370 - val_accuracy: 0.4655 - val_f1_score: 0.5879 - val_loss: 0.6962\n",
      "Epoch 4/10\n",
      "\u001b[1m381/381\u001b[0m \u001b[32m━━━━━━━━━━━━━━━━━━━━\u001b[0m\u001b[37m\u001b[0m \u001b[1m53s\u001b[0m 140ms/step - accuracy: 0.4165 - f1_score: 0.5784 - loss: 0.8369 - val_accuracy: 0.4655 - val_f1_score: 0.5879 - val_loss: 0.6958\n",
      "Epoch 5/10\n",
      "\u001b[1m381/381\u001b[0m \u001b[32m━━━━━━━━━━━━━━━━━━━━\u001b[0m\u001b[37m\u001b[0m \u001b[1m54s\u001b[0m 140ms/step - accuracy: 0.4189 - f1_score: 0.5783 - loss: 0.8376 - val_accuracy: 0.4655 - val_f1_score: 0.5879 - val_loss: 0.6967\n",
      "Training with lr=0.0001, batch_size=32, dropout=0.2, units=64\n",
      "Epoch 1/10\n"
     ]
    },
    {
     "name": "stderr",
     "output_type": "stream",
     "text": [
      "/opt/anaconda3/lib/python3.11/site-packages/keras/src/layers/core/embedding.py:90: UserWarning: Argument `input_length` is deprecated. Just remove it.\n",
      "  warnings.warn(\n"
     ]
    },
    {
     "name": "stdout",
     "output_type": "stream",
     "text": [
      "\u001b[1m191/191\u001b[0m \u001b[32m━━━━━━━━━━━━━━━━━━━━\u001b[0m\u001b[37m\u001b[0m \u001b[1m13s\u001b[0m 62ms/step - accuracy: 0.4239 - f1_score: 0.5713 - loss: 0.8402 - val_accuracy: 0.4655 - val_f1_score: 0.5967 - val_loss: 0.6953\n",
      "Epoch 2/10\n",
      "\u001b[1m191/191\u001b[0m \u001b[32m━━━━━━━━━━━━━━━━━━━━\u001b[0m\u001b[37m\u001b[0m \u001b[1m11s\u001b[0m 59ms/step - accuracy: 0.4148 - f1_score: 0.5812 - loss: 0.8364 - val_accuracy: 0.4655 - val_f1_score: 0.5967 - val_loss: 0.6973\n",
      "Epoch 3/10\n",
      "\u001b[1m191/191\u001b[0m \u001b[32m━━━━━━━━━━━━━━━━━━━━\u001b[0m\u001b[37m\u001b[0m \u001b[1m11s\u001b[0m 59ms/step - accuracy: 0.4192 - f1_score: 0.5850 - loss: 0.8377 - val_accuracy: 0.4655 - val_f1_score: 0.5967 - val_loss: 0.6967\n",
      "Epoch 4/10\n",
      "\u001b[1m191/191\u001b[0m \u001b[32m━━━━━━━━━━━━━━━━━━━━\u001b[0m\u001b[37m\u001b[0m \u001b[1m11s\u001b[0m 60ms/step - accuracy: 0.4162 - f1_score: 0.5833 - loss: 0.8368 - val_accuracy: 0.4655 - val_f1_score: 0.5967 - val_loss: 0.6973\n",
      "Training with lr=0.0001, batch_size=32, dropout=0.2, units=128\n",
      "Epoch 1/10\n"
     ]
    },
    {
     "name": "stderr",
     "output_type": "stream",
     "text": [
      "/opt/anaconda3/lib/python3.11/site-packages/keras/src/layers/core/embedding.py:90: UserWarning: Argument `input_length` is deprecated. Just remove it.\n",
      "  warnings.warn(\n"
     ]
    },
    {
     "name": "stdout",
     "output_type": "stream",
     "text": [
      "\u001b[1m191/191\u001b[0m \u001b[32m━━━━━━━━━━━━━━━━━━━━\u001b[0m\u001b[37m\u001b[0m \u001b[1m21s\u001b[0m 104ms/step - accuracy: 0.4657 - f1_score: 0.4266 - loss: 0.8385 - val_accuracy: 0.4655 - val_f1_score: 0.5967 - val_loss: 0.6955\n",
      "Epoch 2/10\n",
      "\u001b[1m191/191\u001b[0m \u001b[32m━━━━━━━━━━━━━━━━━━━━\u001b[0m\u001b[37m\u001b[0m \u001b[1m20s\u001b[0m 104ms/step - accuracy: 0.4140 - f1_score: 0.5798 - loss: 0.8363 - val_accuracy: 0.4655 - val_f1_score: 0.5967 - val_loss: 0.6968\n",
      "Epoch 3/10\n",
      "\u001b[1m191/191\u001b[0m \u001b[32m━━━━━━━━━━━━━━━━━━━━\u001b[0m\u001b[37m\u001b[0m \u001b[1m20s\u001b[0m 104ms/step - accuracy: 0.4149 - f1_score: 0.5811 - loss: 0.8367 - val_accuracy: 0.4655 - val_f1_score: 0.5967 - val_loss: 0.6964\n",
      "Epoch 4/10\n",
      "\u001b[1m191/191\u001b[0m \u001b[32m━━━━━━━━━━━━━━━━━━━━\u001b[0m\u001b[37m\u001b[0m \u001b[1m20s\u001b[0m 104ms/step - accuracy: 0.4312 - f1_score: 0.5979 - loss: 0.8406 - val_accuracy: 0.4655 - val_f1_score: 0.5967 - val_loss: 0.6951\n",
      "Epoch 5/10\n",
      "\u001b[1m191/191\u001b[0m \u001b[32m━━━━━━━━━━━━━━━━━━━━\u001b[0m\u001b[37m\u001b[0m \u001b[1m20s\u001b[0m 104ms/step - accuracy: 0.4218 - f1_score: 0.5881 - loss: 0.8383 - val_accuracy: 0.4655 - val_f1_score: 0.5967 - val_loss: 0.6964\n",
      "Epoch 6/10\n",
      "\u001b[1m191/191\u001b[0m \u001b[32m━━━━━━━━━━━━━━━━━━━━\u001b[0m\u001b[37m\u001b[0m \u001b[1m20s\u001b[0m 105ms/step - accuracy: 0.4310 - f1_score: 0.5977 - loss: 0.8405 - val_accuracy: 0.4655 - val_f1_score: 0.5967 - val_loss: 0.6960\n",
      "Epoch 7/10\n",
      "\u001b[1m191/191\u001b[0m \u001b[32m━━━━━━━━━━━━━━━━━━━━\u001b[0m\u001b[37m\u001b[0m \u001b[1m20s\u001b[0m 107ms/step - accuracy: 0.4207 - f1_score: 0.5870 - loss: 0.8380 - val_accuracy: 0.4655 - val_f1_score: 0.5967 - val_loss: 0.6965\n",
      "Training with lr=0.0001, batch_size=32, dropout=0.2, units=256\n",
      "Epoch 1/10\n"
     ]
    },
    {
     "name": "stderr",
     "output_type": "stream",
     "text": [
      "/opt/anaconda3/lib/python3.11/site-packages/keras/src/layers/core/embedding.py:90: UserWarning: Argument `input_length` is deprecated. Just remove it.\n",
      "  warnings.warn(\n"
     ]
    },
    {
     "name": "stdout",
     "output_type": "stream",
     "text": [
      "\u001b[1m191/191\u001b[0m \u001b[32m━━━━━━━━━━━━━━━━━━━━\u001b[0m\u001b[37m\u001b[0m \u001b[1m39s\u001b[0m 201ms/step - accuracy: 0.4199 - f1_score: 0.5658 - loss: 0.8384 - val_accuracy: 0.4655 - val_f1_score: 0.5967 - val_loss: 0.6962\n",
      "Epoch 2/10\n",
      "\u001b[1m191/191\u001b[0m \u001b[32m━━━━━━━━━━━━━━━━━━━━\u001b[0m\u001b[37m\u001b[0m \u001b[1m39s\u001b[0m 202ms/step - accuracy: 0.4274 - f1_score: 0.5923 - loss: 0.8397 - val_accuracy: 0.4655 - val_f1_score: 0.5967 - val_loss: 0.6953\n",
      "Epoch 3/10\n",
      "\u001b[1m191/191\u001b[0m \u001b[32m━━━━━━━━━━━━━━━━━━━━\u001b[0m\u001b[37m\u001b[0m \u001b[1m517s\u001b[0m 3s/step - accuracy: 0.4215 - f1_score: 0.5880 - loss: 0.8381 - val_accuracy: 0.4655 - val_f1_score: 0.5967 - val_loss: 0.6956\n",
      "Epoch 4/10\n",
      "\u001b[1m191/191\u001b[0m \u001b[32m━━━━━━━━━━━━━━━━━━━━\u001b[0m\u001b[37m\u001b[0m \u001b[1m39s\u001b[0m 203ms/step - accuracy: 0.4245 - f1_score: 0.5902 - loss: 0.8389 - val_accuracy: 0.4655 - val_f1_score: 0.5967 - val_loss: 0.6964\n",
      "Epoch 5/10\n",
      "\u001b[1m191/191\u001b[0m \u001b[32m━━━━━━━━━━━━━━━━━━━━\u001b[0m\u001b[37m\u001b[0m \u001b[1m539s\u001b[0m 3s/step - accuracy: 0.4241 - f1_score: 0.5905 - loss: 0.8389 - val_accuracy: 0.4655 - val_f1_score: 0.5967 - val_loss: 0.6964\n",
      "Training with lr=0.0001, batch_size=32, dropout=0.3, units=64\n",
      "Epoch 1/10\n"
     ]
    },
    {
     "name": "stderr",
     "output_type": "stream",
     "text": [
      "/opt/anaconda3/lib/python3.11/site-packages/keras/src/layers/core/embedding.py:90: UserWarning: Argument `input_length` is deprecated. Just remove it.\n",
      "  warnings.warn(\n"
     ]
    },
    {
     "name": "stdout",
     "output_type": "stream",
     "text": [
      "\u001b[1m191/191\u001b[0m \u001b[32m━━━━━━━━━━━━━━━━━━━━\u001b[0m\u001b[37m\u001b[0m \u001b[1m12s\u001b[0m 59ms/step - accuracy: 0.4222 - f1_score: 0.5665 - loss: 0.8379 - val_accuracy: 0.4655 - val_f1_score: 0.5967 - val_loss: 0.6966\n",
      "Epoch 2/10\n",
      "\u001b[1m191/191\u001b[0m \u001b[32m━━━━━━━━━━━━━━━━━━━━\u001b[0m\u001b[37m\u001b[0m \u001b[1m12s\u001b[0m 62ms/step - accuracy: 0.4144 - f1_score: 0.5806 - loss: 0.8366 - val_accuracy: 0.4655 - val_f1_score: 0.5967 - val_loss: 0.6966\n",
      "Epoch 3/10\n",
      "\u001b[1m191/191\u001b[0m \u001b[32m━━━━━━━━━━━━━━━━━━━━\u001b[0m\u001b[37m\u001b[0m \u001b[1m11s\u001b[0m 59ms/step - accuracy: 0.4292 - f1_score: 0.5938 - loss: 0.8402 - val_accuracy: 0.4655 - val_f1_score: 0.5967 - val_loss: 0.6964\n",
      "Epoch 4/10\n",
      "\u001b[1m191/191\u001b[0m \u001b[32m━━━━━━━━━━━━━━━━━━━━\u001b[0m\u001b[37m\u001b[0m \u001b[1m11s\u001b[0m 59ms/step - accuracy: 0.4189 - f1_score: 0.5854 - loss: 0.8375 - val_accuracy: 0.4655 - val_f1_score: 0.5967 - val_loss: 0.6969\n",
      "Epoch 5/10\n",
      "\u001b[1m191/191\u001b[0m \u001b[32m━━━━━━━━━━━━━━━━━━━━\u001b[0m\u001b[37m\u001b[0m \u001b[1m11s\u001b[0m 59ms/step - accuracy: 0.4140 - f1_score: 0.5815 - loss: 0.8362 - val_accuracy: 0.4655 - val_f1_score: 0.5967 - val_loss: 0.6975\n",
      "Epoch 6/10\n",
      "\u001b[1m191/191\u001b[0m \u001b[32m━━━━━━━━━━━━━━━━━━━━\u001b[0m\u001b[37m\u001b[0m \u001b[1m11s\u001b[0m 59ms/step - accuracy: 0.4170 - f1_score: 0.5834 - loss: 0.8371 - val_accuracy: 0.4655 - val_f1_score: 0.5967 - val_loss: 0.6972\n",
      "Training with lr=0.0001, batch_size=32, dropout=0.3, units=128\n",
      "Epoch 1/10\n"
     ]
    },
    {
     "name": "stderr",
     "output_type": "stream",
     "text": [
      "/opt/anaconda3/lib/python3.11/site-packages/keras/src/layers/core/embedding.py:90: UserWarning: Argument `input_length` is deprecated. Just remove it.\n",
      "  warnings.warn(\n"
     ]
    },
    {
     "name": "stdout",
     "output_type": "stream",
     "text": [
      "\u001b[1m191/191\u001b[0m \u001b[32m━━━━━━━━━━━━━━━━━━━━\u001b[0m\u001b[37m\u001b[0m \u001b[1m27s\u001b[0m 138ms/step - accuracy: 0.4862 - f1_score: 0.3467 - loss: 0.8376 - val_accuracy: 0.4655 - val_f1_score: 0.5967 - val_loss: 0.6974\n",
      "Epoch 2/10\n",
      "\u001b[1m191/191\u001b[0m \u001b[32m━━━━━━━━━━━━━━━━━━━━\u001b[0m\u001b[37m\u001b[0m \u001b[1m21s\u001b[0m 109ms/step - accuracy: 0.4205 - f1_score: 0.5870 - loss: 0.8380 - val_accuracy: 0.4655 - val_f1_score: 0.5967 - val_loss: 0.6966\n",
      "Epoch 3/10\n",
      "\u001b[1m191/191\u001b[0m \u001b[32m━━━━━━━━━━━━━━━━━━━━\u001b[0m\u001b[37m\u001b[0m \u001b[1m21s\u001b[0m 109ms/step - accuracy: 0.4257 - f1_score: 0.5927 - loss: 0.8394 - val_accuracy: 0.4655 - val_f1_score: 0.5967 - val_loss: 0.6968\n",
      "Epoch 4/10\n",
      "\u001b[1m191/191\u001b[0m \u001b[32m━━━━━━━━━━━━━━━━━━━━\u001b[0m\u001b[37m\u001b[0m \u001b[1m23s\u001b[0m 122ms/step - accuracy: 0.4152 - f1_score: 0.5806 - loss: 0.8366 - val_accuracy: 0.4655 - val_f1_score: 0.5967 - val_loss: 0.6972\n",
      "Epoch 5/10\n",
      "\u001b[1m191/191\u001b[0m \u001b[32m━━━━━━━━━━━━━━━━━━━━\u001b[0m\u001b[37m\u001b[0m \u001b[1m21s\u001b[0m 109ms/step - accuracy: 0.4147 - f1_score: 0.5817 - loss: 0.8365 - val_accuracy: 0.4655 - val_f1_score: 0.5967 - val_loss: 0.6977\n",
      "Training with lr=0.0001, batch_size=32, dropout=0.3, units=256\n",
      "Epoch 1/10\n"
     ]
    },
    {
     "name": "stderr",
     "output_type": "stream",
     "text": [
      "/opt/anaconda3/lib/python3.11/site-packages/keras/src/layers/core/embedding.py:90: UserWarning: Argument `input_length` is deprecated. Just remove it.\n",
      "  warnings.warn(\n"
     ]
    },
    {
     "name": "stdout",
     "output_type": "stream",
     "text": [
      "\u001b[1m191/191\u001b[0m \u001b[32m━━━━━━━━━━━━━━━━━━━━\u001b[0m\u001b[37m\u001b[0m \u001b[1m56s\u001b[0m 289ms/step - accuracy: 0.4306 - f1_score: 0.5754 - loss: 0.8403 - val_accuracy: 0.4655 - val_f1_score: 0.5967 - val_loss: 0.6955\n",
      "Epoch 2/10\n",
      "\u001b[1m191/191\u001b[0m \u001b[32m━━━━━━━━━━━━━━━━━━━━\u001b[0m\u001b[37m\u001b[0m \u001b[1m41s\u001b[0m 213ms/step - accuracy: 0.4250 - f1_score: 0.5920 - loss: 0.8393 - val_accuracy: 0.4655 - val_f1_score: 0.5967 - val_loss: 0.6965\n",
      "Epoch 3/10\n",
      "\u001b[1m191/191\u001b[0m \u001b[32m━━━━━━━━━━━━━━━━━━━━\u001b[0m\u001b[37m\u001b[0m \u001b[1m124s\u001b[0m 652ms/step - accuracy: 0.4215 - f1_score: 0.5884 - loss: 0.8382 - val_accuracy: 0.4655 - val_f1_score: 0.5967 - val_loss: 0.6958\n",
      "Epoch 4/10\n",
      "\u001b[1m191/191\u001b[0m \u001b[32m━━━━━━━━━━━━━━━━━━━━\u001b[0m\u001b[37m\u001b[0m \u001b[1m36s\u001b[0m 183ms/step - accuracy: 0.4224 - f1_score: 0.5891 - loss: 0.8384 - val_accuracy: 0.4655 - val_f1_score: 0.5967 - val_loss: 0.6959\n",
      "Training with lr=0.0001, batch_size=32, dropout=0.4, units=64\n",
      "Epoch 1/10\n"
     ]
    },
    {
     "name": "stderr",
     "output_type": "stream",
     "text": [
      "/opt/anaconda3/lib/python3.11/site-packages/keras/src/layers/core/embedding.py:90: UserWarning: Argument `input_length` is deprecated. Just remove it.\n",
      "  warnings.warn(\n"
     ]
    },
    {
     "name": "stdout",
     "output_type": "stream",
     "text": [
      "\u001b[1m191/191\u001b[0m \u001b[32m━━━━━━━━━━━━━━━━━━━━\u001b[0m\u001b[37m\u001b[0m \u001b[1m13s\u001b[0m 59ms/step - accuracy: 0.4343 - f1_score: 0.5775 - loss: 0.8412 - val_accuracy: 0.4655 - val_f1_score: 0.5967 - val_loss: 0.6955\n",
      "Epoch 2/10\n",
      "\u001b[1m191/191\u001b[0m \u001b[32m━━━━━━━━━━━━━━━━━━━━\u001b[0m\u001b[37m\u001b[0m \u001b[1m12s\u001b[0m 63ms/step - accuracy: 0.4211 - f1_score: 0.5882 - loss: 0.8381 - val_accuracy: 0.4655 - val_f1_score: 0.5967 - val_loss: 0.6969\n",
      "Epoch 3/10\n",
      "\u001b[1m191/191\u001b[0m \u001b[32m━━━━━━━━━━━━━━━━━━━━\u001b[0m\u001b[37m\u001b[0m \u001b[1m11s\u001b[0m 59ms/step - accuracy: 0.4204 - f1_score: 0.5870 - loss: 0.8378 - val_accuracy: 0.4655 - val_f1_score: 0.5967 - val_loss: 0.6972\n",
      "Epoch 4/10\n",
      "\u001b[1m191/191\u001b[0m \u001b[32m━━━━━━━━━━━━━━━━━━━━\u001b[0m\u001b[37m\u001b[0m \u001b[1m11s\u001b[0m 59ms/step - accuracy: 0.4185 - f1_score: 0.5851 - loss: 0.8374 - val_accuracy: 0.4655 - val_f1_score: 0.5967 - val_loss: 0.6972\n",
      "Training with lr=0.0001, batch_size=32, dropout=0.4, units=128\n",
      "Epoch 1/10\n"
     ]
    },
    {
     "name": "stderr",
     "output_type": "stream",
     "text": [
      "/opt/anaconda3/lib/python3.11/site-packages/keras/src/layers/core/embedding.py:90: UserWarning: Argument `input_length` is deprecated. Just remove it.\n",
      "  warnings.warn(\n"
     ]
    },
    {
     "name": "stdout",
     "output_type": "stream",
     "text": [
      "\u001b[1m191/191\u001b[0m \u001b[32m━━━━━━━━━━━━━━━━━━━━\u001b[0m\u001b[37m\u001b[0m \u001b[1m21s\u001b[0m 104ms/step - accuracy: 0.4274 - f1_score: 0.5735 - loss: 0.8407 - val_accuracy: 0.4655 - val_f1_score: 0.5967 - val_loss: 0.6955\n",
      "Epoch 2/10\n",
      "\u001b[1m191/191\u001b[0m \u001b[32m━━━━━━━━━━━━━━━━━━━━\u001b[0m\u001b[37m\u001b[0m \u001b[1m85s\u001b[0m 446ms/step - accuracy: 0.4160 - f1_score: 0.5826 - loss: 0.8367 - val_accuracy: 0.4655 - val_f1_score: 0.5967 - val_loss: 0.6976\n",
      "Epoch 3/10\n",
      "\u001b[1m191/191\u001b[0m \u001b[32m━━━━━━━━━━━━━━━━━━━━\u001b[0m\u001b[37m\u001b[0m \u001b[1m20s\u001b[0m 107ms/step - accuracy: 0.4199 - f1_score: 0.5879 - loss: 0.8377 - val_accuracy: 0.4655 - val_f1_score: 0.5967 - val_loss: 0.6966\n",
      "Epoch 4/10\n",
      "\u001b[1m191/191\u001b[0m \u001b[32m━━━━━━━━━━━━━━━━━━━━\u001b[0m\u001b[37m\u001b[0m \u001b[1m20s\u001b[0m 106ms/step - accuracy: 0.4195 - f1_score: 0.5861 - loss: 0.8377 - val_accuracy: 0.4655 - val_f1_score: 0.5967 - val_loss: 0.6964\n",
      "Training with lr=0.0001, batch_size=32, dropout=0.4, units=256\n",
      "Epoch 1/10\n"
     ]
    },
    {
     "name": "stderr",
     "output_type": "stream",
     "text": [
      "/opt/anaconda3/lib/python3.11/site-packages/keras/src/layers/core/embedding.py:90: UserWarning: Argument `input_length` is deprecated. Just remove it.\n",
      "  warnings.warn(\n"
     ]
    },
    {
     "name": "stdout",
     "output_type": "stream",
     "text": [
      "\u001b[1m191/191\u001b[0m \u001b[32m━━━━━━━━━━━━━━━━━━━━\u001b[0m\u001b[37m\u001b[0m \u001b[1m41s\u001b[0m 209ms/step - accuracy: 0.4232 - f1_score: 0.5678 - loss: 0.8387 - val_accuracy: 0.4655 - val_f1_score: 0.5967 - val_loss: 0.6964\n",
      "Epoch 2/10\n",
      "\u001b[1m191/191\u001b[0m \u001b[32m━━━━━━━━━━━━━━━━━━━━\u001b[0m\u001b[37m\u001b[0m \u001b[1m42s\u001b[0m 219ms/step - accuracy: 0.4165 - f1_score: 0.5815 - loss: 0.8369 - val_accuracy: 0.4655 - val_f1_score: 0.5967 - val_loss: 0.6995\n",
      "Epoch 3/10\n",
      "\u001b[1m191/191\u001b[0m \u001b[32m━━━━━━━━━━━━━━━━━━━━\u001b[0m\u001b[37m\u001b[0m \u001b[1m59s\u001b[0m 312ms/step - accuracy: 0.4098 - f1_score: 0.5750 - loss: 0.8357 - val_accuracy: 0.4655 - val_f1_score: 0.5967 - val_loss: 0.6984\n",
      "Epoch 4/10\n",
      "\u001b[1m191/191\u001b[0m \u001b[32m━━━━━━━━━━━━━━━━━━━━\u001b[0m\u001b[37m\u001b[0m \u001b[1m38s\u001b[0m 201ms/step - accuracy: 0.4208 - f1_score: 0.5862 - loss: 0.8380 - val_accuracy: 0.4655 - val_f1_score: 0.5967 - val_loss: 0.6978\n",
      "Training with lr=0.0001, batch_size=64, dropout=0.2, units=64\n",
      "Epoch 1/10\n"
     ]
    },
    {
     "name": "stderr",
     "output_type": "stream",
     "text": [
      "/opt/anaconda3/lib/python3.11/site-packages/keras/src/layers/core/embedding.py:90: UserWarning: Argument `input_length` is deprecated. Just remove it.\n",
      "  warnings.warn(\n"
     ]
    },
    {
     "name": "stdout",
     "output_type": "stream",
     "text": [
      "\u001b[1m96/96\u001b[0m \u001b[32m━━━━━━━━━━━━━━━━━━━━\u001b[0m\u001b[37m\u001b[0m \u001b[1m11s\u001b[0m 100ms/step - accuracy: 0.4301 - f1_score: 0.5606 - loss: 0.8401 - val_accuracy: 0.4655 - val_f1_score: 0.6086 - val_loss: 0.6950\n",
      "Epoch 2/10\n",
      "\u001b[1m96/96\u001b[0m \u001b[32m━━━━━━━━━━━━━━━━━━━━\u001b[0m\u001b[37m\u001b[0m \u001b[1m10s\u001b[0m 99ms/step - accuracy: 0.4253 - f1_score: 0.5942 - loss: 0.8394 - val_accuracy: 0.4655 - val_f1_score: 0.6086 - val_loss: 0.6964\n",
      "Epoch 3/10\n",
      "\u001b[1m96/96\u001b[0m \u001b[32m━━━━━━━━━━━━━━━━━━━━\u001b[0m\u001b[37m\u001b[0m \u001b[1m9s\u001b[0m 98ms/step - accuracy: 0.4244 - f1_score: 0.5927 - loss: 0.8389 - val_accuracy: 0.4655 - val_f1_score: 0.6086 - val_loss: 0.6964\n",
      "Epoch 4/10\n",
      "\u001b[1m96/96\u001b[0m \u001b[32m━━━━━━━━━━━━━━━━━━━━\u001b[0m\u001b[37m\u001b[0m \u001b[1m9s\u001b[0m 98ms/step - accuracy: 0.4150 - f1_score: 0.5838 - loss: 0.8365 - val_accuracy: 0.4655 - val_f1_score: 0.6086 - val_loss: 0.6969\n",
      "Training with lr=0.0001, batch_size=64, dropout=0.2, units=128\n",
      "Epoch 1/10\n"
     ]
    },
    {
     "name": "stderr",
     "output_type": "stream",
     "text": [
      "/opt/anaconda3/lib/python3.11/site-packages/keras/src/layers/core/embedding.py:90: UserWarning: Argument `input_length` is deprecated. Just remove it.\n",
      "  warnings.warn(\n"
     ]
    },
    {
     "name": "stdout",
     "output_type": "stream",
     "text": [
      "\u001b[1m96/96\u001b[0m \u001b[32m━━━━━━━━━━━━━━━━━━━━\u001b[0m\u001b[37m\u001b[0m \u001b[1m17s\u001b[0m 166ms/step - accuracy: 0.4540 - f1_score: 0.4726 - loss: 0.8388 - val_accuracy: 0.4655 - val_f1_score: 0.6086 - val_loss: 0.6957\n",
      "Epoch 2/10\n",
      "\u001b[1m96/96\u001b[0m \u001b[32m━━━━━━━━━━━━━━━━━━━━\u001b[0m\u001b[37m\u001b[0m \u001b[1m16s\u001b[0m 164ms/step - accuracy: 0.4277 - f1_score: 0.5969 - loss: 0.8398 - val_accuracy: 0.4655 - val_f1_score: 0.6086 - val_loss: 0.6961\n",
      "Epoch 3/10\n",
      "\u001b[1m96/96\u001b[0m \u001b[32m━━━━━━━━━━━━━━━━━━━━\u001b[0m\u001b[37m\u001b[0m \u001b[1m16s\u001b[0m 168ms/step - accuracy: 0.4230 - f1_score: 0.5920 - loss: 0.8386 - val_accuracy: 0.4655 - val_f1_score: 0.6086 - val_loss: 0.6969\n",
      "Epoch 4/10\n",
      "\u001b[1m96/96\u001b[0m \u001b[32m━━━━━━━━━━━━━━━━━━━━\u001b[0m\u001b[37m\u001b[0m \u001b[1m15s\u001b[0m 161ms/step - accuracy: 0.4250 - f1_score: 0.5936 - loss: 0.8390 - val_accuracy: 0.4655 - val_f1_score: 0.6086 - val_loss: 0.6968\n",
      "Training with lr=0.0001, batch_size=64, dropout=0.2, units=256\n",
      "Epoch 1/10\n"
     ]
    },
    {
     "name": "stderr",
     "output_type": "stream",
     "text": [
      "/opt/anaconda3/lib/python3.11/site-packages/keras/src/layers/core/embedding.py:90: UserWarning: Argument `input_length` is deprecated. Just remove it.\n",
      "  warnings.warn(\n"
     ]
    },
    {
     "name": "stdout",
     "output_type": "stream",
     "text": [
      "\u001b[1m96/96\u001b[0m \u001b[32m━━━━━━━━━━━━━━━━━━━━\u001b[0m\u001b[37m\u001b[0m \u001b[1m29s\u001b[0m 288ms/step - accuracy: 0.4385 - f1_score: 0.5080 - loss: 0.8376 - val_accuracy: 0.4655 - val_f1_score: 0.6086 - val_loss: 0.6965\n",
      "Epoch 2/10\n",
      "\u001b[1m96/96\u001b[0m \u001b[32m━━━━━━━━━━━━━━━━━━━━\u001b[0m\u001b[37m\u001b[0m \u001b[1m84s\u001b[0m 883ms/step - accuracy: 0.4188 - f1_score: 0.5885 - loss: 0.8375 - val_accuracy: 0.4655 - val_f1_score: 0.6086 - val_loss: 0.6968\n",
      "Epoch 3/10\n",
      "\u001b[1m96/96\u001b[0m \u001b[32m━━━━━━━━━━━━━━━━━━━━\u001b[0m\u001b[37m\u001b[0m \u001b[1m55s\u001b[0m 576ms/step - accuracy: 0.4278 - f1_score: 0.5966 - loss: 0.8397 - val_accuracy: 0.4655 - val_f1_score: 0.6086 - val_loss: 0.6968\n",
      "Epoch 4/10\n",
      "\u001b[1m96/96\u001b[0m \u001b[32m━━━━━━━━━━━━━━━━━━━━\u001b[0m\u001b[37m\u001b[0m \u001b[1m29s\u001b[0m 299ms/step - accuracy: 0.4140 - f1_score: 0.5827 - loss: 0.8363 - val_accuracy: 0.4655 - val_f1_score: 0.6086 - val_loss: 0.6974\n",
      "Training with lr=0.0001, batch_size=64, dropout=0.3, units=64\n",
      "Epoch 1/10\n"
     ]
    },
    {
     "name": "stderr",
     "output_type": "stream",
     "text": [
      "/opt/anaconda3/lib/python3.11/site-packages/keras/src/layers/core/embedding.py:90: UserWarning: Argument `input_length` is deprecated. Just remove it.\n",
      "  warnings.warn(\n"
     ]
    },
    {
     "name": "stdout",
     "output_type": "stream",
     "text": [
      "\u001b[1m96/96\u001b[0m \u001b[32m━━━━━━━━━━━━━━━━━━━━\u001b[0m\u001b[37m\u001b[0m \u001b[1m12s\u001b[0m 108ms/step - accuracy: 0.4322 - f1_score: 0.5631 - loss: 0.8408 - val_accuracy: 0.4655 - val_f1_score: 0.6086 - val_loss: 0.6951\n",
      "Epoch 2/10\n",
      "\u001b[1m96/96\u001b[0m \u001b[32m━━━━━━━━━━━━━━━━━━━━\u001b[0m\u001b[37m\u001b[0m \u001b[1m9s\u001b[0m 98ms/step - accuracy: 0.4100 - f1_score: 0.5794 - loss: 0.8350 - val_accuracy: 0.4655 - val_f1_score: 0.6086 - val_loss: 0.6962\n",
      "Epoch 3/10\n",
      "\u001b[1m96/96\u001b[0m \u001b[32m━━━━━━━━━━━━━━━━━━━━\u001b[0m\u001b[37m\u001b[0m \u001b[1m9s\u001b[0m 98ms/step - accuracy: 0.4052 - f1_score: 0.5718 - loss: 0.8339 - val_accuracy: 0.4655 - val_f1_score: 0.6086 - val_loss: 0.6971\n",
      "Epoch 4/10\n",
      "\u001b[1m96/96\u001b[0m \u001b[32m━━━━━━━━━━━━━━━━━━━━\u001b[0m\u001b[37m\u001b[0m \u001b[1m10s\u001b[0m 100ms/step - accuracy: 0.4255 - f1_score: 0.5932 - loss: 0.8392 - val_accuracy: 0.4655 - val_f1_score: 0.6086 - val_loss: 0.6970\n",
      "Training with lr=0.0001, batch_size=64, dropout=0.3, units=128\n",
      "Epoch 1/10\n"
     ]
    },
    {
     "name": "stderr",
     "output_type": "stream",
     "text": [
      "/opt/anaconda3/lib/python3.11/site-packages/keras/src/layers/core/embedding.py:90: UserWarning: Argument `input_length` is deprecated. Just remove it.\n",
      "  warnings.warn(\n"
     ]
    },
    {
     "name": "stdout",
     "output_type": "stream",
     "text": [
      "\u001b[1m96/96\u001b[0m \u001b[32m━━━━━━━━━━━━━━━━━━━━\u001b[0m\u001b[37m\u001b[0m \u001b[1m17s\u001b[0m 165ms/step - accuracy: 0.4260 - f1_score: 0.5604 - loss: 0.8409 - val_accuracy: 0.4655 - val_f1_score: 0.6086 - val_loss: 0.6952\n",
      "Epoch 2/10\n",
      "\u001b[1m96/96\u001b[0m \u001b[32m━━━━━━━━━━━━━━━━━━━━\u001b[0m\u001b[37m\u001b[0m \u001b[1m18s\u001b[0m 165ms/step - accuracy: 0.4258 - f1_score: 0.5949 - loss: 0.8394 - val_accuracy: 0.4655 - val_f1_score: 0.6086 - val_loss: 0.6963\n",
      "Epoch 3/10\n",
      "\u001b[1m96/96\u001b[0m \u001b[32m━━━━━━━━━━━━━━━━━━━━\u001b[0m\u001b[37m\u001b[0m \u001b[1m16s\u001b[0m 165ms/step - accuracy: 0.4232 - f1_score: 0.5925 - loss: 0.8386 - val_accuracy: 0.4655 - val_f1_score: 0.6086 - val_loss: 0.6959\n",
      "Epoch 4/10\n",
      "\u001b[1m96/96\u001b[0m \u001b[32m━━━━━━━━━━━━━━━━━━━━\u001b[0m\u001b[37m\u001b[0m \u001b[1m33s\u001b[0m 343ms/step - accuracy: 0.4162 - f1_score: 0.5849 - loss: 0.8368 - val_accuracy: 0.4655 - val_f1_score: 0.6086 - val_loss: 0.6965\n",
      "Training with lr=0.0001, batch_size=64, dropout=0.3, units=256\n",
      "Epoch 1/10\n"
     ]
    },
    {
     "name": "stderr",
     "output_type": "stream",
     "text": [
      "/opt/anaconda3/lib/python3.11/site-packages/keras/src/layers/core/embedding.py:90: UserWarning: Argument `input_length` is deprecated. Just remove it.\n",
      "  warnings.warn(\n"
     ]
    },
    {
     "name": "stdout",
     "output_type": "stream",
     "text": [
      "\u001b[1m96/96\u001b[0m \u001b[32m━━━━━━━━━━━━━━━━━━━━\u001b[0m\u001b[37m\u001b[0m \u001b[1m29s\u001b[0m 289ms/step - accuracy: 0.4313 - f1_score: 0.5631 - loss: 0.8408 - val_accuracy: 0.4655 - val_f1_score: 0.6086 - val_loss: 0.6951\n",
      "Epoch 2/10\n",
      "\u001b[1m96/96\u001b[0m \u001b[32m━━━━━━━━━━━━━━━━━━━━\u001b[0m\u001b[37m\u001b[0m \u001b[1m28s\u001b[0m 290ms/step - accuracy: 0.4213 - f1_score: 0.5906 - loss: 0.8380 - val_accuracy: 0.4655 - val_f1_score: 0.6086 - val_loss: 0.6959\n",
      "Epoch 3/10\n",
      "\u001b[1m96/96\u001b[0m \u001b[32m━━━━━━━━━━━━━━━━━━━━\u001b[0m\u001b[37m\u001b[0m \u001b[1m27s\u001b[0m 286ms/step - accuracy: 0.4250 - f1_score: 0.5941 - loss: 0.8392 - val_accuracy: 0.4655 - val_f1_score: 0.6086 - val_loss: 0.6966\n",
      "Epoch 4/10\n",
      "\u001b[1m96/96\u001b[0m \u001b[32m━━━━━━━━━━━━━━━━━━━━\u001b[0m\u001b[37m\u001b[0m \u001b[1m27s\u001b[0m 282ms/step - accuracy: 0.4142 - f1_score: 0.5824 - loss: 0.8363 - val_accuracy: 0.4655 - val_f1_score: 0.6086 - val_loss: 0.6969\n",
      "Training with lr=0.0001, batch_size=64, dropout=0.4, units=64\n",
      "Epoch 1/10\n"
     ]
    },
    {
     "name": "stderr",
     "output_type": "stream",
     "text": [
      "/opt/anaconda3/lib/python3.11/site-packages/keras/src/layers/core/embedding.py:90: UserWarning: Argument `input_length` is deprecated. Just remove it.\n",
      "  warnings.warn(\n"
     ]
    },
    {
     "name": "stdout",
     "output_type": "stream",
     "text": [
      "\u001b[1m96/96\u001b[0m \u001b[32m━━━━━━━━━━━━━━━━━━━━\u001b[0m\u001b[37m\u001b[0m \u001b[1m11s\u001b[0m 101ms/step - accuracy: 0.4226 - f1_score: 0.5537 - loss: 0.8383 - val_accuracy: 0.4655 - val_f1_score: 0.6086 - val_loss: 0.6950\n",
      "Epoch 2/10\n",
      "\u001b[1m96/96\u001b[0m \u001b[32m━━━━━━━━━━━━━━━━━━━━\u001b[0m\u001b[37m\u001b[0m \u001b[1m9s\u001b[0m 97ms/step - accuracy: 0.4200 - f1_score: 0.5890 - loss: 0.8379 - val_accuracy: 0.4655 - val_f1_score: 0.6086 - val_loss: 0.6965\n",
      "Epoch 3/10\n",
      "\u001b[1m96/96\u001b[0m \u001b[32m━━━━━━━━━━━━━━━━━━━━\u001b[0m\u001b[37m\u001b[0m \u001b[1m9s\u001b[0m 97ms/step - accuracy: 0.4121 - f1_score: 0.5797 - loss: 0.8360 - val_accuracy: 0.4655 - val_f1_score: 0.6086 - val_loss: 0.6972\n",
      "Epoch 4/10\n",
      "\u001b[1m96/96\u001b[0m \u001b[32m━━━━━━━━━━━━━━━━━━━━\u001b[0m\u001b[37m\u001b[0m \u001b[1m9s\u001b[0m 99ms/step - accuracy: 0.4330 - f1_score: 0.6014 - loss: 0.8409 - val_accuracy: 0.4655 - val_f1_score: 0.6086 - val_loss: 0.6968\n",
      "Training with lr=0.0001, batch_size=64, dropout=0.4, units=128\n",
      "Epoch 1/10\n"
     ]
    },
    {
     "name": "stderr",
     "output_type": "stream",
     "text": [
      "/opt/anaconda3/lib/python3.11/site-packages/keras/src/layers/core/embedding.py:90: UserWarning: Argument `input_length` is deprecated. Just remove it.\n",
      "  warnings.warn(\n"
     ]
    },
    {
     "name": "stdout",
     "output_type": "stream",
     "text": [
      "\u001b[1m96/96\u001b[0m \u001b[32m━━━━━━━━━━━━━━━━━━━━\u001b[0m\u001b[37m\u001b[0m \u001b[1m40s\u001b[0m 408ms/step - accuracy: 0.4363 - f1_score: 0.5691 - loss: 0.8445 - val_accuracy: 0.4655 - val_f1_score: 0.6086 - val_loss: 0.6951\n",
      "Epoch 2/10\n",
      "\u001b[1m96/96\u001b[0m \u001b[32m━━━━━━━━━━━━━━━━━━━━\u001b[0m\u001b[37m\u001b[0m \u001b[1m16s\u001b[0m 171ms/step - accuracy: 0.4156 - f1_score: 0.5847 - loss: 0.8366 - val_accuracy: 0.4655 - val_f1_score: 0.6086 - val_loss: 0.6964\n",
      "Epoch 3/10\n",
      "\u001b[1m96/96\u001b[0m \u001b[32m━━━━━━━━━━━━━━━━━━━━\u001b[0m\u001b[37m\u001b[0m \u001b[1m16s\u001b[0m 172ms/step - accuracy: 0.4219 - f1_score: 0.5912 - loss: 0.8382 - val_accuracy: 0.4655 - val_f1_score: 0.6086 - val_loss: 0.6969\n",
      "Epoch 4/10\n",
      "\u001b[1m96/96\u001b[0m \u001b[32m━━━━━━━━━━━━━━━━━━━━\u001b[0m\u001b[37m\u001b[0m \u001b[1m18s\u001b[0m 187ms/step - accuracy: 0.4215 - f1_score: 0.5909 - loss: 0.8381 - val_accuracy: 0.4655 - val_f1_score: 0.6086 - val_loss: 0.6970\n",
      "Training with lr=0.0001, batch_size=64, dropout=0.4, units=256\n",
      "Epoch 1/10\n"
     ]
    },
    {
     "name": "stderr",
     "output_type": "stream",
     "text": [
      "/opt/anaconda3/lib/python3.11/site-packages/keras/src/layers/core/embedding.py:90: UserWarning: Argument `input_length` is deprecated. Just remove it.\n",
      "  warnings.warn(\n"
     ]
    },
    {
     "name": "stdout",
     "output_type": "stream",
     "text": [
      "\u001b[1m96/96\u001b[0m \u001b[32m━━━━━━━━━━━━━━━━━━━━\u001b[0m\u001b[37m\u001b[0m \u001b[1m30s\u001b[0m 300ms/step - accuracy: 0.4472 - f1_score: 0.5150 - loss: 0.8398 - val_accuracy: 0.4655 - val_f1_score: 0.6086 - val_loss: 0.6964\n",
      "Epoch 2/10\n",
      "\u001b[1m96/96\u001b[0m \u001b[32m━━━━━━━━━━━━━━━━━━━━\u001b[0m\u001b[37m\u001b[0m \u001b[1m130s\u001b[0m 1s/step - accuracy: 0.4167 - f1_score: 0.5853 - loss: 0.8370 - val_accuracy: 0.4655 - val_f1_score: 0.6086 - val_loss: 0.6961\n",
      "Epoch 3/10\n",
      "\u001b[1m96/96\u001b[0m \u001b[32m━━━━━━━━━━━━━━━━━━━━\u001b[0m\u001b[37m\u001b[0m \u001b[1m31s\u001b[0m 325ms/step - accuracy: 0.4177 - f1_score: 0.5866 - loss: 0.8374 - val_accuracy: 0.4655 - val_f1_score: 0.6086 - val_loss: 0.6959\n",
      "Epoch 4/10\n",
      "\u001b[1m96/96\u001b[0m \u001b[32m━━━━━━━━━━━━━━━━━━━━\u001b[0m\u001b[37m\u001b[0m \u001b[1m29s\u001b[0m 304ms/step - accuracy: 0.4170 - f1_score: 0.5867 - loss: 0.8370 - val_accuracy: 0.4655 - val_f1_score: 0.6086 - val_loss: 0.6970\n",
      "Epoch 5/10\n",
      "\u001b[1m96/96\u001b[0m \u001b[32m━━━━━━━━━━━━━━━━━━━━\u001b[0m\u001b[37m\u001b[0m \u001b[1m109s\u001b[0m 1s/step - accuracy: 0.4331 - f1_score: 0.6012 - loss: 0.8411 - val_accuracy: 0.4655 - val_f1_score: 0.6086 - val_loss: 0.6966\n",
      "Epoch 6/10\n",
      "\u001b[1m96/96\u001b[0m \u001b[32m━━━━━━━━━━━━━━━━━━━━\u001b[0m\u001b[37m\u001b[0m \u001b[1m28s\u001b[0m 295ms/step - accuracy: 0.4153 - f1_score: 0.5850 - loss: 0.8366 - val_accuracy: 0.4655 - val_f1_score: 0.6086 - val_loss: 0.6973\n",
      "Training with lr=0.0005, batch_size=16, dropout=0.2, units=64\n",
      "Epoch 1/10\n"
     ]
    },
    {
     "name": "stderr",
     "output_type": "stream",
     "text": [
      "/opt/anaconda3/lib/python3.11/site-packages/keras/src/layers/core/embedding.py:90: UserWarning: Argument `input_length` is deprecated. Just remove it.\n",
      "  warnings.warn(\n"
     ]
    },
    {
     "name": "stdout",
     "output_type": "stream",
     "text": [
      "\u001b[1m381/381\u001b[0m \u001b[32m━━━━━━━━━━━━━━━━━━━━\u001b[0m\u001b[37m\u001b[0m \u001b[1m19s\u001b[0m 46ms/step - accuracy: 0.4429 - f1_score: 0.5150 - loss: 0.8408 - val_accuracy: 0.4655 - val_f1_score: 0.5879 - val_loss: 0.6935\n",
      "Epoch 2/10\n",
      "\u001b[1m381/381\u001b[0m \u001b[32m━━━━━━━━━━━━━━━━━━━━\u001b[0m\u001b[37m\u001b[0m \u001b[1m17s\u001b[0m 45ms/step - accuracy: 0.4244 - f1_score: 0.5849 - loss: 0.8395 - val_accuracy: 0.4655 - val_f1_score: 0.5879 - val_loss: 0.6962\n",
      "Epoch 3/10\n",
      "\u001b[1m381/381\u001b[0m \u001b[32m━━━━━━━━━━━━━━━━━━━━\u001b[0m\u001b[37m\u001b[0m \u001b[1m17s\u001b[0m 45ms/step - accuracy: 0.4077 - f1_score: 0.5674 - loss: 0.8346 - val_accuracy: 0.4655 - val_f1_score: 0.5879 - val_loss: 0.7013\n",
      "Epoch 4/10\n",
      "\u001b[1m381/381\u001b[0m \u001b[32m━━━━━━━━━━━━━━━━━━━━\u001b[0m\u001b[37m\u001b[0m \u001b[1m17s\u001b[0m 45ms/step - accuracy: 0.4157 - f1_score: 0.5768 - loss: 0.8375 - val_accuracy: 0.4655 - val_f1_score: 0.5879 - val_loss: 0.6965\n",
      "Training with lr=0.0005, batch_size=16, dropout=0.2, units=128\n",
      "Epoch 1/10\n"
     ]
    },
    {
     "name": "stderr",
     "output_type": "stream",
     "text": [
      "/opt/anaconda3/lib/python3.11/site-packages/keras/src/layers/core/embedding.py:90: UserWarning: Argument `input_length` is deprecated. Just remove it.\n",
      "  warnings.warn(\n"
     ]
    },
    {
     "name": "stdout",
     "output_type": "stream",
     "text": [
      "\u001b[1m381/381\u001b[0m \u001b[32m━━━━━━━━━━━━━━━━━━━━\u001b[0m\u001b[37m\u001b[0m \u001b[1m149s\u001b[0m 389ms/step - accuracy: 0.4274 - f1_score: 0.5776 - loss: 0.8411 - val_accuracy: 0.4655 - val_f1_score: 0.5879 - val_loss: 0.6941\n",
      "Epoch 2/10\n",
      "\u001b[1m381/381\u001b[0m \u001b[32m━━━━━━━━━━━━━━━━━━━━\u001b[0m\u001b[37m\u001b[0m \u001b[1m105s\u001b[0m 276ms/step - accuracy: 0.4237 - f1_score: 0.5842 - loss: 0.8393 - val_accuracy: 0.4655 - val_f1_score: 0.5879 - val_loss: 0.6961\n",
      "Epoch 3/10\n",
      "\u001b[1m381/381\u001b[0m \u001b[32m━━━━━━━━━━━━━━━━━━━━\u001b[0m\u001b[37m\u001b[0m \u001b[1m32s\u001b[0m 83ms/step - accuracy: 0.4299 - f1_score: 0.5911 - loss: 0.8404 - val_accuracy: 0.4655 - val_f1_score: 0.5879 - val_loss: 0.6958\n",
      "Epoch 4/10\n",
      "\u001b[1m381/381\u001b[0m \u001b[32m━━━━━━━━━━━━━━━━━━━━\u001b[0m\u001b[37m\u001b[0m \u001b[1m105s\u001b[0m 276ms/step - accuracy: 0.4143 - f1_score: 0.5749 - loss: 0.8363 - val_accuracy: 0.4655 - val_f1_score: 0.5879 - val_loss: 0.6980\n",
      "Training with lr=0.0005, batch_size=16, dropout=0.2, units=256\n",
      "Epoch 1/10\n"
     ]
    },
    {
     "name": "stderr",
     "output_type": "stream",
     "text": [
      "/opt/anaconda3/lib/python3.11/site-packages/keras/src/layers/core/embedding.py:90: UserWarning: Argument `input_length` is deprecated. Just remove it.\n",
      "  warnings.warn(\n"
     ]
    },
    {
     "name": "stdout",
     "output_type": "stream",
     "text": [
      "\u001b[1m381/381\u001b[0m \u001b[32m━━━━━━━━━━━━━━━━━━━━\u001b[0m\u001b[37m\u001b[0m \u001b[1m54s\u001b[0m 139ms/step - accuracy: 0.4293 - f1_score: 0.5779 - loss: 0.8408 - val_accuracy: 0.4655 - val_f1_score: 0.5879 - val_loss: 0.6964\n",
      "Epoch 2/10\n",
      "\u001b[1m381/381\u001b[0m \u001b[32m━━━━━━━━━━━━━━━━━━━━\u001b[0m\u001b[37m\u001b[0m \u001b[1m51s\u001b[0m 133ms/step - accuracy: 0.4221 - f1_score: 0.5836 - loss: 0.8384 - val_accuracy: 0.4655 - val_f1_score: 0.5879 - val_loss: 0.6951\n",
      "Epoch 3/10\n",
      "\u001b[1m381/381\u001b[0m \u001b[32m━━━━━━━━━━━━━━━━━━━━\u001b[0m\u001b[37m\u001b[0m \u001b[1m422s\u001b[0m 1s/step - accuracy: 0.4259 - f1_score: 0.5860 - loss: 0.8396 - val_accuracy: 0.4655 - val_f1_score: 0.5879 - val_loss: 0.6951\n",
      "Epoch 4/10\n",
      "\u001b[1m381/381\u001b[0m \u001b[32m━━━━━━━━━━━━━━━━━━━━\u001b[0m\u001b[37m\u001b[0m \u001b[1m50s\u001b[0m 132ms/step - accuracy: 0.4118 - f1_score: 0.5727 - loss: 0.8356 - val_accuracy: 0.4655 - val_f1_score: 0.5879 - val_loss: 0.6980\n",
      "Epoch 5/10\n",
      "\u001b[1m381/381\u001b[0m \u001b[32m━━━━━━━━━━━━━━━━━━━━\u001b[0m\u001b[37m\u001b[0m \u001b[1m51s\u001b[0m 133ms/step - accuracy: 0.4154 - f1_score: 0.5752 - loss: 0.8370 - val_accuracy: 0.4655 - val_f1_score: 0.5879 - val_loss: 0.6967\n",
      "Training with lr=0.0005, batch_size=16, dropout=0.3, units=64\n",
      "Epoch 1/10\n"
     ]
    },
    {
     "name": "stderr",
     "output_type": "stream",
     "text": [
      "/opt/anaconda3/lib/python3.11/site-packages/keras/src/layers/core/embedding.py:90: UserWarning: Argument `input_length` is deprecated. Just remove it.\n",
      "  warnings.warn(\n"
     ]
    },
    {
     "name": "stdout",
     "output_type": "stream",
     "text": [
      "\u001b[1m381/381\u001b[0m \u001b[32m━━━━━━━━━━━━━━━━━━━━\u001b[0m\u001b[37m\u001b[0m \u001b[1m120s\u001b[0m 313ms/step - accuracy: 0.4323 - f1_score: 0.5805 - loss: 0.8422 - val_accuracy: 0.4655 - val_f1_score: 0.5879 - val_loss: 0.6949\n",
      "Epoch 2/10\n",
      "\u001b[1m381/381\u001b[0m \u001b[32m━━━━━━━━━━━━━━━━━━━━\u001b[0m\u001b[37m\u001b[0m \u001b[1m19s\u001b[0m 49ms/step - accuracy: 0.4327 - f1_score: 0.5930 - loss: 0.8413 - val_accuracy: 0.4655 - val_f1_score: 0.5879 - val_loss: 0.6959\n",
      "Epoch 3/10\n",
      "\u001b[1m381/381\u001b[0m \u001b[32m━━━━━━━━━━━━━━━━━━━━\u001b[0m\u001b[37m\u001b[0m \u001b[1m18s\u001b[0m 47ms/step - accuracy: 0.4175 - f1_score: 0.5779 - loss: 0.8373 - val_accuracy: 0.4655 - val_f1_score: 0.5879 - val_loss: 0.6978\n",
      "Epoch 4/10\n",
      "\u001b[1m381/381\u001b[0m \u001b[32m━━━━━━━━━━━━━━━━━━━━\u001b[0m\u001b[37m\u001b[0m \u001b[1m97s\u001b[0m 255ms/step - accuracy: 0.4191 - f1_score: 0.5816 - loss: 0.8379 - val_accuracy: 0.4655 - val_f1_score: 0.5879 - val_loss: 0.6962\n",
      "Training with lr=0.0005, batch_size=16, dropout=0.3, units=128\n",
      "Epoch 1/10\n"
     ]
    },
    {
     "name": "stderr",
     "output_type": "stream",
     "text": [
      "/opt/anaconda3/lib/python3.11/site-packages/keras/src/layers/core/embedding.py:90: UserWarning: Argument `input_length` is deprecated. Just remove it.\n",
      "  warnings.warn(\n"
     ]
    },
    {
     "name": "stdout",
     "output_type": "stream",
     "text": [
      "\u001b[1m381/381\u001b[0m \u001b[32m━━━━━━━━━━━━━━━━━━━━\u001b[0m\u001b[37m\u001b[0m \u001b[1m37s\u001b[0m 95ms/step - accuracy: 0.4425 - f1_score: 0.4909 - loss: 0.8372 - val_accuracy: 0.4655 - val_f1_score: 0.5879 - val_loss: 0.6942\n",
      "Epoch 2/10\n",
      "\u001b[1m381/381\u001b[0m \u001b[32m━━━━━━━━━━━━━━━━━━━━\u001b[0m\u001b[37m\u001b[0m \u001b[1m942s\u001b[0m 2s/step - accuracy: 0.4270 - f1_score: 0.5877 - loss: 0.8402 - val_accuracy: 0.4655 - val_f1_score: 0.5879 - val_loss: 0.6955\n",
      "Epoch 3/10\n",
      "\u001b[1m381/381\u001b[0m \u001b[32m━━━━━━━━━━━━━━━━━━━━\u001b[0m\u001b[37m\u001b[0m \u001b[1m39s\u001b[0m 102ms/step - accuracy: 0.4113 - f1_score: 0.5733 - loss: 0.8355 - val_accuracy: 0.4655 - val_f1_score: 0.5879 - val_loss: 0.6979\n",
      "Epoch 4/10\n",
      "\u001b[1m381/381\u001b[0m \u001b[32m━━━━━━━━━━━━━━━━━━━━\u001b[0m\u001b[37m\u001b[0m \u001b[1m37s\u001b[0m 96ms/step - accuracy: 0.4236 - f1_score: 0.5849 - loss: 0.8387 - val_accuracy: 0.4655 - val_f1_score: 0.5879 - val_loss: 0.6958\n",
      "Training with lr=0.0005, batch_size=16, dropout=0.3, units=256\n",
      "Epoch 1/10\n"
     ]
    },
    {
     "name": "stderr",
     "output_type": "stream",
     "text": [
      "/opt/anaconda3/lib/python3.11/site-packages/keras/src/layers/core/embedding.py:90: UserWarning: Argument `input_length` is deprecated. Just remove it.\n",
      "  warnings.warn(\n"
     ]
    },
    {
     "name": "stdout",
     "output_type": "stream",
     "text": [
      "\u001b[1m381/381\u001b[0m \u001b[32m━━━━━━━━━━━━━━━━━━━━\u001b[0m\u001b[37m\u001b[0m \u001b[1m353s\u001b[0m 925ms/step - accuracy: 0.4271 - f1_score: 0.5788 - loss: 0.8419 - val_accuracy: 0.4655 - val_f1_score: 0.5879 - val_loss: 0.6953\n",
      "Epoch 2/10\n",
      "\u001b[1m381/381\u001b[0m \u001b[32m━━━━━━━━━━━━━━━━━━━━\u001b[0m\u001b[37m\u001b[0m \u001b[1m56s\u001b[0m 148ms/step - accuracy: 0.4257 - f1_score: 0.5864 - loss: 0.8395 - val_accuracy: 0.4655 - val_f1_score: 0.5879 - val_loss: 0.6971\n",
      "Epoch 3/10\n",
      "\u001b[1m381/381\u001b[0m \u001b[32m━━━━━━━━━━━━━━━━━━━━\u001b[0m\u001b[37m\u001b[0m \u001b[1m54s\u001b[0m 141ms/step - accuracy: 0.4169 - f1_score: 0.5775 - loss: 0.8371 - val_accuracy: 0.4655 - val_f1_score: 0.5879 - val_loss: 0.7008\n",
      "Epoch 4/10\n",
      "\u001b[1m381/381\u001b[0m \u001b[32m━━━━━━━━━━━━━━━━━━━━\u001b[0m\u001b[37m\u001b[0m \u001b[1m49s\u001b[0m 129ms/step - accuracy: 0.4225 - f1_score: 0.5842 - loss: 0.8385 - val_accuracy: 0.4655 - val_f1_score: 0.5879 - val_loss: 0.6965\n",
      "Training with lr=0.0005, batch_size=16, dropout=0.4, units=64\n",
      "Epoch 1/10\n"
     ]
    },
    {
     "name": "stderr",
     "output_type": "stream",
     "text": [
      "/opt/anaconda3/lib/python3.11/site-packages/keras/src/layers/core/embedding.py:90: UserWarning: Argument `input_length` is deprecated. Just remove it.\n",
      "  warnings.warn(\n"
     ]
    },
    {
     "name": "stdout",
     "output_type": "stream",
     "text": [
      "\u001b[1m381/381\u001b[0m \u001b[32m━━━━━━━━━━━━━━━━━━━━\u001b[0m\u001b[37m\u001b[0m \u001b[1m18s\u001b[0m 44ms/step - accuracy: 0.4506 - f1_score: 0.4690 - loss: 0.8400 - val_accuracy: 0.4655 - val_f1_score: 0.5879 - val_loss: 0.6953\n",
      "Epoch 2/10\n",
      "\u001b[1m381/381\u001b[0m \u001b[32m━━━━━━━━━━━━━━━━━━━━\u001b[0m\u001b[37m\u001b[0m \u001b[1m17s\u001b[0m 44ms/step - accuracy: 0.4249 - f1_score: 0.5873 - loss: 0.8393 - val_accuracy: 0.4655 - val_f1_score: 0.5879 - val_loss: 0.6959\n",
      "Epoch 3/10\n",
      "\u001b[1m381/381\u001b[0m \u001b[32m━━━━━━━━━━━━━━━━━━━━\u001b[0m\u001b[37m\u001b[0m \u001b[1m17s\u001b[0m 43ms/step - accuracy: 0.4262 - f1_score: 0.5874 - loss: 0.8396 - val_accuracy: 0.4655 - val_f1_score: 0.5879 - val_loss: 0.6953\n",
      "Epoch 4/10\n",
      "\u001b[1m381/381\u001b[0m \u001b[32m━━━━━━━━━━━━━━━━━━━━\u001b[0m\u001b[37m\u001b[0m \u001b[1m17s\u001b[0m 43ms/step - accuracy: 0.4174 - f1_score: 0.5770 - loss: 0.8372 - val_accuracy: 0.4655 - val_f1_score: 0.5879 - val_loss: 0.6963\n",
      "Training with lr=0.0005, batch_size=16, dropout=0.4, units=128\n",
      "Epoch 1/10\n"
     ]
    },
    {
     "name": "stderr",
     "output_type": "stream",
     "text": [
      "/opt/anaconda3/lib/python3.11/site-packages/keras/src/layers/core/embedding.py:90: UserWarning: Argument `input_length` is deprecated. Just remove it.\n",
      "  warnings.warn(\n"
     ]
    },
    {
     "name": "stdout",
     "output_type": "stream",
     "text": [
      "\u001b[1m381/381\u001b[0m \u001b[32m━━━━━━━━━━━━━━━━━━━━\u001b[0m\u001b[37m\u001b[0m \u001b[1m34s\u001b[0m 87ms/step - accuracy: 0.4302 - f1_score: 0.5591 - loss: 0.8397 - val_accuracy: 0.4655 - val_f1_score: 0.5879 - val_loss: 0.6952\n",
      "Epoch 2/10\n",
      "\u001b[1m381/381\u001b[0m \u001b[32m━━━━━━━━━━━━━━━━━━━━\u001b[0m\u001b[37m\u001b[0m \u001b[1m47s\u001b[0m 123ms/step - accuracy: 0.4145 - f1_score: 0.5752 - loss: 0.8365 - val_accuracy: 0.4655 - val_f1_score: 0.5879 - val_loss: 0.6989\n",
      "Epoch 3/10\n",
      "\u001b[1m381/381\u001b[0m \u001b[32m━━━━━━━━━━━━━━━━━━━━\u001b[0m\u001b[37m\u001b[0m \u001b[1m32s\u001b[0m 85ms/step - accuracy: 0.4246 - f1_score: 0.5841 - loss: 0.8395 - val_accuracy: 0.4655 - val_f1_score: 0.5879 - val_loss: 0.6959\n",
      "Epoch 4/10\n",
      "\u001b[1m381/381\u001b[0m \u001b[32m━━━━━━━━━━━━━━━━━━━━\u001b[0m\u001b[37m\u001b[0m \u001b[1m187s\u001b[0m 492ms/step - accuracy: 0.4254 - f1_score: 0.5866 - loss: 0.8396 - val_accuracy: 0.4655 - val_f1_score: 0.5879 - val_loss: 0.6956\n",
      "Training with lr=0.0005, batch_size=16, dropout=0.4, units=256\n",
      "Epoch 1/10\n"
     ]
    },
    {
     "name": "stderr",
     "output_type": "stream",
     "text": [
      "/opt/anaconda3/lib/python3.11/site-packages/keras/src/layers/core/embedding.py:90: UserWarning: Argument `input_length` is deprecated. Just remove it.\n",
      "  warnings.warn(\n"
     ]
    },
    {
     "name": "stdout",
     "output_type": "stream",
     "text": [
      "\u001b[1m381/381\u001b[0m \u001b[32m━━━━━━━━━━━━━━━━━━━━\u001b[0m\u001b[37m\u001b[0m \u001b[1m52s\u001b[0m 135ms/step - accuracy: 0.4274 - f1_score: 0.5743 - loss: 0.8410 - val_accuracy: 0.4655 - val_f1_score: 0.5879 - val_loss: 0.6973\n",
      "Epoch 2/10\n",
      "\u001b[1m381/381\u001b[0m \u001b[32m━━━━━━━━━━━━━━━━━━━━\u001b[0m\u001b[37m\u001b[0m \u001b[1m725s\u001b[0m 2s/step - accuracy: 0.4287 - f1_score: 0.5889 - loss: 0.8402 - val_accuracy: 0.4655 - val_f1_score: 0.5879 - val_loss: 0.6960\n",
      "Epoch 3/10\n",
      "\u001b[1m381/381\u001b[0m \u001b[32m━━━━━━━━━━━━━━━━━━━━\u001b[0m\u001b[37m\u001b[0m \u001b[1m54s\u001b[0m 141ms/step - accuracy: 0.4230 - f1_score: 0.5833 - loss: 0.8386 - val_accuracy: 0.4655 - val_f1_score: 0.5879 - val_loss: 0.6957\n",
      "Epoch 4/10\n",
      "\u001b[1m381/381\u001b[0m \u001b[32m━━━━━━━━━━━━━━━━━━━━\u001b[0m\u001b[37m\u001b[0m \u001b[1m53s\u001b[0m 138ms/step - accuracy: 0.4214 - f1_score: 0.5842 - loss: 0.8382 - val_accuracy: 0.4655 - val_f1_score: 0.5879 - val_loss: 0.6965\n",
      "Epoch 5/10\n",
      "\u001b[1m381/381\u001b[0m \u001b[32m━━━━━━━━━━━━━━━━━━━━\u001b[0m\u001b[37m\u001b[0m \u001b[1m994s\u001b[0m 3s/step - accuracy: 0.4215 - f1_score: 0.5830 - loss: 0.8383 - val_accuracy: 0.4655 - val_f1_score: 0.5879 - val_loss: 0.6968\n",
      "Epoch 6/10\n",
      "\u001b[1m381/381\u001b[0m \u001b[32m━━━━━━━━━━━━━━━━━━━━\u001b[0m\u001b[37m\u001b[0m \u001b[1m54s\u001b[0m 142ms/step - accuracy: 0.4227 - f1_score: 0.5813 - loss: 0.8385 - val_accuracy: 0.4655 - val_f1_score: 0.5879 - val_loss: 0.6968\n",
      "Training with lr=0.0005, batch_size=32, dropout=0.2, units=64\n",
      "Epoch 1/10\n"
     ]
    },
    {
     "name": "stderr",
     "output_type": "stream",
     "text": [
      "/opt/anaconda3/lib/python3.11/site-packages/keras/src/layers/core/embedding.py:90: UserWarning: Argument `input_length` is deprecated. Just remove it.\n",
      "  warnings.warn(\n"
     ]
    },
    {
     "name": "stdout",
     "output_type": "stream",
     "text": [
      "\u001b[1m191/191\u001b[0m \u001b[32m━━━━━━━━━━━━━━━━━━━━\u001b[0m\u001b[37m\u001b[0m \u001b[1m12s\u001b[0m 59ms/step - accuracy: 0.4548 - f1_score: 0.4705 - loss: 0.8396 - val_accuracy: 0.4655 - val_f1_score: 0.5967 - val_loss: 0.6963\n",
      "Epoch 2/10\n",
      "\u001b[1m191/191\u001b[0m \u001b[32m━━━━━━━━━━━━━━━━━━━━\u001b[0m\u001b[37m\u001b[0m \u001b[1m11s\u001b[0m 59ms/step - accuracy: 0.4134 - f1_score: 0.5798 - loss: 0.8360 - val_accuracy: 0.4655 - val_f1_score: 0.5967 - val_loss: 0.7016\n",
      "Epoch 3/10\n",
      "\u001b[1m191/191\u001b[0m \u001b[32m━━━━━━━━━━━━━━━━━━━━\u001b[0m\u001b[37m\u001b[0m \u001b[1m11s\u001b[0m 58ms/step - accuracy: 0.4215 - f1_score: 0.5886 - loss: 0.8384 - val_accuracy: 0.4655 - val_f1_score: 0.5967 - val_loss: 0.6962\n",
      "Epoch 4/10\n",
      "\u001b[1m191/191\u001b[0m \u001b[32m━━━━━━━━━━━━━━━━━━━━\u001b[0m\u001b[37m\u001b[0m \u001b[1m212s\u001b[0m 1s/step - accuracy: 0.4192 - f1_score: 0.5851 - loss: 0.8376 - val_accuracy: 0.4655 - val_f1_score: 0.5967 - val_loss: 0.6973\n",
      "Epoch 5/10\n",
      "\u001b[1m191/191\u001b[0m \u001b[32m━━━━━━━━━━━━━━━━━━━━\u001b[0m\u001b[37m\u001b[0m \u001b[1m11s\u001b[0m 59ms/step - accuracy: 0.4204 - f1_score: 0.5852 - loss: 0.8379 - val_accuracy: 0.4655 - val_f1_score: 0.5967 - val_loss: 0.6970\n",
      "Epoch 6/10\n",
      "\u001b[1m191/191\u001b[0m \u001b[32m━━━━━━━━━━━━━━━━━━━━\u001b[0m\u001b[37m\u001b[0m \u001b[1m11s\u001b[0m 60ms/step - accuracy: 0.4198 - f1_score: 0.5869 - loss: 0.8377 - val_accuracy: 0.4655 - val_f1_score: 0.5967 - val_loss: 0.6962\n",
      "Training with lr=0.0005, batch_size=32, dropout=0.2, units=128\n",
      "Epoch 1/10\n"
     ]
    },
    {
     "name": "stderr",
     "output_type": "stream",
     "text": [
      "/opt/anaconda3/lib/python3.11/site-packages/keras/src/layers/core/embedding.py:90: UserWarning: Argument `input_length` is deprecated. Just remove it.\n",
      "  warnings.warn(\n"
     ]
    },
    {
     "name": "stdout",
     "output_type": "stream",
     "text": [
      "\u001b[1m191/191\u001b[0m \u001b[32m━━━━━━━━━━━━━━━━━━━━\u001b[0m\u001b[37m\u001b[0m \u001b[1m22s\u001b[0m 108ms/step - accuracy: 0.4136 - f1_score: 0.5595 - loss: 0.8377 - val_accuracy: 0.4655 - val_f1_score: 0.5967 - val_loss: 0.6963\n",
      "Epoch 2/10\n",
      "\u001b[1m191/191\u001b[0m \u001b[32m━━━━━━━━━━━━━━━━━━━━\u001b[0m\u001b[37m\u001b[0m \u001b[1m25s\u001b[0m 132ms/step - accuracy: 0.4247 - f1_score: 0.5905 - loss: 0.8392 - val_accuracy: 0.4655 - val_f1_score: 0.5967 - val_loss: 0.6948\n",
      "Epoch 3/10\n",
      "\u001b[1m191/191\u001b[0m \u001b[32m━━━━━━━━━━━━━━━━━━━━\u001b[0m\u001b[37m\u001b[0m \u001b[1m21s\u001b[0m 109ms/step - accuracy: 0.4235 - f1_score: 0.5898 - loss: 0.8389 - val_accuracy: 0.4655 - val_f1_score: 0.5967 - val_loss: 0.6960\n",
      "Epoch 4/10\n",
      "\u001b[1m191/191\u001b[0m \u001b[32m━━━━━━━━━━━━━━━━━━━━\u001b[0m\u001b[37m\u001b[0m \u001b[1m961s\u001b[0m 5s/step - accuracy: 0.4191 - f1_score: 0.5854 - loss: 0.8376 - val_accuracy: 0.4655 - val_f1_score: 0.5967 - val_loss: 0.6961\n",
      "Epoch 5/10\n",
      "\u001b[1m191/191\u001b[0m \u001b[32m━━━━━━━━━━━━━━━━━━━━\u001b[0m\u001b[37m\u001b[0m \u001b[1m21s\u001b[0m 108ms/step - accuracy: 0.4261 - f1_score: 0.5912 - loss: 0.8394 - val_accuracy: 0.4655 - val_f1_score: 0.5967 - val_loss: 0.6976\n",
      "Training with lr=0.0005, batch_size=32, dropout=0.2, units=256\n",
      "Epoch 1/10\n"
     ]
    },
    {
     "name": "stderr",
     "output_type": "stream",
     "text": [
      "/opt/anaconda3/lib/python3.11/site-packages/keras/src/layers/core/embedding.py:90: UserWarning: Argument `input_length` is deprecated. Just remove it.\n",
      "  warnings.warn(\n"
     ]
    },
    {
     "name": "stdout",
     "output_type": "stream",
     "text": [
      "\u001b[1m191/191\u001b[0m \u001b[32m━━━━━━━━━━━━━━━━━━━━\u001b[0m\u001b[37m\u001b[0m \u001b[1m37s\u001b[0m 191ms/step - accuracy: 0.4370 - f1_score: 0.5829 - loss: 0.8433 - val_accuracy: 0.4655 - val_f1_score: 0.5967 - val_loss: 0.6942\n",
      "Epoch 2/10\n",
      "\u001b[1m191/191\u001b[0m \u001b[32m━━━━━━━━━━━━━━━━━━━━\u001b[0m\u001b[37m\u001b[0m \u001b[1m36s\u001b[0m 189ms/step - accuracy: 0.4348 - f1_score: 0.5999 - loss: 0.8427 - val_accuracy: 0.4655 - val_f1_score: 0.5967 - val_loss: 0.6953\n",
      "Epoch 3/10\n",
      "\u001b[1m191/191\u001b[0m \u001b[32m━━━━━━━━━━━━━━━━━━━━\u001b[0m\u001b[37m\u001b[0m \u001b[1m36s\u001b[0m 190ms/step - accuracy: 0.4275 - f1_score: 0.5940 - loss: 0.8401 - val_accuracy: 0.4655 - val_f1_score: 0.5967 - val_loss: 0.6956\n",
      "Epoch 4/10\n",
      "\u001b[1m191/191\u001b[0m \u001b[32m━━━━━━━━━━━━━━━━━━━━\u001b[0m\u001b[37m\u001b[0m \u001b[1m1083s\u001b[0m 6s/step - accuracy: 0.4293 - f1_score: 0.5949 - loss: 0.8404 - val_accuracy: 0.4655 - val_f1_score: 0.5967 - val_loss: 0.6963\n",
      "Training with lr=0.0005, batch_size=32, dropout=0.3, units=64\n",
      "Epoch 1/10\n"
     ]
    },
    {
     "name": "stderr",
     "output_type": "stream",
     "text": [
      "/opt/anaconda3/lib/python3.11/site-packages/keras/src/layers/core/embedding.py:90: UserWarning: Argument `input_length` is deprecated. Just remove it.\n",
      "  warnings.warn(\n"
     ]
    },
    {
     "name": "stdout",
     "output_type": "stream",
     "text": [
      "\u001b[1m191/191\u001b[0m \u001b[32m━━━━━━━━━━━━━━━━━━━━\u001b[0m\u001b[37m\u001b[0m \u001b[1m12s\u001b[0m 59ms/step - accuracy: 0.4313 - f1_score: 0.5767 - loss: 0.8418 - val_accuracy: 0.4655 - val_f1_score: 0.5967 - val_loss: 0.6948\n",
      "Epoch 2/10\n",
      "\u001b[1m191/191\u001b[0m \u001b[32m━━━━━━━━━━━━━━━━━━━━\u001b[0m\u001b[37m\u001b[0m \u001b[1m11s\u001b[0m 59ms/step - accuracy: 0.4130 - f1_score: 0.5774 - loss: 0.8360 - val_accuracy: 0.4655 - val_f1_score: 0.5967 - val_loss: 0.7000\n",
      "Epoch 3/10\n",
      "\u001b[1m191/191\u001b[0m \u001b[32m━━━━━━━━━━━━━━━━━━━━\u001b[0m\u001b[37m\u001b[0m \u001b[1m11s\u001b[0m 59ms/step - accuracy: 0.4154 - f1_score: 0.5818 - loss: 0.8372 - val_accuracy: 0.4655 - val_f1_score: 0.5967 - val_loss: 0.6971\n",
      "Epoch 4/10\n",
      "\u001b[1m191/191\u001b[0m \u001b[32m━━━━━━━━━━━━━━━━━━━━\u001b[0m\u001b[37m\u001b[0m \u001b[1m11s\u001b[0m 58ms/step - accuracy: 0.4069 - f1_score: 0.5736 - loss: 0.8343 - val_accuracy: 0.4655 - val_f1_score: 0.5967 - val_loss: 0.7023\n",
      "Training with lr=0.0005, batch_size=32, dropout=0.3, units=128\n",
      "Epoch 1/10\n"
     ]
    },
    {
     "name": "stderr",
     "output_type": "stream",
     "text": [
      "/opt/anaconda3/lib/python3.11/site-packages/keras/src/layers/core/embedding.py:90: UserWarning: Argument `input_length` is deprecated. Just remove it.\n",
      "  warnings.warn(\n"
     ]
    },
    {
     "name": "stdout",
     "output_type": "stream",
     "text": [
      "\u001b[1m191/191\u001b[0m \u001b[32m━━━━━━━━━━━━━━━━━━━━\u001b[0m\u001b[37m\u001b[0m \u001b[1m21s\u001b[0m 105ms/step - accuracy: 0.4306 - f1_score: 0.5351 - loss: 0.8388 - val_accuracy: 0.4655 - val_f1_score: 0.5967 - val_loss: 0.6952\n",
      "Epoch 2/10\n",
      "\u001b[1m191/191\u001b[0m \u001b[32m━━━━━━━━━━━━━━━━━━━━\u001b[0m\u001b[37m\u001b[0m \u001b[1m20s\u001b[0m 105ms/step - accuracy: 0.4204 - f1_score: 0.5867 - loss: 0.8381 - val_accuracy: 0.4655 - val_f1_score: 0.5967 - val_loss: 0.6955\n",
      "Epoch 3/10\n",
      "\u001b[1m191/191\u001b[0m \u001b[32m━━━━━━━━━━━━━━━━━━━━\u001b[0m\u001b[37m\u001b[0m \u001b[1m924s\u001b[0m 5s/step - accuracy: 0.4204 - f1_score: 0.5864 - loss: 0.8379 - val_accuracy: 0.4655 - val_f1_score: 0.5967 - val_loss: 0.6952\n",
      "Epoch 4/10\n",
      "\u001b[1m191/191\u001b[0m \u001b[32m━━━━━━━━━━━━━━━━━━━━\u001b[0m\u001b[37m\u001b[0m \u001b[1m20s\u001b[0m 105ms/step - accuracy: 0.4154 - f1_score: 0.5801 - loss: 0.8365 - val_accuracy: 0.4655 - val_f1_score: 0.5967 - val_loss: 0.6975\n",
      "Epoch 5/10\n",
      "\u001b[1m191/191\u001b[0m \u001b[32m━━━━━━━━━━━━━━━━━━━━\u001b[0m\u001b[37m\u001b[0m \u001b[1m20s\u001b[0m 104ms/step - accuracy: 0.4163 - f1_score: 0.5834 - loss: 0.8369 - val_accuracy: 0.4655 - val_f1_score: 0.5967 - val_loss: 0.6958\n",
      "Epoch 6/10\n",
      "\u001b[1m191/191\u001b[0m \u001b[32m━━━━━━━━━━━━━━━━━━━━\u001b[0m\u001b[37m\u001b[0m \u001b[1m20s\u001b[0m 106ms/step - accuracy: 0.4193 - f1_score: 0.5856 - loss: 0.8377 - val_accuracy: 0.4655 - val_f1_score: 0.5967 - val_loss: 0.6969\n",
      "Training with lr=0.0005, batch_size=32, dropout=0.3, units=256\n",
      "Epoch 1/10\n"
     ]
    },
    {
     "name": "stderr",
     "output_type": "stream",
     "text": [
      "/opt/anaconda3/lib/python3.11/site-packages/keras/src/layers/core/embedding.py:90: UserWarning: Argument `input_length` is deprecated. Just remove it.\n",
      "  warnings.warn(\n"
     ]
    },
    {
     "name": "stdout",
     "output_type": "stream",
     "text": [
      "\u001b[1m191/191\u001b[0m \u001b[32m━━━━━━━━━━━━━━━━━━━━\u001b[0m\u001b[37m\u001b[0m \u001b[1m37s\u001b[0m 191ms/step - accuracy: 0.4296 - f1_score: 0.5754 - loss: 0.8403 - val_accuracy: 0.4655 - val_f1_score: 0.5967 - val_loss: 0.6954\n",
      "Epoch 2/10\n",
      "\u001b[1m191/191\u001b[0m \u001b[32m━━━━━━━━━━━━━━━━━━━━\u001b[0m\u001b[37m\u001b[0m \u001b[1m336s\u001b[0m 2s/step - accuracy: 0.4251 - f1_score: 0.5725 - loss: 0.8386 - val_accuracy: 0.4655 - val_f1_score: 0.5967 - val_loss: 0.6975\n",
      "Epoch 3/10\n",
      "\u001b[1m191/191\u001b[0m \u001b[32m━━━━━━━━━━━━━━━━━━━━\u001b[0m\u001b[37m\u001b[0m \u001b[1m36s\u001b[0m 191ms/step - accuracy: 0.4275 - f1_score: 0.5942 - loss: 0.8397 - val_accuracy: 0.4655 - val_f1_score: 0.5967 - val_loss: 0.6954\n",
      "Epoch 4/10\n",
      "\u001b[1m191/191\u001b[0m \u001b[32m━━━━━━━━━━━━━━━━━━━━\u001b[0m\u001b[37m\u001b[0m \u001b[1m38s\u001b[0m 200ms/step - accuracy: 0.4229 - f1_score: 0.5891 - loss: 0.8388 - val_accuracy: 0.4655 - val_f1_score: 0.5967 - val_loss: 0.6964\n",
      "Epoch 5/10\n",
      "\u001b[1m191/191\u001b[0m \u001b[32m━━━━━━━━━━━━━━━━━━━━\u001b[0m\u001b[37m\u001b[0m \u001b[1m53s\u001b[0m 278ms/step - accuracy: 0.4187 - f1_score: 0.5849 - loss: 0.8376 - val_accuracy: 0.4655 - val_f1_score: 0.5967 - val_loss: 0.6964\n",
      "Epoch 6/10\n",
      "\u001b[1m191/191\u001b[0m \u001b[32m━━━━━━━━━━━━━━━━━━━━\u001b[0m\u001b[37m\u001b[0m \u001b[1m36s\u001b[0m 187ms/step - accuracy: 0.4322 - f1_score: 0.5982 - loss: 0.8408 - val_accuracy: 0.4655 - val_f1_score: 0.5967 - val_loss: 0.6946\n",
      "Epoch 7/10\n",
      "\u001b[1m191/191\u001b[0m \u001b[32m━━━━━━━━━━━━━━━━━━━━\u001b[0m\u001b[37m\u001b[0m \u001b[1m36s\u001b[0m 191ms/step - accuracy: 0.4226 - f1_score: 0.5889 - loss: 0.8386 - val_accuracy: 0.4655 - val_f1_score: 0.5967 - val_loss: 0.6965\n",
      "Epoch 8/10\n",
      "\u001b[1m191/191\u001b[0m \u001b[32m━━━━━━━━━━━━━━━━━━━━\u001b[0m\u001b[37m\u001b[0m \u001b[1m36s\u001b[0m 190ms/step - accuracy: 0.4240 - f1_score: 0.5899 - loss: 0.8388 - val_accuracy: 0.4655 - val_f1_score: 0.5967 - val_loss: 0.6965\n",
      "Epoch 9/10\n",
      "\u001b[1m191/191\u001b[0m \u001b[32m━━━━━━━━━━━━━━━━━━━━\u001b[0m\u001b[37m\u001b[0m \u001b[1m949s\u001b[0m 5s/step - accuracy: 0.4238 - f1_score: 0.5909 - loss: 0.8386 - val_accuracy: 0.4655 - val_f1_score: 0.5967 - val_loss: 0.6963\n",
      "Training with lr=0.0005, batch_size=32, dropout=0.4, units=64\n",
      "Epoch 1/10\n"
     ]
    },
    {
     "name": "stderr",
     "output_type": "stream",
     "text": [
      "/opt/anaconda3/lib/python3.11/site-packages/keras/src/layers/core/embedding.py:90: UserWarning: Argument `input_length` is deprecated. Just remove it.\n",
      "  warnings.warn(\n"
     ]
    },
    {
     "name": "stdout",
     "output_type": "stream",
     "text": [
      "\u001b[1m191/191\u001b[0m \u001b[32m━━━━━━━━━━━━━━━━━━━━\u001b[0m\u001b[37m\u001b[0m \u001b[1m12s\u001b[0m 58ms/step - accuracy: 0.5003 - f1_score: 0.3340 - loss: 0.8365 - val_accuracy: 0.4655 - val_f1_score: 0.5967 - val_loss: 0.6967\n",
      "Epoch 2/10\n",
      "\u001b[1m191/191\u001b[0m \u001b[32m━━━━━━━━━━━━━━━━━━━━\u001b[0m\u001b[37m\u001b[0m \u001b[1m11s\u001b[0m 59ms/step - accuracy: 0.4267 - f1_score: 0.5926 - loss: 0.8399 - val_accuracy: 0.4655 - val_f1_score: 0.5967 - val_loss: 0.6977\n",
      "Epoch 3/10\n",
      "\u001b[1m191/191\u001b[0m \u001b[32m━━━━━━━━━━━━━━━━━━━━\u001b[0m\u001b[37m\u001b[0m \u001b[1m11s\u001b[0m 58ms/step - accuracy: 0.4250 - f1_score: 0.5913 - loss: 0.8390 - val_accuracy: 0.4655 - val_f1_score: 0.5967 - val_loss: 0.6963\n",
      "Epoch 4/10\n",
      "\u001b[1m191/191\u001b[0m \u001b[32m━━━━━━━━━━━━━━━━━━━━\u001b[0m\u001b[37m\u001b[0m \u001b[1m11s\u001b[0m 58ms/step - accuracy: 0.4200 - f1_score: 0.5856 - loss: 0.8379 - val_accuracy: 0.4655 - val_f1_score: 0.5967 - val_loss: 0.6965\n",
      "Epoch 5/10\n",
      "\u001b[1m191/191\u001b[0m \u001b[32m━━━━━━━━━━━━━━━━━━━━\u001b[0m\u001b[37m\u001b[0m \u001b[1m11s\u001b[0m 59ms/step - accuracy: 0.4081 - f1_score: 0.5744 - loss: 0.8348 - val_accuracy: 0.4655 - val_f1_score: 0.5967 - val_loss: 0.6992\n",
      "Epoch 6/10\n",
      "\u001b[1m191/191\u001b[0m \u001b[32m━━━━━━━━━━━━━━━━━━━━\u001b[0m\u001b[37m\u001b[0m \u001b[1m12s\u001b[0m 60ms/step - accuracy: 0.4213 - f1_score: 0.5883 - loss: 0.8383 - val_accuracy: 0.4655 - val_f1_score: 0.5967 - val_loss: 0.6961\n",
      "Epoch 7/10\n",
      "\u001b[1m191/191\u001b[0m \u001b[32m━━━━━━━━━━━━━━━━━━━━\u001b[0m\u001b[37m\u001b[0m \u001b[1m11s\u001b[0m 58ms/step - accuracy: 0.4140 - f1_score: 0.5811 - loss: 0.8362 - val_accuracy: 0.4655 - val_f1_score: 0.5967 - val_loss: 0.6969\n",
      "Epoch 8/10\n",
      "\u001b[1m191/191\u001b[0m \u001b[32m━━━━━━━━━━━━━━━━━━━━\u001b[0m\u001b[37m\u001b[0m \u001b[1m11s\u001b[0m 58ms/step - accuracy: 0.4218 - f1_score: 0.5884 - loss: 0.8382 - val_accuracy: 0.4655 - val_f1_score: 0.5967 - val_loss: 0.6970\n",
      "Epoch 9/10\n",
      "\u001b[1m191/191\u001b[0m \u001b[32m━━━━━━━━━━━━━━━━━━━━\u001b[0m\u001b[37m\u001b[0m \u001b[1m11s\u001b[0m 58ms/step - accuracy: 0.4206 - f1_score: 0.5875 - loss: 0.8379 - val_accuracy: 0.4655 - val_f1_score: 0.5967 - val_loss: 0.6973\n",
      "Training with lr=0.0005, batch_size=32, dropout=0.4, units=128\n",
      "Epoch 1/10\n"
     ]
    },
    {
     "name": "stderr",
     "output_type": "stream",
     "text": [
      "/opt/anaconda3/lib/python3.11/site-packages/keras/src/layers/core/embedding.py:90: UserWarning: Argument `input_length` is deprecated. Just remove it.\n",
      "  warnings.warn(\n"
     ]
    },
    {
     "name": "stdout",
     "output_type": "stream",
     "text": [
      "\u001b[1m191/191\u001b[0m \u001b[32m━━━━━━━━━━━━━━━━━━━━\u001b[0m\u001b[37m\u001b[0m \u001b[1m924s\u001b[0m 5s/step - accuracy: 0.4596 - f1_score: 0.4693 - loss: 0.8397 - val_accuracy: 0.4655 - val_f1_score: 0.5967 - val_loss: 0.6961\n",
      "Epoch 2/10\n",
      "\u001b[1m191/191\u001b[0m \u001b[32m━━━━━━━━━━━━━━━━━━━━\u001b[0m\u001b[37m\u001b[0m \u001b[1m20s\u001b[0m 107ms/step - accuracy: 0.4232 - f1_score: 0.5898 - loss: 0.8387 - val_accuracy: 0.4655 - val_f1_score: 0.5967 - val_loss: 0.6970\n",
      "Epoch 3/10\n",
      "\u001b[1m191/191\u001b[0m \u001b[32m━━━━━━━━━━━━━━━━━━━━\u001b[0m\u001b[37m\u001b[0m \u001b[1m20s\u001b[0m 104ms/step - accuracy: 0.4136 - f1_score: 0.5787 - loss: 0.8367 - val_accuracy: 0.4655 - val_f1_score: 0.5967 - val_loss: 0.6964\n",
      "Epoch 4/10\n",
      "\u001b[1m191/191\u001b[0m \u001b[32m━━━━━━━━━━━━━━━━━━━━\u001b[0m\u001b[37m\u001b[0m \u001b[1m20s\u001b[0m 104ms/step - accuracy: 0.4145 - f1_score: 0.5810 - loss: 0.8364 - val_accuracy: 0.4655 - val_f1_score: 0.5967 - val_loss: 0.6964\n",
      "Training with lr=0.0005, batch_size=32, dropout=0.4, units=256\n",
      "Epoch 1/10\n"
     ]
    },
    {
     "name": "stderr",
     "output_type": "stream",
     "text": [
      "/opt/anaconda3/lib/python3.11/site-packages/keras/src/layers/core/embedding.py:90: UserWarning: Argument `input_length` is deprecated. Just remove it.\n",
      "  warnings.warn(\n"
     ]
    },
    {
     "name": "stdout",
     "output_type": "stream",
     "text": [
      "\u001b[1m191/191\u001b[0m \u001b[32m━━━━━━━━━━━━━━━━━━━━\u001b[0m\u001b[37m\u001b[0m \u001b[1m37s\u001b[0m 188ms/step - accuracy: 0.4212 - f1_score: 0.5668 - loss: 0.8388 - val_accuracy: 0.4655 - val_f1_score: 0.5967 - val_loss: 0.6984\n",
      "Epoch 2/10\n",
      "\u001b[1m191/191\u001b[0m \u001b[32m━━━━━━━━━━━━━━━━━━━━\u001b[0m\u001b[37m\u001b[0m \u001b[1m979s\u001b[0m 5s/step - accuracy: 0.4099 - f1_score: 0.5758 - loss: 0.8356 - val_accuracy: 0.4655 - val_f1_score: 0.5967 - val_loss: 0.7013\n",
      "Epoch 3/10\n",
      "\u001b[1m191/191\u001b[0m \u001b[32m━━━━━━━━━━━━━━━━━━━━\u001b[0m\u001b[37m\u001b[0m \u001b[1m37s\u001b[0m 194ms/step - accuracy: 0.4086 - f1_score: 0.5746 - loss: 0.8353 - val_accuracy: 0.4655 - val_f1_score: 0.5967 - val_loss: 0.7025\n",
      "Epoch 4/10\n",
      "\u001b[1m191/191\u001b[0m \u001b[32m━━━━━━━━━━━━━━━━━━━━\u001b[0m\u001b[37m\u001b[0m \u001b[1m38s\u001b[0m 202ms/step - accuracy: 0.4142 - f1_score: 0.5814 - loss: 0.8373 - val_accuracy: 0.4655 - val_f1_score: 0.5967 - val_loss: 0.6971\n",
      "Epoch 5/10\n",
      "\u001b[1m191/191\u001b[0m \u001b[32m━━━━━━━━━━━━━━━━━━━━\u001b[0m\u001b[37m\u001b[0m \u001b[1m310s\u001b[0m 2s/step - accuracy: 0.4224 - f1_score: 0.5891 - loss: 0.8384 - val_accuracy: 0.4655 - val_f1_score: 0.5967 - val_loss: 0.6958\n",
      "Epoch 6/10\n",
      "\u001b[1m191/191\u001b[0m \u001b[32m━━━━━━━━━━━━━━━━━━━━\u001b[0m\u001b[37m\u001b[0m \u001b[1m39s\u001b[0m 202ms/step - accuracy: 0.4210 - f1_score: 0.5882 - loss: 0.8381 - val_accuracy: 0.4655 - val_f1_score: 0.5967 - val_loss: 0.6972\n",
      "Epoch 7/10\n",
      "\u001b[1m191/191\u001b[0m \u001b[32m━━━━━━━━━━━━━━━━━━━━\u001b[0m\u001b[37m\u001b[0m \u001b[1m324s\u001b[0m 2s/step - accuracy: 0.4206 - f1_score: 0.5874 - loss: 0.8380 - val_accuracy: 0.4655 - val_f1_score: 0.5967 - val_loss: 0.6971\n",
      "Epoch 8/10\n",
      "\u001b[1m191/191\u001b[0m \u001b[32m━━━━━━━━━━━━━━━━━━━━\u001b[0m\u001b[37m\u001b[0m \u001b[1m213s\u001b[0m 1s/step - accuracy: 0.4285 - f1_score: 0.5952 - loss: 0.8399 - val_accuracy: 0.4655 - val_f1_score: 0.5967 - val_loss: 0.6959\n",
      "Training with lr=0.0005, batch_size=64, dropout=0.2, units=64\n",
      "Epoch 1/10\n"
     ]
    },
    {
     "name": "stderr",
     "output_type": "stream",
     "text": [
      "/opt/anaconda3/lib/python3.11/site-packages/keras/src/layers/core/embedding.py:90: UserWarning: Argument `input_length` is deprecated. Just remove it.\n",
      "  warnings.warn(\n"
     ]
    },
    {
     "name": "stdout",
     "output_type": "stream",
     "text": [
      "\u001b[1m96/96\u001b[0m \u001b[32m━━━━━━━━━━━━━━━━━━━━\u001b[0m\u001b[37m\u001b[0m \u001b[1m11s\u001b[0m 99ms/step - accuracy: 0.4526 - f1_score: 0.4334 - loss: 0.8377 - val_accuracy: 0.4655 - val_f1_score: 0.6086 - val_loss: 0.6968\n",
      "Epoch 2/10\n",
      "\u001b[1m96/96\u001b[0m \u001b[32m━━━━━━━━━━━━━━━━━━━━\u001b[0m\u001b[37m\u001b[0m \u001b[1m9s\u001b[0m 97ms/step - accuracy: 0.4219 - f1_score: 0.5903 - loss: 0.8385 - val_accuracy: 0.4655 - val_f1_score: 0.6086 - val_loss: 0.6957\n",
      "Epoch 3/10\n",
      "\u001b[1m96/96\u001b[0m \u001b[32m━━━━━━━━━━━━━━━━━━━━\u001b[0m\u001b[37m\u001b[0m \u001b[1m10s\u001b[0m 102ms/step - accuracy: 0.4226 - f1_score: 0.5911 - loss: 0.8386 - val_accuracy: 0.4655 - val_f1_score: 0.6086 - val_loss: 0.6957\n",
      "Epoch 4/10\n",
      "\u001b[1m96/96\u001b[0m \u001b[32m━━━━━━━━━━━━━━━━━━━━\u001b[0m\u001b[37m\u001b[0m \u001b[1m9s\u001b[0m 98ms/step - accuracy: 0.4229 - f1_score: 0.5919 - loss: 0.8386 - val_accuracy: 0.4655 - val_f1_score: 0.6086 - val_loss: 0.6967\n",
      "Epoch 5/10\n",
      "\u001b[1m96/96\u001b[0m \u001b[32m━━━━━━━━━━━━━━━━━━━━\u001b[0m\u001b[37m\u001b[0m \u001b[1m9s\u001b[0m 98ms/step - accuracy: 0.4194 - f1_score: 0.5877 - loss: 0.8376 - val_accuracy: 0.4655 - val_f1_score: 0.6086 - val_loss: 0.6967\n",
      "Epoch 6/10\n",
      "\u001b[1m96/96\u001b[0m \u001b[32m━━━━━━━━━━━━━━━━━━━━\u001b[0m\u001b[37m\u001b[0m \u001b[1m9s\u001b[0m 98ms/step - accuracy: 0.4227 - f1_score: 0.5921 - loss: 0.8384 - val_accuracy: 0.4655 - val_f1_score: 0.6086 - val_loss: 0.6963\n",
      "Training with lr=0.0005, batch_size=64, dropout=0.2, units=128\n",
      "Epoch 1/10\n"
     ]
    },
    {
     "name": "stderr",
     "output_type": "stream",
     "text": [
      "/opt/anaconda3/lib/python3.11/site-packages/keras/src/layers/core/embedding.py:90: UserWarning: Argument `input_length` is deprecated. Just remove it.\n",
      "  warnings.warn(\n"
     ]
    },
    {
     "name": "stdout",
     "output_type": "stream",
     "text": [
      "\u001b[1m96/96\u001b[0m \u001b[32m━━━━━━━━━━━━━━━━━━━━\u001b[0m\u001b[37m\u001b[0m \u001b[1m18s\u001b[0m 183ms/step - accuracy: 0.4308 - f1_score: 0.5028 - loss: 0.8368 - val_accuracy: 0.4655 - val_f1_score: 0.6086 - val_loss: 0.6962\n",
      "Epoch 2/10\n",
      "\u001b[1m96/96\u001b[0m \u001b[32m━━━━━━━━━━━━━━━━━━━━\u001b[0m\u001b[37m\u001b[0m \u001b[1m17s\u001b[0m 175ms/step - accuracy: 0.4252 - f1_score: 0.5944 - loss: 0.8391 - val_accuracy: 0.4655 - val_f1_score: 0.6086 - val_loss: 0.6953\n",
      "Epoch 3/10\n",
      "\u001b[1m96/96\u001b[0m \u001b[32m━━━━━━━━━━━━━━━━━━━━\u001b[0m\u001b[37m\u001b[0m \u001b[1m18s\u001b[0m 184ms/step - accuracy: 0.4187 - f1_score: 0.5882 - loss: 0.8375 - val_accuracy: 0.4655 - val_f1_score: 0.6086 - val_loss: 0.6967\n",
      "Epoch 4/10\n",
      "\u001b[1m96/96\u001b[0m \u001b[32m━━━━━━━━━━━━━━━━━━━━\u001b[0m\u001b[37m\u001b[0m \u001b[1m19s\u001b[0m 195ms/step - accuracy: 0.4200 - f1_score: 0.5894 - loss: 0.8378 - val_accuracy: 0.4655 - val_f1_score: 0.6086 - val_loss: 0.6962\n",
      "Epoch 5/10\n",
      "\u001b[1m96/96\u001b[0m \u001b[32m━━━━━━━━━━━━━━━━━━━━\u001b[0m\u001b[37m\u001b[0m \u001b[1m18s\u001b[0m 188ms/step - accuracy: 0.4189 - f1_score: 0.5885 - loss: 0.8377 - val_accuracy: 0.4655 - val_f1_score: 0.6086 - val_loss: 0.6966\n",
      "Training with lr=0.0005, batch_size=64, dropout=0.2, units=256\n",
      "Epoch 1/10\n"
     ]
    },
    {
     "name": "stderr",
     "output_type": "stream",
     "text": [
      "/opt/anaconda3/lib/python3.11/site-packages/keras/src/layers/core/embedding.py:90: UserWarning: Argument `input_length` is deprecated. Just remove it.\n",
      "  warnings.warn(\n"
     ]
    },
    {
     "name": "stdout",
     "output_type": "stream",
     "text": [
      "\u001b[1m96/96\u001b[0m \u001b[32m━━━━━━━━━━━━━━━━━━━━\u001b[0m\u001b[37m\u001b[0m \u001b[1m30s\u001b[0m 298ms/step - accuracy: 0.4292 - f1_score: 0.5607 - loss: 0.8400 - val_accuracy: 0.4655 - val_f1_score: 0.6086 - val_loss: 0.6953\n",
      "Epoch 2/10\n",
      "\u001b[1m96/96\u001b[0m \u001b[32m━━━━━━━━━━━━━━━━━━━━\u001b[0m\u001b[37m\u001b[0m \u001b[1m30s\u001b[0m 315ms/step - accuracy: 0.4220 - f1_score: 0.5914 - loss: 0.8384 - val_accuracy: 0.4655 - val_f1_score: 0.6086 - val_loss: 0.6956\n",
      "Epoch 3/10\n",
      "\u001b[1m96/96\u001b[0m \u001b[32m━━━━━━━━━━━━━━━━━━━━\u001b[0m\u001b[37m\u001b[0m \u001b[1m30s\u001b[0m 310ms/step - accuracy: 0.4221 - f1_score: 0.5902 - loss: 0.8385 - val_accuracy: 0.4655 - val_f1_score: 0.6086 - val_loss: 0.6966\n",
      "Epoch 4/10\n",
      "\u001b[1m96/96\u001b[0m \u001b[32m━━━━━━━━━━━━━━━━━━━━\u001b[0m\u001b[37m\u001b[0m \u001b[1m30s\u001b[0m 313ms/step - accuracy: 0.4151 - f1_score: 0.5841 - loss: 0.8366 - val_accuracy: 0.4655 - val_f1_score: 0.6086 - val_loss: 0.6974\n",
      "Training with lr=0.0005, batch_size=64, dropout=0.3, units=64\n",
      "Epoch 1/10\n"
     ]
    },
    {
     "name": "stderr",
     "output_type": "stream",
     "text": [
      "/opt/anaconda3/lib/python3.11/site-packages/keras/src/layers/core/embedding.py:90: UserWarning: Argument `input_length` is deprecated. Just remove it.\n",
      "  warnings.warn(\n"
     ]
    },
    {
     "name": "stdout",
     "output_type": "stream",
     "text": [
      "\u001b[1m96/96\u001b[0m \u001b[32m━━━━━━━━━━━━━━━━━━━━\u001b[0m\u001b[37m\u001b[0m \u001b[1m12s\u001b[0m 100ms/step - accuracy: 0.4304 - f1_score: 0.5613 - loss: 0.8399 - val_accuracy: 0.4655 - val_f1_score: 0.6086 - val_loss: 0.6968\n",
      "Epoch 2/10\n",
      "\u001b[1m96/96\u001b[0m \u001b[32m━━━━━━━━━━━━━━━━━━━━\u001b[0m\u001b[37m\u001b[0m \u001b[1m9s\u001b[0m 98ms/step - accuracy: 0.4197 - f1_score: 0.5887 - loss: 0.8378 - val_accuracy: 0.4655 - val_f1_score: 0.6086 - val_loss: 0.6971\n",
      "Epoch 3/10\n",
      "\u001b[1m96/96\u001b[0m \u001b[32m━━━━━━━━━━━━━━━━━━━━\u001b[0m\u001b[37m\u001b[0m \u001b[1m9s\u001b[0m 99ms/step - accuracy: 0.4199 - f1_score: 0.5885 - loss: 0.8380 - val_accuracy: 0.4655 - val_f1_score: 0.6086 - val_loss: 0.6958\n",
      "Epoch 4/10\n",
      "\u001b[1m96/96\u001b[0m \u001b[32m━━━━━━━━━━━━━━━━━━━━\u001b[0m\u001b[37m\u001b[0m \u001b[1m10s\u001b[0m 99ms/step - accuracy: 0.4254 - f1_score: 0.5944 - loss: 0.8393 - val_accuracy: 0.4655 - val_f1_score: 0.6086 - val_loss: 0.6962\n",
      "Epoch 5/10\n",
      "\u001b[1m96/96\u001b[0m \u001b[32m━━━━━━━━━━━━━━━━━━━━\u001b[0m\u001b[37m\u001b[0m \u001b[1m11s\u001b[0m 110ms/step - accuracy: 0.4172 - f1_score: 0.5867 - loss: 0.8370 - val_accuracy: 0.4655 - val_f1_score: 0.6086 - val_loss: 0.6972\n",
      "Epoch 6/10\n",
      "\u001b[1m96/96\u001b[0m \u001b[32m━━━━━━━━━━━━━━━━━━━━\u001b[0m\u001b[37m\u001b[0m \u001b[1m10s\u001b[0m 109ms/step - accuracy: 0.4323 - f1_score: 0.6005 - loss: 0.8409 - val_accuracy: 0.4655 - val_f1_score: 0.6086 - val_loss: 0.6962\n",
      "Training with lr=0.0005, batch_size=64, dropout=0.3, units=128\n",
      "Epoch 1/10\n"
     ]
    },
    {
     "name": "stderr",
     "output_type": "stream",
     "text": [
      "/opt/anaconda3/lib/python3.11/site-packages/keras/src/layers/core/embedding.py:90: UserWarning: Argument `input_length` is deprecated. Just remove it.\n",
      "  warnings.warn(\n"
     ]
    },
    {
     "name": "stdout",
     "output_type": "stream",
     "text": [
      "\u001b[1m96/96\u001b[0m \u001b[32m━━━━━━━━━━━━━━━━━━━━\u001b[0m\u001b[37m\u001b[0m \u001b[1m17s\u001b[0m 170ms/step - accuracy: 0.4395 - f1_score: 0.5085 - loss: 0.8382 - val_accuracy: 0.4655 - val_f1_score: 0.6086 - val_loss: 0.6995\n",
      "Epoch 2/10\n",
      "\u001b[1m96/96\u001b[0m \u001b[32m━━━━━━━━━━━━━━━━━━━━\u001b[0m\u001b[37m\u001b[0m \u001b[1m16s\u001b[0m 170ms/step - accuracy: 0.4159 - f1_score: 0.5847 - loss: 0.8371 - val_accuracy: 0.4655 - val_f1_score: 0.6086 - val_loss: 0.6963\n",
      "Epoch 3/10\n",
      "\u001b[1m96/96\u001b[0m \u001b[32m━━━━━━━━━━━━━━━━━━━━\u001b[0m\u001b[37m\u001b[0m \u001b[1m16s\u001b[0m 168ms/step - accuracy: 0.4163 - f1_score: 0.5855 - loss: 0.8369 - val_accuracy: 0.4655 - val_f1_score: 0.6086 - val_loss: 0.6967\n",
      "Epoch 4/10\n",
      "\u001b[1m96/96\u001b[0m \u001b[32m━━━━━━━━━━━━━━━━━━━━\u001b[0m\u001b[37m\u001b[0m \u001b[1m18s\u001b[0m 190ms/step - accuracy: 0.4254 - f1_score: 0.5945 - loss: 0.8391 - val_accuracy: 0.4655 - val_f1_score: 0.6086 - val_loss: 0.6960\n",
      "Epoch 5/10\n",
      "\u001b[1m96/96\u001b[0m \u001b[32m━━━━━━━━━━━━━━━━━━━━\u001b[0m\u001b[37m\u001b[0m \u001b[1m17s\u001b[0m 173ms/step - accuracy: 0.4256 - f1_score: 0.5940 - loss: 0.8392 - val_accuracy: 0.4655 - val_f1_score: 0.6086 - val_loss: 0.6966\n",
      "Epoch 6/10\n",
      "\u001b[1m96/96\u001b[0m \u001b[32m━━━━━━━━━━━━━━━━━━━━\u001b[0m\u001b[37m\u001b[0m \u001b[1m16s\u001b[0m 171ms/step - accuracy: 0.4243 - f1_score: 0.5929 - loss: 0.8388 - val_accuracy: 0.4655 - val_f1_score: 0.6086 - val_loss: 0.6963\n",
      "Epoch 7/10\n",
      "\u001b[1m96/96\u001b[0m \u001b[32m━━━━━━━━━━━━━━━━━━━━\u001b[0m\u001b[37m\u001b[0m \u001b[1m17s\u001b[0m 180ms/step - accuracy: 0.4278 - f1_score: 0.5968 - loss: 0.8400 - val_accuracy: 0.4655 - val_f1_score: 0.6086 - val_loss: 0.6957\n",
      "Epoch 8/10\n",
      "\u001b[1m96/96\u001b[0m \u001b[32m━━━━━━━━━━━━━━━━━━━━\u001b[0m\u001b[37m\u001b[0m \u001b[1m17s\u001b[0m 173ms/step - accuracy: 0.4092 - f1_score: 0.5786 - loss: 0.8350 - val_accuracy: 0.4655 - val_f1_score: 0.6086 - val_loss: 0.6978\n",
      "Epoch 9/10\n",
      "\u001b[1m96/96\u001b[0m \u001b[32m━━━━━━━━━━━━━━━━━━━━\u001b[0m\u001b[37m\u001b[0m \u001b[1m16s\u001b[0m 170ms/step - accuracy: 0.4086 - f1_score: 0.5768 - loss: 0.8353 - val_accuracy: 0.4655 - val_f1_score: 0.6086 - val_loss: 0.6976\n",
      "Epoch 10/10\n",
      "\u001b[1m96/96\u001b[0m \u001b[32m━━━━━━━━━━━━━━━━━━━━\u001b[0m\u001b[37m\u001b[0m \u001b[1m16s\u001b[0m 170ms/step - accuracy: 0.4207 - f1_score: 0.5896 - loss: 0.8380 - val_accuracy: 0.4655 - val_f1_score: 0.6086 - val_loss: 0.6966\n",
      "Training with lr=0.0005, batch_size=64, dropout=0.3, units=256\n",
      "Epoch 1/10\n"
     ]
    },
    {
     "name": "stderr",
     "output_type": "stream",
     "text": [
      "/opt/anaconda3/lib/python3.11/site-packages/keras/src/layers/core/embedding.py:90: UserWarning: Argument `input_length` is deprecated. Just remove it.\n",
      "  warnings.warn(\n"
     ]
    },
    {
     "name": "stdout",
     "output_type": "stream",
     "text": [
      "\u001b[1m96/96\u001b[0m \u001b[32m━━━━━━━━━━━━━━━━━━━━\u001b[0m\u001b[37m\u001b[0m \u001b[1m29s\u001b[0m 297ms/step - accuracy: 0.4362 - f1_score: 0.5664 - loss: 0.8405 - val_accuracy: 0.4655 - val_f1_score: 0.6086 - val_loss: 0.6946\n",
      "Epoch 2/10\n",
      "\u001b[1m96/96\u001b[0m \u001b[32m━━━━━━━━━━━━━━━━━━━━\u001b[0m\u001b[37m\u001b[0m \u001b[1m29s\u001b[0m 305ms/step - accuracy: 0.4197 - f1_score: 0.5880 - loss: 0.8379 - val_accuracy: 0.4655 - val_f1_score: 0.6086 - val_loss: 0.6962\n",
      "Epoch 3/10\n",
      "\u001b[1m96/96\u001b[0m \u001b[32m━━━━━━━━━━━━━━━━━━━━\u001b[0m\u001b[37m\u001b[0m \u001b[1m30s\u001b[0m 312ms/step - accuracy: 0.4128 - f1_score: 0.5813 - loss: 0.8360 - val_accuracy: 0.4655 - val_f1_score: 0.6086 - val_loss: 0.6969\n",
      "Epoch 4/10\n",
      "\u001b[1m96/96\u001b[0m \u001b[32m━━━━━━━━━━━━━━━━━━━━\u001b[0m\u001b[37m\u001b[0m \u001b[1m29s\u001b[0m 303ms/step - accuracy: 0.4153 - f1_score: 0.5839 - loss: 0.8367 - val_accuracy: 0.4655 - val_f1_score: 0.6086 - val_loss: 0.6977\n",
      "Training with lr=0.0005, batch_size=64, dropout=0.4, units=64\n",
      "Epoch 1/10\n"
     ]
    },
    {
     "name": "stderr",
     "output_type": "stream",
     "text": [
      "/opt/anaconda3/lib/python3.11/site-packages/keras/src/layers/core/embedding.py:90: UserWarning: Argument `input_length` is deprecated. Just remove it.\n",
      "  warnings.warn(\n"
     ]
    },
    {
     "name": "stdout",
     "output_type": "stream",
     "text": [
      "\u001b[1m96/96\u001b[0m \u001b[32m━━━━━━━━━━━━━━━━━━━━\u001b[0m\u001b[37m\u001b[0m \u001b[1m11s\u001b[0m 99ms/step - accuracy: 0.4754 - f1_score: 0.4128 - loss: 0.8401 - val_accuracy: 0.4655 - val_f1_score: 0.6086 - val_loss: 0.6947\n",
      "Epoch 2/10\n",
      "\u001b[1m96/96\u001b[0m \u001b[32m━━━━━━━━━━━━━━━━━━━━\u001b[0m\u001b[37m\u001b[0m \u001b[1m9s\u001b[0m 98ms/step - accuracy: 0.4246 - f1_score: 0.5942 - loss: 0.8392 - val_accuracy: 0.4655 - val_f1_score: 0.6086 - val_loss: 0.6964\n",
      "Epoch 3/10\n",
      "\u001b[1m96/96\u001b[0m \u001b[32m━━━━━━━━━━━━━━━━━━━━\u001b[0m\u001b[37m\u001b[0m \u001b[1m10s\u001b[0m 99ms/step - accuracy: 0.4251 - f1_score: 0.5940 - loss: 0.8391 - val_accuracy: 0.4655 - val_f1_score: 0.6086 - val_loss: 0.6970\n",
      "Epoch 4/10\n",
      "\u001b[1m96/96\u001b[0m \u001b[32m━━━━━━━━━━━━━━━━━━━━\u001b[0m\u001b[37m\u001b[0m \u001b[1m9s\u001b[0m 99ms/step - accuracy: 0.4212 - f1_score: 0.5903 - loss: 0.8380 - val_accuracy: 0.4655 - val_f1_score: 0.6086 - val_loss: 0.6965\n",
      "Training with lr=0.0005, batch_size=64, dropout=0.4, units=128\n",
      "Epoch 1/10\n"
     ]
    },
    {
     "name": "stderr",
     "output_type": "stream",
     "text": [
      "/opt/anaconda3/lib/python3.11/site-packages/keras/src/layers/core/embedding.py:90: UserWarning: Argument `input_length` is deprecated. Just remove it.\n",
      "  warnings.warn(\n"
     ]
    },
    {
     "name": "stdout",
     "output_type": "stream",
     "text": [
      "\u001b[1m96/96\u001b[0m \u001b[32m━━━━━━━━━━━━━━━━━━━━\u001b[0m\u001b[37m\u001b[0m \u001b[1m18s\u001b[0m 174ms/step - accuracy: 0.4335 - f1_score: 0.4817 - loss: 0.8375 - val_accuracy: 0.4655 - val_f1_score: 0.6086 - val_loss: 0.6966\n",
      "Epoch 2/10\n",
      "\u001b[1m96/96\u001b[0m \u001b[32m━━━━━━━━━━━━━━━━━━━━\u001b[0m\u001b[37m\u001b[0m \u001b[1m16s\u001b[0m 170ms/step - accuracy: 0.4229 - f1_score: 0.5910 - loss: 0.8386 - val_accuracy: 0.4655 - val_f1_score: 0.6086 - val_loss: 0.6953\n",
      "Epoch 3/10\n",
      "\u001b[1m96/96\u001b[0m \u001b[32m━━━━━━━━━━━━━━━━━━━━\u001b[0m\u001b[37m\u001b[0m \u001b[1m16s\u001b[0m 167ms/step - accuracy: 0.4227 - f1_score: 0.5922 - loss: 0.8388 - val_accuracy: 0.4655 - val_f1_score: 0.6086 - val_loss: 0.6966\n",
      "Epoch 4/10\n",
      "\u001b[1m96/96\u001b[0m \u001b[32m━━━━━━━━━━━━━━━━━━━━\u001b[0m\u001b[37m\u001b[0m \u001b[1m16s\u001b[0m 166ms/step - accuracy: 0.4106 - f1_score: 0.5798 - loss: 0.8354 - val_accuracy: 0.4655 - val_f1_score: 0.6086 - val_loss: 0.6988\n",
      "Epoch 5/10\n",
      "\u001b[1m96/96\u001b[0m \u001b[32m━━━━━━━━━━━━━━━━━━━━\u001b[0m\u001b[37m\u001b[0m \u001b[1m16s\u001b[0m 167ms/step - accuracy: 0.4245 - f1_score: 0.5937 - loss: 0.8387 - val_accuracy: 0.4655 - val_f1_score: 0.6086 - val_loss: 0.6961\n",
      "Training with lr=0.0005, batch_size=64, dropout=0.4, units=256\n",
      "Epoch 1/10\n"
     ]
    },
    {
     "name": "stderr",
     "output_type": "stream",
     "text": [
      "/opt/anaconda3/lib/python3.11/site-packages/keras/src/layers/core/embedding.py:90: UserWarning: Argument `input_length` is deprecated. Just remove it.\n",
      "  warnings.warn(\n"
     ]
    },
    {
     "name": "stdout",
     "output_type": "stream",
     "text": [
      "\u001b[1m96/96\u001b[0m \u001b[32m━━━━━━━━━━━━━━━━━━━━\u001b[0m\u001b[37m\u001b[0m \u001b[1m32s\u001b[0m 322ms/step - accuracy: 0.5449 - f1_score: 0.1881 - loss: 0.8332 - val_accuracy: 0.4655 - val_f1_score: 0.6086 - val_loss: 0.7133\n",
      "Epoch 2/10\n",
      "\u001b[1m96/96\u001b[0m \u001b[32m━━━━━━━━━━━━━━━━━━━━\u001b[0m\u001b[37m\u001b[0m \u001b[1m31s\u001b[0m 325ms/step - accuracy: 0.4160 - f1_score: 0.5847 - loss: 0.8397 - val_accuracy: 0.4655 - val_f1_score: 0.6086 - val_loss: 0.6976\n",
      "Epoch 3/10\n",
      "\u001b[1m96/96\u001b[0m \u001b[32m━━━━━━━━━━━━━━━━━━━━\u001b[0m\u001b[37m\u001b[0m \u001b[1m30s\u001b[0m 314ms/step - accuracy: 0.4083 - f1_score: 0.5758 - loss: 0.8352 - val_accuracy: 0.4655 - val_f1_score: 0.6086 - val_loss: 0.6991\n",
      "Epoch 4/10\n",
      "\u001b[1m96/96\u001b[0m \u001b[32m━━━━━━━━━━━━━━━━━━━━\u001b[0m\u001b[37m\u001b[0m \u001b[1m31s\u001b[0m 319ms/step - accuracy: 0.4125 - f1_score: 0.5811 - loss: 0.8365 - val_accuracy: 0.4655 - val_f1_score: 0.6086 - val_loss: 0.6982\n",
      "Epoch 5/10\n",
      "\u001b[1m96/96\u001b[0m \u001b[32m━━━━━━━━━━━━━━━━━━━━\u001b[0m\u001b[37m\u001b[0m \u001b[1m29s\u001b[0m 301ms/step - accuracy: 0.4217 - f1_score: 0.5904 - loss: 0.8383 - val_accuracy: 0.4655 - val_f1_score: 0.6086 - val_loss: 0.6950\n",
      "Epoch 6/10\n",
      "\u001b[1m96/96\u001b[0m \u001b[32m━━━━━━━━━━━━━━━━━━━━\u001b[0m\u001b[37m\u001b[0m \u001b[1m30s\u001b[0m 309ms/step - accuracy: 0.4194 - f1_score: 0.5888 - loss: 0.8378 - val_accuracy: 0.4655 - val_f1_score: 0.6086 - val_loss: 0.6961\n",
      "Epoch 7/10\n",
      "\u001b[1m96/96\u001b[0m \u001b[32m━━━━━━━━━━━━━━━━━━━━\u001b[0m\u001b[37m\u001b[0m \u001b[1m31s\u001b[0m 326ms/step - accuracy: 0.4261 - f1_score: 0.5940 - loss: 0.8394 - val_accuracy: 0.4655 - val_f1_score: 0.6086 - val_loss: 0.6964\n",
      "Epoch 8/10\n",
      "\u001b[1m96/96\u001b[0m \u001b[32m━━━━━━━━━━━━━━━━━━━━\u001b[0m\u001b[37m\u001b[0m \u001b[1m30s\u001b[0m 317ms/step - accuracy: 0.4325 - f1_score: 0.6016 - loss: 0.8411 - val_accuracy: 0.4655 - val_f1_score: 0.6086 - val_loss: 0.6961\n",
      "Training with lr=0.001, batch_size=16, dropout=0.2, units=64\n",
      "Epoch 1/10\n"
     ]
    },
    {
     "name": "stderr",
     "output_type": "stream",
     "text": [
      "/opt/anaconda3/lib/python3.11/site-packages/keras/src/layers/core/embedding.py:90: UserWarning: Argument `input_length` is deprecated. Just remove it.\n",
      "  warnings.warn(\n"
     ]
    },
    {
     "name": "stdout",
     "output_type": "stream",
     "text": [
      "\u001b[1m381/381\u001b[0m \u001b[32m━━━━━━━━━━━━━━━━━━━━\u001b[0m\u001b[37m\u001b[0m \u001b[1m18s\u001b[0m 44ms/step - accuracy: 0.4419 - f1_score: 0.5145 - loss: 0.8397 - val_accuracy: 0.4655 - val_f1_score: 0.5879 - val_loss: 0.6963\n",
      "Epoch 2/10\n",
      "\u001b[1m381/381\u001b[0m \u001b[32m━━━━━━━━━━━━━━━━━━━━\u001b[0m\u001b[37m\u001b[0m \u001b[1m17s\u001b[0m 45ms/step - accuracy: 0.4079 - f1_score: 0.5696 - loss: 0.8347 - val_accuracy: 0.4655 - val_f1_score: 0.5879 - val_loss: 0.6989\n",
      "Epoch 3/10\n",
      "\u001b[1m381/381\u001b[0m \u001b[32m━━━━━━━━━━━━━━━━━━━━\u001b[0m\u001b[37m\u001b[0m \u001b[1m17s\u001b[0m 43ms/step - accuracy: 0.4219 - f1_score: 0.5805 - loss: 0.8385 - val_accuracy: 0.4655 - val_f1_score: 0.5879 - val_loss: 0.6967\n",
      "Epoch 4/10\n",
      "\u001b[1m381/381\u001b[0m \u001b[32m━━━━━━━━━━━━━━━━━━━━\u001b[0m\u001b[37m\u001b[0m \u001b[1m16s\u001b[0m 43ms/step - accuracy: 0.4157 - f1_score: 0.5764 - loss: 0.8368 - val_accuracy: 0.4655 - val_f1_score: 0.5879 - val_loss: 0.6961\n",
      "Epoch 5/10\n",
      "\u001b[1m381/381\u001b[0m \u001b[32m━━━━━━━━━━━━━━━━━━━━\u001b[0m\u001b[37m\u001b[0m \u001b[1m17s\u001b[0m 44ms/step - accuracy: 0.4230 - f1_score: 0.5833 - loss: 0.8386 - val_accuracy: 0.4655 - val_f1_score: 0.5879 - val_loss: 0.6962\n",
      "Epoch 6/10\n",
      "\u001b[1m381/381\u001b[0m \u001b[32m━━━━━━━━━━━━━━━━━━━━\u001b[0m\u001b[37m\u001b[0m \u001b[1m17s\u001b[0m 44ms/step - accuracy: 0.4144 - f1_score: 0.5478 - loss: 0.8373 - val_accuracy: 0.4655 - val_f1_score: 0.5879 - val_loss: 0.6966\n",
      "Epoch 7/10\n",
      "\u001b[1m381/381\u001b[0m \u001b[32m━━━━━━━━━━━━━━━━━━━━\u001b[0m\u001b[37m\u001b[0m \u001b[1m17s\u001b[0m 44ms/step - accuracy: 0.4378 - f1_score: 0.5990 - loss: 0.8421 - val_accuracy: 0.4655 - val_f1_score: 0.5879 - val_loss: 0.6946\n",
      "Epoch 8/10\n",
      "\u001b[1m381/381\u001b[0m \u001b[32m━━━━━━━━━━━━━━━━━━━━\u001b[0m\u001b[37m\u001b[0m \u001b[1m17s\u001b[0m 44ms/step - accuracy: 0.4142 - f1_score: 0.5756 - loss: 0.8363 - val_accuracy: 0.4655 - val_f1_score: 0.5879 - val_loss: 0.6969\n",
      "Epoch 9/10\n",
      "\u001b[1m381/381\u001b[0m \u001b[32m━━━━━━━━━━━━━━━━━━━━\u001b[0m\u001b[37m\u001b[0m \u001b[1m17s\u001b[0m 44ms/step - accuracy: 0.4163 - f1_score: 0.5767 - loss: 0.8370 - val_accuracy: 0.4655 - val_f1_score: 0.5879 - val_loss: 0.6975\n",
      "Epoch 10/10\n",
      "\u001b[1m381/381\u001b[0m \u001b[32m━━━━━━━━━━━━━━━━━━━━\u001b[0m\u001b[37m\u001b[0m \u001b[1m17s\u001b[0m 43ms/step - accuracy: 0.4114 - f1_score: 0.5721 - loss: 0.8357 - val_accuracy: 0.4655 - val_f1_score: 0.5879 - val_loss: 0.6979\n",
      "Training with lr=0.001, batch_size=16, dropout=0.2, units=128\n",
      "Epoch 1/10\n"
     ]
    },
    {
     "name": "stderr",
     "output_type": "stream",
     "text": [
      "/opt/anaconda3/lib/python3.11/site-packages/keras/src/layers/core/embedding.py:90: UserWarning: Argument `input_length` is deprecated. Just remove it.\n",
      "  warnings.warn(\n"
     ]
    },
    {
     "name": "stdout",
     "output_type": "stream",
     "text": [
      "\u001b[1m381/381\u001b[0m \u001b[32m━━━━━━━━━━━━━━━━━━━━\u001b[0m\u001b[37m\u001b[0m \u001b[1m32s\u001b[0m 83ms/step - accuracy: 0.4291 - f1_score: 0.5786 - loss: 0.8411 - val_accuracy: 0.4655 - val_f1_score: 0.5879 - val_loss: 0.6943\n",
      "Epoch 2/10\n",
      "\u001b[1m381/381\u001b[0m \u001b[32m━━━━━━━━━━━━━━━━━━━━\u001b[0m\u001b[37m\u001b[0m \u001b[1m32s\u001b[0m 85ms/step - accuracy: 0.4204 - f1_score: 0.5812 - loss: 0.8382 - val_accuracy: 0.4655 - val_f1_score: 0.5879 - val_loss: 0.6973\n",
      "Epoch 3/10\n",
      "\u001b[1m381/381\u001b[0m \u001b[32m━━━━━━━━━━━━━━━━━━━━\u001b[0m\u001b[37m\u001b[0m \u001b[1m32s\u001b[0m 83ms/step - accuracy: 0.4140 - f1_score: 0.5759 - loss: 0.8364 - val_accuracy: 0.4655 - val_f1_score: 0.5879 - val_loss: 0.6956\n",
      "Epoch 4/10\n",
      "\u001b[1m381/381\u001b[0m \u001b[32m━━━━━━━━━━━━━━━━━━━━\u001b[0m\u001b[37m\u001b[0m \u001b[1m32s\u001b[0m 83ms/step - accuracy: 0.4167 - f1_score: 0.5779 - loss: 0.8371 - val_accuracy: 0.4655 - val_f1_score: 0.5879 - val_loss: 0.6986\n",
      "Training with lr=0.001, batch_size=16, dropout=0.2, units=256\n",
      "Epoch 1/10\n"
     ]
    },
    {
     "name": "stderr",
     "output_type": "stream",
     "text": [
      "/opt/anaconda3/lib/python3.11/site-packages/keras/src/layers/core/embedding.py:90: UserWarning: Argument `input_length` is deprecated. Just remove it.\n",
      "  warnings.warn(\n"
     ]
    },
    {
     "name": "stdout",
     "output_type": "stream",
     "text": [
      "\u001b[1m381/381\u001b[0m \u001b[32m━━━━━━━━━━━━━━━━━━━━\u001b[0m\u001b[37m\u001b[0m \u001b[1m54s\u001b[0m 139ms/step - accuracy: 0.5058 - f1_score: 0.3322 - loss: 0.8403 - val_accuracy: 0.4655 - val_f1_score: 0.5879 - val_loss: 0.6995\n",
      "Epoch 2/10\n",
      "\u001b[1m381/381\u001b[0m \u001b[32m━━━━━━━━━━━━━━━━━━━━\u001b[0m\u001b[37m\u001b[0m \u001b[1m53s\u001b[0m 140ms/step - accuracy: 0.4256 - f1_score: 0.5718 - loss: 0.8387 - val_accuracy: 0.4655 - val_f1_score: 0.5879 - val_loss: 0.6959\n",
      "Epoch 3/10\n",
      "\u001b[1m381/381\u001b[0m \u001b[32m━━━━━━━━━━━━━━━━━━━━\u001b[0m\u001b[37m\u001b[0m \u001b[1m53s\u001b[0m 139ms/step - accuracy: 0.4205 - f1_score: 0.5819 - loss: 0.8381 - val_accuracy: 0.4655 - val_f1_score: 0.5879 - val_loss: 0.6972\n",
      "Epoch 4/10\n",
      "\u001b[1m381/381\u001b[0m \u001b[32m━━━━━━━━━━━━━━━━━━━━\u001b[0m\u001b[37m\u001b[0m \u001b[1m53s\u001b[0m 139ms/step - accuracy: 0.4195 - f1_score: 0.5801 - loss: 0.8379 - val_accuracy: 0.4655 - val_f1_score: 0.5879 - val_loss: 0.6974\n",
      "Epoch 5/10\n",
      "\u001b[1m381/381\u001b[0m \u001b[32m━━━━━━━━━━━━━━━━━━━━\u001b[0m\u001b[37m\u001b[0m \u001b[1m54s\u001b[0m 142ms/step - accuracy: 0.4216 - f1_score: 0.5842 - loss: 0.8383 - val_accuracy: 0.4655 - val_f1_score: 0.5879 - val_loss: 0.6989\n",
      "Training with lr=0.001, batch_size=16, dropout=0.3, units=64\n",
      "Epoch 1/10\n"
     ]
    },
    {
     "name": "stderr",
     "output_type": "stream",
     "text": [
      "/opt/anaconda3/lib/python3.11/site-packages/keras/src/layers/core/embedding.py:90: UserWarning: Argument `input_length` is deprecated. Just remove it.\n",
      "  warnings.warn(\n"
     ]
    },
    {
     "name": "stdout",
     "output_type": "stream",
     "text": [
      "\u001b[1m381/381\u001b[0m \u001b[32m━━━━━━━━━━━━━━━━━━━━\u001b[0m\u001b[37m\u001b[0m \u001b[1m18s\u001b[0m 44ms/step - accuracy: 0.4316 - f1_score: 0.4914 - loss: 0.8376 - val_accuracy: 0.4655 - val_f1_score: 0.5879 - val_loss: 0.6961\n",
      "Epoch 2/10\n",
      "\u001b[1m381/381\u001b[0m \u001b[32m━━━━━━━━━━━━━━━━━━━━\u001b[0m\u001b[37m\u001b[0m \u001b[1m17s\u001b[0m 44ms/step - accuracy: 0.4074 - f1_score: 0.5663 - loss: 0.8345 - val_accuracy: 0.4655 - val_f1_score: 0.5879 - val_loss: 0.6989\n",
      "Epoch 3/10\n",
      "\u001b[1m381/381\u001b[0m \u001b[32m━━━━━━━━━━━━━━━━━━━━\u001b[0m\u001b[37m\u001b[0m \u001b[1m17s\u001b[0m 43ms/step - accuracy: 0.4167 - f1_score: 0.5769 - loss: 0.8374 - val_accuracy: 0.4655 - val_f1_score: 0.5879 - val_loss: 0.6974\n",
      "Epoch 4/10\n",
      "\u001b[1m381/381\u001b[0m \u001b[32m━━━━━━━━━━━━━━━━━━━━\u001b[0m\u001b[37m\u001b[0m \u001b[1m17s\u001b[0m 45ms/step - accuracy: 0.4073 - f1_score: 0.5678 - loss: 0.8348 - val_accuracy: 0.4655 - val_f1_score: 0.5879 - val_loss: 0.7010\n",
      "Training with lr=0.001, batch_size=16, dropout=0.3, units=128\n",
      "Epoch 1/10\n"
     ]
    },
    {
     "name": "stderr",
     "output_type": "stream",
     "text": [
      "/opt/anaconda3/lib/python3.11/site-packages/keras/src/layers/core/embedding.py:90: UserWarning: Argument `input_length` is deprecated. Just remove it.\n",
      "  warnings.warn(\n"
     ]
    },
    {
     "name": "stdout",
     "output_type": "stream",
     "text": [
      "\u001b[1m381/381\u001b[0m \u001b[32m━━━━━━━━━━━━━━━━━━━━\u001b[0m\u001b[37m\u001b[0m \u001b[1m33s\u001b[0m 85ms/step - accuracy: 0.4361 - f1_score: 0.4908 - loss: 0.8391 - val_accuracy: 0.4655 - val_f1_score: 0.5879 - val_loss: 0.6967\n",
      "Epoch 2/10\n",
      "\u001b[1m381/381\u001b[0m \u001b[32m━━━━━━━━━━━━━━━━━━━━\u001b[0m\u001b[37m\u001b[0m \u001b[1m31s\u001b[0m 83ms/step - accuracy: 0.4188 - f1_score: 0.5794 - loss: 0.8377 - val_accuracy: 0.4655 - val_f1_score: 0.5879 - val_loss: 0.6975\n",
      "Epoch 3/10\n",
      "\u001b[1m381/381\u001b[0m \u001b[32m━━━━━━━━━━━━━━━━━━━━\u001b[0m\u001b[37m\u001b[0m \u001b[1m31s\u001b[0m 82ms/step - accuracy: 0.4245 - f1_score: 0.5827 - loss: 0.8392 - val_accuracy: 0.4655 - val_f1_score: 0.5879 - val_loss: 0.6977\n",
      "Epoch 4/10\n",
      "\u001b[1m381/381\u001b[0m \u001b[32m━━━━━━━━━━━━━━━━━━━━\u001b[0m\u001b[37m\u001b[0m \u001b[1m32s\u001b[0m 84ms/step - accuracy: 0.4139 - f1_score: 0.5720 - loss: 0.8362 - val_accuracy: 0.4655 - val_f1_score: 0.5879 - val_loss: 0.6971\n",
      "Training with lr=0.001, batch_size=16, dropout=0.3, units=256\n",
      "Epoch 1/10\n"
     ]
    },
    {
     "name": "stderr",
     "output_type": "stream",
     "text": [
      "/opt/anaconda3/lib/python3.11/site-packages/keras/src/layers/core/embedding.py:90: UserWarning: Argument `input_length` is deprecated. Just remove it.\n",
      "  warnings.warn(\n"
     ]
    },
    {
     "name": "stdout",
     "output_type": "stream",
     "text": [
      "\u001b[1m381/381\u001b[0m \u001b[32m━━━━━━━━━━━━━━━━━━━━\u001b[0m\u001b[37m\u001b[0m \u001b[1m56s\u001b[0m 144ms/step - accuracy: 0.4369 - f1_score: 0.5074 - loss: 0.8497 - val_accuracy: 0.4655 - val_f1_score: 0.5879 - val_loss: 0.6940\n",
      "Epoch 2/10\n",
      "\u001b[1m381/381\u001b[0m \u001b[32m━━━━━━━━━━━━━━━━━━━━\u001b[0m\u001b[37m\u001b[0m \u001b[1m55s\u001b[0m 144ms/step - accuracy: 0.4390 - f1_score: 0.5975 - loss: 0.8435 - val_accuracy: 0.5345 - val_f1_score: 0.0000e+00 - val_loss: 0.6924\n",
      "Epoch 3/10\n",
      "\u001b[1m381/381\u001b[0m \u001b[32m━━━━━━━━━━━━━━━━━━━━\u001b[0m\u001b[37m\u001b[0m \u001b[1m58s\u001b[0m 153ms/step - accuracy: 0.4866 - f1_score: 0.3952 - loss: 0.8356 - val_accuracy: 0.4655 - val_f1_score: 0.5879 - val_loss: 0.6951\n",
      "Epoch 4/10\n",
      "\u001b[1m381/381\u001b[0m \u001b[32m━━━━━━━━━━━━━━━━━━━━\u001b[0m\u001b[37m\u001b[0m \u001b[1m57s\u001b[0m 148ms/step - accuracy: 0.4251 - f1_score: 0.5865 - loss: 0.8394 - val_accuracy: 0.4655 - val_f1_score: 0.5879 - val_loss: 0.6981\n",
      "Epoch 5/10\n",
      "\u001b[1m381/381\u001b[0m \u001b[32m━━━━━━━━━━━━━━━━━━━━\u001b[0m\u001b[37m\u001b[0m \u001b[1m56s\u001b[0m 146ms/step - accuracy: 0.4221 - f1_score: 0.5827 - loss: 0.8384 - val_accuracy: 0.4655 - val_f1_score: 0.5879 - val_loss: 0.6959\n",
      "Training with lr=0.001, batch_size=16, dropout=0.4, units=64\n",
      "Epoch 1/10\n"
     ]
    },
    {
     "name": "stderr",
     "output_type": "stream",
     "text": [
      "/opt/anaconda3/lib/python3.11/site-packages/keras/src/layers/core/embedding.py:90: UserWarning: Argument `input_length` is deprecated. Just remove it.\n",
      "  warnings.warn(\n"
     ]
    },
    {
     "name": "stdout",
     "output_type": "stream",
     "text": [
      "\u001b[1m381/381\u001b[0m \u001b[32m━━━━━━━━━━━━━━━━━━━━\u001b[0m\u001b[37m\u001b[0m \u001b[1m18s\u001b[0m 45ms/step - accuracy: 0.4283 - f1_score: 0.5758 - loss: 0.8412 - val_accuracy: 0.4655 - val_f1_score: 0.5879 - val_loss: 0.6962\n",
      "Epoch 2/10\n",
      "\u001b[1m381/381\u001b[0m \u001b[32m━━━━━━━━━━━━━━━━━━━━\u001b[0m\u001b[37m\u001b[0m \u001b[1m17s\u001b[0m 44ms/step - accuracy: 0.4246 - f1_score: 0.5440 - loss: 0.8367 - val_accuracy: 0.4655 - val_f1_score: 0.5879 - val_loss: 0.6958\n",
      "Epoch 3/10\n",
      "\u001b[1m381/381\u001b[0m \u001b[32m━━━━━━━━━━━━━━━━━━━━\u001b[0m\u001b[37m\u001b[0m \u001b[1m17s\u001b[0m 44ms/step - accuracy: 0.4123 - f1_score: 0.5725 - loss: 0.8359 - val_accuracy: 0.4655 - val_f1_score: 0.5879 - val_loss: 0.6962\n",
      "Epoch 4/10\n",
      "\u001b[1m381/381\u001b[0m \u001b[32m━━━━━━━━━━━━━━━━━━━━\u001b[0m\u001b[37m\u001b[0m \u001b[1m17s\u001b[0m 44ms/step - accuracy: 0.4216 - f1_score: 0.5821 - loss: 0.8384 - val_accuracy: 0.4655 - val_f1_score: 0.5879 - val_loss: 0.6967\n",
      "Epoch 5/10\n",
      "\u001b[1m381/381\u001b[0m \u001b[32m━━━━━━━━━━━━━━━━━━━━\u001b[0m\u001b[37m\u001b[0m \u001b[1m17s\u001b[0m 44ms/step - accuracy: 0.4085 - f1_score: 0.5683 - loss: 0.8348 - val_accuracy: 0.4655 - val_f1_score: 0.5879 - val_loss: 0.6986\n",
      "Training with lr=0.001, batch_size=16, dropout=0.4, units=128\n",
      "Epoch 1/10\n"
     ]
    },
    {
     "name": "stderr",
     "output_type": "stream",
     "text": [
      "/opt/anaconda3/lib/python3.11/site-packages/keras/src/layers/core/embedding.py:90: UserWarning: Argument `input_length` is deprecated. Just remove it.\n",
      "  warnings.warn(\n"
     ]
    },
    {
     "name": "stdout",
     "output_type": "stream",
     "text": [
      "\u001b[1m381/381\u001b[0m \u001b[32m━━━━━━━━━━━━━━━━━━━━\u001b[0m\u001b[37m\u001b[0m \u001b[1m35s\u001b[0m 87ms/step - accuracy: 0.4278 - f1_score: 0.5490 - loss: 0.8398 - val_accuracy: 0.4655 - val_f1_score: 0.5879 - val_loss: 0.6944\n",
      "Epoch 2/10\n",
      "\u001b[1m381/381\u001b[0m \u001b[32m━━━━━━━━━━━━━━━━━━━━\u001b[0m\u001b[37m\u001b[0m \u001b[1m33s\u001b[0m 87ms/step - accuracy: 0.4263 - f1_score: 0.5847 - loss: 0.8400 - val_accuracy: 0.4655 - val_f1_score: 0.5879 - val_loss: 0.6981\n",
      "Epoch 3/10\n",
      "\u001b[1m381/381\u001b[0m \u001b[32m━━━━━━━━━━━━━━━━━━━━\u001b[0m\u001b[37m\u001b[0m \u001b[1m33s\u001b[0m 87ms/step - accuracy: 0.4263 - f1_score: 0.5880 - loss: 0.8394 - val_accuracy: 0.4655 - val_f1_score: 0.5879 - val_loss: 0.6951\n",
      "Epoch 4/10\n",
      "\u001b[1m381/381\u001b[0m \u001b[32m━━━━━━━━━━━━━━━━━━━━\u001b[0m\u001b[37m\u001b[0m \u001b[1m33s\u001b[0m 88ms/step - accuracy: 0.4132 - f1_score: 0.5747 - loss: 0.8361 - val_accuracy: 0.4655 - val_f1_score: 0.5879 - val_loss: 0.6986\n",
      "Training with lr=0.001, batch_size=16, dropout=0.4, units=256\n",
      "Epoch 1/10\n"
     ]
    },
    {
     "name": "stderr",
     "output_type": "stream",
     "text": [
      "/opt/anaconda3/lib/python3.11/site-packages/keras/src/layers/core/embedding.py:90: UserWarning: Argument `input_length` is deprecated. Just remove it.\n",
      "  warnings.warn(\n"
     ]
    },
    {
     "name": "stdout",
     "output_type": "stream",
     "text": [
      "\u001b[1m381/381\u001b[0m \u001b[32m━━━━━━━━━━━━━━━━━━━━\u001b[0m\u001b[37m\u001b[0m \u001b[1m56s\u001b[0m 143ms/step - accuracy: 0.4236 - f1_score: 0.5630 - loss: 0.8403 - val_accuracy: 0.4655 - val_f1_score: 0.5879 - val_loss: 0.6961\n",
      "Epoch 2/10\n",
      "\u001b[1m381/381\u001b[0m \u001b[32m━━━━━━━━━━━━━━━━━━━━\u001b[0m\u001b[37m\u001b[0m \u001b[1m56s\u001b[0m 148ms/step - accuracy: 0.4294 - f1_score: 0.5890 - loss: 0.8404 - val_accuracy: 0.4655 - val_f1_score: 0.5879 - val_loss: 0.6956\n",
      "Epoch 3/10\n",
      "\u001b[1m381/381\u001b[0m \u001b[32m━━━━━━━━━━━━━━━━━━━━\u001b[0m\u001b[37m\u001b[0m \u001b[1m59s\u001b[0m 154ms/step - accuracy: 0.4145 - f1_score: 0.5747 - loss: 0.8364 - val_accuracy: 0.4655 - val_f1_score: 0.5879 - val_loss: 0.6974\n",
      "Epoch 4/10\n",
      "\u001b[1m381/381\u001b[0m \u001b[32m━━━━━━━━━━━━━━━━━━━━\u001b[0m\u001b[37m\u001b[0m \u001b[1m55s\u001b[0m 145ms/step - accuracy: 0.4122 - f1_score: 0.5724 - loss: 0.8363 - val_accuracy: 0.4655 - val_f1_score: 0.5879 - val_loss: 0.6971\n",
      "Epoch 5/10\n",
      "\u001b[1m381/381\u001b[0m \u001b[32m━━━━━━━━━━━━━━━━━━━━\u001b[0m\u001b[37m\u001b[0m \u001b[1m53s\u001b[0m 139ms/step - accuracy: 0.4271 - f1_score: 0.5886 - loss: 0.8396 - val_accuracy: 0.4655 - val_f1_score: 0.5879 - val_loss: 0.6950\n",
      "Epoch 6/10\n",
      "\u001b[1m381/381\u001b[0m \u001b[32m━━━━━━━━━━━━━━━━━━━━\u001b[0m\u001b[37m\u001b[0m \u001b[1m52s\u001b[0m 136ms/step - accuracy: 0.4368 - f1_score: 0.5761 - loss: 0.8408 - val_accuracy: 0.4655 - val_f1_score: 0.5879 - val_loss: 0.6972\n",
      "Epoch 7/10\n",
      "\u001b[1m381/381\u001b[0m \u001b[32m━━━━━━━━━━━━━━━━━━━━\u001b[0m\u001b[37m\u001b[0m \u001b[1m52s\u001b[0m 137ms/step - accuracy: 0.4209 - f1_score: 0.5819 - loss: 0.8382 - val_accuracy: 0.4655 - val_f1_score: 0.5879 - val_loss: 0.6965\n",
      "Epoch 8/10\n",
      "\u001b[1m381/381\u001b[0m \u001b[32m━━━━━━━━━━━━━━━━━━━━\u001b[0m\u001b[37m\u001b[0m \u001b[1m55s\u001b[0m 145ms/step - accuracy: 0.4162 - f1_score: 0.5751 - loss: 0.8369 - val_accuracy: 0.4655 - val_f1_score: 0.5879 - val_loss: 0.6976\n",
      "Training with lr=0.001, batch_size=32, dropout=0.2, units=64\n",
      "Epoch 1/10\n"
     ]
    },
    {
     "name": "stderr",
     "output_type": "stream",
     "text": [
      "/opt/anaconda3/lib/python3.11/site-packages/keras/src/layers/core/embedding.py:90: UserWarning: Argument `input_length` is deprecated. Just remove it.\n",
      "  warnings.warn(\n"
     ]
    },
    {
     "name": "stdout",
     "output_type": "stream",
     "text": [
      "\u001b[1m191/191\u001b[0m \u001b[32m━━━━━━━━━━━━━━━━━━━━\u001b[0m\u001b[37m\u001b[0m \u001b[1m14s\u001b[0m 67ms/step - accuracy: 0.4165 - f1_score: 0.5642 - loss: 0.8390 - val_accuracy: 0.4655 - val_f1_score: 0.5967 - val_loss: 0.7014\n",
      "Epoch 2/10\n",
      "\u001b[1m191/191\u001b[0m \u001b[32m━━━━━━━━━━━━━━━━━━━━\u001b[0m\u001b[37m\u001b[0m \u001b[1m12s\u001b[0m 61ms/step - accuracy: 0.4272 - f1_score: 0.5947 - loss: 0.8393 - val_accuracy: 0.4655 - val_f1_score: 0.5967 - val_loss: 0.6960\n",
      "Epoch 3/10\n",
      "\u001b[1m191/191\u001b[0m \u001b[32m━━━━━━━━━━━━━━━━━━━━\u001b[0m\u001b[37m\u001b[0m \u001b[1m12s\u001b[0m 61ms/step - accuracy: 0.4235 - f1_score: 0.5907 - loss: 0.8387 - val_accuracy: 0.4655 - val_f1_score: 0.5967 - val_loss: 0.6960\n",
      "Epoch 4/10\n",
      "\u001b[1m191/191\u001b[0m \u001b[32m━━━━━━━━━━━━━━━━━━━━\u001b[0m\u001b[37m\u001b[0m \u001b[1m12s\u001b[0m 62ms/step - accuracy: 0.4231 - f1_score: 0.5901 - loss: 0.8387 - val_accuracy: 0.4655 - val_f1_score: 0.5967 - val_loss: 0.6964\n",
      "Epoch 5/10\n",
      "\u001b[1m191/191\u001b[0m \u001b[32m━━━━━━━━━━━━━━━━━━━━\u001b[0m\u001b[37m\u001b[0m \u001b[1m12s\u001b[0m 63ms/step - accuracy: 0.4314 - f1_score: 0.5958 - loss: 0.8404 - val_accuracy: 0.4655 - val_f1_score: 0.5967 - val_loss: 0.6953\n",
      "Epoch 6/10\n",
      "\u001b[1m191/191\u001b[0m \u001b[32m━━━━━━━━━━━━━━━━━━━━\u001b[0m\u001b[37m\u001b[0m \u001b[1m12s\u001b[0m 62ms/step - accuracy: 0.4171 - f1_score: 0.5848 - loss: 0.8371 - val_accuracy: 0.4655 - val_f1_score: 0.5967 - val_loss: 0.6969\n",
      "Epoch 7/10\n",
      "\u001b[1m191/191\u001b[0m \u001b[32m━━━━━━━━━━━━━━━━━━━━\u001b[0m\u001b[37m\u001b[0m \u001b[1m12s\u001b[0m 61ms/step - accuracy: 0.4170 - f1_score: 0.5837 - loss: 0.8370 - val_accuracy: 0.4655 - val_f1_score: 0.5967 - val_loss: 0.6972\n",
      "Epoch 8/10\n",
      "\u001b[1m191/191\u001b[0m \u001b[32m━━━━━━━━━━━━━━━━━━━━\u001b[0m\u001b[37m\u001b[0m \u001b[1m11s\u001b[0m 60ms/step - accuracy: 0.4169 - f1_score: 0.5818 - loss: 0.8371 - val_accuracy: 0.4655 - val_f1_score: 0.5967 - val_loss: 0.6974\n",
      "Training with lr=0.001, batch_size=32, dropout=0.2, units=128\n",
      "Epoch 1/10\n"
     ]
    },
    {
     "name": "stderr",
     "output_type": "stream",
     "text": [
      "/opt/anaconda3/lib/python3.11/site-packages/keras/src/layers/core/embedding.py:90: UserWarning: Argument `input_length` is deprecated. Just remove it.\n",
      "  warnings.warn(\n"
     ]
    },
    {
     "name": "stdout",
     "output_type": "stream",
     "text": [
      "\u001b[1m191/191\u001b[0m \u001b[32m━━━━━━━━━━━━━━━━━━━━\u001b[0m\u001b[37m\u001b[0m \u001b[1m22s\u001b[0m 108ms/step - accuracy: 0.4678 - f1_score: 0.4437 - loss: 0.8396 - val_accuracy: 0.4655 - val_f1_score: 0.5967 - val_loss: 0.6964\n",
      "Epoch 2/10\n",
      "\u001b[1m191/191\u001b[0m \u001b[32m━━━━━━━━━━━━━━━━━━━━\u001b[0m\u001b[37m\u001b[0m \u001b[1m21s\u001b[0m 109ms/step - accuracy: 0.4313 - f1_score: 0.5966 - loss: 0.8408 - val_accuracy: 0.4655 - val_f1_score: 0.5967 - val_loss: 0.6959\n",
      "Epoch 3/10\n",
      "\u001b[1m191/191\u001b[0m \u001b[32m━━━━━━━━━━━━━━━━━━━━\u001b[0m\u001b[37m\u001b[0m \u001b[1m21s\u001b[0m 111ms/step - accuracy: 0.4131 - f1_score: 0.5792 - loss: 0.8361 - val_accuracy: 0.4655 - val_f1_score: 0.5967 - val_loss: 0.6973\n",
      "Epoch 4/10\n",
      "\u001b[1m191/191\u001b[0m \u001b[32m━━━━━━━━━━━━━━━━━━━━\u001b[0m\u001b[37m\u001b[0m \u001b[1m21s\u001b[0m 111ms/step - accuracy: 0.4279 - f1_score: 0.5937 - loss: 0.8397 - val_accuracy: 0.4655 - val_f1_score: 0.5967 - val_loss: 0.6969\n",
      "Epoch 5/10\n",
      "\u001b[1m191/191\u001b[0m \u001b[32m━━━━━━━━━━━━━━━━━━━━\u001b[0m\u001b[37m\u001b[0m \u001b[1m21s\u001b[0m 111ms/step - accuracy: 0.4172 - f1_score: 0.5840 - loss: 0.8374 - val_accuracy: 0.4655 - val_f1_score: 0.5967 - val_loss: 0.6971\n",
      "Training with lr=0.001, batch_size=32, dropout=0.2, units=256\n",
      "Epoch 1/10\n"
     ]
    },
    {
     "name": "stderr",
     "output_type": "stream",
     "text": [
      "/opt/anaconda3/lib/python3.11/site-packages/keras/src/layers/core/embedding.py:90: UserWarning: Argument `input_length` is deprecated. Just remove it.\n",
      "  warnings.warn(\n"
     ]
    },
    {
     "name": "stdout",
     "output_type": "stream",
     "text": [
      "\u001b[1m191/191\u001b[0m \u001b[32m━━━━━━━━━━━━━━━━━━━━\u001b[0m\u001b[37m\u001b[0m \u001b[1m38s\u001b[0m 191ms/step - accuracy: 0.4710 - f1_score: 0.4066 - loss: 0.8359 - val_accuracy: 0.4655 - val_f1_score: 0.5967 - val_loss: 0.6959\n",
      "Epoch 2/10\n",
      "\u001b[1m191/191\u001b[0m \u001b[32m━━━━━━━━━━━━━━━━━━━━\u001b[0m\u001b[37m\u001b[0m \u001b[1m37s\u001b[0m 191ms/step - accuracy: 0.4241 - f1_score: 0.5904 - loss: 0.8390 - val_accuracy: 0.4655 - val_f1_score: 0.5967 - val_loss: 0.6961\n",
      "Epoch 3/10\n",
      "\u001b[1m191/191\u001b[0m \u001b[32m━━━━━━━━━━━━━━━━━━━━\u001b[0m\u001b[37m\u001b[0m \u001b[1m37s\u001b[0m 191ms/step - accuracy: 0.4253 - f1_score: 0.5916 - loss: 0.8392 - val_accuracy: 0.4655 - val_f1_score: 0.5967 - val_loss: 0.6953\n",
      "Epoch 4/10\n",
      "\u001b[1m191/191\u001b[0m \u001b[32m━━━━━━━━━━━━━━━━━━━━\u001b[0m\u001b[37m\u001b[0m \u001b[1m38s\u001b[0m 199ms/step - accuracy: 0.4205 - f1_score: 0.5867 - loss: 0.8381 - val_accuracy: 0.4655 - val_f1_score: 0.5967 - val_loss: 0.6971\n",
      "Epoch 5/10\n",
      "\u001b[1m191/191\u001b[0m \u001b[32m━━━━━━━━━━━━━━━━━━━━\u001b[0m\u001b[37m\u001b[0m \u001b[1m38s\u001b[0m 199ms/step - accuracy: 0.4156 - f1_score: 0.5819 - loss: 0.8370 - val_accuracy: 0.4655 - val_f1_score: 0.5967 - val_loss: 0.6963\n",
      "Epoch 6/10\n",
      "\u001b[1m191/191\u001b[0m \u001b[32m━━━━━━━━━━━━━━━━━━━━\u001b[0m\u001b[37m\u001b[0m \u001b[1m38s\u001b[0m 199ms/step - accuracy: 0.4233 - f1_score: 0.5863 - loss: 0.8390 - val_accuracy: 0.4655 - val_f1_score: 0.5967 - val_loss: 0.6965\n",
      "Training with lr=0.001, batch_size=32, dropout=0.3, units=64\n",
      "Epoch 1/10\n"
     ]
    },
    {
     "name": "stderr",
     "output_type": "stream",
     "text": [
      "/opt/anaconda3/lib/python3.11/site-packages/keras/src/layers/core/embedding.py:90: UserWarning: Argument `input_length` is deprecated. Just remove it.\n",
      "  warnings.warn(\n"
     ]
    },
    {
     "name": "stdout",
     "output_type": "stream",
     "text": [
      "\u001b[1m191/191\u001b[0m \u001b[32m━━━━━━━━━━━━━━━━━━━━\u001b[0m\u001b[37m\u001b[0m \u001b[1m13s\u001b[0m 62ms/step - accuracy: 0.4360 - f1_score: 0.5809 - loss: 0.8412 - val_accuracy: 0.4655 - val_f1_score: 0.5967 - val_loss: 0.6950\n",
      "Epoch 2/10\n",
      "\u001b[1m191/191\u001b[0m \u001b[32m━━━━━━━━━━━━━━━━━━━━\u001b[0m\u001b[37m\u001b[0m \u001b[1m12s\u001b[0m 62ms/step - accuracy: 0.4224 - f1_score: 0.5866 - loss: 0.8384 - val_accuracy: 0.4655 - val_f1_score: 0.5967 - val_loss: 0.6974\n",
      "Epoch 3/10\n",
      "\u001b[1m191/191\u001b[0m \u001b[32m━━━━━━━━━━━━━━━━━━━━\u001b[0m\u001b[37m\u001b[0m \u001b[1m12s\u001b[0m 61ms/step - accuracy: 0.4266 - f1_score: 0.5929 - loss: 0.8396 - val_accuracy: 0.4655 - val_f1_score: 0.5967 - val_loss: 0.6948\n",
      "Epoch 4/10\n",
      "\u001b[1m191/191\u001b[0m \u001b[32m━━━━━━━━━━━━━━━━━━━━\u001b[0m\u001b[37m\u001b[0m \u001b[1m12s\u001b[0m 62ms/step - accuracy: 0.4279 - f1_score: 0.4848 - loss: 0.8337 - val_accuracy: 0.4655 - val_f1_score: 0.5967 - val_loss: 0.7000\n",
      "Epoch 5/10\n",
      "\u001b[1m191/191\u001b[0m \u001b[32m━━━━━━━━━━━━━━━━━━━━\u001b[0m\u001b[37m\u001b[0m \u001b[1m12s\u001b[0m 62ms/step - accuracy: 0.4187 - f1_score: 0.5851 - loss: 0.8378 - val_accuracy: 0.4655 - val_f1_score: 0.5967 - val_loss: 0.6965\n",
      "Epoch 6/10\n",
      "\u001b[1m191/191\u001b[0m \u001b[32m━━━━━━━━━━━━━━━━━━━━\u001b[0m\u001b[37m\u001b[0m \u001b[1m12s\u001b[0m 61ms/step - accuracy: 0.4081 - f1_score: 0.5742 - loss: 0.8347 - val_accuracy: 0.4655 - val_f1_score: 0.5967 - val_loss: 0.6973\n",
      "Training with lr=0.001, batch_size=32, dropout=0.3, units=128\n",
      "Epoch 1/10\n"
     ]
    },
    {
     "name": "stderr",
     "output_type": "stream",
     "text": [
      "/opt/anaconda3/lib/python3.11/site-packages/keras/src/layers/core/embedding.py:90: UserWarning: Argument `input_length` is deprecated. Just remove it.\n",
      "  warnings.warn(\n"
     ]
    },
    {
     "name": "stdout",
     "output_type": "stream",
     "text": [
      "\u001b[1m191/191\u001b[0m \u001b[32m━━━━━━━━━━━━━━━━━━━━\u001b[0m\u001b[37m\u001b[0m \u001b[1m22s\u001b[0m 110ms/step - accuracy: 0.4918 - f1_score: 0.3694 - loss: 0.8358 - val_accuracy: 0.4655 - val_f1_score: 0.5967 - val_loss: 0.6968\n",
      "Epoch 2/10\n",
      "\u001b[1m191/191\u001b[0m \u001b[32m━━━━━━━━━━━━━━━━━━━━\u001b[0m\u001b[37m\u001b[0m \u001b[1m21s\u001b[0m 109ms/step - accuracy: 0.4154 - f1_score: 0.5804 - loss: 0.8367 - val_accuracy: 0.4655 - val_f1_score: 0.5967 - val_loss: 0.6953\n",
      "Epoch 3/10\n",
      "\u001b[1m191/191\u001b[0m \u001b[32m━━━━━━━━━━━━━━━━━━━━\u001b[0m\u001b[37m\u001b[0m \u001b[1m21s\u001b[0m 108ms/step - accuracy: 0.4236 - f1_score: 0.5886 - loss: 0.8390 - val_accuracy: 0.4655 - val_f1_score: 0.5967 - val_loss: 0.6957\n",
      "Epoch 4/10\n",
      "\u001b[1m191/191\u001b[0m \u001b[32m━━━━━━━━━━━━━━━━━━━━\u001b[0m\u001b[37m\u001b[0m \u001b[1m21s\u001b[0m 109ms/step - accuracy: 0.4122 - f1_score: 0.5780 - loss: 0.8358 - val_accuracy: 0.4655 - val_f1_score: 0.5967 - val_loss: 0.6979\n",
      "Epoch 5/10\n",
      "\u001b[1m191/191\u001b[0m \u001b[32m━━━━━━━━━━━━━━━━━━━━\u001b[0m\u001b[37m\u001b[0m \u001b[1m21s\u001b[0m 109ms/step - accuracy: 0.4153 - f1_score: 0.5824 - loss: 0.8368 - val_accuracy: 0.4655 - val_f1_score: 0.5967 - val_loss: 0.6963\n",
      "Training with lr=0.001, batch_size=32, dropout=0.3, units=256\n",
      "Epoch 1/10\n"
     ]
    },
    {
     "name": "stderr",
     "output_type": "stream",
     "text": [
      "/opt/anaconda3/lib/python3.11/site-packages/keras/src/layers/core/embedding.py:90: UserWarning: Argument `input_length` is deprecated. Just remove it.\n",
      "  warnings.warn(\n"
     ]
    },
    {
     "name": "stdout",
     "output_type": "stream",
     "text": [
      "\u001b[1m191/191\u001b[0m \u001b[32m━━━━━━━━━━━━━━━━━━━━\u001b[0m\u001b[37m\u001b[0m \u001b[1m37s\u001b[0m 188ms/step - accuracy: 0.4308 - f1_score: 0.5241 - loss: 0.8397 - val_accuracy: 0.4655 - val_f1_score: 0.5967 - val_loss: 0.6959\n",
      "Epoch 2/10\n",
      "\u001b[1m191/191\u001b[0m \u001b[32m━━━━━━━━━━━━━━━━━━━━\u001b[0m\u001b[37m\u001b[0m \u001b[1m36s\u001b[0m 189ms/step - accuracy: 0.4234 - f1_score: 0.5902 - loss: 0.8390 - val_accuracy: 0.4655 - val_f1_score: 0.5967 - val_loss: 0.6970\n",
      "Epoch 3/10\n",
      "\u001b[1m191/191\u001b[0m \u001b[32m━━━━━━━━━━━━━━━━━━━━\u001b[0m\u001b[37m\u001b[0m \u001b[1m36s\u001b[0m 187ms/step - accuracy: 0.4177 - f1_score: 0.5833 - loss: 0.8376 - val_accuracy: 0.4655 - val_f1_score: 0.5967 - val_loss: 0.6960\n",
      "Epoch 4/10\n",
      "\u001b[1m191/191\u001b[0m \u001b[32m━━━━━━━━━━━━━━━━━━━━\u001b[0m\u001b[37m\u001b[0m \u001b[1m36s\u001b[0m 188ms/step - accuracy: 0.4176 - f1_score: 0.5844 - loss: 0.8373 - val_accuracy: 0.4655 - val_f1_score: 0.5967 - val_loss: 0.6980\n",
      "Training with lr=0.001, batch_size=32, dropout=0.4, units=64\n",
      "Epoch 1/10\n"
     ]
    },
    {
     "name": "stderr",
     "output_type": "stream",
     "text": [
      "/opt/anaconda3/lib/python3.11/site-packages/keras/src/layers/core/embedding.py:90: UserWarning: Argument `input_length` is deprecated. Just remove it.\n",
      "  warnings.warn(\n"
     ]
    },
    {
     "name": "stdout",
     "output_type": "stream",
     "text": [
      "\u001b[1m191/191\u001b[0m \u001b[32m━━━━━━━━━━━━━━━━━━━━\u001b[0m\u001b[37m\u001b[0m \u001b[1m13s\u001b[0m 62ms/step - accuracy: 0.4356 - f1_score: 0.5274 - loss: 0.8393 - val_accuracy: 0.5345 - val_f1_score: 0.0000e+00 - val_loss: 0.6929\n",
      "Epoch 2/10\n",
      "\u001b[1m191/191\u001b[0m \u001b[32m━━━━━━━━━━━━━━━━━━━━\u001b[0m\u001b[37m\u001b[0m \u001b[1m12s\u001b[0m 62ms/step - accuracy: 0.5043 - f1_score: 0.3391 - loss: 0.8365 - val_accuracy: 0.4655 - val_f1_score: 0.5967 - val_loss: 0.6964\n",
      "Epoch 3/10\n",
      "\u001b[1m191/191\u001b[0m \u001b[32m━━━━━━━━━━━━━━━━━━━━\u001b[0m\u001b[37m\u001b[0m \u001b[1m13s\u001b[0m 66ms/step - accuracy: 0.4236 - f1_score: 0.5905 - loss: 0.8387 - val_accuracy: 0.4655 - val_f1_score: 0.5967 - val_loss: 0.6965\n",
      "Epoch 4/10\n",
      "\u001b[1m191/191\u001b[0m \u001b[32m━━━━━━━━━━━━━━━━━━━━\u001b[0m\u001b[37m\u001b[0m \u001b[1m12s\u001b[0m 64ms/step - accuracy: 0.4159 - f1_score: 0.5825 - loss: 0.8368 - val_accuracy: 0.4655 - val_f1_score: 0.5967 - val_loss: 0.6960\n",
      "Training with lr=0.001, batch_size=32, dropout=0.4, units=128\n",
      "Epoch 1/10\n"
     ]
    },
    {
     "name": "stderr",
     "output_type": "stream",
     "text": [
      "/opt/anaconda3/lib/python3.11/site-packages/keras/src/layers/core/embedding.py:90: UserWarning: Argument `input_length` is deprecated. Just remove it.\n",
      "  warnings.warn(\n"
     ]
    },
    {
     "name": "stdout",
     "output_type": "stream",
     "text": [
      "\u001b[1m191/191\u001b[0m \u001b[32m━━━━━━━━━━━━━━━━━━━━\u001b[0m\u001b[37m\u001b[0m \u001b[1m22s\u001b[0m 108ms/step - accuracy: 0.4361 - f1_score: 0.5744 - loss: 0.8404 - val_accuracy: 0.4655 - val_f1_score: 0.5967 - val_loss: 0.6937\n",
      "Epoch 2/10\n",
      "\u001b[1m191/191\u001b[0m \u001b[32m━━━━━━━━━━━━━━━━━━━━\u001b[0m\u001b[37m\u001b[0m \u001b[1m21s\u001b[0m 109ms/step - accuracy: 0.4291 - f1_score: 0.5767 - loss: 0.8399 - val_accuracy: 0.4655 - val_f1_score: 0.5967 - val_loss: 0.6961\n",
      "Epoch 3/10\n",
      "\u001b[1m191/191\u001b[0m \u001b[32m━━━━━━━━━━━━━━━━━━━━\u001b[0m\u001b[37m\u001b[0m \u001b[1m20s\u001b[0m 106ms/step - accuracy: 0.4127 - f1_score: 0.5782 - loss: 0.8359 - val_accuracy: 0.4655 - val_f1_score: 0.5967 - val_loss: 0.6972\n",
      "Epoch 4/10\n",
      "\u001b[1m191/191\u001b[0m \u001b[32m━━━━━━━━━━━━━━━━━━━━\u001b[0m\u001b[37m\u001b[0m \u001b[1m21s\u001b[0m 109ms/step - accuracy: 0.4122 - f1_score: 0.5762 - loss: 0.8361 - val_accuracy: 0.4655 - val_f1_score: 0.5967 - val_loss: 0.6957\n",
      "Training with lr=0.001, batch_size=32, dropout=0.4, units=256\n",
      "Epoch 1/10\n"
     ]
    },
    {
     "name": "stderr",
     "output_type": "stream",
     "text": [
      "/opt/anaconda3/lib/python3.11/site-packages/keras/src/layers/core/embedding.py:90: UserWarning: Argument `input_length` is deprecated. Just remove it.\n",
      "  warnings.warn(\n"
     ]
    },
    {
     "name": "stdout",
     "output_type": "stream",
     "text": [
      "\u001b[1m191/191\u001b[0m \u001b[32m━━━━━━━━━━━━━━━━━━━━\u001b[0m\u001b[37m\u001b[0m \u001b[1m40s\u001b[0m 204ms/step - accuracy: 0.4322 - f1_score: 0.5334 - loss: 0.8402 - val_accuracy: 0.4655 - val_f1_score: 0.5967 - val_loss: 0.6940\n",
      "Epoch 2/10\n",
      "\u001b[1m191/191\u001b[0m \u001b[32m━━━━━━━━━━━━━━━━━━━━\u001b[0m\u001b[37m\u001b[0m \u001b[1m37s\u001b[0m 193ms/step - accuracy: 0.4328 - f1_score: 0.5792 - loss: 0.8425 - val_accuracy: 0.4655 - val_f1_score: 0.5967 - val_loss: 0.6978\n",
      "Epoch 3/10\n",
      "\u001b[1m191/191\u001b[0m \u001b[32m━━━━━━━━━━━━━━━━━━━━\u001b[0m\u001b[37m\u001b[0m \u001b[1m37s\u001b[0m 193ms/step - accuracy: 0.4161 - f1_score: 0.5833 - loss: 0.8371 - val_accuracy: 0.4655 - val_f1_score: 0.5967 - val_loss: 0.6962\n",
      "Epoch 4/10\n",
      "\u001b[1m191/191\u001b[0m \u001b[32m━━━━━━━━━━━━━━━━━━━━\u001b[0m\u001b[37m\u001b[0m \u001b[1m37s\u001b[0m 194ms/step - accuracy: 0.4253 - f1_score: 0.5923 - loss: 0.8393 - val_accuracy: 0.4655 - val_f1_score: 0.5967 - val_loss: 0.6963\n",
      "Training with lr=0.001, batch_size=64, dropout=0.2, units=64\n",
      "Epoch 1/10\n"
     ]
    },
    {
     "name": "stderr",
     "output_type": "stream",
     "text": [
      "/opt/anaconda3/lib/python3.11/site-packages/keras/src/layers/core/embedding.py:90: UserWarning: Argument `input_length` is deprecated. Just remove it.\n",
      "  warnings.warn(\n"
     ]
    },
    {
     "name": "stdout",
     "output_type": "stream",
     "text": [
      "\u001b[1m96/96\u001b[0m \u001b[32m━━━━━━━━━━━━━━━━━━━━\u001b[0m\u001b[37m\u001b[0m \u001b[1m11s\u001b[0m 101ms/step - accuracy: 0.5459 - f1_score: 0.2005 - loss: 0.8345 - val_accuracy: 0.4655 - val_f1_score: 0.6086 - val_loss: 0.6958\n",
      "Epoch 2/10\n",
      "\u001b[1m96/96\u001b[0m \u001b[32m━━━━━━━━━━━━━━━━━━━━\u001b[0m\u001b[37m\u001b[0m \u001b[1m10s\u001b[0m 100ms/step - accuracy: 0.4232 - f1_score: 0.5922 - loss: 0.8385 - val_accuracy: 0.4655 - val_f1_score: 0.6086 - val_loss: 0.6949\n",
      "Epoch 3/10\n",
      "\u001b[1m96/96\u001b[0m \u001b[32m━━━━━━━━━━━━━━━━━━━━\u001b[0m\u001b[37m\u001b[0m \u001b[1m10s\u001b[0m 100ms/step - accuracy: 0.4228 - f1_score: 0.5919 - loss: 0.8385 - val_accuracy: 0.4655 - val_f1_score: 0.6086 - val_loss: 0.6935\n",
      "Epoch 4/10\n",
      "\u001b[1m96/96\u001b[0m \u001b[32m━━━━━━━━━━━━━━━━━━━━\u001b[0m\u001b[37m\u001b[0m \u001b[1m10s\u001b[0m 100ms/step - accuracy: 0.4744 - f1_score: 0.4412 - loss: 0.8382 - val_accuracy: 0.4655 - val_f1_score: 0.6086 - val_loss: 0.6966\n",
      "Epoch 5/10\n",
      "\u001b[1m96/96\u001b[0m \u001b[32m━━━━━━━━━━━━━━━━━━━━\u001b[0m\u001b[37m\u001b[0m \u001b[1m10s\u001b[0m 100ms/step - accuracy: 0.4170 - f1_score: 0.5860 - loss: 0.8370 - val_accuracy: 0.4655 - val_f1_score: 0.6086 - val_loss: 0.6968\n",
      "Epoch 6/10\n",
      "\u001b[1m96/96\u001b[0m \u001b[32m━━━━━━━━━━━━━━━━━━━━\u001b[0m\u001b[37m\u001b[0m \u001b[1m10s\u001b[0m 100ms/step - accuracy: 0.4213 - f1_score: 0.5895 - loss: 0.8381 - val_accuracy: 0.4655 - val_f1_score: 0.6086 - val_loss: 0.6969\n",
      "Training with lr=0.001, batch_size=64, dropout=0.2, units=128\n",
      "Epoch 1/10\n"
     ]
    },
    {
     "name": "stderr",
     "output_type": "stream",
     "text": [
      "/opt/anaconda3/lib/python3.11/site-packages/keras/src/layers/core/embedding.py:90: UserWarning: Argument `input_length` is deprecated. Just remove it.\n",
      "  warnings.warn(\n"
     ]
    },
    {
     "name": "stdout",
     "output_type": "stream",
     "text": [
      "\u001b[1m96/96\u001b[0m \u001b[32m━━━━━━━━━━━━━━━━━━━━\u001b[0m\u001b[37m\u001b[0m \u001b[1m17s\u001b[0m 171ms/step - accuracy: 0.4305 - f1_score: 0.5592 - loss: 0.8392 - val_accuracy: 0.4655 - val_f1_score: 0.6086 - val_loss: 0.6958\n",
      "Epoch 2/10\n",
      "\u001b[1m96/96\u001b[0m \u001b[32m━━━━━━━━━━━━━━━━━━━━\u001b[0m\u001b[37m\u001b[0m \u001b[1m16s\u001b[0m 169ms/step - accuracy: 0.4180 - f1_score: 0.5867 - loss: 0.8373 - val_accuracy: 0.4655 - val_f1_score: 0.6086 - val_loss: 0.6962\n",
      "Epoch 3/10\n",
      "\u001b[1m96/96\u001b[0m \u001b[32m━━━━━━━━━━━━━━━━━━━━\u001b[0m\u001b[37m\u001b[0m \u001b[1m16s\u001b[0m 171ms/step - accuracy: 0.4206 - f1_score: 0.5888 - loss: 0.8379 - val_accuracy: 0.4655 - val_f1_score: 0.6086 - val_loss: 0.6967\n",
      "Epoch 4/10\n",
      "\u001b[1m96/96\u001b[0m \u001b[32m━━━━━━━━━━━━━━━━━━━━\u001b[0m\u001b[37m\u001b[0m \u001b[1m16s\u001b[0m 171ms/step - accuracy: 0.4160 - f1_score: 0.5852 - loss: 0.8368 - val_accuracy: 0.4655 - val_f1_score: 0.6086 - val_loss: 0.6973\n",
      "Training with lr=0.001, batch_size=64, dropout=0.2, units=256\n",
      "Epoch 1/10\n"
     ]
    },
    {
     "name": "stderr",
     "output_type": "stream",
     "text": [
      "/opt/anaconda3/lib/python3.11/site-packages/keras/src/layers/core/embedding.py:90: UserWarning: Argument `input_length` is deprecated. Just remove it.\n",
      "  warnings.warn(\n"
     ]
    },
    {
     "name": "stdout",
     "output_type": "stream",
     "text": [
      "\u001b[1m96/96\u001b[0m \u001b[32m━━━━━━━━━━━━━━━━━━━━\u001b[0m\u001b[37m\u001b[0m \u001b[1m30s\u001b[0m 307ms/step - accuracy: 0.4212 - f1_score: 0.5572 - loss: 0.8405 - val_accuracy: 0.4655 - val_f1_score: 0.6086 - val_loss: 0.6979\n",
      "Epoch 2/10\n",
      "\u001b[1m96/96\u001b[0m \u001b[32m━━━━━━━━━━━━━━━━━━━━\u001b[0m\u001b[37m\u001b[0m \u001b[1m30s\u001b[0m 308ms/step - accuracy: 0.4294 - f1_score: 0.5820 - loss: 0.8396 - val_accuracy: 0.4655 - val_f1_score: 0.6086 - val_loss: 0.6964\n",
      "Epoch 3/10\n",
      "\u001b[1m96/96\u001b[0m \u001b[32m━━━━━━━━━━━━━━━━━━━━\u001b[0m\u001b[37m\u001b[0m \u001b[1m30s\u001b[0m 312ms/step - accuracy: 0.4266 - f1_score: 0.5841 - loss: 0.8385 - val_accuracy: 0.4655 - val_f1_score: 0.6086 - val_loss: 0.6960\n",
      "Epoch 4/10\n",
      "\u001b[1m96/96\u001b[0m \u001b[32m━━━━━━━━━━━━━━━━━━━━\u001b[0m\u001b[37m\u001b[0m \u001b[1m31s\u001b[0m 321ms/step - accuracy: 0.4226 - f1_score: 0.5919 - loss: 0.8384 - val_accuracy: 0.4655 - val_f1_score: 0.6086 - val_loss: 0.6965\n",
      "Epoch 5/10\n",
      "\u001b[1m96/96\u001b[0m \u001b[32m━━━━━━━━━━━━━━━━━━━━\u001b[0m\u001b[37m\u001b[0m \u001b[1m32s\u001b[0m 329ms/step - accuracy: 0.4139 - f1_score: 0.5837 - loss: 0.8363 - val_accuracy: 0.4655 - val_f1_score: 0.6086 - val_loss: 0.6969\n",
      "Epoch 6/10\n",
      "\u001b[1m96/96\u001b[0m \u001b[32m━━━━━━━━━━━━━━━━━━━━\u001b[0m\u001b[37m\u001b[0m \u001b[1m32s\u001b[0m 332ms/step - accuracy: 0.4279 - f1_score: 0.5971 - loss: 0.8397 - val_accuracy: 0.4655 - val_f1_score: 0.6086 - val_loss: 0.6962\n",
      "Training with lr=0.001, batch_size=64, dropout=0.3, units=64\n",
      "Epoch 1/10\n"
     ]
    },
    {
     "name": "stderr",
     "output_type": "stream",
     "text": [
      "/opt/anaconda3/lib/python3.11/site-packages/keras/src/layers/core/embedding.py:90: UserWarning: Argument `input_length` is deprecated. Just remove it.\n",
      "  warnings.warn(\n"
     ]
    },
    {
     "name": "stdout",
     "output_type": "stream",
     "text": [
      "\u001b[1m96/96\u001b[0m \u001b[32m━━━━━━━━━━━━━━━━━━━━\u001b[0m\u001b[37m\u001b[0m \u001b[1m11s\u001b[0m 99ms/step - accuracy: 0.4366 - f1_score: 0.5701 - loss: 0.8433 - val_accuracy: 0.4655 - val_f1_score: 0.6086 - val_loss: 0.6943\n",
      "Epoch 2/10\n",
      "\u001b[1m96/96\u001b[0m \u001b[32m━━━━━━━━━━━━━━━━━━━━\u001b[0m\u001b[37m\u001b[0m \u001b[1m10s\u001b[0m 100ms/step - accuracy: 0.4220 - f1_score: 0.5914 - loss: 0.8386 - val_accuracy: 0.4655 - val_f1_score: 0.6086 - val_loss: 0.6944\n",
      "Epoch 3/10\n",
      "\u001b[1m96/96\u001b[0m \u001b[32m━━━━━━━━━━━━━━━━━━━━\u001b[0m\u001b[37m\u001b[0m \u001b[1m10s\u001b[0m 99ms/step - accuracy: 0.4211 - f1_score: 0.5900 - loss: 0.8384 - val_accuracy: 0.4655 - val_f1_score: 0.6086 - val_loss: 0.6966\n",
      "Epoch 4/10\n",
      "\u001b[1m96/96\u001b[0m \u001b[32m━━━━━━━━━━━━━━━━━━━━\u001b[0m\u001b[37m\u001b[0m \u001b[1m10s\u001b[0m 101ms/step - accuracy: 0.4235 - f1_score: 0.5921 - loss: 0.8387 - val_accuracy: 0.4655 - val_f1_score: 0.6086 - val_loss: 0.6960\n",
      "Training with lr=0.001, batch_size=64, dropout=0.3, units=128\n",
      "Epoch 1/10\n"
     ]
    },
    {
     "name": "stderr",
     "output_type": "stream",
     "text": [
      "/opt/anaconda3/lib/python3.11/site-packages/keras/src/layers/core/embedding.py:90: UserWarning: Argument `input_length` is deprecated. Just remove it.\n",
      "  warnings.warn(\n"
     ]
    },
    {
     "name": "stdout",
     "output_type": "stream",
     "text": [
      "\u001b[1m96/96\u001b[0m \u001b[32m━━━━━━━━━━━━━━━━━━━━\u001b[0m\u001b[37m\u001b[0m \u001b[1m19s\u001b[0m 169ms/step - accuracy: 0.4521 - f1_score: 0.4509 - loss: 0.8392 - val_accuracy: 0.4655 - val_f1_score: 0.6086 - val_loss: 0.6963\n",
      "Epoch 2/10\n",
      "\u001b[1m96/96\u001b[0m \u001b[32m━━━━━━━━━━━━━━━━━━━━\u001b[0m\u001b[37m\u001b[0m \u001b[1m16s\u001b[0m 165ms/step - accuracy: 0.4217 - f1_score: 0.5903 - loss: 0.8383 - val_accuracy: 0.4655 - val_f1_score: 0.6086 - val_loss: 0.6977\n",
      "Epoch 3/10\n",
      "\u001b[1m96/96\u001b[0m \u001b[32m━━━━━━━━━━━━━━━━━━━━\u001b[0m\u001b[37m\u001b[0m \u001b[1m16s\u001b[0m 165ms/step - accuracy: 0.4167 - f1_score: 0.5854 - loss: 0.8372 - val_accuracy: 0.4655 - val_f1_score: 0.6086 - val_loss: 0.6981\n",
      "Epoch 4/10\n",
      "\u001b[1m96/96\u001b[0m \u001b[32m━━━━━━━━━━━━━━━━━━━━\u001b[0m\u001b[37m\u001b[0m \u001b[1m16s\u001b[0m 167ms/step - accuracy: 0.4238 - f1_score: 0.5925 - loss: 0.8389 - val_accuracy: 0.4655 - val_f1_score: 0.6086 - val_loss: 0.6957\n",
      "Epoch 5/10\n",
      "\u001b[1m96/96\u001b[0m \u001b[32m━━━━━━━━━━━━━━━━━━━━\u001b[0m\u001b[37m\u001b[0m \u001b[1m16s\u001b[0m 166ms/step - accuracy: 0.4311 - f1_score: 0.5995 - loss: 0.8408 - val_accuracy: 0.4655 - val_f1_score: 0.6086 - val_loss: 0.6959\n",
      "Epoch 6/10\n",
      "\u001b[1m96/96\u001b[0m \u001b[32m━━━━━━━━━━━━━━━━━━━━\u001b[0m\u001b[37m\u001b[0m \u001b[1m16s\u001b[0m 169ms/step - accuracy: 0.4206 - f1_score: 0.5902 - loss: 0.8379 - val_accuracy: 0.4655 - val_f1_score: 0.6086 - val_loss: 0.6959\n",
      "Epoch 7/10\n",
      "\u001b[1m96/96\u001b[0m \u001b[32m━━━━━━━━━━━━━━━━━━━━\u001b[0m\u001b[37m\u001b[0m \u001b[1m16s\u001b[0m 165ms/step - accuracy: 0.4182 - f1_score: 0.5881 - loss: 0.8373 - val_accuracy: 0.4655 - val_f1_score: 0.6086 - val_loss: 0.6976\n",
      "Training with lr=0.001, batch_size=64, dropout=0.3, units=256\n",
      "Epoch 1/10\n"
     ]
    },
    {
     "name": "stderr",
     "output_type": "stream",
     "text": [
      "/opt/anaconda3/lib/python3.11/site-packages/keras/src/layers/core/embedding.py:90: UserWarning: Argument `input_length` is deprecated. Just remove it.\n",
      "  warnings.warn(\n"
     ]
    },
    {
     "name": "stdout",
     "output_type": "stream",
     "text": [
      "\u001b[1m96/96\u001b[0m \u001b[32m━━━━━━━━━━━━━━━━━━━━\u001b[0m\u001b[37m\u001b[0m \u001b[1m29s\u001b[0m 296ms/step - accuracy: 0.4609 - f1_score: 0.4267 - loss: 0.8367 - val_accuracy: 0.4655 - val_f1_score: 0.6086 - val_loss: 0.6964\n",
      "Epoch 2/10\n",
      "\u001b[1m96/96\u001b[0m \u001b[32m━━━━━━━━━━━━━━━━━━━━\u001b[0m\u001b[37m\u001b[0m \u001b[1m29s\u001b[0m 307ms/step - accuracy: 0.4279 - f1_score: 0.5960 - loss: 0.8400 - val_accuracy: 0.4655 - val_f1_score: 0.6086 - val_loss: 0.6948\n",
      "Epoch 3/10\n",
      "\u001b[1m96/96\u001b[0m \u001b[32m━━━━━━━━━━━━━━━━━━━━\u001b[0m\u001b[37m\u001b[0m \u001b[1m30s\u001b[0m 309ms/step - accuracy: 0.4163 - f1_score: 0.5855 - loss: 0.8369 - val_accuracy: 0.4655 - val_f1_score: 0.6086 - val_loss: 0.6969\n",
      "Epoch 4/10\n",
      "\u001b[1m96/96\u001b[0m \u001b[32m━━━━━━━━━━━━━━━━━━━━\u001b[0m\u001b[37m\u001b[0m \u001b[1m32s\u001b[0m 335ms/step - accuracy: 0.4255 - f1_score: 0.5947 - loss: 0.8391 - val_accuracy: 0.4655 - val_f1_score: 0.6086 - val_loss: 0.6963\n",
      "Epoch 5/10\n",
      "\u001b[1m96/96\u001b[0m \u001b[32m━━━━━━━━━━━━━━━━━━━━\u001b[0m\u001b[37m\u001b[0m \u001b[1m33s\u001b[0m 341ms/step - accuracy: 0.4181 - f1_score: 0.5874 - loss: 0.8374 - val_accuracy: 0.4655 - val_f1_score: 0.6086 - val_loss: 0.6965\n",
      "Training with lr=0.001, batch_size=64, dropout=0.4, units=64\n",
      "Epoch 1/10\n"
     ]
    },
    {
     "name": "stderr",
     "output_type": "stream",
     "text": [
      "/opt/anaconda3/lib/python3.11/site-packages/keras/src/layers/core/embedding.py:90: UserWarning: Argument `input_length` is deprecated. Just remove it.\n",
      "  warnings.warn(\n"
     ]
    },
    {
     "name": "stdout",
     "output_type": "stream",
     "text": [
      "\u001b[1m96/96\u001b[0m \u001b[32m━━━━━━━━━━━━━━━━━━━━\u001b[0m\u001b[37m\u001b[0m \u001b[1m11s\u001b[0m 100ms/step - accuracy: 0.4405 - f1_score: 0.5029 - loss: 0.8369 - val_accuracy: 0.4655 - val_f1_score: 0.6086 - val_loss: 0.6969\n",
      "Epoch 2/10\n",
      "\u001b[1m96/96\u001b[0m \u001b[32m━━━━━━━━━━━━━━━━━━━━\u001b[0m\u001b[37m\u001b[0m \u001b[1m10s\u001b[0m 104ms/step - accuracy: 0.4206 - f1_score: 0.5891 - loss: 0.8381 - val_accuracy: 0.4655 - val_f1_score: 0.6086 - val_loss: 0.6954\n",
      "Epoch 3/10\n",
      "\u001b[1m96/96\u001b[0m \u001b[32m━━━━━━━━━━━━━━━━━━━━\u001b[0m\u001b[37m\u001b[0m \u001b[1m9s\u001b[0m 98ms/step - accuracy: 0.4187 - f1_score: 0.5881 - loss: 0.8377 - val_accuracy: 0.4655 - val_f1_score: 0.6086 - val_loss: 0.6965\n",
      "Epoch 4/10\n",
      "\u001b[1m96/96\u001b[0m \u001b[32m━━━━━━━━━━━━━━━━━━━━\u001b[0m\u001b[37m\u001b[0m \u001b[1m10s\u001b[0m 101ms/step - accuracy: 0.4204 - f1_score: 0.5882 - loss: 0.8380 - val_accuracy: 0.4655 - val_f1_score: 0.6086 - val_loss: 0.6962\n",
      "Epoch 5/10\n",
      "\u001b[1m96/96\u001b[0m \u001b[32m━━━━━━━━━━━━━━━━━━━━\u001b[0m\u001b[37m\u001b[0m \u001b[1m9s\u001b[0m 99ms/step - accuracy: 0.4225 - f1_score: 0.5919 - loss: 0.8384 - val_accuracy: 0.4655 - val_f1_score: 0.6086 - val_loss: 0.6966\n",
      "Training with lr=0.001, batch_size=64, dropout=0.4, units=128\n",
      "Epoch 1/10\n"
     ]
    },
    {
     "name": "stderr",
     "output_type": "stream",
     "text": [
      "/opt/anaconda3/lib/python3.11/site-packages/keras/src/layers/core/embedding.py:90: UserWarning: Argument `input_length` is deprecated. Just remove it.\n",
      "  warnings.warn(\n"
     ]
    },
    {
     "name": "stdout",
     "output_type": "stream",
     "text": [
      "\u001b[1m96/96\u001b[0m \u001b[32m━━━━━━━━━━━━━━━━━━━━\u001b[0m\u001b[37m\u001b[0m \u001b[1m17s\u001b[0m 169ms/step - accuracy: 0.4368 - f1_score: 0.4847 - loss: 0.8387 - val_accuracy: 0.4655 - val_f1_score: 0.6086 - val_loss: 0.6970\n",
      "Epoch 2/10\n",
      "\u001b[1m96/96\u001b[0m \u001b[32m━━━━━━━━━━━━━━━━━━━━\u001b[0m\u001b[37m\u001b[0m \u001b[1m17s\u001b[0m 178ms/step - accuracy: 0.4170 - f1_score: 0.5859 - loss: 0.8372 - val_accuracy: 0.4655 - val_f1_score: 0.6086 - val_loss: 0.6949\n",
      "Epoch 3/10\n",
      "\u001b[1m96/96\u001b[0m \u001b[32m━━━━━━━━━━━━━━━━━━━━\u001b[0m\u001b[37m\u001b[0m \u001b[1m17s\u001b[0m 179ms/step - accuracy: 0.4160 - f1_score: 0.5819 - loss: 0.8373 - val_accuracy: 0.4655 - val_f1_score: 0.6086 - val_loss: 0.6966\n",
      "Epoch 4/10\n",
      "\u001b[1m96/96\u001b[0m \u001b[32m━━━━━━━━━━━━━━━━━━━━\u001b[0m\u001b[37m\u001b[0m \u001b[1m17s\u001b[0m 174ms/step - accuracy: 0.4107 - f1_score: 0.5797 - loss: 0.8355 - val_accuracy: 0.4655 - val_f1_score: 0.6086 - val_loss: 0.6970\n",
      "Epoch 5/10\n",
      "\u001b[1m96/96\u001b[0m \u001b[32m━━━━━━━━━━━━━━━━━━━━\u001b[0m\u001b[37m\u001b[0m \u001b[1m17s\u001b[0m 180ms/step - accuracy: 0.4292 - f1_score: 0.5973 - loss: 0.8401 - val_accuracy: 0.4655 - val_f1_score: 0.6086 - val_loss: 0.6953\n",
      "Training with lr=0.001, batch_size=64, dropout=0.4, units=256\n",
      "Epoch 1/10\n"
     ]
    },
    {
     "name": "stderr",
     "output_type": "stream",
     "text": [
      "/opt/anaconda3/lib/python3.11/site-packages/keras/src/layers/core/embedding.py:90: UserWarning: Argument `input_length` is deprecated. Just remove it.\n",
      "  warnings.warn(\n"
     ]
    },
    {
     "name": "stdout",
     "output_type": "stream",
     "text": [
      "\u001b[1m96/96\u001b[0m \u001b[32m━━━━━━━━━━━━━━━━━━━━\u001b[0m\u001b[37m\u001b[0m \u001b[1m30s\u001b[0m 306ms/step - accuracy: 0.4328 - f1_score: 0.5624 - loss: 0.8398 - val_accuracy: 0.4655 - val_f1_score: 0.6086 - val_loss: 0.6959\n",
      "Epoch 2/10\n",
      "\u001b[1m96/96\u001b[0m \u001b[32m━━━━━━━━━━━━━━━━━━━━\u001b[0m\u001b[37m\u001b[0m \u001b[1m31s\u001b[0m 319ms/step - accuracy: 0.4213 - f1_score: 0.5896 - loss: 0.8386 - val_accuracy: 0.4655 - val_f1_score: 0.6086 - val_loss: 0.6965\n",
      "Epoch 3/10\n",
      "\u001b[1m96/96\u001b[0m \u001b[32m━━━━━━━━━━━━━━━━━━━━\u001b[0m\u001b[37m\u001b[0m \u001b[1m29s\u001b[0m 302ms/step - accuracy: 0.4298 - f1_score: 0.5985 - loss: 0.8402 - val_accuracy: 0.4655 - val_f1_score: 0.6086 - val_loss: 0.6940\n",
      "Epoch 4/10\n",
      "\u001b[1m96/96\u001b[0m \u001b[32m━━━━━━━━━━━━━━━━━━━━\u001b[0m\u001b[37m\u001b[0m \u001b[1m31s\u001b[0m 320ms/step - accuracy: 0.4298 - f1_score: 0.5990 - loss: 0.8406 - val_accuracy: 0.4655 - val_f1_score: 0.6086 - val_loss: 0.6956\n",
      "Epoch 5/10\n",
      "\u001b[1m96/96\u001b[0m \u001b[32m━━━━━━━━━━━━━━━━━━━━\u001b[0m\u001b[37m\u001b[0m \u001b[1m31s\u001b[0m 324ms/step - accuracy: 0.4220 - f1_score: 0.5904 - loss: 0.8384 - val_accuracy: 0.4655 - val_f1_score: 0.6086 - val_loss: 0.6957\n",
      "Epoch 6/10\n",
      "\u001b[1m96/96\u001b[0m \u001b[32m━━━━━━━━━━━━━━━━━━━━\u001b[0m\u001b[37m\u001b[0m \u001b[1m32s\u001b[0m 329ms/step - accuracy: 0.4184 - f1_score: 0.5868 - loss: 0.8374 - val_accuracy: 0.4655 - val_f1_score: 0.6086 - val_loss: 0.6983\n"
     ]
    }
   ],
   "source": [
    "# Custom F1- score metric\n",
    "def f1_score(y_true,y_pred):\n",
    "    y_true=K.cast(y_true,'float32')  # Convert y_true to float32\n",
    "    y_pred=K.round(y_pred)  # Round predicted values to 0 or 1\n",
    "    tp=K.sum(K.cast(y_true*y_pred,'float'),axis=0)  # True positives\n",
    "    fp=K.sum(K.cast((1-y_true)*y_pred,'float'),axis=0)  # False positives\n",
    "    fn=K.sum(K.cast(y_true*(1-y_pred), 'float'),axis=0)  # False negatives\n",
    "\n",
    "    precision=tp/(tp+fp+K.epsilon())  # Precision\n",
    "    recall=tp/(tp+fn+K.epsilon())  # Recall\n",
    "    \n",
    "    f1=2*(precision*recall)/(precision+recall+K.epsilon())  # F1-score\n",
    "    return K.mean(f1)\n",
    "# Define hyperparameter\n",
    "learning_rates=[1e-4, 5e-4, 1e-3]\n",
    "batch_sizes=[16, 32, 64]\n",
    "dropouts=[0.2, 0.3, 0.4]\n",
    "lstm_units=[64, 128, 256]\n",
    "\n",
    "# Save best patameters\n",
    "best_f1=0\n",
    "best_params={}\n",
    "\n",
    "for lr in learning_rates:\n",
    "    for batch_size in batch_sizes:\n",
    "        for dropout_rate in dropouts:\n",
    "            for units in lstm_units:\n",
    "                print(f\"Training with lr={lr}, batch_size={batch_size}, dropout={dropout_rate}, units={units}\")\n",
    "                \n",
    "                # Define model\n",
    "                model=Sequential([\n",
    "                    Embedding(input_dim=vocab_size, output_dim=embedding_dim, weights=[embedding_matrix], input_length=max_length,trainable=False),\n",
    "                    LSTM(units, return_sequences=True),\n",
    "                    Dropout(dropout_rate),\n",
    "                    LSTM(64),\n",
    "                    Dense(1, activation='sigmoid')\n",
    "                ])\n",
    "                \n",
    "                optimizer=Adam(learning_rate=lr)\n",
    "                model.compile(optimizer=optimizer,loss='binary_crossentropy', metrics=['accuracy', f1_score])\n",
    "                \n",
    "                early_stopping = EarlyStopping(monitor='val_loss', patience=3, restore_best_weights=True)\n",
    "                \n",
    "                # Model training\n",
    "                class_weight={0: 1, 1: 1.5}\n",
    "                history=model.fit(\n",
    "                    train_padded, \n",
    "                    train_data['target'], \n",
    "                    validation_split=0.2, \n",
    "                    epochs=10, \n",
    "                    batch_size=batch_size, \n",
    "                    callbacks=[early_stopping],\n",
    "                    class_weight=class_weight,\n",
    "                    verbose=1\n",
    "                )            \n",
    "               "
   ]
  },
  {
   "cell_type": "code",
   "execution_count": 41,
   "id": "94bca7b5-0bec-42b2-b7b6-3d4cdbf038d2",
   "metadata": {},
   "outputs": [
    {
     "name": "stdout",
     "output_type": "stream",
     "text": [
      "\u001b[1m238/238\u001b[0m \u001b[32m━━━━━━━━━━━━━━━━━━━━\u001b[0m\u001b[37m\u001b[0m \u001b[1m18s\u001b[0m 77ms/step\n",
      "F1 Score: 0.6011\n",
      "Best F1 Score:0.6011\n",
      "Best Parameters:{'learning_rate': 0.001, 'batch_size': 64, 'dropout_rate': 0.4, 'lstm_units': 256}\n"
     ]
    }
   ],
   "source": [
    "# Prediction on validation set \n",
    "val_predictions=model.predict(train_padded)\n",
    "val_predictions=(val_predictions>0.5).astype(int).flatten()\n",
    "val_predictions=val_predictions.astype('float32')\n",
    "                \n",
    "# F1 score\n",
    "f1=f1_score(train_data['target'], val_predictions)\n",
    "print(f\"F1 Score: {f1:.4f}\")\n",
    "                \n",
    "# Update best params\n",
    "if f1>best_f1:\n",
    "    best_f1=f1\n",
    "    best_params={\n",
    "                'learning_rate':lr,\n",
    "                'batch_size':batch_size,\n",
    "                'dropout_rate':dropout_rate,\n",
    "                'lstm_units':units\n",
    "             }\n",
    "\n",
    "# Best results\n",
    "print(f\"Best F1 Score:{best_f1:.4f}\")\n",
    "print(f\"Best Parameters:{best_params}\")"
   ]
  },
  {
   "cell_type": "markdown",
   "id": "30a9a083-de87-4233-8769-c386b73bd20f",
   "metadata": {},
   "source": [
    "### Summary\n",
    "1.Hyperparameter Tuning Result:\n",
    "\n",
    "    Best Parameters:\n",
    "        learning_rate: 0.001\n",
    "        batch_size: 64\n",
    "        dropout_rate: 0.4\n",
    "        lstm_units: 256\n",
    "    Best F1 Score: 0.6011\n",
    "    After tuning, the highest F1 score achieved on the validation set was 0.6011, with a larger batch size and higher dropout rate compared to the default parameters.\n",
    "\n",
    "2. Result Without Hyperparameter Tuning:\n",
    "\n",
    "    Parameters Used:\n",
    "\n",
    "        learning_rate: 1e-3\n",
    "        batch_size: 32\n",
    "        dropout_rate: 0.2\n",
    "        lstm_units: 128\n",
    "    F1 Score: 0.6011\n",
    "    Interestingly, despite using different parameter settings, the model also achieved an F1 score of 0.6011 on the validation set.\n",
    "\n",
    "4. Key Insights:\n",
    "    \n",
    "        The final F1 scores are the same for both models (0.6011), indicating that the model performance might be stable across a range of hyperparameters.\n",
    "        Even though the tuned model uses a larger batch_size and higher dropout_rate, it did not significantly outperform the model with default parameters."
   ]
  },
  {
   "cell_type": "code",
   "execution_count": 49,
   "id": "297d6272-8da7-4b99-a88f-2e3050bccd9d",
   "metadata": {},
   "outputs": [
    {
     "name": "stdout",
     "output_type": "stream",
     "text": [
      "Epoch 1/10\n"
     ]
    },
    {
     "name": "stderr",
     "output_type": "stream",
     "text": [
      "/opt/anaconda3/lib/python3.11/site-packages/keras/src/layers/core/embedding.py:90: UserWarning: Argument `input_length` is deprecated. Just remove it.\n",
      "  warnings.warn(\n"
     ]
    },
    {
     "name": "stdout",
     "output_type": "stream",
     "text": [
      "\u001b[1m119/119\u001b[0m \u001b[32m━━━━━━━━━━━━━━━━━━━━\u001b[0m\u001b[37m\u001b[0m \u001b[1m35s\u001b[0m 288ms/step - accuracy: 0.4332 - f1_score: 0.5431 - loss: 0.8416\n",
      "Epoch 2/10\n",
      "\u001b[1m119/119\u001b[0m \u001b[32m━━━━━━━━━━━━━━━━━━━━\u001b[0m\u001b[37m\u001b[0m \u001b[1m35s\u001b[0m 291ms/step - accuracy: 0.4278 - f1_score: 0.5965 - loss: 0.8399\n",
      "Epoch 3/10\n",
      "\u001b[1m119/119\u001b[0m \u001b[32m━━━━━━━━━━━━━━━━━━━━\u001b[0m\u001b[37m\u001b[0m \u001b[1m36s\u001b[0m 301ms/step - accuracy: 0.4306 - f1_score: 0.5998 - loss: 0.8403\n",
      "Epoch 4/10\n",
      "\u001b[1m119/119\u001b[0m \u001b[32m━━━━━━━━━━━━━━━━━━━━\u001b[0m\u001b[37m\u001b[0m \u001b[1m35s\u001b[0m 292ms/step - accuracy: 0.4316 - f1_score: 0.6005 - loss: 0.8404\n",
      "Epoch 5/10\n",
      "\u001b[1m119/119\u001b[0m \u001b[32m━━━━━━━━━━━━━━━━━━━━\u001b[0m\u001b[37m\u001b[0m \u001b[1m35s\u001b[0m 293ms/step - accuracy: 0.4253 - f1_score: 0.5936 - loss: 0.8391\n",
      "Epoch 6/10\n",
      "\u001b[1m119/119\u001b[0m \u001b[32m━━━━━━━━━━━━━━━━━━━━\u001b[0m\u001b[37m\u001b[0m \u001b[1m36s\u001b[0m 302ms/step - accuracy: 0.4323 - f1_score: 0.6008 - loss: 0.8406\n",
      "Epoch 7/10\n",
      "\u001b[1m119/119\u001b[0m \u001b[32m━━━━━━━━━━━━━━━━━━━━\u001b[0m\u001b[37m\u001b[0m \u001b[1m35s\u001b[0m 297ms/step - accuracy: 0.4316 - f1_score: 0.6001 - loss: 0.8404\n",
      "Epoch 8/10\n",
      "\u001b[1m119/119\u001b[0m \u001b[32m━━━━━━━━━━━━━━━━━━━━\u001b[0m\u001b[37m\u001b[0m \u001b[1m35s\u001b[0m 298ms/step - accuracy: 0.4283 - f1_score: 0.5970 - loss: 0.8398\n",
      "Epoch 9/10\n",
      "\u001b[1m119/119\u001b[0m \u001b[32m━━━━━━━━━━━━━━━━━━━━\u001b[0m\u001b[37m\u001b[0m \u001b[1m35s\u001b[0m 295ms/step - accuracy: 0.4287 - f1_score: 0.5978 - loss: 0.8399\n",
      "Epoch 10/10\n",
      "\u001b[1m119/119\u001b[0m \u001b[32m━━━━━━━━━━━━━━━━━━━━\u001b[0m\u001b[37m\u001b[0m \u001b[1m36s\u001b[0m 301ms/step - accuracy: 0.4342 - f1_score: 0.6026 - loss: 0.8409\n",
      "\u001b[1m102/102\u001b[0m \u001b[32m━━━━━━━━━━━━━━━━━━━━\u001b[0m\u001b[37m\u001b[0m \u001b[1m7s\u001b[0m 63ms/step\n",
      "Submission file 'submission.csv' has been created.\n"
     ]
    }
   ],
   "source": [
    "# Prediciton on Test with the Best Params\n",
    "best_lr=best_params['learning_rate']\n",
    "best_batch_size=best_params['batch_size']\n",
    "best_dropout_rate=best_params['dropout_rate']\n",
    "best_units=best_params['lstm_units']\n",
    "\n",
    "# Define Model\n",
    "model=Sequential([\n",
    "    Embedding(input_dim=vocab_size, output_dim=embedding_dim, weights=[embedding_matrix], input_length=max_length, trainable=False),\n",
    "    LSTM(best_units, return_sequences=True),\n",
    "    Dropout(best_dropout_rate),\n",
    "    LSTM(64),\n",
    "    Dense(1, activation='sigmoid')\n",
    "])\n",
    "\n",
    "optimizer=Adam(learning_rate=best_lr)\n",
    "model.compile(optimizer=optimizer, loss='binary_crossentropy', metrics=['accuracy', f1_score])\n",
    "\n",
    "# Model Training\n",
    "class_weight={0: 1, 1: 1.5}\n",
    "early_stopping=EarlyStopping(monitor='loss', patience=3, restore_best_weights=True)\n",
    "history = model.fit(\n",
    "    train_padded, \n",
    "    train_data['target'], \n",
    "    epochs=10, \n",
    "    batch_size=best_batch_size, \n",
    "    callbacks=[early_stopping],\n",
    "    class_weight=class_weight,\n",
    "    verbose=1\n",
    ")\n",
    "\n",
    "# Prediciton on Test\n",
    "test_predictions=model.predict(test_padded)\n",
    "test_predictions=(test_predictions>0.5).astype(int).flatten()\n",
    "\n",
    "# Test Submission\n",
    "submission=pd.DataFrame({'id':test_data['id'], 'target': test_predictions})\n",
    "submission.to_csv('submission.csv', index=False)\n",
    "print(\"Submission file 'submission.csv' has been created.\")"
   ]
  },
  {
   "cell_type": "markdown",
   "id": "1618c25d-c24e-45fc-8e02-e810cf840c77",
   "metadata": {},
   "source": [
    "# Step5 GRU Model"
   ]
  },
  {
   "cell_type": "markdown",
   "id": "cc2c7753-b762-4c1b-a991-697711e805b1",
   "metadata": {},
   "source": [
    "let me try Gru Model if i can get better score."
   ]
  },
  {
   "cell_type": "code",
   "execution_count": 51,
   "id": "4b8cedc7-a961-4505-b44a-465712210475",
   "metadata": {},
   "outputs": [],
   "source": [
    "from tensorflow.keras.layers import GRU"
   ]
  },
  {
   "cell_type": "code",
   "execution_count": 83,
   "id": "4d4f9edc-3064-406f-933d-fa2ff3617e2f",
   "metadata": {},
   "outputs": [],
   "source": [
    "# Custom F1- score metric\n",
    "def f1_score(y_true,y_pred):\n",
    "    y_true=K.cast(y_true,'float32')  # Convert y_true to float32\n",
    "    y_pred=K.cast(K.round(y_pred),'float32')  # Convert y_pred to float32 after round predicted values to 0 or 1\n",
    "    tp=K.sum(K.cast(y_true*y_pred,'float'), axis=0)  # True positives\n",
    "    fp=K.sum(K.cast((1-y_true)*y_pred,'float'), axis=0)  # False positives\n",
    "    fn=K.sum(K.cast(y_true*(1-y_pred), 'float'), axis=0)  # False negatives\n",
    "\n",
    "    precision=tp/(tp+fp+K.epsilon())  # Precision\n",
    "    recall=tp/(tp+fn+K.epsilon())  # Recall\n",
    "    \n",
    "    f1=2*(precision*recall)/(precision+recall+K.epsilon())  # F1-score\n",
    "    return K.mean(f1)\n",
    "\n",
    "# Define model\n",
    "model_gru=Sequential([\n",
    "    # Embeddding layer\n",
    "    Embedding(input_dim=vocab_size,\n",
    "              output_dim=embedding_dim,\n",
    "              weights=[embedding_matrix],\n",
    "              trainable=False),\n",
    "    # Add GRU layer\n",
    "    GRU(128,return_sequences=True),\n",
    "    Dropout(0.2),\n",
    "    LSTM(64),     # Add an additional LSTM layer for experimentation\n",
    "    Dense(1,activation='sigmoid')\n",
    "])\n",
    "\n",
    "# Compile the model\n",
    "optimizer=Adam(learning_rate=1e-3)\n",
    "model_gru.compile(optimizer=optimizer,loss='binary_crossentropy',metrics=['accuracy', f1_score])\n",
    "\n",
    "# Build the model by specifying an input shape\n",
    "model.build(input_shape=(None, max_length))\n",
    "\n"
   ]
  },
  {
   "cell_type": "code",
   "execution_count": 85,
   "id": "76f84ea8-aab0-44dd-b9f1-f61c9b8ae750",
   "metadata": {},
   "outputs": [
    {
     "name": "stdout",
     "output_type": "stream",
     "text": [
      "Epoch 1/10\n",
      "\u001b[1m191/191\u001b[0m \u001b[32m━━━━━━━━━━━━━━━━━━━━\u001b[0m\u001b[37m\u001b[0m \u001b[1m20s\u001b[0m 98ms/step - accuracy: 0.4153 - f1_score: 0.5646 - loss: 0.8388 - val_accuracy: 0.4655 - val_f1_score: 0.5967 - val_loss: 0.6964\n",
      "Epoch 2/10\n",
      "\u001b[1m191/191\u001b[0m \u001b[32m━━━━━━━━━━━━━━━━━━━━\u001b[0m\u001b[37m\u001b[0m \u001b[1m19s\u001b[0m 98ms/step - accuracy: 0.4248 - f1_score: 0.5909 - loss: 0.8391 - val_accuracy: 0.4655 - val_f1_score: 0.5967 - val_loss: 0.6974\n",
      "Epoch 3/10\n",
      "\u001b[1m191/191\u001b[0m \u001b[32m━━━━━━━━━━━━━━━━━━━━\u001b[0m\u001b[37m\u001b[0m \u001b[1m19s\u001b[0m 98ms/step - accuracy: 0.4257 - f1_score: 0.5915 - loss: 0.8394 - val_accuracy: 0.4655 - val_f1_score: 0.5967 - val_loss: 0.6962\n",
      "Epoch 4/10\n",
      "\u001b[1m191/191\u001b[0m \u001b[32m━━━━━━━━━━━━━━━━━━━━\u001b[0m\u001b[37m\u001b[0m \u001b[1m19s\u001b[0m 100ms/step - accuracy: 0.4199 - f1_score: 0.5864 - loss: 0.8379 - val_accuracy: 0.4655 - val_f1_score: 0.5967 - val_loss: 0.6964\n",
      "Epoch 5/10\n",
      "\u001b[1m191/191\u001b[0m \u001b[32m━━━━━━━━━━━━━━━━━━━━\u001b[0m\u001b[37m\u001b[0m \u001b[1m19s\u001b[0m 100ms/step - accuracy: 0.4258 - f1_score: 0.5925 - loss: 0.8392 - val_accuracy: 0.4655 - val_f1_score: 0.5967 - val_loss: 0.6958\n",
      "Epoch 6/10\n",
      "\u001b[1m191/191\u001b[0m \u001b[32m━━━━━━━━━━━━━━━━━━━━\u001b[0m\u001b[37m\u001b[0m \u001b[1m19s\u001b[0m 98ms/step - accuracy: 0.4336 - f1_score: 0.6000 - loss: 0.8414 - val_accuracy: 0.4655 - val_f1_score: 0.5967 - val_loss: 0.6944\n",
      "Epoch 7/10\n",
      "\u001b[1m191/191\u001b[0m \u001b[32m━━━━━━━━━━━━━━━━━━━━\u001b[0m\u001b[37m\u001b[0m \u001b[1m19s\u001b[0m 101ms/step - accuracy: 0.4219 - f1_score: 0.5881 - loss: 0.8387 - val_accuracy: 0.4655 - val_f1_score: 0.5967 - val_loss: 0.6967\n",
      "Epoch 8/10\n",
      "\u001b[1m191/191\u001b[0m \u001b[32m━━━━━━━━━━━━━━━━━━━━\u001b[0m\u001b[37m\u001b[0m \u001b[1m19s\u001b[0m 99ms/step - accuracy: 0.4198 - f1_score: 0.5862 - loss: 0.8377 - val_accuracy: 0.4655 - val_f1_score: 0.5967 - val_loss: 0.6963\n",
      "Epoch 9/10\n",
      "\u001b[1m191/191\u001b[0m \u001b[32m━━━━━━━━━━━━━━━━━━━━\u001b[0m\u001b[37m\u001b[0m \u001b[1m19s\u001b[0m 99ms/step - accuracy: 0.4273 - f1_score: 0.5941 - loss: 0.8396 - val_accuracy: 0.4655 - val_f1_score: 0.5967 - val_loss: 0.6963\n"
     ]
    }
   ],
   "source": [
    "# Model Training \n",
    "# Define early stopping\n",
    "early_stopping=EarlyStopping(monitor='val_loss', patience=3, restore_best_weights=True)\n",
    "\n",
    "# Define class weights to handle imbalance\n",
    "class_weight={0: 1.0, 1: 1.5}  # Give more weight to class 1\n",
    "\n",
    "# Train the model with validation split\n",
    "history_gru=model_gru.fit(\n",
    "    train_padded,\n",
    "    train_data['target'],\n",
    "    validation_split=0.2,  # Use 20% of data for validation\n",
    "    epochs=10,             # Set the number of epochs\n",
    "    batch_size=32,         # Set the batch size\n",
    "    class_weight=class_weight, # Use class weights\n",
    "    callbacks=[early_stopping],# Apply early stopping\n",
    "    verbose=1              # Print progress during training\n",
    ")\n"
   ]
  },
  {
   "cell_type": "code",
   "execution_count": 89,
   "id": "afbc718e-0a47-4b75-9961-8e0b44d7d127",
   "metadata": {},
   "outputs": [
    {
     "name": "stdout",
     "output_type": "stream",
     "text": [
      "\u001b[1m238/238\u001b[0m \u001b[32m━━━━━━━━━━━━━━━━━━━━\u001b[0m\u001b[37m\u001b[0m \u001b[1m15s\u001b[0m 64ms/step\n",
      "F1 Score on validation set: 0.6011\n"
     ]
    }
   ],
   "source": [
    "# Evaluation \n",
    "# Prediction on validation set \n",
    "from sklearn.metrics import f1_score\n",
    "val_predictions=model.predict(train_padded)\n",
    "val_predictions=(val_predictions>0.5).astype(int)  # Convert probabilities to binary labels\n",
    "\n",
    "# Calculate F1 score\n",
    "f1=f1_score(train_data['target'].astype('float32'),val_predictions)\n",
    "print(f\"F1 Score on validation set: {f1:.4f}\")"
   ]
  },
  {
   "cell_type": "code",
   "execution_count": 93,
   "id": "a8c462cb-42e1-4ab5-a4c8-c383f1bae8b3",
   "metadata": {},
   "outputs": [
    {
     "name": "stdout",
     "output_type": "stream",
     "text": [
      "Training with lr=0.0001, batch_size=16, dropout=0.2, units=64\n",
      "Epoch 1/10\n"
     ]
    },
    {
     "name": "stderr",
     "output_type": "stream",
     "text": [
      "/opt/anaconda3/lib/python3.11/site-packages/keras/src/layers/core/embedding.py:90: UserWarning: Argument `input_length` is deprecated. Just remove it.\n",
      "  warnings.warn(\n"
     ]
    },
    {
     "name": "stdout",
     "output_type": "stream",
     "text": [
      "\u001b[1m381/381\u001b[0m \u001b[32m━━━━━━━━━━━━━━━━━━━━\u001b[0m\u001b[37m\u001b[0m \u001b[1m20s\u001b[0m 48ms/step - accuracy: 0.4563 - f1_score_metric: 0.4080 - loss: 0.8376 - val_accuracy: 0.4655 - val_f1_score_metric: 0.5879 - val_loss: 0.6956\n",
      "Epoch 2/10\n",
      "\u001b[1m381/381\u001b[0m \u001b[32m━━━━━━━━━━━━━━━━━━━━\u001b[0m\u001b[37m\u001b[0m \u001b[1m18s\u001b[0m 48ms/step - accuracy: 0.4131 - f1_score_metric: 0.5745 - loss: 0.8360 - val_accuracy: 0.4655 - val_f1_score_metric: 0.5879 - val_loss: 0.6977\n",
      "Epoch 3/10\n",
      "\u001b[1m381/381\u001b[0m \u001b[32m━━━━━━━━━━━━━━━━━━━━\u001b[0m\u001b[37m\u001b[0m \u001b[1m19s\u001b[0m 49ms/step - accuracy: 0.4060 - f1_score_metric: 0.5681 - loss: 0.8344 - val_accuracy: 0.4655 - val_f1_score_metric: 0.5879 - val_loss: 0.6997\n",
      "Epoch 4/10\n",
      "\u001b[1m381/381\u001b[0m \u001b[32m━━━━━━━━━━━━━━━━━━━━\u001b[0m\u001b[37m\u001b[0m \u001b[1m18s\u001b[0m 48ms/step - accuracy: 0.4032 - f1_score_metric: 0.5605 - loss: 0.8344 - val_accuracy: 0.4655 - val_f1_score_metric: 0.5879 - val_loss: 0.6981\n",
      "\u001b[1m238/238\u001b[0m \u001b[32m━━━━━━━━━━━━━━━━━━━━\u001b[0m\u001b[37m\u001b[0m \u001b[1m4s\u001b[0m 15ms/step\n",
      "F1 Score: 0.6011\n",
      "Training with lr=0.0001, batch_size=16, dropout=0.2, units=128\n",
      "Epoch 1/10\n"
     ]
    },
    {
     "name": "stderr",
     "output_type": "stream",
     "text": [
      "/opt/anaconda3/lib/python3.11/site-packages/keras/src/layers/core/embedding.py:90: UserWarning: Argument `input_length` is deprecated. Just remove it.\n",
      "  warnings.warn(\n"
     ]
    },
    {
     "name": "stdout",
     "output_type": "stream",
     "text": [
      "\u001b[1m381/381\u001b[0m \u001b[32m━━━━━━━━━━━━━━━━━━━━\u001b[0m\u001b[37m\u001b[0m \u001b[1m30s\u001b[0m 74ms/step - accuracy: 0.4934 - f1_score_metric: 0.2933 - loss: 0.8350 - val_accuracy: 0.4655 - val_f1_score_metric: 0.5879 - val_loss: 0.6969\n",
      "Epoch 2/10\n",
      "\u001b[1m381/381\u001b[0m \u001b[32m━━━━━━━━━━━━━━━━━━━━\u001b[0m\u001b[37m\u001b[0m \u001b[1m30s\u001b[0m 78ms/step - accuracy: 0.4160 - f1_score_metric: 0.5771 - loss: 0.8369 - val_accuracy: 0.4655 - val_f1_score_metric: 0.5879 - val_loss: 0.6972\n",
      "Epoch 3/10\n",
      "\u001b[1m381/381\u001b[0m \u001b[32m━━━━━━━━━━━━━━━━━━━━\u001b[0m\u001b[37m\u001b[0m \u001b[1m34s\u001b[0m 89ms/step - accuracy: 0.4164 - f1_score_metric: 0.5777 - loss: 0.8370 - val_accuracy: 0.4655 - val_f1_score_metric: 0.5879 - val_loss: 0.6967\n",
      "Epoch 4/10\n",
      "\u001b[1m381/381\u001b[0m \u001b[32m━━━━━━━━━━━━━━━━━━━━\u001b[0m\u001b[37m\u001b[0m \u001b[1m29s\u001b[0m 76ms/step - accuracy: 0.4333 - f1_score_metric: 0.5934 - loss: 0.8410 - val_accuracy: 0.4655 - val_f1_score_metric: 0.5879 - val_loss: 0.6960\n",
      "Epoch 5/10\n",
      "\u001b[1m381/381\u001b[0m \u001b[32m━━━━━━━━━━━━━━━━━━━━\u001b[0m\u001b[37m\u001b[0m \u001b[1m31s\u001b[0m 81ms/step - accuracy: 0.4195 - f1_score_metric: 0.5800 - loss: 0.8377 - val_accuracy: 0.4655 - val_f1_score_metric: 0.5879 - val_loss: 0.6969\n",
      "Epoch 6/10\n",
      "\u001b[1m381/381\u001b[0m \u001b[32m━━━━━━━━━━━━━━━━━━━━\u001b[0m\u001b[37m\u001b[0m \u001b[1m29s\u001b[0m 75ms/step - accuracy: 0.4192 - f1_score_metric: 0.5817 - loss: 0.8376 - val_accuracy: 0.4655 - val_f1_score_metric: 0.5879 - val_loss: 0.6974\n",
      "Epoch 7/10\n",
      "\u001b[1m381/381\u001b[0m \u001b[32m━━━━━━━━━━━━━━━━━━━━\u001b[0m\u001b[37m\u001b[0m \u001b[1m29s\u001b[0m 77ms/step - accuracy: 0.4278 - f1_score_metric: 0.5896 - loss: 0.8397 - val_accuracy: 0.4655 - val_f1_score_metric: 0.5879 - val_loss: 0.6960\n",
      "\u001b[1m238/238\u001b[0m \u001b[32m━━━━━━━━━━━━━━━━━━━━\u001b[0m\u001b[37m\u001b[0m \u001b[1m7s\u001b[0m 30ms/step\n",
      "F1 Score: 0.6011\n",
      "Training with lr=0.0001, batch_size=16, dropout=0.2, units=256\n",
      "Epoch 1/10\n"
     ]
    },
    {
     "name": "stderr",
     "output_type": "stream",
     "text": [
      "/opt/anaconda3/lib/python3.11/site-packages/keras/src/layers/core/embedding.py:90: UserWarning: Argument `input_length` is deprecated. Just remove it.\n",
      "  warnings.warn(\n"
     ]
    },
    {
     "name": "stdout",
     "output_type": "stream",
     "text": [
      "\u001b[1m381/381\u001b[0m \u001b[32m━━━━━━━━━━━━━━━━━━━━\u001b[0m\u001b[37m\u001b[0m \u001b[1m51s\u001b[0m 128ms/step - accuracy: 0.4143 - f1_score_metric: 0.5653 - loss: 0.8373 - val_accuracy: 0.4655 - val_f1_score_metric: 0.5879 - val_loss: 0.6974\n",
      "Epoch 2/10\n",
      "\u001b[1m381/381\u001b[0m \u001b[32m━━━━━━━━━━━━━━━━━━━━\u001b[0m\u001b[37m\u001b[0m \u001b[1m49s\u001b[0m 129ms/step - accuracy: 0.4064 - f1_score_metric: 0.5681 - loss: 0.8344 - val_accuracy: 0.4655 - val_f1_score_metric: 0.5879 - val_loss: 0.6997\n",
      "Epoch 3/10\n",
      "\u001b[1m381/381\u001b[0m \u001b[32m━━━━━━━━━━━━━━━━━━━━\u001b[0m\u001b[37m\u001b[0m \u001b[1m54s\u001b[0m 142ms/step - accuracy: 0.4182 - f1_score_metric: 0.5784 - loss: 0.8375 - val_accuracy: 0.4655 - val_f1_score_metric: 0.5879 - val_loss: 0.6971\n",
      "Epoch 4/10\n",
      "\u001b[1m381/381\u001b[0m \u001b[32m━━━━━━━━━━━━━━━━━━━━\u001b[0m\u001b[37m\u001b[0m \u001b[1m55s\u001b[0m 145ms/step - accuracy: 0.4254 - f1_score_metric: 0.5871 - loss: 0.8391 - val_accuracy: 0.4655 - val_f1_score_metric: 0.5879 - val_loss: 0.6962\n",
      "Epoch 5/10\n",
      "\u001b[1m381/381\u001b[0m \u001b[32m━━━━━━━━━━━━━━━━━━━━\u001b[0m\u001b[37m\u001b[0m \u001b[1m49s\u001b[0m 129ms/step - accuracy: 0.4296 - f1_score_metric: 0.5904 - loss: 0.8400 - val_accuracy: 0.4655 - val_f1_score_metric: 0.5879 - val_loss: 0.6956\n",
      "Epoch 6/10\n",
      "\u001b[1m381/381\u001b[0m \u001b[32m━━━━━━━━━━━━━━━━━━━━\u001b[0m\u001b[37m\u001b[0m \u001b[1m48s\u001b[0m 127ms/step - accuracy: 0.4205 - f1_score_metric: 0.5796 - loss: 0.8379 - val_accuracy: 0.4655 - val_f1_score_metric: 0.5879 - val_loss: 0.6959\n",
      "Epoch 7/10\n",
      "\u001b[1m381/381\u001b[0m \u001b[32m━━━━━━━━━━━━━━━━━━━━\u001b[0m\u001b[37m\u001b[0m \u001b[1m49s\u001b[0m 129ms/step - accuracy: 0.4244 - f1_score_metric: 0.5865 - loss: 0.8390 - val_accuracy: 0.4655 - val_f1_score_metric: 0.5879 - val_loss: 0.6960\n",
      "Epoch 8/10\n",
      "\u001b[1m381/381\u001b[0m \u001b[32m━━━━━━━━━━━━━━━━━━━━\u001b[0m\u001b[37m\u001b[0m \u001b[1m49s\u001b[0m 128ms/step - accuracy: 0.4340 - f1_score_metric: 0.5951 - loss: 0.8413 - val_accuracy: 0.4655 - val_f1_score_metric: 0.5879 - val_loss: 0.6961\n",
      "\u001b[1m238/238\u001b[0m \u001b[32m━━━━━━━━━━━━━━━━━━━━\u001b[0m\u001b[37m\u001b[0m \u001b[1m12s\u001b[0m 50ms/step\n",
      "F1 Score: 0.6011\n",
      "Training with lr=0.0001, batch_size=16, dropout=0.3, units=64\n",
      "Epoch 1/10\n"
     ]
    },
    {
     "name": "stderr",
     "output_type": "stream",
     "text": [
      "/opt/anaconda3/lib/python3.11/site-packages/keras/src/layers/core/embedding.py:90: UserWarning: Argument `input_length` is deprecated. Just remove it.\n",
      "  warnings.warn(\n"
     ]
    },
    {
     "name": "stdout",
     "output_type": "stream",
     "text": [
      "\u001b[1m381/381\u001b[0m \u001b[32m━━━━━━━━━━━━━━━━━━━━\u001b[0m\u001b[37m\u001b[0m \u001b[1m19s\u001b[0m 47ms/step - accuracy: 0.4511 - f1_score_metric: 0.4714 - loss: 0.8393 - val_accuracy: 0.4655 - val_f1_score_metric: 0.5879 - val_loss: 0.6956\n",
      "Epoch 2/10\n",
      "\u001b[1m381/381\u001b[0m \u001b[32m━━━━━━━━━━━━━━━━━━━━\u001b[0m\u001b[37m\u001b[0m \u001b[1m18s\u001b[0m 47ms/step - accuracy: 0.4210 - f1_score_metric: 0.5832 - loss: 0.8383 - val_accuracy: 0.4655 - val_f1_score_metric: 0.5879 - val_loss: 0.6970\n",
      "Epoch 3/10\n",
      "\u001b[1m381/381\u001b[0m \u001b[32m━━━━━━━━━━━━━━━━━━━━\u001b[0m\u001b[37m\u001b[0m \u001b[1m18s\u001b[0m 47ms/step - accuracy: 0.4147 - f1_score_metric: 0.5750 - loss: 0.8366 - val_accuracy: 0.4655 - val_f1_score_metric: 0.5879 - val_loss: 0.6973\n",
      "Epoch 4/10\n",
      "\u001b[1m381/381\u001b[0m \u001b[32m━━━━━━━━━━━━━━━━━━━━\u001b[0m\u001b[37m\u001b[0m \u001b[1m18s\u001b[0m 48ms/step - accuracy: 0.4053 - f1_score_metric: 0.5660 - loss: 0.8341 - val_accuracy: 0.4655 - val_f1_score_metric: 0.5879 - val_loss: 0.6982\n",
      "\u001b[1m238/238\u001b[0m \u001b[32m━━━━━━━━━━━━━━━━━━━━\u001b[0m\u001b[37m\u001b[0m \u001b[1m4s\u001b[0m 15ms/step\n",
      "F1 Score: 0.6011\n",
      "Training with lr=0.0001, batch_size=16, dropout=0.3, units=128\n",
      "Epoch 1/10\n"
     ]
    },
    {
     "name": "stderr",
     "output_type": "stream",
     "text": [
      "/opt/anaconda3/lib/python3.11/site-packages/keras/src/layers/core/embedding.py:90: UserWarning: Argument `input_length` is deprecated. Just remove it.\n",
      "  warnings.warn(\n"
     ]
    },
    {
     "name": "stdout",
     "output_type": "stream",
     "text": [
      "\u001b[1m381/381\u001b[0m \u001b[32m━━━━━━━━━━━━━━━━━━━━\u001b[0m\u001b[37m\u001b[0m \u001b[1m30s\u001b[0m 76ms/step - accuracy: 0.4358 - f1_score_metric: 0.5652 - loss: 0.8423 - val_accuracy: 0.4655 - val_f1_score_metric: 0.5879 - val_loss: 0.6949\n",
      "Epoch 2/10\n",
      "\u001b[1m381/381\u001b[0m \u001b[32m━━━━━━━━━━━━━━━━━━━━\u001b[0m\u001b[37m\u001b[0m \u001b[1m30s\u001b[0m 78ms/step - accuracy: 0.4189 - f1_score_metric: 0.5798 - loss: 0.8376 - val_accuracy: 0.4655 - val_f1_score_metric: 0.5879 - val_loss: 0.6965\n",
      "Epoch 3/10\n",
      "\u001b[1m381/381\u001b[0m \u001b[32m━━━━━━━━━━━━━━━━━━━━\u001b[0m\u001b[37m\u001b[0m \u001b[1m31s\u001b[0m 82ms/step - accuracy: 0.4311 - f1_score_metric: 0.5931 - loss: 0.8404 - val_accuracy: 0.4655 - val_f1_score_metric: 0.5879 - val_loss: 0.6943\n",
      "Epoch 4/10\n",
      "\u001b[1m381/381\u001b[0m \u001b[32m━━━━━━━━━━━━━━━━━━━━\u001b[0m\u001b[37m\u001b[0m \u001b[1m31s\u001b[0m 81ms/step - accuracy: 0.4196 - f1_score_metric: 0.5794 - loss: 0.8379 - val_accuracy: 0.4655 - val_f1_score_metric: 0.5879 - val_loss: 0.6965\n",
      "Epoch 5/10\n",
      "\u001b[1m381/381\u001b[0m \u001b[32m━━━━━━━━━━━━━━━━━━━━\u001b[0m\u001b[37m\u001b[0m \u001b[1m29s\u001b[0m 77ms/step - accuracy: 0.4199 - f1_score_metric: 0.5789 - loss: 0.8379 - val_accuracy: 0.4655 - val_f1_score_metric: 0.5879 - val_loss: 0.6978\n",
      "Epoch 6/10\n",
      "\u001b[1m381/381\u001b[0m \u001b[32m━━━━━━━━━━━━━━━━━━━━\u001b[0m\u001b[37m\u001b[0m \u001b[1m33s\u001b[0m 86ms/step - accuracy: 0.4258 - f1_score_metric: 0.5863 - loss: 0.8391 - val_accuracy: 0.4655 - val_f1_score_metric: 0.5879 - val_loss: 0.6962\n",
      "\u001b[1m238/238\u001b[0m \u001b[32m━━━━━━━━━━━━━━━━━━━━\u001b[0m\u001b[37m\u001b[0m \u001b[1m6s\u001b[0m 24ms/step\n",
      "F1 Score: 0.6011\n",
      "Training with lr=0.0001, batch_size=16, dropout=0.3, units=256\n",
      "Epoch 1/10\n"
     ]
    },
    {
     "name": "stderr",
     "output_type": "stream",
     "text": [
      "/opt/anaconda3/lib/python3.11/site-packages/keras/src/layers/core/embedding.py:90: UserWarning: Argument `input_length` is deprecated. Just remove it.\n",
      "  warnings.warn(\n"
     ]
    },
    {
     "name": "stdout",
     "output_type": "stream",
     "text": [
      "\u001b[1m381/381\u001b[0m \u001b[32m━━━━━━━━━━━━━━━━━━━━\u001b[0m\u001b[37m\u001b[0m \u001b[1m54s\u001b[0m 137ms/step - accuracy: 0.4746 - f1_score_metric: 0.3870 - loss: 0.8362 - val_accuracy: 0.4655 - val_f1_score_metric: 0.5879 - val_loss: 0.6970\n",
      "Epoch 2/10\n",
      "\u001b[1m381/381\u001b[0m \u001b[32m━━━━━━━━━━━━━━━━━━━━\u001b[0m\u001b[37m\u001b[0m \u001b[1m51s\u001b[0m 135ms/step - accuracy: 0.4342 - f1_score_metric: 0.5963 - loss: 0.8413 - val_accuracy: 0.4655 - val_f1_score_metric: 0.5879 - val_loss: 0.6954\n",
      "Epoch 3/10\n",
      "\u001b[1m381/381\u001b[0m \u001b[32m━━━━━━━━━━━━━━━━━━━━\u001b[0m\u001b[37m\u001b[0m \u001b[1m51s\u001b[0m 135ms/step - accuracy: 0.4235 - f1_score_metric: 0.5836 - loss: 0.8388 - val_accuracy: 0.4655 - val_f1_score_metric: 0.5879 - val_loss: 0.6957\n",
      "Epoch 4/10\n",
      "\u001b[1m381/381\u001b[0m \u001b[32m━━━━━━━━━━━━━━━━━━━━\u001b[0m\u001b[37m\u001b[0m \u001b[1m54s\u001b[0m 140ms/step - accuracy: 0.4130 - f1_score_metric: 0.5741 - loss: 0.8360 - val_accuracy: 0.4655 - val_f1_score_metric: 0.5879 - val_loss: 0.6978\n",
      "Epoch 5/10\n",
      "\u001b[1m381/381\u001b[0m \u001b[32m━━━━━━━━━━━━━━━━━━━━\u001b[0m\u001b[37m\u001b[0m \u001b[1m53s\u001b[0m 140ms/step - accuracy: 0.4105 - f1_score_metric: 0.5717 - loss: 0.8355 - val_accuracy: 0.4655 - val_f1_score_metric: 0.5879 - val_loss: 0.6989\n",
      "\u001b[1m238/238\u001b[0m \u001b[32m━━━━━━━━━━━━━━━━━━━━\u001b[0m\u001b[37m\u001b[0m \u001b[1m12s\u001b[0m 51ms/step\n",
      "F1 Score: 0.6011\n",
      "Training with lr=0.0001, batch_size=16, dropout=0.4, units=64\n",
      "Epoch 1/10\n"
     ]
    },
    {
     "name": "stderr",
     "output_type": "stream",
     "text": [
      "/opt/anaconda3/lib/python3.11/site-packages/keras/src/layers/core/embedding.py:90: UserWarning: Argument `input_length` is deprecated. Just remove it.\n",
      "  warnings.warn(\n"
     ]
    },
    {
     "name": "stdout",
     "output_type": "stream",
     "text": [
      "\u001b[1m381/381\u001b[0m \u001b[32m━━━━━━━━━━━━━━━━━━━━\u001b[0m\u001b[37m\u001b[0m \u001b[1m20s\u001b[0m 49ms/step - accuracy: 0.4383 - f1_score_metric: 0.4780 - loss: 0.8371 - val_accuracy: 0.4655 - val_f1_score_metric: 0.5879 - val_loss: 0.6980\n",
      "Epoch 2/10\n",
      "\u001b[1m381/381\u001b[0m \u001b[32m━━━━━━━━━━━━━━━━━━━━\u001b[0m\u001b[37m\u001b[0m \u001b[1m19s\u001b[0m 49ms/step - accuracy: 0.4228 - f1_score_metric: 0.5817 - loss: 0.8385 - val_accuracy: 0.4655 - val_f1_score_metric: 0.5879 - val_loss: 0.6959\n",
      "Epoch 3/10\n",
      "\u001b[1m381/381\u001b[0m \u001b[32m━━━━━━━━━━━━━━━━━━━━\u001b[0m\u001b[37m\u001b[0m \u001b[1m19s\u001b[0m 50ms/step - accuracy: 0.4234 - f1_score_metric: 0.5862 - loss: 0.8386 - val_accuracy: 0.4655 - val_f1_score_metric: 0.5879 - val_loss: 0.6961\n",
      "Epoch 4/10\n",
      "\u001b[1m381/381\u001b[0m \u001b[32m━━━━━━━━━━━━━━━━━━━━\u001b[0m\u001b[37m\u001b[0m \u001b[1m18s\u001b[0m 48ms/step - accuracy: 0.4180 - f1_score_metric: 0.5810 - loss: 0.8373 - val_accuracy: 0.4655 - val_f1_score_metric: 0.5879 - val_loss: 0.6966\n",
      "Epoch 5/10\n",
      "\u001b[1m381/381\u001b[0m \u001b[32m━━━━━━━━━━━━━━━━━━━━\u001b[0m\u001b[37m\u001b[0m \u001b[1m19s\u001b[0m 50ms/step - accuracy: 0.4194 - f1_score_metric: 0.5779 - loss: 0.8377 - val_accuracy: 0.4655 - val_f1_score_metric: 0.5879 - val_loss: 0.6975\n",
      "\u001b[1m238/238\u001b[0m \u001b[32m━━━━━━━━━━━━━━━━━━━━\u001b[0m\u001b[37m\u001b[0m \u001b[1m4s\u001b[0m 15ms/step\n",
      "F1 Score: 0.6011\n",
      "Training with lr=0.0001, batch_size=16, dropout=0.4, units=128\n",
      "Epoch 1/10\n"
     ]
    },
    {
     "name": "stderr",
     "output_type": "stream",
     "text": [
      "/opt/anaconda3/lib/python3.11/site-packages/keras/src/layers/core/embedding.py:90: UserWarning: Argument `input_length` is deprecated. Just remove it.\n",
      "  warnings.warn(\n"
     ]
    },
    {
     "name": "stdout",
     "output_type": "stream",
     "text": [
      "\u001b[1m381/381\u001b[0m \u001b[32m━━━━━━━━━━━━━━━━━━━━\u001b[0m\u001b[37m\u001b[0m \u001b[1m31s\u001b[0m 78ms/step - accuracy: 0.4254 - f1_score_metric: 0.5755 - loss: 0.8406 - val_accuracy: 0.4655 - val_f1_score_metric: 0.5879 - val_loss: 0.6961\n",
      "Epoch 2/10\n",
      "\u001b[1m381/381\u001b[0m \u001b[32m━━━━━━━━━━━━━━━━━━━━\u001b[0m\u001b[37m\u001b[0m \u001b[1m28s\u001b[0m 74ms/step - accuracy: 0.4199 - f1_score_metric: 0.5811 - loss: 0.8378 - val_accuracy: 0.4655 - val_f1_score_metric: 0.5879 - val_loss: 0.6966\n",
      "Epoch 3/10\n",
      "\u001b[1m381/381\u001b[0m \u001b[32m━━━━━━━━━━━━━━━━━━━━\u001b[0m\u001b[37m\u001b[0m \u001b[1m29s\u001b[0m 75ms/step - accuracy: 0.4162 - f1_score_metric: 0.5766 - loss: 0.8368 - val_accuracy: 0.4655 - val_f1_score_metric: 0.5879 - val_loss: 0.6963\n",
      "Epoch 4/10\n",
      "\u001b[1m381/381\u001b[0m \u001b[32m━━━━━━━━━━━━━━━━━━━━\u001b[0m\u001b[37m\u001b[0m \u001b[1m28s\u001b[0m 74ms/step - accuracy: 0.4194 - f1_score_metric: 0.5796 - loss: 0.8378 - val_accuracy: 0.4655 - val_f1_score_metric: 0.5879 - val_loss: 0.6961\n",
      "Epoch 5/10\n",
      "\u001b[1m381/381\u001b[0m \u001b[32m━━━━━━━━━━━━━━━━━━━━\u001b[0m\u001b[37m\u001b[0m \u001b[1m29s\u001b[0m 77ms/step - accuracy: 0.4231 - f1_score_metric: 0.5863 - loss: 0.8386 - val_accuracy: 0.4655 - val_f1_score_metric: 0.5879 - val_loss: 0.6968\n",
      "Epoch 6/10\n",
      "\u001b[1m381/381\u001b[0m \u001b[32m━━━━━━━━━━━━━━━━━━━━\u001b[0m\u001b[37m\u001b[0m \u001b[1m30s\u001b[0m 78ms/step - accuracy: 0.4252 - f1_score_metric: 0.5826 - loss: 0.8391 - val_accuracy: 0.4655 - val_f1_score_metric: 0.5879 - val_loss: 0.6971\n",
      "Epoch 7/10\n",
      "\u001b[1m381/381\u001b[0m \u001b[32m━━━━━━━━━━━━━━━━━━━━\u001b[0m\u001b[37m\u001b[0m \u001b[1m29s\u001b[0m 77ms/step - accuracy: 0.4277 - f1_score_metric: 0.5867 - loss: 0.8396 - val_accuracy: 0.4655 - val_f1_score_metric: 0.5879 - val_loss: 0.6976\n",
      "\u001b[1m238/238\u001b[0m \u001b[32m━━━━━━━━━━━━━━━━━━━━\u001b[0m\u001b[37m\u001b[0m \u001b[1m6s\u001b[0m 25ms/step\n",
      "F1 Score: 0.6011\n",
      "Training with lr=0.0001, batch_size=16, dropout=0.4, units=256\n",
      "Epoch 1/10\n"
     ]
    },
    {
     "name": "stderr",
     "output_type": "stream",
     "text": [
      "/opt/anaconda3/lib/python3.11/site-packages/keras/src/layers/core/embedding.py:90: UserWarning: Argument `input_length` is deprecated. Just remove it.\n",
      "  warnings.warn(\n"
     ]
    },
    {
     "name": "stdout",
     "output_type": "stream",
     "text": [
      "\u001b[1m381/381\u001b[0m \u001b[32m━━━━━━━━━━━━━━━━━━━━\u001b[0m\u001b[37m\u001b[0m \u001b[1m51s\u001b[0m 131ms/step - accuracy: 0.4642 - f1_score_metric: 0.4522 - loss: 0.8388 - val_accuracy: 0.4655 - val_f1_score_metric: 0.5879 - val_loss: 0.6949\n",
      "Epoch 2/10\n",
      "\u001b[1m381/381\u001b[0m \u001b[32m━━━━━━━━━━━━━━━━━━━━\u001b[0m\u001b[37m\u001b[0m \u001b[1m47s\u001b[0m 124ms/step - accuracy: 0.4210 - f1_score_metric: 0.5823 - loss: 0.8382 - val_accuracy: 0.4655 - val_f1_score_metric: 0.5879 - val_loss: 0.6986\n",
      "Epoch 3/10\n",
      "\u001b[1m381/381\u001b[0m \u001b[32m━━━━━━━━━━━━━━━━━━━━\u001b[0m\u001b[37m\u001b[0m \u001b[1m46s\u001b[0m 121ms/step - accuracy: 0.4069 - f1_score_metric: 0.5668 - loss: 0.8349 - val_accuracy: 0.4655 - val_f1_score_metric: 0.5879 - val_loss: 0.6975\n",
      "Epoch 4/10\n",
      "\u001b[1m381/381\u001b[0m \u001b[32m━━━━━━━━━━━━━━━━━━━━\u001b[0m\u001b[37m\u001b[0m \u001b[1m47s\u001b[0m 123ms/step - accuracy: 0.4285 - f1_score_metric: 0.5878 - loss: 0.8399 - val_accuracy: 0.4655 - val_f1_score_metric: 0.5879 - val_loss: 0.6950\n",
      "\u001b[1m238/238\u001b[0m \u001b[32m━━━━━━━━━━━━━━━━━━━━\u001b[0m\u001b[37m\u001b[0m \u001b[1m12s\u001b[0m 48ms/step\n",
      "F1 Score: 0.6011\n",
      "Training with lr=0.0001, batch_size=32, dropout=0.2, units=64\n",
      "Epoch 1/10\n"
     ]
    },
    {
     "name": "stderr",
     "output_type": "stream",
     "text": [
      "/opt/anaconda3/lib/python3.11/site-packages/keras/src/layers/core/embedding.py:90: UserWarning: Argument `input_length` is deprecated. Just remove it.\n",
      "  warnings.warn(\n"
     ]
    },
    {
     "name": "stdout",
     "output_type": "stream",
     "text": [
      "\u001b[1m191/191\u001b[0m \u001b[32m━━━━━━━━━━━━━━━━━━━━\u001b[0m\u001b[37m\u001b[0m \u001b[1m23s\u001b[0m 63ms/step - accuracy: 0.4337 - f1_score_metric: 0.5023 - loss: 0.8375 - val_accuracy: 0.4655 - val_f1_score_metric: 0.5967 - val_loss: 0.6960\n",
      "Epoch 2/10\n",
      "\u001b[1m191/191\u001b[0m \u001b[32m━━━━━━━━━━━━━━━━━━━━\u001b[0m\u001b[37m\u001b[0m \u001b[1m12s\u001b[0m 63ms/step - accuracy: 0.4195 - f1_score_metric: 0.5865 - loss: 0.8377 - val_accuracy: 0.4655 - val_f1_score_metric: 0.5967 - val_loss: 0.6963\n",
      "Epoch 3/10\n",
      "\u001b[1m191/191\u001b[0m \u001b[32m━━━━━━━━━━━━━━━━━━━━\u001b[0m\u001b[37m\u001b[0m \u001b[1m12s\u001b[0m 63ms/step - accuracy: 0.4170 - f1_score_metric: 0.5832 - loss: 0.8370 - val_accuracy: 0.4655 - val_f1_score_metric: 0.5967 - val_loss: 0.6980\n",
      "Epoch 4/10\n",
      "\u001b[1m191/191\u001b[0m \u001b[32m━━━━━━━━━━━━━━━━━━━━\u001b[0m\u001b[37m\u001b[0m \u001b[1m12s\u001b[0m 62ms/step - accuracy: 0.4259 - f1_score_metric: 0.5919 - loss: 0.8391 - val_accuracy: 0.4655 - val_f1_score_metric: 0.5967 - val_loss: 0.6966\n",
      "\u001b[1m238/238\u001b[0m \u001b[32m━━━━━━━━━━━━━━━━━━━━\u001b[0m\u001b[37m\u001b[0m \u001b[1m4s\u001b[0m 15ms/step\n",
      "F1 Score: 0.6011\n",
      "Training with lr=0.0001, batch_size=32, dropout=0.2, units=128\n",
      "Epoch 1/10\n"
     ]
    },
    {
     "name": "stderr",
     "output_type": "stream",
     "text": [
      "/opt/anaconda3/lib/python3.11/site-packages/keras/src/layers/core/embedding.py:90: UserWarning: Argument `input_length` is deprecated. Just remove it.\n",
      "  warnings.warn(\n"
     ]
    },
    {
     "name": "stdout",
     "output_type": "stream",
     "text": [
      "\u001b[1m191/191\u001b[0m \u001b[32m━━━━━━━━━━━━━━━━━━━━\u001b[0m\u001b[37m\u001b[0m \u001b[1m20s\u001b[0m 97ms/step - accuracy: 0.4684 - f1_score_metric: 0.4145 - loss: 0.8377 - val_accuracy: 0.4655 - val_f1_score_metric: 0.5967 - val_loss: 0.6965\n",
      "Epoch 2/10\n",
      "\u001b[1m191/191\u001b[0m \u001b[32m━━━━━━━━━━━━━━━━━━━━\u001b[0m\u001b[37m\u001b[0m \u001b[1m18s\u001b[0m 96ms/step - accuracy: 0.4274 - f1_score_metric: 0.5925 - loss: 0.8395 - val_accuracy: 0.4655 - val_f1_score_metric: 0.5967 - val_loss: 0.6958\n",
      "Epoch 3/10\n",
      "\u001b[1m191/191\u001b[0m \u001b[32m━━━━━━━━━━━━━━━━━━━━\u001b[0m\u001b[37m\u001b[0m \u001b[1m18s\u001b[0m 95ms/step - accuracy: 0.4245 - f1_score_metric: 0.5900 - loss: 0.8390 - val_accuracy: 0.4655 - val_f1_score_metric: 0.5967 - val_loss: 0.6965\n",
      "Epoch 4/10\n",
      "\u001b[1m191/191\u001b[0m \u001b[32m━━━━━━━━━━━━━━━━━━━━\u001b[0m\u001b[37m\u001b[0m \u001b[1m19s\u001b[0m 97ms/step - accuracy: 0.4257 - f1_score_metric: 0.5912 - loss: 0.8393 - val_accuracy: 0.4655 - val_f1_score_metric: 0.5967 - val_loss: 0.6957\n",
      "Epoch 5/10\n",
      "\u001b[1m191/191\u001b[0m \u001b[32m━━━━━━━━━━━━━━━━━━━━\u001b[0m\u001b[37m\u001b[0m \u001b[1m18s\u001b[0m 96ms/step - accuracy: 0.4239 - f1_score_metric: 0.5895 - loss: 0.8390 - val_accuracy: 0.4655 - val_f1_score_metric: 0.5967 - val_loss: 0.6964\n",
      "Epoch 6/10\n",
      "\u001b[1m191/191\u001b[0m \u001b[32m━━━━━━━━━━━━━━━━━━━━\u001b[0m\u001b[37m\u001b[0m \u001b[1m18s\u001b[0m 96ms/step - accuracy: 0.4203 - f1_score_metric: 0.5862 - loss: 0.8378 - val_accuracy: 0.4655 - val_f1_score_metric: 0.5967 - val_loss: 0.6967\n",
      "Epoch 7/10\n",
      "\u001b[1m191/191\u001b[0m \u001b[32m━━━━━━━━━━━━━━━━━━━━\u001b[0m\u001b[37m\u001b[0m \u001b[1m18s\u001b[0m 96ms/step - accuracy: 0.4094 - f1_score_metric: 0.5745 - loss: 0.8351 - val_accuracy: 0.4655 - val_f1_score_metric: 0.5967 - val_loss: 0.6979\n",
      "\u001b[1m238/238\u001b[0m \u001b[32m━━━━━━━━━━━━━━━━━━━━\u001b[0m\u001b[37m\u001b[0m \u001b[1m6s\u001b[0m 24ms/step\n",
      "F1 Score: 0.6011\n",
      "Training with lr=0.0001, batch_size=32, dropout=0.2, units=256\n",
      "Epoch 1/10\n"
     ]
    },
    {
     "name": "stderr",
     "output_type": "stream",
     "text": [
      "/opt/anaconda3/lib/python3.11/site-packages/keras/src/layers/core/embedding.py:90: UserWarning: Argument `input_length` is deprecated. Just remove it.\n",
      "  warnings.warn(\n"
     ]
    },
    {
     "name": "stdout",
     "output_type": "stream",
     "text": [
      "\u001b[1m191/191\u001b[0m \u001b[32m━━━━━━━━━━━━━━━━━━━━\u001b[0m\u001b[37m\u001b[0m \u001b[1m35s\u001b[0m 177ms/step - accuracy: 0.4137 - f1_score_metric: 0.5612 - loss: 0.8377 - val_accuracy: 0.4655 - val_f1_score_metric: 0.5967 - val_loss: 0.6983\n",
      "Epoch 2/10\n",
      "\u001b[1m191/191\u001b[0m \u001b[32m━━━━━━━━━━━━━━━━━━━━\u001b[0m\u001b[37m\u001b[0m \u001b[1m32s\u001b[0m 165ms/step - accuracy: 0.4236 - f1_score_metric: 0.5899 - loss: 0.8388 - val_accuracy: 0.4655 - val_f1_score_metric: 0.5967 - val_loss: 0.6966\n",
      "Epoch 3/10\n",
      "\u001b[1m191/191\u001b[0m \u001b[32m━━━━━━━━━━━━━━━━━━━━\u001b[0m\u001b[37m\u001b[0m \u001b[1m32s\u001b[0m 167ms/step - accuracy: 0.4186 - f1_score_metric: 0.5856 - loss: 0.8375 - val_accuracy: 0.4655 - val_f1_score_metric: 0.5967 - val_loss: 0.6966\n",
      "Epoch 4/10\n",
      "\u001b[1m191/191\u001b[0m \u001b[32m━━━━━━━━━━━━━━━━━━━━\u001b[0m\u001b[37m\u001b[0m \u001b[1m34s\u001b[0m 177ms/step - accuracy: 0.4276 - f1_score_metric: 0.5954 - loss: 0.8396 - val_accuracy: 0.4655 - val_f1_score_metric: 0.5967 - val_loss: 0.6950\n",
      "Epoch 5/10\n",
      "\u001b[1m191/191\u001b[0m \u001b[32m━━━━━━━━━━━━━━━━━━━━\u001b[0m\u001b[37m\u001b[0m \u001b[1m35s\u001b[0m 181ms/step - accuracy: 0.4121 - f1_score_metric: 0.5787 - loss: 0.8357 - val_accuracy: 0.4655 - val_f1_score_metric: 0.5967 - val_loss: 0.6976\n",
      "Epoch 6/10\n",
      "\u001b[1m191/191\u001b[0m \u001b[32m━━━━━━━━━━━━━━━━━━━━\u001b[0m\u001b[37m\u001b[0m \u001b[1m34s\u001b[0m 179ms/step - accuracy: 0.4285 - f1_score_metric: 0.5953 - loss: 0.8397 - val_accuracy: 0.4655 - val_f1_score_metric: 0.5967 - val_loss: 0.6964\n",
      "Epoch 7/10\n",
      "\u001b[1m191/191\u001b[0m \u001b[32m━━━━━━━━━━━━━━━━━━━━\u001b[0m\u001b[37m\u001b[0m \u001b[1m34s\u001b[0m 179ms/step - accuracy: 0.4130 - f1_score_metric: 0.5795 - loss: 0.8360 - val_accuracy: 0.4655 - val_f1_score_metric: 0.5967 - val_loss: 0.6972\n",
      "\u001b[1m238/238\u001b[0m \u001b[32m━━━━━━━━━━━━━━━━━━━━\u001b[0m\u001b[37m\u001b[0m \u001b[1m13s\u001b[0m 54ms/step\n",
      "F1 Score: 0.6011\n",
      "Training with lr=0.0001, batch_size=32, dropout=0.3, units=64\n",
      "Epoch 1/10\n"
     ]
    },
    {
     "name": "stderr",
     "output_type": "stream",
     "text": [
      "/opt/anaconda3/lib/python3.11/site-packages/keras/src/layers/core/embedding.py:90: UserWarning: Argument `input_length` is deprecated. Just remove it.\n",
      "  warnings.warn(\n"
     ]
    },
    {
     "name": "stdout",
     "output_type": "stream",
     "text": [
      "\u001b[1m191/191\u001b[0m \u001b[32m━━━━━━━━━━━━━━━━━━━━\u001b[0m\u001b[37m\u001b[0m \u001b[1m14s\u001b[0m 67ms/step - accuracy: 0.4288 - f1_score_metric: 0.5732 - loss: 0.8398 - val_accuracy: 0.4655 - val_f1_score_metric: 0.5967 - val_loss: 0.6962\n",
      "Epoch 2/10\n",
      "\u001b[1m191/191\u001b[0m \u001b[32m━━━━━━━━━━━━━━━━━━━━\u001b[0m\u001b[37m\u001b[0m \u001b[1m12s\u001b[0m 63ms/step - accuracy: 0.4331 - f1_score_metric: 0.5992 - loss: 0.8411 - val_accuracy: 0.4655 - val_f1_score_metric: 0.5967 - val_loss: 0.6953\n",
      "Epoch 3/10\n",
      "\u001b[1m191/191\u001b[0m \u001b[32m━━━━━━━━━━━━━━━━━━━━\u001b[0m\u001b[37m\u001b[0m \u001b[1m12s\u001b[0m 62ms/step - accuracy: 0.4119 - f1_score_metric: 0.5794 - loss: 0.8355 - val_accuracy: 0.4655 - val_f1_score_metric: 0.5967 - val_loss: 0.6969\n",
      "Epoch 4/10\n",
      "\u001b[1m191/191\u001b[0m \u001b[32m━━━━━━━━━━━━━━━━━━━━\u001b[0m\u001b[37m\u001b[0m \u001b[1m12s\u001b[0m 63ms/step - accuracy: 0.4207 - f1_score_metric: 0.5860 - loss: 0.8380 - val_accuracy: 0.4655 - val_f1_score_metric: 0.5967 - val_loss: 0.6964\n",
      "Epoch 5/10\n",
      "\u001b[1m191/191\u001b[0m \u001b[32m━━━━━━━━━━━━━━━━━━━━\u001b[0m\u001b[37m\u001b[0m \u001b[1m12s\u001b[0m 63ms/step - accuracy: 0.4217 - f1_score_metric: 0.5870 - loss: 0.8382 - val_accuracy: 0.4655 - val_f1_score_metric: 0.5967 - val_loss: 0.6967\n",
      "\u001b[1m238/238\u001b[0m \u001b[32m━━━━━━━━━━━━━━━━━━━━\u001b[0m\u001b[37m\u001b[0m \u001b[1m4s\u001b[0m 15ms/step\n",
      "F1 Score: 0.6011\n",
      "Training with lr=0.0001, batch_size=32, dropout=0.3, units=128\n",
      "Epoch 1/10\n"
     ]
    },
    {
     "name": "stderr",
     "output_type": "stream",
     "text": [
      "/opt/anaconda3/lib/python3.11/site-packages/keras/src/layers/core/embedding.py:90: UserWarning: Argument `input_length` is deprecated. Just remove it.\n",
      "  warnings.warn(\n"
     ]
    },
    {
     "name": "stdout",
     "output_type": "stream",
     "text": [
      "\u001b[1m191/191\u001b[0m \u001b[32m━━━━━━━━━━━━━━━━━━━━\u001b[0m\u001b[37m\u001b[0m \u001b[1m20s\u001b[0m 98ms/step - accuracy: 0.4245 - f1_score_metric: 0.5707 - loss: 0.8396 - val_accuracy: 0.4655 - val_f1_score_metric: 0.5967 - val_loss: 0.6963\n",
      "Epoch 2/10\n",
      "\u001b[1m191/191\u001b[0m \u001b[32m━━━━━━━━━━━━━━━━━━━━\u001b[0m\u001b[37m\u001b[0m \u001b[1m18s\u001b[0m 95ms/step - accuracy: 0.4209 - f1_score_metric: 0.5880 - loss: 0.8382 - val_accuracy: 0.4655 - val_f1_score_metric: 0.5967 - val_loss: 0.6969\n",
      "Epoch 3/10\n",
      "\u001b[1m191/191\u001b[0m \u001b[32m━━━━━━━━━━━━━━━━━━━━\u001b[0m\u001b[37m\u001b[0m \u001b[1m18s\u001b[0m 96ms/step - accuracy: 0.4245 - f1_score_metric: 0.5903 - loss: 0.8389 - val_accuracy: 0.4655 - val_f1_score_metric: 0.5967 - val_loss: 0.6963\n",
      "Epoch 4/10\n",
      "\u001b[1m191/191\u001b[0m \u001b[32m━━━━━━━━━━━━━━━━━━━━\u001b[0m\u001b[37m\u001b[0m \u001b[1m19s\u001b[0m 101ms/step - accuracy: 0.4247 - f1_score_metric: 0.5917 - loss: 0.8390 - val_accuracy: 0.4655 - val_f1_score_metric: 0.5967 - val_loss: 0.6975\n",
      "\u001b[1m238/238\u001b[0m \u001b[32m━━━━━━━━━━━━━━━━━━━━\u001b[0m\u001b[37m\u001b[0m \u001b[1m6s\u001b[0m 24ms/step\n",
      "F1 Score: 0.6011\n",
      "Training with lr=0.0001, batch_size=32, dropout=0.3, units=256\n",
      "Epoch 1/10\n"
     ]
    },
    {
     "name": "stderr",
     "output_type": "stream",
     "text": [
      "/opt/anaconda3/lib/python3.11/site-packages/keras/src/layers/core/embedding.py:90: UserWarning: Argument `input_length` is deprecated. Just remove it.\n",
      "  warnings.warn(\n"
     ]
    },
    {
     "name": "stdout",
     "output_type": "stream",
     "text": [
      "\u001b[1m191/191\u001b[0m \u001b[32m━━━━━━━━━━━━━━━━━━━━\u001b[0m\u001b[37m\u001b[0m \u001b[1m35s\u001b[0m 178ms/step - accuracy: 0.4288 - f1_score_metric: 0.5101 - loss: 0.8375 - val_accuracy: 0.4655 - val_f1_score_metric: 0.5967 - val_loss: 0.6990\n",
      "Epoch 2/10\n",
      "\u001b[1m191/191\u001b[0m \u001b[32m━━━━━━━━━━━━━━━━━━━━\u001b[0m\u001b[37m\u001b[0m \u001b[1m33s\u001b[0m 175ms/step - accuracy: 0.4197 - f1_score_metric: 0.5866 - loss: 0.8377 - val_accuracy: 0.4655 - val_f1_score_metric: 0.5967 - val_loss: 0.6984\n",
      "Epoch 3/10\n",
      "\u001b[1m191/191\u001b[0m \u001b[32m━━━━━━━━━━━━━━━━━━━━\u001b[0m\u001b[37m\u001b[0m \u001b[1m33s\u001b[0m 175ms/step - accuracy: 0.4091 - f1_score_metric: 0.5753 - loss: 0.8355 - val_accuracy: 0.4655 - val_f1_score_metric: 0.5967 - val_loss: 0.6982\n",
      "Epoch 4/10\n",
      "\u001b[1m191/191\u001b[0m \u001b[32m━━━━━━━━━━━━━━━━━━━━\u001b[0m\u001b[37m\u001b[0m \u001b[1m36s\u001b[0m 186ms/step - accuracy: 0.4188 - f1_score_metric: 0.5844 - loss: 0.8377 - val_accuracy: 0.4655 - val_f1_score_metric: 0.5967 - val_loss: 0.6964\n",
      "Epoch 5/10\n",
      "\u001b[1m191/191\u001b[0m \u001b[32m━━━━━━━━━━━━━━━━━━━━\u001b[0m\u001b[37m\u001b[0m \u001b[1m32s\u001b[0m 169ms/step - accuracy: 0.4212 - f1_score_metric: 0.5878 - loss: 0.8381 - val_accuracy: 0.4655 - val_f1_score_metric: 0.5967 - val_loss: 0.6970\n",
      "Epoch 6/10\n",
      "\u001b[1m191/191\u001b[0m \u001b[32m━━━━━━━━━━━━━━━━━━━━\u001b[0m\u001b[37m\u001b[0m \u001b[1m33s\u001b[0m 174ms/step - accuracy: 0.4328 - f1_score_metric: 0.5997 - loss: 0.8408 - val_accuracy: 0.4655 - val_f1_score_metric: 0.5967 - val_loss: 0.6954\n",
      "Epoch 7/10\n",
      "\u001b[1m191/191\u001b[0m \u001b[32m━━━━━━━━━━━━━━━━━━━━\u001b[0m\u001b[37m\u001b[0m \u001b[1m34s\u001b[0m 176ms/step - accuracy: 0.4215 - f1_score_metric: 0.5892 - loss: 0.8383 - val_accuracy: 0.4655 - val_f1_score_metric: 0.5967 - val_loss: 0.6975\n",
      "Epoch 8/10\n",
      "\u001b[1m191/191\u001b[0m \u001b[32m━━━━━━━━━━━━━━━━━━━━\u001b[0m\u001b[37m\u001b[0m \u001b[1m34s\u001b[0m 177ms/step - accuracy: 0.4203 - f1_score_metric: 0.5862 - loss: 0.8379 - val_accuracy: 0.4655 - val_f1_score_metric: 0.5967 - val_loss: 0.6965\n",
      "Epoch 9/10\n",
      "\u001b[1m191/191\u001b[0m \u001b[32m━━━━━━━━━━━━━━━━━━━━\u001b[0m\u001b[37m\u001b[0m \u001b[1m33s\u001b[0m 175ms/step - accuracy: 0.4171 - f1_score_metric: 0.5819 - loss: 0.8371 - val_accuracy: 0.4655 - val_f1_score_metric: 0.5967 - val_loss: 0.6969\n",
      "\u001b[1m238/238\u001b[0m \u001b[32m━━━━━━━━━━━━━━━━━━━━\u001b[0m\u001b[37m\u001b[0m \u001b[1m13s\u001b[0m 54ms/step\n",
      "F1 Score: 0.6011\n",
      "Training with lr=0.0001, batch_size=32, dropout=0.4, units=64\n",
      "Epoch 1/10\n"
     ]
    },
    {
     "name": "stderr",
     "output_type": "stream",
     "text": [
      "/opt/anaconda3/lib/python3.11/site-packages/keras/src/layers/core/embedding.py:90: UserWarning: Argument `input_length` is deprecated. Just remove it.\n",
      "  warnings.warn(\n"
     ]
    },
    {
     "name": "stdout",
     "output_type": "stream",
     "text": [
      "\u001b[1m191/191\u001b[0m \u001b[32m━━━━━━━━━━━━━━━━━━━━\u001b[0m\u001b[37m\u001b[0m \u001b[1m14s\u001b[0m 67ms/step - accuracy: 0.4580 - f1_score_metric: 0.4333 - loss: 0.8381 - val_accuracy: 0.4655 - val_f1_score_metric: 0.5967 - val_loss: 0.6963\n",
      "Epoch 2/10\n",
      "\u001b[1m191/191\u001b[0m \u001b[32m━━━━━━━━━━━━━━━━━━━━\u001b[0m\u001b[37m\u001b[0m \u001b[1m12s\u001b[0m 63ms/step - accuracy: 0.4220 - f1_score_metric: 0.5886 - loss: 0.8383 - val_accuracy: 0.4655 - val_f1_score_metric: 0.5967 - val_loss: 0.6967\n",
      "Epoch 3/10\n",
      "\u001b[1m191/191\u001b[0m \u001b[32m━━━━━━━━━━━━━━━━━━━━\u001b[0m\u001b[37m\u001b[0m \u001b[1m12s\u001b[0m 63ms/step - accuracy: 0.4075 - f1_score_metric: 0.5732 - loss: 0.8347 - val_accuracy: 0.4655 - val_f1_score_metric: 0.5967 - val_loss: 0.6974\n",
      "Epoch 4/10\n",
      "\u001b[1m191/191\u001b[0m \u001b[32m━━━━━━━━━━━━━━━━━━━━\u001b[0m\u001b[37m\u001b[0m \u001b[1m12s\u001b[0m 63ms/step - accuracy: 0.4201 - f1_score_metric: 0.5866 - loss: 0.8379 - val_accuracy: 0.4655 - val_f1_score_metric: 0.5967 - val_loss: 0.6973\n",
      "\u001b[1m238/238\u001b[0m \u001b[32m━━━━━━━━━━━━━━━━━━━━\u001b[0m\u001b[37m\u001b[0m \u001b[1m4s\u001b[0m 15ms/step\n",
      "F1 Score: 0.6011\n",
      "Training with lr=0.0001, batch_size=32, dropout=0.4, units=128\n",
      "Epoch 1/10\n"
     ]
    },
    {
     "name": "stderr",
     "output_type": "stream",
     "text": [
      "/opt/anaconda3/lib/python3.11/site-packages/keras/src/layers/core/embedding.py:90: UserWarning: Argument `input_length` is deprecated. Just remove it.\n",
      "  warnings.warn(\n"
     ]
    },
    {
     "name": "stdout",
     "output_type": "stream",
     "text": [
      "\u001b[1m191/191\u001b[0m \u001b[32m━━━━━━━━━━━━━━━━━━━━\u001b[0m\u001b[37m\u001b[0m \u001b[1m22s\u001b[0m 106ms/step - accuracy: 0.4233 - f1_score_metric: 0.5687 - loss: 0.8387 - val_accuracy: 0.4655 - val_f1_score_metric: 0.5967 - val_loss: 0.6961\n",
      "Epoch 2/10\n",
      "\u001b[1m191/191\u001b[0m \u001b[32m━━━━━━━━━━━━━━━━━━━━\u001b[0m\u001b[37m\u001b[0m \u001b[1m19s\u001b[0m 101ms/step - accuracy: 0.4229 - f1_score_metric: 0.5891 - loss: 0.8384 - val_accuracy: 0.4655 - val_f1_score_metric: 0.5967 - val_loss: 0.6962\n",
      "Epoch 3/10\n",
      "\u001b[1m191/191\u001b[0m \u001b[32m━━━━━━━━━━━━━━━━━━━━\u001b[0m\u001b[37m\u001b[0m \u001b[1m19s\u001b[0m 100ms/step - accuracy: 0.4111 - f1_score_metric: 0.5751 - loss: 0.8356 - val_accuracy: 0.4655 - val_f1_score_metric: 0.5967 - val_loss: 0.6969\n",
      "Epoch 4/10\n",
      "\u001b[1m191/191\u001b[0m \u001b[32m━━━━━━━━━━━━━━━━━━━━\u001b[0m\u001b[37m\u001b[0m \u001b[1m19s\u001b[0m 98ms/step - accuracy: 0.4208 - f1_score_metric: 0.5866 - loss: 0.8380 - val_accuracy: 0.4655 - val_f1_score_metric: 0.5967 - val_loss: 0.6967\n",
      "\u001b[1m238/238\u001b[0m \u001b[32m━━━━━━━━━━━━━━━━━━━━\u001b[0m\u001b[37m\u001b[0m \u001b[1m6s\u001b[0m 26ms/step\n",
      "F1 Score: 0.6011\n",
      "Training with lr=0.0001, batch_size=32, dropout=0.4, units=256\n",
      "Epoch 1/10\n"
     ]
    },
    {
     "name": "stderr",
     "output_type": "stream",
     "text": [
      "/opt/anaconda3/lib/python3.11/site-packages/keras/src/layers/core/embedding.py:90: UserWarning: Argument `input_length` is deprecated. Just remove it.\n",
      "  warnings.warn(\n"
     ]
    },
    {
     "name": "stdout",
     "output_type": "stream",
     "text": [
      "\u001b[1m191/191\u001b[0m \u001b[32m━━━━━━━━━━━━━━━━━━━━\u001b[0m\u001b[37m\u001b[0m \u001b[1m37s\u001b[0m 190ms/step - accuracy: 0.4660 - f1_score_metric: 0.4098 - loss: 0.8369 - val_accuracy: 0.4655 - val_f1_score_metric: 0.5967 - val_loss: 0.6963\n",
      "Epoch 2/10\n",
      "\u001b[1m191/191\u001b[0m \u001b[32m━━━━━━━━━━━━━━━━━━━━\u001b[0m\u001b[37m\u001b[0m \u001b[1m33s\u001b[0m 174ms/step - accuracy: 0.4144 - f1_score_metric: 0.5811 - loss: 0.8363 - val_accuracy: 0.4655 - val_f1_score_metric: 0.5967 - val_loss: 0.6983\n",
      "Epoch 3/10\n",
      "\u001b[1m191/191\u001b[0m \u001b[32m━━━━━━━━━━━━━━━━━━━━\u001b[0m\u001b[37m\u001b[0m \u001b[1m33s\u001b[0m 174ms/step - accuracy: 0.4204 - f1_score_metric: 0.5867 - loss: 0.8380 - val_accuracy: 0.4655 - val_f1_score_metric: 0.5967 - val_loss: 0.6973\n",
      "Epoch 4/10\n",
      "\u001b[1m191/191\u001b[0m \u001b[32m━━━━━━━━━━━━━━━━━━━━\u001b[0m\u001b[37m\u001b[0m \u001b[1m32s\u001b[0m 170ms/step - accuracy: 0.4295 - f1_score_metric: 0.5955 - loss: 0.8401 - val_accuracy: 0.4655 - val_f1_score_metric: 0.5967 - val_loss: 0.6968\n",
      "\u001b[1m238/238\u001b[0m \u001b[32m━━━━━━━━━━━━━━━━━━━━\u001b[0m\u001b[37m\u001b[0m \u001b[1m11s\u001b[0m 47ms/step\n",
      "F1 Score: 0.6011\n",
      "Training with lr=0.0001, batch_size=64, dropout=0.2, units=64\n",
      "Epoch 1/10\n"
     ]
    },
    {
     "name": "stderr",
     "output_type": "stream",
     "text": [
      "/opt/anaconda3/lib/python3.11/site-packages/keras/src/layers/core/embedding.py:90: UserWarning: Argument `input_length` is deprecated. Just remove it.\n",
      "  warnings.warn(\n"
     ]
    },
    {
     "name": "stdout",
     "output_type": "stream",
     "text": [
      "\u001b[1m96/96\u001b[0m \u001b[32m━━━━━━━━━━━━━━━━━━━━\u001b[0m\u001b[37m\u001b[0m \u001b[1m10s\u001b[0m 91ms/step - accuracy: 0.5016 - f1_score_metric: 0.2664 - loss: 0.8358 - val_accuracy: 0.4655 - val_f1_score_metric: 0.6086 - val_loss: 0.6954\n",
      "Epoch 2/10\n",
      "\u001b[1m96/96\u001b[0m \u001b[32m━━━━━━━━━━━━━━━━━━━━\u001b[0m\u001b[37m\u001b[0m \u001b[1m9s\u001b[0m 89ms/step - accuracy: 0.4161 - f1_score_metric: 0.5858 - loss: 0.8366 - val_accuracy: 0.4655 - val_f1_score_metric: 0.6086 - val_loss: 0.6974\n",
      "Epoch 3/10\n",
      "\u001b[1m96/96\u001b[0m \u001b[32m━━━━━━━━━━━━━━━━━━━━\u001b[0m\u001b[37m\u001b[0m \u001b[1m9s\u001b[0m 91ms/step - accuracy: 0.4048 - f1_score_metric: 0.5734 - loss: 0.8342 - val_accuracy: 0.4655 - val_f1_score_metric: 0.6086 - val_loss: 0.6977\n",
      "Epoch 4/10\n",
      "\u001b[1m96/96\u001b[0m \u001b[32m━━━━━━━━━━━━━━━━━━━━\u001b[0m\u001b[37m\u001b[0m \u001b[1m9s\u001b[0m 92ms/step - accuracy: 0.4222 - f1_score_metric: 0.5917 - loss: 0.8383 - val_accuracy: 0.4655 - val_f1_score_metric: 0.6086 - val_loss: 0.6971\n",
      "\u001b[1m238/238\u001b[0m \u001b[32m━━━━━━━━━━━━━━━━━━━━\u001b[0m\u001b[37m\u001b[0m \u001b[1m4s\u001b[0m 15ms/step\n",
      "F1 Score: 0.6011\n",
      "Training with lr=0.0001, batch_size=64, dropout=0.2, units=128\n",
      "Epoch 1/10\n"
     ]
    },
    {
     "name": "stderr",
     "output_type": "stream",
     "text": [
      "/opt/anaconda3/lib/python3.11/site-packages/keras/src/layers/core/embedding.py:90: UserWarning: Argument `input_length` is deprecated. Just remove it.\n",
      "  warnings.warn(\n"
     ]
    },
    {
     "name": "stdout",
     "output_type": "stream",
     "text": [
      "\u001b[1m96/96\u001b[0m \u001b[32m━━━━━━━━━━━━━━━━━━━━\u001b[0m\u001b[37m\u001b[0m \u001b[1m17s\u001b[0m 159ms/step - accuracy: 0.4296 - f1_score_metric: 0.5577 - loss: 0.8382 - val_accuracy: 0.4655 - val_f1_score_metric: 0.6086 - val_loss: 0.6962\n",
      "Epoch 2/10\n",
      "\u001b[1m96/96\u001b[0m \u001b[32m━━━━━━━━━━━━━━━━━━━━\u001b[0m\u001b[37m\u001b[0m \u001b[1m15s\u001b[0m 155ms/step - accuracy: 0.4301 - f1_score_metric: 0.5993 - loss: 0.8402 - val_accuracy: 0.4655 - val_f1_score_metric: 0.6086 - val_loss: 0.6960\n",
      "Epoch 3/10\n",
      "\u001b[1m96/96\u001b[0m \u001b[32m━━━━━━━━━━━━━━━━━━━━\u001b[0m\u001b[37m\u001b[0m \u001b[1m15s\u001b[0m 156ms/step - accuracy: 0.4195 - f1_score_metric: 0.5892 - loss: 0.8377 - val_accuracy: 0.4655 - val_f1_score_metric: 0.6086 - val_loss: 0.6964\n",
      "Epoch 4/10\n",
      "\u001b[1m96/96\u001b[0m \u001b[32m━━━━━━━━━━━━━━━━━━━━\u001b[0m\u001b[37m\u001b[0m \u001b[1m16s\u001b[0m 162ms/step - accuracy: 0.4237 - f1_score_metric: 0.5924 - loss: 0.8387 - val_accuracy: 0.4655 - val_f1_score_metric: 0.6086 - val_loss: 0.6970\n",
      "Epoch 5/10\n",
      "\u001b[1m96/96\u001b[0m \u001b[32m━━━━━━━━━━━━━━━━━━━━\u001b[0m\u001b[37m\u001b[0m \u001b[1m15s\u001b[0m 159ms/step - accuracy: 0.4306 - f1_score_metric: 0.5988 - loss: 0.8403 - val_accuracy: 0.4655 - val_f1_score_metric: 0.6086 - val_loss: 0.6968\n",
      "\u001b[1m238/238\u001b[0m \u001b[32m━━━━━━━━━━━━━━━━━━━━\u001b[0m\u001b[37m\u001b[0m \u001b[1m6s\u001b[0m 24ms/step\n",
      "F1 Score: 0.6011\n",
      "Training with lr=0.0001, batch_size=64, dropout=0.2, units=256\n",
      "Epoch 1/10\n"
     ]
    },
    {
     "name": "stderr",
     "output_type": "stream",
     "text": [
      "/opt/anaconda3/lib/python3.11/site-packages/keras/src/layers/core/embedding.py:90: UserWarning: Argument `input_length` is deprecated. Just remove it.\n",
      "  warnings.warn(\n"
     ]
    },
    {
     "name": "stdout",
     "output_type": "stream",
     "text": [
      "\u001b[1m96/96\u001b[0m \u001b[32m━━━━━━━━━━━━━━━━━━━━\u001b[0m\u001b[37m\u001b[0m \u001b[1m30s\u001b[0m 290ms/step - accuracy: 0.4664 - f1_score_metric: 0.4402 - loss: 0.8382 - val_accuracy: 0.4655 - val_f1_score_metric: 0.6086 - val_loss: 0.6969\n",
      "Epoch 2/10\n",
      "\u001b[1m96/96\u001b[0m \u001b[32m━━━━━━━━━━━━━━━━━━━━\u001b[0m\u001b[37m\u001b[0m \u001b[1m29s\u001b[0m 298ms/step - accuracy: 0.4165 - f1_score_metric: 0.5861 - loss: 0.8369 - val_accuracy: 0.4655 - val_f1_score_metric: 0.6086 - val_loss: 0.6963\n",
      "Epoch 3/10\n",
      "\u001b[1m96/96\u001b[0m \u001b[32m━━━━━━━━━━━━━━━━━━━━\u001b[0m\u001b[37m\u001b[0m \u001b[1m29s\u001b[0m 302ms/step - accuracy: 0.4206 - f1_score_metric: 0.5887 - loss: 0.8379 - val_accuracy: 0.4655 - val_f1_score_metric: 0.6086 - val_loss: 0.6966\n",
      "Epoch 4/10\n",
      "\u001b[1m96/96\u001b[0m \u001b[32m━━━━━━━━━━━━━━━━━━━━\u001b[0m\u001b[37m\u001b[0m \u001b[1m29s\u001b[0m 304ms/step - accuracy: 0.4192 - f1_score_metric: 0.5883 - loss: 0.8376 - val_accuracy: 0.4655 - val_f1_score_metric: 0.6086 - val_loss: 0.6972\n",
      "Epoch 5/10\n",
      "\u001b[1m96/96\u001b[0m \u001b[32m━━━━━━━━━━━━━━━━━━━━\u001b[0m\u001b[37m\u001b[0m \u001b[1m30s\u001b[0m 310ms/step - accuracy: 0.4200 - f1_score_metric: 0.5884 - loss: 0.8378 - val_accuracy: 0.4655 - val_f1_score_metric: 0.6086 - val_loss: 0.6967\n",
      "\u001b[1m238/238\u001b[0m \u001b[32m━━━━━━━━━━━━━━━━━━━━\u001b[0m\u001b[37m\u001b[0m \u001b[1m14s\u001b[0m 59ms/step\n",
      "F1 Score: 0.6011\n",
      "Training with lr=0.0001, batch_size=64, dropout=0.3, units=64\n",
      "Epoch 1/10\n"
     ]
    },
    {
     "name": "stderr",
     "output_type": "stream",
     "text": [
      "/opt/anaconda3/lib/python3.11/site-packages/keras/src/layers/core/embedding.py:90: UserWarning: Argument `input_length` is deprecated. Just remove it.\n",
      "  warnings.warn(\n"
     ]
    },
    {
     "name": "stdout",
     "output_type": "stream",
     "text": [
      "\u001b[1m96/96\u001b[0m \u001b[32m━━━━━━━━━━━━━━━━━━━━\u001b[0m\u001b[37m\u001b[0m \u001b[1m10s\u001b[0m 96ms/step - accuracy: 0.4305 - f1_score_metric: 0.5598 - loss: 0.8391 - val_accuracy: 0.4655 - val_f1_score_metric: 0.6086 - val_loss: 0.6954\n",
      "Epoch 2/10\n",
      "\u001b[1m96/96\u001b[0m \u001b[32m━━━━━━━━━━━━━━━━━━━━\u001b[0m\u001b[37m\u001b[0m \u001b[1m9s\u001b[0m 91ms/step - accuracy: 0.4268 - f1_score_metric: 0.5962 - loss: 0.8395 - val_accuracy: 0.4655 - val_f1_score_metric: 0.6086 - val_loss: 0.6969\n",
      "Epoch 3/10\n",
      "\u001b[1m96/96\u001b[0m \u001b[32m━━━━━━━━━━━━━━━━━━━━\u001b[0m\u001b[37m\u001b[0m \u001b[1m9s\u001b[0m 94ms/step - accuracy: 0.4318 - f1_score_metric: 0.6015 - loss: 0.8407 - val_accuracy: 0.4655 - val_f1_score_metric: 0.6086 - val_loss: 0.6960\n",
      "Epoch 4/10\n",
      "\u001b[1m96/96\u001b[0m \u001b[32m━━━━━━━━━━━━━━━━━━━━\u001b[0m\u001b[37m\u001b[0m \u001b[1m9s\u001b[0m 93ms/step - accuracy: 0.4154 - f1_score_metric: 0.5846 - loss: 0.8366 - val_accuracy: 0.4655 - val_f1_score_metric: 0.6086 - val_loss: 0.6968\n",
      "\u001b[1m238/238\u001b[0m \u001b[32m━━━━━━━━━━━━━━━━━━━━\u001b[0m\u001b[37m\u001b[0m \u001b[1m4s\u001b[0m 15ms/step\n",
      "F1 Score: 0.6011\n",
      "Training with lr=0.0001, batch_size=64, dropout=0.3, units=128\n",
      "Epoch 1/10\n"
     ]
    },
    {
     "name": "stderr",
     "output_type": "stream",
     "text": [
      "/opt/anaconda3/lib/python3.11/site-packages/keras/src/layers/core/embedding.py:90: UserWarning: Argument `input_length` is deprecated. Just remove it.\n",
      "  warnings.warn(\n"
     ]
    },
    {
     "name": "stdout",
     "output_type": "stream",
     "text": [
      "\u001b[1m96/96\u001b[0m \u001b[32m━━━━━━━━━━━━━━━━━━━━\u001b[0m\u001b[37m\u001b[0m \u001b[1m17s\u001b[0m 167ms/step - accuracy: 0.4747 - f1_score_metric: 0.4418 - loss: 0.8397 - val_accuracy: 0.4655 - val_f1_score_metric: 0.6086 - val_loss: 0.6954\n",
      "Epoch 2/10\n",
      "\u001b[1m96/96\u001b[0m \u001b[32m━━━━━━━━━━━━━━━━━━━━\u001b[0m\u001b[37m\u001b[0m \u001b[1m16s\u001b[0m 168ms/step - accuracy: 0.4139 - f1_score_metric: 0.5828 - loss: 0.8361 - val_accuracy: 0.4655 - val_f1_score_metric: 0.6086 - val_loss: 0.6973\n",
      "Epoch 3/10\n",
      "\u001b[1m96/96\u001b[0m \u001b[32m━━━━━━━━━━━━━━━━━━━━\u001b[0m\u001b[37m\u001b[0m \u001b[1m16s\u001b[0m 169ms/step - accuracy: 0.4146 - f1_score_metric: 0.5832 - loss: 0.8366 - val_accuracy: 0.4655 - val_f1_score_metric: 0.6086 - val_loss: 0.6979\n",
      "Epoch 4/10\n",
      "\u001b[1m96/96\u001b[0m \u001b[32m━━━━━━━━━━━━━━━━━━━━\u001b[0m\u001b[37m\u001b[0m \u001b[1m16s\u001b[0m 167ms/step - accuracy: 0.4212 - f1_score_metric: 0.5906 - loss: 0.8380 - val_accuracy: 0.4655 - val_f1_score_metric: 0.6086 - val_loss: 0.6970\n",
      "\u001b[1m238/238\u001b[0m \u001b[32m━━━━━━━━━━━━━━━━━━━━\u001b[0m\u001b[37m\u001b[0m \u001b[1m6s\u001b[0m 25ms/step\n",
      "F1 Score: 0.6011\n",
      "Training with lr=0.0001, batch_size=64, dropout=0.3, units=256\n",
      "Epoch 1/10\n"
     ]
    },
    {
     "name": "stderr",
     "output_type": "stream",
     "text": [
      "/opt/anaconda3/lib/python3.11/site-packages/keras/src/layers/core/embedding.py:90: UserWarning: Argument `input_length` is deprecated. Just remove it.\n",
      "  warnings.warn(\n"
     ]
    },
    {
     "name": "stdout",
     "output_type": "stream",
     "text": [
      "\u001b[1m96/96\u001b[0m \u001b[32m━━━━━━━━━━━━━━━━━━━━\u001b[0m\u001b[37m\u001b[0m \u001b[1m30s\u001b[0m 299ms/step - accuracy: 0.4170 - f1_score_metric: 0.5496 - loss: 0.8369 - val_accuracy: 0.4655 - val_f1_score_metric: 0.6086 - val_loss: 0.6981\n",
      "Epoch 2/10\n",
      "\u001b[1m96/96\u001b[0m \u001b[32m━━━━━━━━━━━━━━━━━━━━\u001b[0m\u001b[37m\u001b[0m \u001b[1m29s\u001b[0m 302ms/step - accuracy: 0.4221 - f1_score_metric: 0.5916 - loss: 0.8383 - val_accuracy: 0.4655 - val_f1_score_metric: 0.6086 - val_loss: 0.6959\n",
      "Epoch 3/10\n",
      "\u001b[1m96/96\u001b[0m \u001b[32m━━━━━━━━━━━━━━━━━━━━\u001b[0m\u001b[37m\u001b[0m \u001b[1m29s\u001b[0m 300ms/step - accuracy: 0.4223 - f1_score_metric: 0.5907 - loss: 0.8384 - val_accuracy: 0.4655 - val_f1_score_metric: 0.6086 - val_loss: 0.6962\n",
      "Epoch 4/10\n",
      "\u001b[1m96/96\u001b[0m \u001b[32m━━━━━━━━━━━━━━━━━━━━\u001b[0m\u001b[37m\u001b[0m \u001b[1m28s\u001b[0m 297ms/step - accuracy: 0.4217 - f1_score_metric: 0.5903 - loss: 0.8382 - val_accuracy: 0.4655 - val_f1_score_metric: 0.6086 - val_loss: 0.6962\n",
      "Epoch 5/10\n",
      "\u001b[1m96/96\u001b[0m \u001b[32m━━━━━━━━━━━━━━━━━━━━\u001b[0m\u001b[37m\u001b[0m \u001b[1m29s\u001b[0m 304ms/step - accuracy: 0.4131 - f1_score_metric: 0.5824 - loss: 0.8360 - val_accuracy: 0.4655 - val_f1_score_metric: 0.6086 - val_loss: 0.6982\n",
      "\u001b[1m238/238\u001b[0m \u001b[32m━━━━━━━━━━━━━━━━━━━━\u001b[0m\u001b[37m\u001b[0m \u001b[1m13s\u001b[0m 52ms/step\n",
      "F1 Score: 0.6011\n",
      "Training with lr=0.0001, batch_size=64, dropout=0.4, units=64\n",
      "Epoch 1/10\n"
     ]
    },
    {
     "name": "stderr",
     "output_type": "stream",
     "text": [
      "/opt/anaconda3/lib/python3.11/site-packages/keras/src/layers/core/embedding.py:90: UserWarning: Argument `input_length` is deprecated. Just remove it.\n",
      "  warnings.warn(\n"
     ]
    },
    {
     "name": "stdout",
     "output_type": "stream",
     "text": [
      "\u001b[1m96/96\u001b[0m \u001b[32m━━━━━━━━━━━━━━━━━━━━\u001b[0m\u001b[37m\u001b[0m \u001b[1m10s\u001b[0m 92ms/step - accuracy: 0.4342 - f1_score_metric: 0.5223 - loss: 0.8373 - val_accuracy: 0.4655 - val_f1_score_metric: 0.6086 - val_loss: 0.6959\n",
      "Epoch 2/10\n",
      "\u001b[1m96/96\u001b[0m \u001b[32m━━━━━━━━━━━━━━━━━━━━\u001b[0m\u001b[37m\u001b[0m \u001b[1m9s\u001b[0m 94ms/step - accuracy: 0.4154 - f1_score_metric: 0.5851 - loss: 0.8365 - val_accuracy: 0.4655 - val_f1_score_metric: 0.6086 - val_loss: 0.6972\n",
      "Epoch 3/10\n",
      "\u001b[1m96/96\u001b[0m \u001b[32m━━━━━━━━━━━━━━━━━━━━\u001b[0m\u001b[37m\u001b[0m \u001b[1m9s\u001b[0m 92ms/step - accuracy: 0.4253 - f1_score_metric: 0.5932 - loss: 0.8391 - val_accuracy: 0.4655 - val_f1_score_metric: 0.6086 - val_loss: 0.6963\n",
      "Epoch 4/10\n",
      "\u001b[1m96/96\u001b[0m \u001b[32m━━━━━━━━━━━━━━━━━━━━\u001b[0m\u001b[37m\u001b[0m \u001b[1m9s\u001b[0m 91ms/step - accuracy: 0.4189 - f1_score_metric: 0.5883 - loss: 0.8375 - val_accuracy: 0.4655 - val_f1_score_metric: 0.6086 - val_loss: 0.6967\n",
      "\u001b[1m238/238\u001b[0m \u001b[32m━━━━━━━━━━━━━━━━━━━━\u001b[0m\u001b[37m\u001b[0m \u001b[1m4s\u001b[0m 15ms/step\n",
      "F1 Score: 0.6011\n",
      "Training with lr=0.0001, batch_size=64, dropout=0.4, units=128\n",
      "Epoch 1/10\n"
     ]
    },
    {
     "name": "stderr",
     "output_type": "stream",
     "text": [
      "/opt/anaconda3/lib/python3.11/site-packages/keras/src/layers/core/embedding.py:90: UserWarning: Argument `input_length` is deprecated. Just remove it.\n",
      "  warnings.warn(\n"
     ]
    },
    {
     "name": "stdout",
     "output_type": "stream",
     "text": [
      "\u001b[1m96/96\u001b[0m \u001b[32m━━━━━━━━━━━━━━━━━━━━\u001b[0m\u001b[37m\u001b[0m \u001b[1m16s\u001b[0m 156ms/step - accuracy: 0.4198 - f1_score_metric: 0.5567 - loss: 0.8406 - val_accuracy: 0.4655 - val_f1_score_metric: 0.6086 - val_loss: 0.6963\n",
      "Epoch 2/10\n",
      "\u001b[1m96/96\u001b[0m \u001b[32m━━━━━━━━━━━━━━━━━━━━\u001b[0m\u001b[37m\u001b[0m \u001b[1m15s\u001b[0m 153ms/step - accuracy: 0.4177 - f1_score_metric: 0.5870 - loss: 0.8371 - val_accuracy: 0.4655 - val_f1_score_metric: 0.6086 - val_loss: 0.6969\n",
      "Epoch 3/10\n",
      "\u001b[1m96/96\u001b[0m \u001b[32m━━━━━━━━━━━━━━━━━━━━\u001b[0m\u001b[37m\u001b[0m \u001b[1m15s\u001b[0m 154ms/step - accuracy: 0.4308 - f1_score_metric: 0.5992 - loss: 0.8403 - val_accuracy: 0.4655 - val_f1_score_metric: 0.6086 - val_loss: 0.6962\n",
      "Epoch 4/10\n",
      "\u001b[1m96/96\u001b[0m \u001b[32m━━━━━━━━━━━━━━━━━━━━\u001b[0m\u001b[37m\u001b[0m \u001b[1m15s\u001b[0m 157ms/step - accuracy: 0.4211 - f1_score_metric: 0.5901 - loss: 0.8381 - val_accuracy: 0.4655 - val_f1_score_metric: 0.6086 - val_loss: 0.6966\n",
      "Epoch 5/10\n",
      "\u001b[1m96/96\u001b[0m \u001b[32m━━━━━━━━━━━━━━━━━━━━\u001b[0m\u001b[37m\u001b[0m \u001b[1m15s\u001b[0m 159ms/step - accuracy: 0.4239 - f1_score_metric: 0.5923 - loss: 0.8386 - val_accuracy: 0.4655 - val_f1_score_metric: 0.6086 - val_loss: 0.6967\n",
      "Epoch 6/10\n",
      "\u001b[1m96/96\u001b[0m \u001b[32m━━━━━━━━━━━━━━━━━━━━\u001b[0m\u001b[37m\u001b[0m \u001b[1m15s\u001b[0m 157ms/step - accuracy: 0.4234 - f1_score_metric: 0.5923 - loss: 0.8386 - val_accuracy: 0.4655 - val_f1_score_metric: 0.6086 - val_loss: 0.6971\n",
      "\u001b[1m238/238\u001b[0m \u001b[32m━━━━━━━━━━━━━━━━━━━━\u001b[0m\u001b[37m\u001b[0m \u001b[1m6s\u001b[0m 24ms/step\n",
      "F1 Score: 0.6011\n",
      "Training with lr=0.0001, batch_size=64, dropout=0.4, units=256\n",
      "Epoch 1/10\n"
     ]
    },
    {
     "name": "stderr",
     "output_type": "stream",
     "text": [
      "/opt/anaconda3/lib/python3.11/site-packages/keras/src/layers/core/embedding.py:90: UserWarning: Argument `input_length` is deprecated. Just remove it.\n",
      "  warnings.warn(\n"
     ]
    },
    {
     "name": "stdout",
     "output_type": "stream",
     "text": [
      "\u001b[1m96/96\u001b[0m \u001b[32m━━━━━━━━━━━━━━━━━━━━\u001b[0m\u001b[37m\u001b[0m \u001b[1m29s\u001b[0m 288ms/step - accuracy: 0.4265 - f1_score_metric: 0.5573 - loss: 0.8393 - val_accuracy: 0.4655 - val_f1_score_metric: 0.6086 - val_loss: 0.6967\n",
      "Epoch 2/10\n",
      "\u001b[1m96/96\u001b[0m \u001b[32m━━━━━━━━━━━━━━━━━━━━\u001b[0m\u001b[37m\u001b[0m \u001b[1m28s\u001b[0m 293ms/step - accuracy: 0.4308 - f1_score_metric: 0.5989 - loss: 0.8406 - val_accuracy: 0.4655 - val_f1_score_metric: 0.6086 - val_loss: 0.6961\n",
      "Epoch 3/10\n",
      "\u001b[1m96/96\u001b[0m \u001b[32m━━━━━━━━━━━━━━━━━━━━\u001b[0m\u001b[37m\u001b[0m \u001b[1m28s\u001b[0m 296ms/step - accuracy: 0.4297 - f1_score_metric: 0.5987 - loss: 0.8403 - val_accuracy: 0.4655 - val_f1_score_metric: 0.6086 - val_loss: 0.6966\n",
      "Epoch 4/10\n",
      "\u001b[1m96/96\u001b[0m \u001b[32m━━━━━━━━━━━━━━━━━━━━\u001b[0m\u001b[37m\u001b[0m \u001b[1m29s\u001b[0m 301ms/step - accuracy: 0.4287 - f1_score_metric: 0.5951 - loss: 0.8400 - val_accuracy: 0.4655 - val_f1_score_metric: 0.6086 - val_loss: 0.6961\n",
      "Epoch 5/10\n",
      "\u001b[1m96/96\u001b[0m \u001b[32m━━━━━━━━━━━━━━━━━━━━\u001b[0m\u001b[37m\u001b[0m \u001b[1m29s\u001b[0m 304ms/step - accuracy: 0.4257 - f1_score_metric: 0.5943 - loss: 0.8395 - val_accuracy: 0.4655 - val_f1_score_metric: 0.6086 - val_loss: 0.6954\n",
      "Epoch 6/10\n",
      "\u001b[1m96/96\u001b[0m \u001b[32m━━━━━━━━━━━━━━━━━━━━\u001b[0m\u001b[37m\u001b[0m \u001b[1m29s\u001b[0m 303ms/step - accuracy: 0.4210 - f1_score_metric: 0.5893 - loss: 0.8381 - val_accuracy: 0.4655 - val_f1_score_metric: 0.6086 - val_loss: 0.6966\n",
      "Epoch 7/10\n",
      "\u001b[1m96/96\u001b[0m \u001b[32m━━━━━━━━━━━━━━━━━━━━\u001b[0m\u001b[37m\u001b[0m \u001b[1m29s\u001b[0m 300ms/step - accuracy: 0.4326 - f1_score_metric: 0.6008 - loss: 0.8409 - val_accuracy: 0.4655 - val_f1_score_metric: 0.6086 - val_loss: 0.6965\n",
      "Epoch 8/10\n",
      "\u001b[1m96/96\u001b[0m \u001b[32m━━━━━━━━━━━━━━━━━━━━\u001b[0m\u001b[37m\u001b[0m \u001b[1m28s\u001b[0m 294ms/step - accuracy: 0.4137 - f1_score_metric: 0.5830 - loss: 0.8362 - val_accuracy: 0.4655 - val_f1_score_metric: 0.6086 - val_loss: 0.6972\n",
      "\u001b[1m238/238\u001b[0m \u001b[32m━━━━━━━━━━━━━━━━━━━━\u001b[0m\u001b[37m\u001b[0m \u001b[1m10s\u001b[0m 44ms/step\n",
      "F1 Score: 0.6011\n",
      "Training with lr=0.0005, batch_size=16, dropout=0.2, units=64\n",
      "Epoch 1/10\n"
     ]
    },
    {
     "name": "stderr",
     "output_type": "stream",
     "text": [
      "/opt/anaconda3/lib/python3.11/site-packages/keras/src/layers/core/embedding.py:90: UserWarning: Argument `input_length` is deprecated. Just remove it.\n",
      "  warnings.warn(\n"
     ]
    },
    {
     "name": "stdout",
     "output_type": "stream",
     "text": [
      "\u001b[1m381/381\u001b[0m \u001b[32m━━━━━━━━━━━━━━━━━━━━\u001b[0m\u001b[37m\u001b[0m \u001b[1m19s\u001b[0m 46ms/step - accuracy: 0.4893 - f1_score_metric: 0.3406 - loss: 0.8342 - val_accuracy: 0.4655 - val_f1_score_metric: 0.5879 - val_loss: 0.6989\n",
      "Epoch 2/10\n",
      "\u001b[1m381/381\u001b[0m \u001b[32m━━━━━━━━━━━━━━━━━━━━\u001b[0m\u001b[37m\u001b[0m \u001b[1m18s\u001b[0m 46ms/step - accuracy: 0.4176 - f1_score_metric: 0.5710 - loss: 0.8373 - val_accuracy: 0.4655 - val_f1_score_metric: 0.5879 - val_loss: 0.6987\n",
      "Epoch 3/10\n",
      "\u001b[1m381/381\u001b[0m \u001b[32m━━━━━━━━━━━━━━━━━━━━\u001b[0m\u001b[37m\u001b[0m \u001b[1m18s\u001b[0m 46ms/step - accuracy: 0.4290 - f1_score_metric: 0.5905 - loss: 0.8399 - val_accuracy: 0.4655 - val_f1_score_metric: 0.5879 - val_loss: 0.6954\n",
      "Epoch 4/10\n",
      "\u001b[1m381/381\u001b[0m \u001b[32m━━━━━━━━━━━━━━━━━━━━\u001b[0m\u001b[37m\u001b[0m \u001b[1m18s\u001b[0m 46ms/step - accuracy: 0.4101 - f1_score_metric: 0.5403 - loss: 0.8339 - val_accuracy: 0.4655 - val_f1_score_metric: 0.5879 - val_loss: 0.7003\n",
      "Epoch 5/10\n",
      "\u001b[1m381/381\u001b[0m \u001b[32m━━━━━━━━━━━━━━━━━━━━\u001b[0m\u001b[37m\u001b[0m \u001b[1m18s\u001b[0m 46ms/step - accuracy: 0.4128 - f1_score_metric: 0.5735 - loss: 0.8363 - val_accuracy: 0.4655 - val_f1_score_metric: 0.5879 - val_loss: 0.6989\n",
      "Epoch 6/10\n",
      "\u001b[1m381/381\u001b[0m \u001b[32m━━━━━━━━━━━━━━━━━━━━\u001b[0m\u001b[37m\u001b[0m \u001b[1m18s\u001b[0m 47ms/step - accuracy: 0.4138 - f1_score_metric: 0.5742 - loss: 0.8366 - val_accuracy: 0.4655 - val_f1_score_metric: 0.5879 - val_loss: 0.6977\n",
      "\u001b[1m238/238\u001b[0m \u001b[32m━━━━━━━━━━━━━━━━━━━━\u001b[0m\u001b[37m\u001b[0m \u001b[1m4s\u001b[0m 15ms/step\n",
      "F1 Score: 0.6011\n",
      "Training with lr=0.0005, batch_size=16, dropout=0.2, units=128\n",
      "Epoch 1/10\n"
     ]
    },
    {
     "name": "stderr",
     "output_type": "stream",
     "text": [
      "/opt/anaconda3/lib/python3.11/site-packages/keras/src/layers/core/embedding.py:90: UserWarning: Argument `input_length` is deprecated. Just remove it.\n",
      "  warnings.warn(\n"
     ]
    },
    {
     "name": "stdout",
     "output_type": "stream",
     "text": [
      "\u001b[1m381/381\u001b[0m \u001b[32m━━━━━━━━━━━━━━━━━━━━\u001b[0m\u001b[37m\u001b[0m \u001b[1m30s\u001b[0m 74ms/step - accuracy: 0.4284 - f1_score_metric: 0.5773 - loss: 0.8416 - val_accuracy: 0.4655 - val_f1_score_metric: 0.5879 - val_loss: 0.6969\n",
      "Epoch 2/10\n",
      "\u001b[1m381/381\u001b[0m \u001b[32m━━━━━━━━━━━━━━━━━━━━\u001b[0m\u001b[37m\u001b[0m \u001b[1m28s\u001b[0m 74ms/step - accuracy: 0.4319 - f1_score_metric: 0.5936 - loss: 0.8411 - val_accuracy: 0.4655 - val_f1_score_metric: 0.5879 - val_loss: 0.6946\n",
      "Epoch 3/10\n",
      "\u001b[1m381/381\u001b[0m \u001b[32m━━━━━━━━━━━━━━━━━━━━\u001b[0m\u001b[37m\u001b[0m \u001b[1m28s\u001b[0m 74ms/step - accuracy: 0.4237 - f1_score_metric: 0.5827 - loss: 0.8392 - val_accuracy: 0.4655 - val_f1_score_metric: 0.5879 - val_loss: 0.6984\n",
      "Epoch 4/10\n",
      "\u001b[1m381/381\u001b[0m \u001b[32m━━━━━━━━━━━━━━━━━━━━\u001b[0m\u001b[37m\u001b[0m \u001b[1m28s\u001b[0m 74ms/step - accuracy: 0.4236 - f1_score_metric: 0.5841 - loss: 0.8393 - val_accuracy: 0.4655 - val_f1_score_metric: 0.5879 - val_loss: 0.6964\n",
      "Epoch 5/10\n",
      "\u001b[1m381/381\u001b[0m \u001b[32m━━━━━━━━━━━━━━━━━━━━\u001b[0m\u001b[37m\u001b[0m \u001b[1m28s\u001b[0m 74ms/step - accuracy: 0.4170 - f1_score_metric: 0.5763 - loss: 0.8373 - val_accuracy: 0.4655 - val_f1_score_metric: 0.5879 - val_loss: 0.6975\n",
      "\u001b[1m238/238\u001b[0m \u001b[32m━━━━━━━━━━━━━━━━━━━━\u001b[0m\u001b[37m\u001b[0m \u001b[1m6s\u001b[0m 24ms/step\n",
      "F1 Score: 0.6011\n",
      "Training with lr=0.0005, batch_size=16, dropout=0.2, units=256\n",
      "Epoch 1/10\n"
     ]
    },
    {
     "name": "stderr",
     "output_type": "stream",
     "text": [
      "/opt/anaconda3/lib/python3.11/site-packages/keras/src/layers/core/embedding.py:90: UserWarning: Argument `input_length` is deprecated. Just remove it.\n",
      "  warnings.warn(\n"
     ]
    },
    {
     "name": "stdout",
     "output_type": "stream",
     "text": [
      "\u001b[1m381/381\u001b[0m \u001b[32m━━━━━━━━━━━━━━━━━━━━\u001b[0m\u001b[37m\u001b[0m \u001b[1m48s\u001b[0m 122ms/step - accuracy: 0.4456 - f1_score_metric: 0.4685 - loss: 0.8394 - val_accuracy: 0.4655 - val_f1_score_metric: 0.5879 - val_loss: 0.6963\n",
      "Epoch 2/10\n",
      "\u001b[1m381/381\u001b[0m \u001b[32m━━━━━━━━━━━━━━━━━━━━\u001b[0m\u001b[37m\u001b[0m \u001b[1m46s\u001b[0m 121ms/step - accuracy: 0.4249 - f1_score_metric: 0.5866 - loss: 0.8393 - val_accuracy: 0.4655 - val_f1_score_metric: 0.5879 - val_loss: 0.6950\n",
      "Epoch 3/10\n",
      "\u001b[1m381/381\u001b[0m \u001b[32m━━━━━━━━━━━━━━━━━━━━\u001b[0m\u001b[37m\u001b[0m \u001b[1m46s\u001b[0m 121ms/step - accuracy: 0.4250 - f1_score_metric: 0.5636 - loss: 0.8382 - val_accuracy: 0.4655 - val_f1_score_metric: 0.5879 - val_loss: 0.6970\n",
      "Epoch 4/10\n",
      "\u001b[1m381/381\u001b[0m \u001b[32m━━━━━━━━━━━━━━━━━━━━\u001b[0m\u001b[37m\u001b[0m \u001b[1m45s\u001b[0m 119ms/step - accuracy: 0.4220 - f1_score_metric: 0.5823 - loss: 0.8383 - val_accuracy: 0.4655 - val_f1_score_metric: 0.5879 - val_loss: 0.6935\n",
      "Epoch 5/10\n",
      "\u001b[1m381/381\u001b[0m \u001b[32m━━━━━━━━━━━━━━━━━━━━\u001b[0m\u001b[37m\u001b[0m \u001b[1m46s\u001b[0m 122ms/step - accuracy: 0.4359 - f1_score_metric: 0.5946 - loss: 0.8429 - val_accuracy: 0.4655 - val_f1_score_metric: 0.5879 - val_loss: 0.6955\n",
      "Epoch 6/10\n",
      "\u001b[1m381/381\u001b[0m \u001b[32m━━━━━━━━━━━━━━━━━━━━\u001b[0m\u001b[37m\u001b[0m \u001b[1m47s\u001b[0m 123ms/step - accuracy: 0.4327 - f1_score_metric: 0.5921 - loss: 0.8412 - val_accuracy: 0.4655 - val_f1_score_metric: 0.5879 - val_loss: 0.6951\n",
      "Epoch 7/10\n",
      "\u001b[1m381/381\u001b[0m \u001b[32m━━━━━━━━━━━━━━━━━━━━\u001b[0m\u001b[37m\u001b[0m \u001b[1m47s\u001b[0m 123ms/step - accuracy: 0.4323 - f1_score_metric: 0.5925 - loss: 0.8412 - val_accuracy: 0.4655 - val_f1_score_metric: 0.5879 - val_loss: 0.6951\n",
      "\u001b[1m238/238\u001b[0m \u001b[32m━━━━━━━━━━━━━━━━━━━━\u001b[0m\u001b[37m\u001b[0m \u001b[1m11s\u001b[0m 46ms/step\n",
      "F1 Score: 0.6011\n",
      "Training with lr=0.0005, batch_size=16, dropout=0.3, units=64\n",
      "Epoch 1/10\n"
     ]
    },
    {
     "name": "stderr",
     "output_type": "stream",
     "text": [
      "/opt/anaconda3/lib/python3.11/site-packages/keras/src/layers/core/embedding.py:90: UserWarning: Argument `input_length` is deprecated. Just remove it.\n",
      "  warnings.warn(\n"
     ]
    },
    {
     "name": "stdout",
     "output_type": "stream",
     "text": [
      "\u001b[1m381/381\u001b[0m \u001b[32m━━━━━━━━━━━━━━━━━━━━\u001b[0m\u001b[37m\u001b[0m \u001b[1m19s\u001b[0m 46ms/step - accuracy: 0.4799 - f1_score_metric: 0.3272 - loss: 0.8332 - val_accuracy: 0.4655 - val_f1_score_metric: 0.5879 - val_loss: 0.7037\n",
      "Epoch 2/10\n",
      "\u001b[1m381/381\u001b[0m \u001b[32m━━━━━━━━━━━━━━━━━━━━\u001b[0m\u001b[37m\u001b[0m \u001b[1m18s\u001b[0m 47ms/step - accuracy: 0.4424 - f1_score_metric: 0.5690 - loss: 0.8403 - val_accuracy: 0.4655 - val_f1_score_metric: 0.5879 - val_loss: 0.6984\n",
      "Epoch 3/10\n",
      "\u001b[1m381/381\u001b[0m \u001b[32m━━━━━━━━━━━━━━━━━━━━\u001b[0m\u001b[37m\u001b[0m \u001b[1m18s\u001b[0m 46ms/step - accuracy: 0.4165 - f1_score_metric: 0.5757 - loss: 0.8374 - val_accuracy: 0.4655 - val_f1_score_metric: 0.5879 - val_loss: 0.6973\n",
      "Epoch 4/10\n",
      "\u001b[1m381/381\u001b[0m \u001b[32m━━━━━━━━━━━━━━━━━━━━\u001b[0m\u001b[37m\u001b[0m \u001b[1m18s\u001b[0m 46ms/step - accuracy: 0.4196 - f1_score_metric: 0.5791 - loss: 0.8379 - val_accuracy: 0.4655 - val_f1_score_metric: 0.5879 - val_loss: 0.6982\n",
      "Epoch 5/10\n",
      "\u001b[1m381/381\u001b[0m \u001b[32m━━━━━━━━━━━━━━━━━━━━\u001b[0m\u001b[37m\u001b[0m \u001b[1m18s\u001b[0m 47ms/step - accuracy: 0.4277 - f1_score_metric: 0.5897 - loss: 0.8396 - val_accuracy: 0.4655 - val_f1_score_metric: 0.5879 - val_loss: 0.6945\n",
      "Epoch 6/10\n",
      "\u001b[1m381/381\u001b[0m \u001b[32m━━━━━━━━━━━━━━━━━━━━\u001b[0m\u001b[37m\u001b[0m \u001b[1m18s\u001b[0m 47ms/step - accuracy: 0.4437 - f1_score_metric: 0.4528 - loss: 0.8339 - val_accuracy: 0.4655 - val_f1_score_metric: 0.5879 - val_loss: 0.6989\n",
      "Epoch 7/10\n",
      "\u001b[1m381/381\u001b[0m \u001b[32m━━━━━━━━━━━━━━━━━━━━\u001b[0m\u001b[37m\u001b[0m \u001b[1m18s\u001b[0m 47ms/step - accuracy: 0.4260 - f1_score_metric: 0.5873 - loss: 0.8393 - val_accuracy: 0.4655 - val_f1_score_metric: 0.5879 - val_loss: 0.6966\n",
      "Epoch 8/10\n",
      "\u001b[1m381/381\u001b[0m \u001b[32m━━━━━━━━━━━━━━━━━━━━\u001b[0m\u001b[37m\u001b[0m \u001b[1m18s\u001b[0m 48ms/step - accuracy: 0.4199 - f1_score_metric: 0.5823 - loss: 0.8379 - val_accuracy: 0.4655 - val_f1_score_metric: 0.5879 - val_loss: 0.6966\n",
      "\u001b[1m238/238\u001b[0m \u001b[32m━━━━━━━━━━━━━━━━━━━━\u001b[0m\u001b[37m\u001b[0m \u001b[1m4s\u001b[0m 15ms/step\n",
      "F1 Score: 0.6011\n",
      "Training with lr=0.0005, batch_size=16, dropout=0.3, units=128\n",
      "Epoch 1/10\n"
     ]
    },
    {
     "name": "stderr",
     "output_type": "stream",
     "text": [
      "/opt/anaconda3/lib/python3.11/site-packages/keras/src/layers/core/embedding.py:90: UserWarning: Argument `input_length` is deprecated. Just remove it.\n",
      "  warnings.warn(\n"
     ]
    },
    {
     "name": "stdout",
     "output_type": "stream",
     "text": [
      "\u001b[1m381/381\u001b[0m \u001b[32m━━━━━━━━━━━━━━━━━━━━\u001b[0m\u001b[37m\u001b[0m \u001b[1m29s\u001b[0m 74ms/step - accuracy: 0.4550 - f1_score_metric: 0.4600 - loss: 0.8382 - val_accuracy: 0.4655 - val_f1_score_metric: 0.5879 - val_loss: 0.6950\n",
      "Epoch 2/10\n",
      "\u001b[1m381/381\u001b[0m \u001b[32m━━━━━━━━━━━━━━━━━━━━\u001b[0m\u001b[37m\u001b[0m \u001b[1m28s\u001b[0m 74ms/step - accuracy: 0.4213 - f1_score_metric: 0.5825 - loss: 0.8384 - val_accuracy: 0.4655 - val_f1_score_metric: 0.5879 - val_loss: 0.6957\n",
      "Epoch 3/10\n",
      "\u001b[1m381/381\u001b[0m \u001b[32m━━━━━━━━━━━━━━━━━━━━\u001b[0m\u001b[37m\u001b[0m \u001b[1m28s\u001b[0m 73ms/step - accuracy: 0.4157 - f1_score_metric: 0.5760 - loss: 0.8367 - val_accuracy: 0.4655 - val_f1_score_metric: 0.5879 - val_loss: 0.6978\n",
      "Epoch 4/10\n",
      "\u001b[1m381/381\u001b[0m \u001b[32m━━━━━━━━━━━━━━━━━━━━\u001b[0m\u001b[37m\u001b[0m \u001b[1m28s\u001b[0m 73ms/step - accuracy: 0.4203 - f1_score_metric: 0.5824 - loss: 0.8382 - val_accuracy: 0.4655 - val_f1_score_metric: 0.5879 - val_loss: 0.6966\n",
      "\u001b[1m238/238\u001b[0m \u001b[32m━━━━━━━━━━━━━━━━━━━━\u001b[0m\u001b[37m\u001b[0m \u001b[1m6s\u001b[0m 26ms/step\n",
      "F1 Score: 0.6011\n",
      "Training with lr=0.0005, batch_size=16, dropout=0.3, units=256\n",
      "Epoch 1/10\n"
     ]
    },
    {
     "name": "stderr",
     "output_type": "stream",
     "text": [
      "/opt/anaconda3/lib/python3.11/site-packages/keras/src/layers/core/embedding.py:90: UserWarning: Argument `input_length` is deprecated. Just remove it.\n",
      "  warnings.warn(\n"
     ]
    },
    {
     "name": "stdout",
     "output_type": "stream",
     "text": [
      "\u001b[1m381/381\u001b[0m \u001b[32m━━━━━━━━━━━━━━━━━━━━\u001b[0m\u001b[37m\u001b[0m \u001b[1m51s\u001b[0m 130ms/step - accuracy: 0.4178 - f1_score_metric: 0.5402 - loss: 0.8394 - val_accuracy: 0.4655 - val_f1_score_metric: 0.5879 - val_loss: 0.6954\n",
      "Epoch 2/10\n",
      "\u001b[1m381/381\u001b[0m \u001b[32m━━━━━━━━━━━━━━━━━━━━\u001b[0m\u001b[37m\u001b[0m \u001b[1m50s\u001b[0m 132ms/step - accuracy: 0.4242 - f1_score_metric: 0.5834 - loss: 0.8391 - val_accuracy: 0.4655 - val_f1_score_metric: 0.5879 - val_loss: 0.6951\n",
      "Epoch 3/10\n",
      "\u001b[1m381/381\u001b[0m \u001b[32m━━━━━━━━━━━━━━━━━━━━\u001b[0m\u001b[37m\u001b[0m \u001b[1m51s\u001b[0m 133ms/step - accuracy: 0.4268 - f1_score_metric: 0.5752 - loss: 0.8391 - val_accuracy: 0.4655 - val_f1_score_metric: 0.5879 - val_loss: 0.6963\n",
      "Epoch 4/10\n",
      "\u001b[1m381/381\u001b[0m \u001b[32m━━━━━━━━━━━━━━━━━━━━\u001b[0m\u001b[37m\u001b[0m \u001b[1m49s\u001b[0m 128ms/step - accuracy: 0.4195 - f1_score_metric: 0.5811 - loss: 0.8380 - val_accuracy: 0.4655 - val_f1_score_metric: 0.5879 - val_loss: 0.6989\n",
      "Epoch 5/10\n",
      "\u001b[1m381/381\u001b[0m \u001b[32m━━━━━━━━━━━━━━━━━━━━\u001b[0m\u001b[37m\u001b[0m \u001b[1m51s\u001b[0m 134ms/step - accuracy: 0.4371 - f1_score_metric: 0.5927 - loss: 0.8415 - val_accuracy: 0.4655 - val_f1_score_metric: 0.5879 - val_loss: 0.6945\n",
      "Epoch 6/10\n",
      "\u001b[1m381/381\u001b[0m \u001b[32m━━━━━━━━━━━━━━━━━━━━\u001b[0m\u001b[37m\u001b[0m \u001b[1m50s\u001b[0m 132ms/step - accuracy: 0.4182 - f1_score_metric: 0.5788 - loss: 0.8376 - val_accuracy: 0.4655 - val_f1_score_metric: 0.5879 - val_loss: 0.6973\n",
      "Epoch 7/10\n",
      "\u001b[1m381/381\u001b[0m \u001b[32m━━━━━━━━━━━━━━━━━━━━\u001b[0m\u001b[37m\u001b[0m \u001b[1m50s\u001b[0m 131ms/step - accuracy: 0.4242 - f1_score_metric: 0.5850 - loss: 0.8390 - val_accuracy: 0.4655 - val_f1_score_metric: 0.5879 - val_loss: 0.6959\n",
      "Epoch 8/10\n",
      "\u001b[1m381/381\u001b[0m \u001b[32m━━━━━━━━━━━━━━━━━━━━\u001b[0m\u001b[37m\u001b[0m \u001b[1m49s\u001b[0m 130ms/step - accuracy: 0.4309 - f1_score_metric: 0.5167 - loss: 0.8373 - val_accuracy: 0.4655 - val_f1_score_metric: 0.5879 - val_loss: 0.6976\n",
      "\u001b[1m238/238\u001b[0m \u001b[32m━━━━━━━━━━━━━━━━━━━━\u001b[0m\u001b[37m\u001b[0m \u001b[1m11s\u001b[0m 44ms/step\n",
      "F1 Score: 0.6011\n",
      "Training with lr=0.0005, batch_size=16, dropout=0.4, units=64\n",
      "Epoch 1/10\n"
     ]
    },
    {
     "name": "stderr",
     "output_type": "stream",
     "text": [
      "/opt/anaconda3/lib/python3.11/site-packages/keras/src/layers/core/embedding.py:90: UserWarning: Argument `input_length` is deprecated. Just remove it.\n",
      "  warnings.warn(\n"
     ]
    },
    {
     "name": "stdout",
     "output_type": "stream",
     "text": [
      "\u001b[1m381/381\u001b[0m \u001b[32m━━━━━━━━━━━━━━━━━━━━\u001b[0m\u001b[37m\u001b[0m \u001b[1m19s\u001b[0m 47ms/step - accuracy: 0.4256 - f1_score_metric: 0.5743 - loss: 0.8393 - val_accuracy: 0.4655 - val_f1_score_metric: 0.5879 - val_loss: 0.6964\n",
      "Epoch 2/10\n",
      "\u001b[1m381/381\u001b[0m \u001b[32m━━━━━━━━━━━━━━━━━━━━\u001b[0m\u001b[37m\u001b[0m \u001b[1m18s\u001b[0m 46ms/step - accuracy: 0.4226 - f1_score_metric: 0.5797 - loss: 0.8389 - val_accuracy: 0.4655 - val_f1_score_metric: 0.5879 - val_loss: 0.6976\n",
      "Epoch 3/10\n",
      "\u001b[1m381/381\u001b[0m \u001b[32m━━━━━━━━━━━━━━━━━━━━\u001b[0m\u001b[37m\u001b[0m \u001b[1m18s\u001b[0m 47ms/step - accuracy: 0.4134 - f1_score_metric: 0.5752 - loss: 0.8364 - val_accuracy: 0.4655 - val_f1_score_metric: 0.5879 - val_loss: 0.6993\n",
      "Epoch 4/10\n",
      "\u001b[1m381/381\u001b[0m \u001b[32m━━━━━━━━━━━━━━━━━━━━\u001b[0m\u001b[37m\u001b[0m \u001b[1m18s\u001b[0m 46ms/step - accuracy: 0.4153 - f1_score_metric: 0.5726 - loss: 0.8370 - val_accuracy: 0.4655 - val_f1_score_metric: 0.5879 - val_loss: 0.6950\n",
      "Epoch 5/10\n",
      "\u001b[1m381/381\u001b[0m \u001b[32m━━━━━━━━━━━━━━━━━━━━\u001b[0m\u001b[37m\u001b[0m \u001b[1m18s\u001b[0m 46ms/step - accuracy: 0.4159 - f1_score_metric: 0.5775 - loss: 0.8368 - val_accuracy: 0.4655 - val_f1_score_metric: 0.5879 - val_loss: 0.6963\n",
      "Epoch 6/10\n",
      "\u001b[1m381/381\u001b[0m \u001b[32m━━━━━━━━━━━━━━━━━━━━\u001b[0m\u001b[37m\u001b[0m \u001b[1m18s\u001b[0m 46ms/step - accuracy: 0.4163 - f1_score_metric: 0.5787 - loss: 0.8369 - val_accuracy: 0.4655 - val_f1_score_metric: 0.5879 - val_loss: 0.6982\n",
      "Epoch 7/10\n",
      "\u001b[1m381/381\u001b[0m \u001b[32m━━━━━━━━━━━━━━━━━━━━\u001b[0m\u001b[37m\u001b[0m \u001b[1m18s\u001b[0m 47ms/step - accuracy: 0.4264 - f1_score_metric: 0.5876 - loss: 0.8394 - val_accuracy: 0.4655 - val_f1_score_metric: 0.5879 - val_loss: 0.6942\n",
      "Epoch 8/10\n",
      "\u001b[1m381/381\u001b[0m \u001b[32m━━━━━━━━━━━━━━━━━━━━\u001b[0m\u001b[37m\u001b[0m \u001b[1m18s\u001b[0m 46ms/step - accuracy: 0.4268 - f1_score_metric: 0.5264 - loss: 0.8378 - val_accuracy: 0.4655 - val_f1_score_metric: 0.5879 - val_loss: 0.6979\n",
      "Epoch 9/10\n",
      "\u001b[1m381/381\u001b[0m \u001b[32m━━━━━━━━━━━━━━━━━━━━\u001b[0m\u001b[37m\u001b[0m \u001b[1m18s\u001b[0m 46ms/step - accuracy: 0.4216 - f1_score_metric: 0.5836 - loss: 0.8383 - val_accuracy: 0.4655 - val_f1_score_metric: 0.5879 - val_loss: 0.6965\n",
      "Epoch 10/10\n",
      "\u001b[1m381/381\u001b[0m \u001b[32m━━━━━━━━━━━━━━━━━━━━\u001b[0m\u001b[37m\u001b[0m \u001b[1m18s\u001b[0m 47ms/step - accuracy: 0.4219 - f1_score_metric: 0.5828 - loss: 0.8383 - val_accuracy: 0.4655 - val_f1_score_metric: 0.5879 - val_loss: 0.6979\n",
      "\u001b[1m238/238\u001b[0m \u001b[32m━━━━━━━━━━━━━━━━━━━━\u001b[0m\u001b[37m\u001b[0m \u001b[1m4s\u001b[0m 15ms/step\n",
      "F1 Score: 0.6011\n",
      "Training with lr=0.0005, batch_size=16, dropout=0.4, units=128\n",
      "Epoch 1/10\n"
     ]
    },
    {
     "name": "stderr",
     "output_type": "stream",
     "text": [
      "/opt/anaconda3/lib/python3.11/site-packages/keras/src/layers/core/embedding.py:90: UserWarning: Argument `input_length` is deprecated. Just remove it.\n",
      "  warnings.warn(\n"
     ]
    },
    {
     "name": "stdout",
     "output_type": "stream",
     "text": [
      "\u001b[1m381/381\u001b[0m \u001b[32m━━━━━━━━━━━━━━━━━━━━\u001b[0m\u001b[37m\u001b[0m \u001b[1m30s\u001b[0m 76ms/step - accuracy: 0.4595 - f1_score_metric: 0.4857 - loss: 0.8412 - val_accuracy: 0.4655 - val_f1_score_metric: 0.5879 - val_loss: 0.6955\n",
      "Epoch 2/10\n",
      "\u001b[1m381/381\u001b[0m \u001b[32m━━━━━━━━━━━━━━━━━━━━\u001b[0m\u001b[37m\u001b[0m \u001b[1m28s\u001b[0m 74ms/step - accuracy: 0.4190 - f1_score_metric: 0.5468 - loss: 0.8349 - val_accuracy: 0.4655 - val_f1_score_metric: 0.5879 - val_loss: 0.7027\n",
      "Epoch 3/10\n",
      "\u001b[1m381/381\u001b[0m \u001b[32m━━━━━━━━━━━━━━━━━━━━\u001b[0m\u001b[37m\u001b[0m \u001b[1m28s\u001b[0m 74ms/step - accuracy: 0.4316 - f1_score_metric: 0.5917 - loss: 0.8407 - val_accuracy: 0.4655 - val_f1_score_metric: 0.5879 - val_loss: 0.6934\n",
      "Epoch 4/10\n",
      "\u001b[1m381/381\u001b[0m \u001b[32m━━━━━━━━━━━━━━━━━━━━\u001b[0m\u001b[37m\u001b[0m \u001b[1m28s\u001b[0m 75ms/step - accuracy: 0.4255 - f1_score_metric: 0.5847 - loss: 0.8397 - val_accuracy: 0.4655 - val_f1_score_metric: 0.5879 - val_loss: 0.6962\n",
      "Epoch 5/10\n",
      "\u001b[1m381/381\u001b[0m \u001b[32m━━━━━━━━━━━━━━━━━━━━\u001b[0m\u001b[37m\u001b[0m \u001b[1m29s\u001b[0m 75ms/step - accuracy: 0.4197 - f1_score_metric: 0.5784 - loss: 0.8381 - val_accuracy: 0.4655 - val_f1_score_metric: 0.5879 - val_loss: 0.6976\n",
      "Epoch 6/10\n",
      "\u001b[1m381/381\u001b[0m \u001b[32m━━━━━━━━━━━━━━━━━━━━\u001b[0m\u001b[37m\u001b[0m \u001b[1m28s\u001b[0m 74ms/step - accuracy: 0.4136 - f1_score_metric: 0.5760 - loss: 0.8363 - val_accuracy: 0.4655 - val_f1_score_metric: 0.5879 - val_loss: 0.6986\n",
      "\u001b[1m238/238\u001b[0m \u001b[32m━━━━━━━━━━━━━━━━━━━━\u001b[0m\u001b[37m\u001b[0m \u001b[1m6s\u001b[0m 24ms/step\n",
      "F1 Score: 0.6011\n",
      "Training with lr=0.0005, batch_size=16, dropout=0.4, units=256\n",
      "Epoch 1/10\n"
     ]
    },
    {
     "name": "stderr",
     "output_type": "stream",
     "text": [
      "/opt/anaconda3/lib/python3.11/site-packages/keras/src/layers/core/embedding.py:90: UserWarning: Argument `input_length` is deprecated. Just remove it.\n",
      "  warnings.warn(\n"
     ]
    },
    {
     "name": "stdout",
     "output_type": "stream",
     "text": [
      "\u001b[1m381/381\u001b[0m \u001b[32m━━━━━━━━━━━━━━━━━━━━\u001b[0m\u001b[37m\u001b[0m \u001b[1m50s\u001b[0m 128ms/step - accuracy: 0.4521 - f1_score_metric: 0.4506 - loss: 0.8396 - val_accuracy: 0.4655 - val_f1_score_metric: 0.5879 - val_loss: 0.6949\n",
      "Epoch 2/10\n",
      "\u001b[1m381/381\u001b[0m \u001b[32m━━━━━━━━━━━━━━━━━━━━\u001b[0m\u001b[37m\u001b[0m \u001b[1m50s\u001b[0m 131ms/step - accuracy: 0.4188 - f1_score_metric: 0.5791 - loss: 0.8379 - val_accuracy: 0.4655 - val_f1_score_metric: 0.5879 - val_loss: 0.6987\n",
      "Epoch 3/10\n",
      "\u001b[1m381/381\u001b[0m \u001b[32m━━━━━━━━━━━━━━━━━━━━\u001b[0m\u001b[37m\u001b[0m \u001b[1m53s\u001b[0m 139ms/step - accuracy: 0.4220 - f1_score_metric: 0.5744 - loss: 0.8383 - val_accuracy: 0.4655 - val_f1_score_metric: 0.5879 - val_loss: 0.6988\n",
      "Epoch 4/10\n",
      "\u001b[1m381/381\u001b[0m \u001b[32m━━━━━━━━━━━━━━━━━━━━\u001b[0m\u001b[37m\u001b[0m \u001b[1m58s\u001b[0m 151ms/step - accuracy: 0.4173 - f1_score_metric: 0.5675 - loss: 0.8373 - val_accuracy: 0.4655 - val_f1_score_metric: 0.5879 - val_loss: 0.6966\n",
      "\u001b[1m238/238\u001b[0m \u001b[32m━━━━━━━━━━━━━━━━━━━━\u001b[0m\u001b[37m\u001b[0m \u001b[1m13s\u001b[0m 55ms/step\n",
      "F1 Score: 0.6011\n",
      "Training with lr=0.0005, batch_size=32, dropout=0.2, units=64\n",
      "Epoch 1/10\n"
     ]
    },
    {
     "name": "stderr",
     "output_type": "stream",
     "text": [
      "/opt/anaconda3/lib/python3.11/site-packages/keras/src/layers/core/embedding.py:90: UserWarning: Argument `input_length` is deprecated. Just remove it.\n",
      "  warnings.warn(\n"
     ]
    },
    {
     "name": "stdout",
     "output_type": "stream",
     "text": [
      "\u001b[1m191/191\u001b[0m \u001b[32m━━━━━━━━━━━━━━━━━━━━\u001b[0m\u001b[37m\u001b[0m \u001b[1m14s\u001b[0m 65ms/step - accuracy: 0.5303 - f1_score_metric: 0.2527 - loss: 0.8359 - val_accuracy: 0.4655 - val_f1_score_metric: 0.5967 - val_loss: 0.6947\n",
      "Epoch 2/10\n",
      "\u001b[1m191/191\u001b[0m \u001b[32m━━━━━━━━━━━━━━━━━━━━\u001b[0m\u001b[37m\u001b[0m \u001b[1m12s\u001b[0m 64ms/step - accuracy: 0.4270 - f1_score_metric: 0.5929 - loss: 0.8403 - val_accuracy: 0.4655 - val_f1_score_metric: 0.5967 - val_loss: 0.6958\n",
      "Epoch 3/10\n",
      "\u001b[1m191/191\u001b[0m \u001b[32m━━━━━━━━━━━━━━━━━━━━\u001b[0m\u001b[37m\u001b[0m \u001b[1m13s\u001b[0m 66ms/step - accuracy: 0.4247 - f1_score_metric: 0.5915 - loss: 0.8391 - val_accuracy: 0.4655 - val_f1_score_metric: 0.5967 - val_loss: 0.6956\n",
      "Epoch 4/10\n",
      "\u001b[1m191/191\u001b[0m \u001b[32m━━━━━━━━━━━━━━━━━━━━\u001b[0m\u001b[37m\u001b[0m \u001b[1m12s\u001b[0m 65ms/step - accuracy: 0.4333 - f1_score_metric: 0.6003 - loss: 0.8414 - val_accuracy: 0.4655 - val_f1_score_metric: 0.5967 - val_loss: 0.6949\n",
      "\u001b[1m238/238\u001b[0m \u001b[32m━━━━━━━━━━━━━━━━━━━━\u001b[0m\u001b[37m\u001b[0m \u001b[1m4s\u001b[0m 15ms/step\n",
      "F1 Score: 0.6011\n",
      "Training with lr=0.0005, batch_size=32, dropout=0.2, units=128\n",
      "Epoch 1/10\n"
     ]
    },
    {
     "name": "stderr",
     "output_type": "stream",
     "text": [
      "/opt/anaconda3/lib/python3.11/site-packages/keras/src/layers/core/embedding.py:90: UserWarning: Argument `input_length` is deprecated. Just remove it.\n",
      "  warnings.warn(\n"
     ]
    },
    {
     "name": "stdout",
     "output_type": "stream",
     "text": [
      "\u001b[1m191/191\u001b[0m \u001b[32m━━━━━━━━━━━━━━━━━━━━\u001b[0m\u001b[37m\u001b[0m \u001b[1m20s\u001b[0m 98ms/step - accuracy: 0.4384 - f1_score_metric: 0.5012 - loss: 0.8372 - val_accuracy: 0.4655 - val_f1_score_metric: 0.5967 - val_loss: 0.7014\n",
      "Epoch 2/10\n",
      "\u001b[1m191/191\u001b[0m \u001b[32m━━━━━━━━━━━━━━━━━━━━\u001b[0m\u001b[37m\u001b[0m \u001b[1m19s\u001b[0m 98ms/step - accuracy: 0.4168 - f1_score_metric: 0.5834 - loss: 0.8379 - val_accuracy: 0.4655 - val_f1_score_metric: 0.5967 - val_loss: 0.6981\n",
      "Epoch 3/10\n",
      "\u001b[1m191/191\u001b[0m \u001b[32m━━━━━━━━━━━━━━━━━━━━\u001b[0m\u001b[37m\u001b[0m \u001b[1m18s\u001b[0m 95ms/step - accuracy: 0.4244 - f1_score_metric: 0.5896 - loss: 0.8388 - val_accuracy: 0.4655 - val_f1_score_metric: 0.5967 - val_loss: 0.6975\n",
      "Epoch 4/10\n",
      "\u001b[1m191/191\u001b[0m \u001b[32m━━━━━━━━━━━━━━━━━━━━\u001b[0m\u001b[37m\u001b[0m \u001b[1m19s\u001b[0m 97ms/step - accuracy: 0.4184 - f1_score_metric: 0.5844 - loss: 0.8374 - val_accuracy: 0.4655 - val_f1_score_metric: 0.5967 - val_loss: 0.6982\n",
      "Epoch 5/10\n",
      "\u001b[1m191/191\u001b[0m \u001b[32m━━━━━━━━━━━━━━━━━━━━\u001b[0m\u001b[37m\u001b[0m \u001b[1m18s\u001b[0m 96ms/step - accuracy: 0.4176 - f1_score_metric: 0.5837 - loss: 0.8373 - val_accuracy: 0.4655 - val_f1_score_metric: 0.5967 - val_loss: 0.6980\n",
      "Epoch 6/10\n",
      "\u001b[1m191/191\u001b[0m \u001b[32m━━━━━━━━━━━━━━━━━━━━\u001b[0m\u001b[37m\u001b[0m \u001b[1m18s\u001b[0m 96ms/step - accuracy: 0.4255 - f1_score_metric: 0.5918 - loss: 0.8391 - val_accuracy: 0.4655 - val_f1_score_metric: 0.5967 - val_loss: 0.6950\n",
      "Epoch 7/10\n",
      "\u001b[1m191/191\u001b[0m \u001b[32m━━━━━━━━━━━━━━━━━━━━\u001b[0m\u001b[37m\u001b[0m \u001b[1m18s\u001b[0m 96ms/step - accuracy: 0.4377 - f1_score_metric: 0.5886 - loss: 0.8412 - val_accuracy: 0.4655 - val_f1_score_metric: 0.5967 - val_loss: 0.6961\n",
      "Epoch 8/10\n",
      "\u001b[1m191/191\u001b[0m \u001b[32m━━━━━━━━━━━━━━━━━━━━\u001b[0m\u001b[37m\u001b[0m \u001b[1m19s\u001b[0m 97ms/step - accuracy: 0.4111 - f1_score_metric: 0.5765 - loss: 0.8356 - val_accuracy: 0.4655 - val_f1_score_metric: 0.5967 - val_loss: 0.6971\n",
      "Epoch 9/10\n",
      "\u001b[1m191/191\u001b[0m \u001b[32m━━━━━━━━━━━━━━━━━━━━\u001b[0m\u001b[37m\u001b[0m \u001b[1m18s\u001b[0m 96ms/step - accuracy: 0.4151 - f1_score_metric: 0.5820 - loss: 0.8366 - val_accuracy: 0.4655 - val_f1_score_metric: 0.5967 - val_loss: 0.6979\n",
      "\u001b[1m238/238\u001b[0m \u001b[32m━━━━━━━━━━━━━━━━━━━━\u001b[0m\u001b[37m\u001b[0m \u001b[1m6s\u001b[0m 24ms/step\n",
      "F1 Score: 0.6011\n",
      "Training with lr=0.0005, batch_size=32, dropout=0.2, units=256\n",
      "Epoch 1/10\n"
     ]
    },
    {
     "name": "stderr",
     "output_type": "stream",
     "text": [
      "/opt/anaconda3/lib/python3.11/site-packages/keras/src/layers/core/embedding.py:90: UserWarning: Argument `input_length` is deprecated. Just remove it.\n",
      "  warnings.warn(\n"
     ]
    },
    {
     "name": "stdout",
     "output_type": "stream",
     "text": [
      "\u001b[1m191/191\u001b[0m \u001b[32m━━━━━━━━━━━━━━━━━━━━\u001b[0m\u001b[37m\u001b[0m \u001b[1m35s\u001b[0m 176ms/step - accuracy: 0.4797 - f1_score_metric: 0.4294 - loss: 0.8399 - val_accuracy: 0.4655 - val_f1_score_metric: 0.5967 - val_loss: 0.6965\n",
      "Epoch 2/10\n",
      "\u001b[1m191/191\u001b[0m \u001b[32m━━━━━━━━━━━━━━━━━━━━\u001b[0m\u001b[37m\u001b[0m \u001b[1m32s\u001b[0m 165ms/step - accuracy: 0.4157 - f1_score_metric: 0.5820 - loss: 0.8369 - val_accuracy: 0.4655 - val_f1_score_metric: 0.5967 - val_loss: 0.6967\n",
      "Epoch 3/10\n",
      "\u001b[1m191/191\u001b[0m \u001b[32m━━━━━━━━━━━━━━━━━━━━\u001b[0m\u001b[37m\u001b[0m \u001b[1m31s\u001b[0m 162ms/step - accuracy: 0.4104 - f1_score_metric: 0.5762 - loss: 0.8355 - val_accuracy: 0.4655 - val_f1_score_metric: 0.5967 - val_loss: 0.7017\n",
      "Epoch 4/10\n",
      "\u001b[1m191/191\u001b[0m \u001b[32m━━━━━━━━━━━━━━━━━━━━\u001b[0m\u001b[37m\u001b[0m \u001b[1m31s\u001b[0m 164ms/step - accuracy: 0.4138 - f1_score_metric: 0.5801 - loss: 0.8374 - val_accuracy: 0.4655 - val_f1_score_metric: 0.5967 - val_loss: 0.6963\n",
      "Epoch 5/10\n",
      "\u001b[1m191/191\u001b[0m \u001b[32m━━━━━━━━━━━━━━━━━━━━\u001b[0m\u001b[37m\u001b[0m \u001b[1m31s\u001b[0m 163ms/step - accuracy: 0.4141 - f1_score_metric: 0.5810 - loss: 0.8363 - val_accuracy: 0.4655 - val_f1_score_metric: 0.5967 - val_loss: 0.6975\n",
      "Epoch 6/10\n",
      "\u001b[1m191/191\u001b[0m \u001b[32m━━━━━━━━━━━━━━━━━━━━\u001b[0m\u001b[37m\u001b[0m \u001b[1m32s\u001b[0m 168ms/step - accuracy: 0.4181 - f1_score_metric: 0.5837 - loss: 0.8376 - val_accuracy: 0.4655 - val_f1_score_metric: 0.5967 - val_loss: 0.6966\n",
      "Epoch 7/10\n",
      "\u001b[1m191/191\u001b[0m \u001b[32m━━━━━━━━━━━━━━━━━━━━\u001b[0m\u001b[37m\u001b[0m \u001b[1m32s\u001b[0m 169ms/step - accuracy: 0.4190 - f1_score_metric: 0.5841 - loss: 0.8376 - val_accuracy: 0.4655 - val_f1_score_metric: 0.5967 - val_loss: 0.6974\n",
      "\u001b[1m238/238\u001b[0m \u001b[32m━━━━━━━━━━━━━━━━━━━━\u001b[0m\u001b[37m\u001b[0m \u001b[1m11s\u001b[0m 47ms/step\n",
      "F1 Score: 0.6011\n",
      "Training with lr=0.0005, batch_size=32, dropout=0.3, units=64\n",
      "Epoch 1/10\n"
     ]
    },
    {
     "name": "stderr",
     "output_type": "stream",
     "text": [
      "/opt/anaconda3/lib/python3.11/site-packages/keras/src/layers/core/embedding.py:90: UserWarning: Argument `input_length` is deprecated. Just remove it.\n",
      "  warnings.warn(\n"
     ]
    },
    {
     "name": "stdout",
     "output_type": "stream",
     "text": [
      "\u001b[1m191/191\u001b[0m \u001b[32m━━━━━━━━━━━━━━━━━━━━\u001b[0m\u001b[37m\u001b[0m \u001b[1m14s\u001b[0m 65ms/step - accuracy: 0.4485 - f1_score_metric: 0.4786 - loss: 0.8382 - val_accuracy: 0.4655 - val_f1_score_metric: 0.5967 - val_loss: 0.6966\n",
      "Epoch 2/10\n",
      "\u001b[1m191/191\u001b[0m \u001b[32m━━━━━━━━━━━━━━━━━━━━\u001b[0m\u001b[37m\u001b[0m \u001b[1m12s\u001b[0m 63ms/step - accuracy: 0.4250 - f1_score_metric: 0.5910 - loss: 0.8395 - val_accuracy: 0.4655 - val_f1_score_metric: 0.5967 - val_loss: 0.6959\n",
      "Epoch 3/10\n",
      "\u001b[1m191/191\u001b[0m \u001b[32m━━━━━━━━━━━━━━━━━━━━\u001b[0m\u001b[37m\u001b[0m \u001b[1m12s\u001b[0m 62ms/step - accuracy: 0.4175 - f1_score_metric: 0.5839 - loss: 0.8373 - val_accuracy: 0.4655 - val_f1_score_metric: 0.5967 - val_loss: 0.6964\n",
      "Epoch 4/10\n",
      "\u001b[1m191/191\u001b[0m \u001b[32m━━━━━━━━━━━━━━━━━━━━\u001b[0m\u001b[37m\u001b[0m \u001b[1m12s\u001b[0m 62ms/step - accuracy: 0.4271 - f1_score_metric: 0.5920 - loss: 0.8397 - val_accuracy: 0.4655 - val_f1_score_metric: 0.5967 - val_loss: 0.6978\n",
      "Epoch 5/10\n",
      "\u001b[1m191/191\u001b[0m \u001b[32m━━━━━━━━━━━━━━━━━━━━\u001b[0m\u001b[37m\u001b[0m \u001b[1m12s\u001b[0m 62ms/step - accuracy: 0.4194 - f1_score_metric: 0.5857 - loss: 0.8375 - val_accuracy: 0.4655 - val_f1_score_metric: 0.5967 - val_loss: 0.6980\n",
      "\u001b[1m238/238\u001b[0m \u001b[32m━━━━━━━━━━━━━━━━━━━━\u001b[0m\u001b[37m\u001b[0m \u001b[1m4s\u001b[0m 15ms/step\n",
      "F1 Score: 0.6011\n",
      "Training with lr=0.0005, batch_size=32, dropout=0.3, units=128\n",
      "Epoch 1/10\n"
     ]
    },
    {
     "name": "stderr",
     "output_type": "stream",
     "text": [
      "/opt/anaconda3/lib/python3.11/site-packages/keras/src/layers/core/embedding.py:90: UserWarning: Argument `input_length` is deprecated. Just remove it.\n",
      "  warnings.warn(\n"
     ]
    },
    {
     "name": "stdout",
     "output_type": "stream",
     "text": [
      "\u001b[1m191/191\u001b[0m \u001b[32m━━━━━━━━━━━━━━━━━━━━\u001b[0m\u001b[37m\u001b[0m \u001b[1m19s\u001b[0m 95ms/step - accuracy: 0.4263 - f1_score_metric: 0.5454 - loss: 0.8411 - val_accuracy: 0.4655 - val_f1_score_metric: 0.5967 - val_loss: 0.6951\n",
      "Epoch 2/10\n",
      "\u001b[1m191/191\u001b[0m \u001b[32m━━━━━━━━━━━━━━━━━━━━\u001b[0m\u001b[37m\u001b[0m \u001b[1m18s\u001b[0m 95ms/step - accuracy: 0.4229 - f1_score_metric: 0.5892 - loss: 0.8389 - val_accuracy: 0.4655 - val_f1_score_metric: 0.5967 - val_loss: 0.6962\n",
      "Epoch 3/10\n",
      "\u001b[1m191/191\u001b[0m \u001b[32m━━━━━━━━━━━━━━━━━━━━\u001b[0m\u001b[37m\u001b[0m \u001b[1m18s\u001b[0m 95ms/step - accuracy: 0.4204 - f1_score_metric: 0.5270 - loss: 0.8365 - val_accuracy: 0.4655 - val_f1_score_metric: 0.5967 - val_loss: 0.6983\n",
      "Epoch 4/10\n",
      "\u001b[1m191/191\u001b[0m \u001b[32m━━━━━━━━━━━━━━━━━━━━\u001b[0m\u001b[37m\u001b[0m \u001b[1m18s\u001b[0m 95ms/step - accuracy: 0.4184 - f1_score_metric: 0.5836 - loss: 0.8377 - val_accuracy: 0.4655 - val_f1_score_metric: 0.5967 - val_loss: 0.6977\n",
      "\u001b[1m238/238\u001b[0m \u001b[32m━━━━━━━━━━━━━━━━━━━━\u001b[0m\u001b[37m\u001b[0m \u001b[1m6s\u001b[0m 23ms/step\n",
      "F1 Score: 0.6011\n",
      "Training with lr=0.0005, batch_size=32, dropout=0.3, units=256\n",
      "Epoch 1/10\n"
     ]
    },
    {
     "name": "stderr",
     "output_type": "stream",
     "text": [
      "/opt/anaconda3/lib/python3.11/site-packages/keras/src/layers/core/embedding.py:90: UserWarning: Argument `input_length` is deprecated. Just remove it.\n",
      "  warnings.warn(\n"
     ]
    },
    {
     "name": "stdout",
     "output_type": "stream",
     "text": [
      "\u001b[1m191/191\u001b[0m \u001b[32m━━━━━━━━━━━━━━━━━━━━\u001b[0m\u001b[37m\u001b[0m \u001b[1m35s\u001b[0m 176ms/step - accuracy: 0.4481 - f1_score_metric: 0.4835 - loss: 0.8375 - val_accuracy: 0.4655 - val_f1_score_metric: 0.5967 - val_loss: 0.6969\n",
      "Epoch 2/10\n",
      "\u001b[1m191/191\u001b[0m \u001b[32m━━━━━━━━━━━━━━━━━━━━\u001b[0m\u001b[37m\u001b[0m \u001b[1m32s\u001b[0m 170ms/step - accuracy: 0.4161 - f1_score_metric: 0.5825 - loss: 0.8371 - val_accuracy: 0.4655 - val_f1_score_metric: 0.5967 - val_loss: 0.6979\n",
      "Epoch 3/10\n",
      "\u001b[1m191/191\u001b[0m \u001b[32m━━━━━━━━━━━━━━━━━━━━\u001b[0m\u001b[37m\u001b[0m \u001b[1m32s\u001b[0m 169ms/step - accuracy: 0.4183 - f1_score_metric: 0.5632 - loss: 0.8359 - val_accuracy: 0.4655 - val_f1_score_metric: 0.5967 - val_loss: 0.6968\n",
      "Epoch 4/10\n",
      "\u001b[1m191/191\u001b[0m \u001b[32m━━━━━━━━━━━━━━━━━━━━\u001b[0m\u001b[37m\u001b[0m \u001b[1m34s\u001b[0m 179ms/step - accuracy: 0.4168 - f1_score_metric: 0.5845 - loss: 0.8371 - val_accuracy: 0.4655 - val_f1_score_metric: 0.5967 - val_loss: 0.6977\n",
      "Epoch 5/10\n",
      "\u001b[1m191/191\u001b[0m \u001b[32m━━━━━━━━━━━━━━━━━━━━\u001b[0m\u001b[37m\u001b[0m \u001b[1m34s\u001b[0m 177ms/step - accuracy: 0.4094 - f1_score_metric: 0.5761 - loss: 0.8353 - val_accuracy: 0.4655 - val_f1_score_metric: 0.5967 - val_loss: 0.6985\n",
      "Epoch 6/10\n",
      "\u001b[1m191/191\u001b[0m \u001b[32m━━━━━━━━━━━━━━━━━━━━\u001b[0m\u001b[37m\u001b[0m \u001b[1m33s\u001b[0m 174ms/step - accuracy: 0.4208 - f1_score_metric: 0.5876 - loss: 0.8381 - val_accuracy: 0.4655 - val_f1_score_metric: 0.5967 - val_loss: 0.6959\n",
      "Epoch 7/10\n",
      "\u001b[1m191/191\u001b[0m \u001b[32m━━━━━━━━━━━━━━━━━━━━\u001b[0m\u001b[37m\u001b[0m \u001b[1m32s\u001b[0m 165ms/step - accuracy: 0.4194 - f1_score_metric: 0.5851 - loss: 0.8377 - val_accuracy: 0.4655 - val_f1_score_metric: 0.5967 - val_loss: 0.6966\n",
      "Epoch 8/10\n",
      "\u001b[1m191/191\u001b[0m \u001b[32m━━━━━━━━━━━━━━━━━━━━\u001b[0m\u001b[37m\u001b[0m \u001b[1m32s\u001b[0m 167ms/step - accuracy: 0.4195 - f1_score_metric: 0.5857 - loss: 0.8378 - val_accuracy: 0.4655 - val_f1_score_metric: 0.5967 - val_loss: 0.6973\n",
      "Epoch 9/10\n",
      "\u001b[1m191/191\u001b[0m \u001b[32m━━━━━━━━━━━━━━━━━━━━\u001b[0m\u001b[37m\u001b[0m \u001b[1m32s\u001b[0m 169ms/step - accuracy: 0.4184 - f1_score_metric: 0.5848 - loss: 0.8374 - val_accuracy: 0.4655 - val_f1_score_metric: 0.5967 - val_loss: 0.6971\n",
      "\u001b[1m238/238\u001b[0m \u001b[32m━━━━━━━━━━━━━━━━━━━━\u001b[0m\u001b[37m\u001b[0m \u001b[1m12s\u001b[0m 51ms/step\n",
      "F1 Score: 0.6011\n",
      "Training with lr=0.0005, batch_size=32, dropout=0.4, units=64\n",
      "Epoch 1/10\n"
     ]
    },
    {
     "name": "stderr",
     "output_type": "stream",
     "text": [
      "/opt/anaconda3/lib/python3.11/site-packages/keras/src/layers/core/embedding.py:90: UserWarning: Argument `input_length` is deprecated. Just remove it.\n",
      "  warnings.warn(\n"
     ]
    },
    {
     "name": "stdout",
     "output_type": "stream",
     "text": [
      "\u001b[1m191/191\u001b[0m \u001b[32m━━━━━━━━━━━━━━━━━━━━\u001b[0m\u001b[37m\u001b[0m \u001b[1m20s\u001b[0m 66ms/step - accuracy: 0.4160 - f1_score_metric: 0.5486 - loss: 0.8393 - val_accuracy: 0.4655 - val_f1_score_metric: 0.5967 - val_loss: 0.7004\n",
      "Epoch 2/10\n",
      "\u001b[1m191/191\u001b[0m \u001b[32m━━━━━━━━━━━━━━━━━━━━\u001b[0m\u001b[37m\u001b[0m \u001b[1m12s\u001b[0m 62ms/step - accuracy: 0.4183 - f1_score_metric: 0.5839 - loss: 0.8374 - val_accuracy: 0.4655 - val_f1_score_metric: 0.5967 - val_loss: 0.6965\n",
      "Epoch 3/10\n",
      "\u001b[1m191/191\u001b[0m \u001b[32m━━━━━━━━━━━━━━━━━━━━\u001b[0m\u001b[37m\u001b[0m \u001b[1m12s\u001b[0m 63ms/step - accuracy: 0.4149 - f1_score_metric: 0.5820 - loss: 0.8366 - val_accuracy: 0.4655 - val_f1_score_metric: 0.5967 - val_loss: 0.6982\n",
      "Epoch 4/10\n",
      "\u001b[1m191/191\u001b[0m \u001b[32m━━━━━━━━━━━━━━━━━━━━\u001b[0m\u001b[37m\u001b[0m \u001b[1m12s\u001b[0m 63ms/step - accuracy: 0.4219 - f1_score_metric: 0.5893 - loss: 0.8383 - val_accuracy: 0.4655 - val_f1_score_metric: 0.5967 - val_loss: 0.6966\n",
      "Epoch 5/10\n",
      "\u001b[1m191/191\u001b[0m \u001b[32m━━━━━━━━━━━━━━━━━━━━\u001b[0m\u001b[37m\u001b[0m \u001b[1m12s\u001b[0m 62ms/step - accuracy: 0.4176 - f1_score_metric: 0.5851 - loss: 0.8373 - val_accuracy: 0.4655 - val_f1_score_metric: 0.5967 - val_loss: 0.6974\n",
      "\u001b[1m238/238\u001b[0m \u001b[32m━━━━━━━━━━━━━━━━━━━━\u001b[0m\u001b[37m\u001b[0m \u001b[1m4s\u001b[0m 15ms/step\n",
      "F1 Score: 0.6011\n",
      "Training with lr=0.0005, batch_size=32, dropout=0.4, units=128\n",
      "Epoch 1/10\n"
     ]
    },
    {
     "name": "stderr",
     "output_type": "stream",
     "text": [
      "/opt/anaconda3/lib/python3.11/site-packages/keras/src/layers/core/embedding.py:90: UserWarning: Argument `input_length` is deprecated. Just remove it.\n",
      "  warnings.warn(\n"
     ]
    },
    {
     "name": "stdout",
     "output_type": "stream",
     "text": [
      "\u001b[1m191/191\u001b[0m \u001b[32m━━━━━━━━━━━━━━━━━━━━\u001b[0m\u001b[37m\u001b[0m \u001b[1m19s\u001b[0m 96ms/step - accuracy: 0.4202 - f1_score_metric: 0.5624 - loss: 0.8368 - val_accuracy: 0.4655 - val_f1_score_metric: 0.5967 - val_loss: 0.6979\n",
      "Epoch 2/10\n",
      "\u001b[1m191/191\u001b[0m \u001b[32m━━━━━━━━━━━━━━━━━━━━\u001b[0m\u001b[37m\u001b[0m \u001b[1m18s\u001b[0m 96ms/step - accuracy: 0.4336 - f1_score_metric: 0.5997 - loss: 0.8406 - val_accuracy: 0.4655 - val_f1_score_metric: 0.5967 - val_loss: 0.6949\n",
      "Epoch 3/10\n",
      "\u001b[1m191/191\u001b[0m \u001b[32m━━━━━━━━━━━━━━━━━━━━\u001b[0m\u001b[37m\u001b[0m \u001b[1m18s\u001b[0m 95ms/step - accuracy: 0.4179 - f1_score_metric: 0.5819 - loss: 0.8375 - val_accuracy: 0.4655 - val_f1_score_metric: 0.5967 - val_loss: 0.7004\n",
      "Epoch 4/10\n",
      "\u001b[1m191/191\u001b[0m \u001b[32m━━━━━━━━━━━━━━━━━━━━\u001b[0m\u001b[37m\u001b[0m \u001b[1m18s\u001b[0m 95ms/step - accuracy: 0.4207 - f1_score_metric: 0.5863 - loss: 0.8383 - val_accuracy: 0.4655 - val_f1_score_metric: 0.5967 - val_loss: 0.6958\n",
      "Epoch 5/10\n",
      "\u001b[1m191/191\u001b[0m \u001b[32m━━━━━━━━━━━━━━━━━━━━\u001b[0m\u001b[37m\u001b[0m \u001b[1m18s\u001b[0m 95ms/step - accuracy: 0.4077 - f1_score_metric: 0.5742 - loss: 0.8349 - val_accuracy: 0.4655 - val_f1_score_metric: 0.5967 - val_loss: 0.6982\n",
      "\u001b[1m238/238\u001b[0m \u001b[32m━━━━━━━━━━━━━━━━━━━━\u001b[0m\u001b[37m\u001b[0m \u001b[1m6s\u001b[0m 24ms/step\n",
      "F1 Score: 0.6011\n",
      "Training with lr=0.0005, batch_size=32, dropout=0.4, units=256\n",
      "Epoch 1/10\n"
     ]
    },
    {
     "name": "stderr",
     "output_type": "stream",
     "text": [
      "/opt/anaconda3/lib/python3.11/site-packages/keras/src/layers/core/embedding.py:90: UserWarning: Argument `input_length` is deprecated. Just remove it.\n",
      "  warnings.warn(\n"
     ]
    },
    {
     "name": "stdout",
     "output_type": "stream",
     "text": [
      "\u001b[1m191/191\u001b[0m \u001b[32m━━━━━━━━━━━━━━━━━━━━\u001b[0m\u001b[37m\u001b[0m \u001b[1m37s\u001b[0m 186ms/step - accuracy: 0.4256 - f1_score_metric: 0.5654 - loss: 0.8384 - val_accuracy: 0.4655 - val_f1_score_metric: 0.5967 - val_loss: 0.6967\n",
      "Epoch 2/10\n",
      "\u001b[1m191/191\u001b[0m \u001b[32m━━━━━━━━━━━━━━━━━━━━\u001b[0m\u001b[37m\u001b[0m \u001b[1m35s\u001b[0m 185ms/step - accuracy: 0.4128 - f1_score_metric: 0.5800 - loss: 0.8362 - val_accuracy: 0.4655 - val_f1_score_metric: 0.5967 - val_loss: 0.7050\n",
      "Epoch 3/10\n",
      "\u001b[1m191/191\u001b[0m \u001b[32m━━━━━━━━━━━━━━━━━━━━\u001b[0m\u001b[37m\u001b[0m \u001b[1m36s\u001b[0m 188ms/step - accuracy: 0.4238 - f1_score_metric: 0.5890 - loss: 0.8391 - val_accuracy: 0.4655 - val_f1_score_metric: 0.5967 - val_loss: 0.6945\n",
      "Epoch 4/10\n",
      "\u001b[1m191/191\u001b[0m \u001b[32m━━━━━━━━━━━━━━━━━━━━\u001b[0m\u001b[37m\u001b[0m \u001b[1m36s\u001b[0m 191ms/step - accuracy: 0.4300 - f1_score_metric: 0.5211 - loss: 0.8370 - val_accuracy: 0.4655 - val_f1_score_metric: 0.5967 - val_loss: 0.6966\n",
      "Epoch 5/10\n",
      "\u001b[1m191/191\u001b[0m \u001b[32m━━━━━━━━━━━━━━━━━━━━\u001b[0m\u001b[37m\u001b[0m \u001b[1m36s\u001b[0m 191ms/step - accuracy: 0.4301 - f1_score_metric: 0.5963 - loss: 0.8405 - val_accuracy: 0.4655 - val_f1_score_metric: 0.5967 - val_loss: 0.6966\n",
      "Epoch 6/10\n",
      "\u001b[1m191/191\u001b[0m \u001b[32m━━━━━━━━━━━━━━━━━━━━\u001b[0m\u001b[37m\u001b[0m \u001b[1m35s\u001b[0m 181ms/step - accuracy: 0.4178 - f1_score_metric: 0.5834 - loss: 0.8375 - val_accuracy: 0.4655 - val_f1_score_metric: 0.5967 - val_loss: 0.7009\n",
      "\u001b[1m238/238\u001b[0m \u001b[32m━━━━━━━━━━━━━━━━━━━━\u001b[0m\u001b[37m\u001b[0m \u001b[1m12s\u001b[0m 48ms/step\n",
      "F1 Score: 0.6011\n",
      "Training with lr=0.0005, batch_size=64, dropout=0.2, units=64\n",
      "Epoch 1/10\n"
     ]
    },
    {
     "name": "stderr",
     "output_type": "stream",
     "text": [
      "/opt/anaconda3/lib/python3.11/site-packages/keras/src/layers/core/embedding.py:90: UserWarning: Argument `input_length` is deprecated. Just remove it.\n",
      "  warnings.warn(\n"
     ]
    },
    {
     "name": "stdout",
     "output_type": "stream",
     "text": [
      "\u001b[1m96/96\u001b[0m \u001b[32m━━━━━━━━━━━━━━━━━━━━\u001b[0m\u001b[37m\u001b[0m \u001b[1m10s\u001b[0m 91ms/step - accuracy: 0.4179 - f1_score_metric: 0.5496 - loss: 0.8368 - val_accuracy: 0.4655 - val_f1_score_metric: 0.6086 - val_loss: 0.6993\n",
      "Epoch 2/10\n",
      "\u001b[1m96/96\u001b[0m \u001b[32m━━━━━━━━━━━━━━━━━━━━\u001b[0m\u001b[37m\u001b[0m \u001b[1m9s\u001b[0m 90ms/step - accuracy: 0.4274 - f1_score_metric: 0.5965 - loss: 0.8394 - val_accuracy: 0.4655 - val_f1_score_metric: 0.6086 - val_loss: 0.6952\n",
      "Epoch 3/10\n",
      "\u001b[1m96/96\u001b[0m \u001b[32m━━━━━━━━━━━━━━━━━━━━\u001b[0m\u001b[37m\u001b[0m \u001b[1m9s\u001b[0m 91ms/step - accuracy: 0.4264 - f1_score_metric: 0.5954 - loss: 0.8398 - val_accuracy: 0.4655 - val_f1_score_metric: 0.6086 - val_loss: 0.6955\n",
      "Epoch 4/10\n",
      "\u001b[1m96/96\u001b[0m \u001b[32m━━━━━━━━━━━━━━━━━━━━\u001b[0m\u001b[37m\u001b[0m \u001b[1m9s\u001b[0m 89ms/step - accuracy: 0.4154 - f1_score_metric: 0.5844 - loss: 0.8367 - val_accuracy: 0.4655 - val_f1_score_metric: 0.6086 - val_loss: 0.6979\n",
      "Epoch 5/10\n",
      "\u001b[1m96/96\u001b[0m \u001b[32m━━━━━━━━━━━━━━━━━━━━\u001b[0m\u001b[37m\u001b[0m \u001b[1m9s\u001b[0m 91ms/step - accuracy: 0.4190 - f1_score_metric: 0.5886 - loss: 0.8377 - val_accuracy: 0.4655 - val_f1_score_metric: 0.6086 - val_loss: 0.6970\n",
      "\u001b[1m238/238\u001b[0m \u001b[32m━━━━━━━━━━━━━━━━━━━━\u001b[0m\u001b[37m\u001b[0m \u001b[1m4s\u001b[0m 15ms/step\n",
      "F1 Score: 0.6011\n",
      "Training with lr=0.0005, batch_size=64, dropout=0.2, units=128\n",
      "Epoch 1/10\n"
     ]
    },
    {
     "name": "stderr",
     "output_type": "stream",
     "text": [
      "/opt/anaconda3/lib/python3.11/site-packages/keras/src/layers/core/embedding.py:90: UserWarning: Argument `input_length` is deprecated. Just remove it.\n",
      "  warnings.warn(\n"
     ]
    },
    {
     "name": "stdout",
     "output_type": "stream",
     "text": [
      "\u001b[1m96/96\u001b[0m \u001b[32m━━━━━━━━━━━━━━━━━━━━\u001b[0m\u001b[37m\u001b[0m \u001b[1m16s\u001b[0m 154ms/step - accuracy: 0.4181 - f1_score_metric: 0.5517 - loss: 0.8384 - val_accuracy: 0.4655 - val_f1_score_metric: 0.6086 - val_loss: 0.6984\n",
      "Epoch 2/10\n",
      "\u001b[1m96/96\u001b[0m \u001b[32m━━━━━━━━━━━━━━━━━━━━\u001b[0m\u001b[37m\u001b[0m \u001b[1m15s\u001b[0m 155ms/step - accuracy: 0.4221 - f1_score_metric: 0.5910 - loss: 0.8385 - val_accuracy: 0.4655 - val_f1_score_metric: 0.6086 - val_loss: 0.6964\n",
      "Epoch 3/10\n",
      "\u001b[1m96/96\u001b[0m \u001b[32m━━━━━━━━━━━━━━━━━━━━\u001b[0m\u001b[37m\u001b[0m \u001b[1m15s\u001b[0m 156ms/step - accuracy: 0.4155 - f1_score_metric: 0.5844 - loss: 0.8367 - val_accuracy: 0.4655 - val_f1_score_metric: 0.6086 - val_loss: 0.6979\n",
      "Epoch 4/10\n",
      "\u001b[1m96/96\u001b[0m \u001b[32m━━━━━━━━━━━━━━━━━━━━\u001b[0m\u001b[37m\u001b[0m \u001b[1m15s\u001b[0m 158ms/step - accuracy: 0.4270 - f1_score_metric: 0.5960 - loss: 0.8397 - val_accuracy: 0.4655 - val_f1_score_metric: 0.6086 - val_loss: 0.6963\n",
      "Epoch 5/10\n",
      "\u001b[1m96/96\u001b[0m \u001b[32m━━━━━━━━━━━━━━━━━━━━\u001b[0m\u001b[37m\u001b[0m \u001b[1m16s\u001b[0m 163ms/step - accuracy: 0.4194 - f1_score_metric: 0.5887 - loss: 0.8378 - val_accuracy: 0.4655 - val_f1_score_metric: 0.6086 - val_loss: 0.6976\n",
      "Epoch 6/10\n",
      "\u001b[1m96/96\u001b[0m \u001b[32m━━━━━━━━━━━━━━━━━━━━\u001b[0m\u001b[37m\u001b[0m \u001b[1m16s\u001b[0m 164ms/step - accuracy: 0.4190 - f1_score_metric: 0.5882 - loss: 0.8376 - val_accuracy: 0.4655 - val_f1_score_metric: 0.6086 - val_loss: 0.6962\n",
      "Epoch 7/10\n",
      "\u001b[1m96/96\u001b[0m \u001b[32m━━━━━━━━━━━━━━━━━━━━\u001b[0m\u001b[37m\u001b[0m \u001b[1m15s\u001b[0m 158ms/step - accuracy: 0.4194 - f1_score_metric: 0.5890 - loss: 0.8376 - val_accuracy: 0.4655 - val_f1_score_metric: 0.6086 - val_loss: 0.6971\n",
      "Epoch 8/10\n",
      "\u001b[1m96/96\u001b[0m \u001b[32m━━━━━━━━━━━━━━━━━━━━\u001b[0m\u001b[37m\u001b[0m \u001b[1m15s\u001b[0m 159ms/step - accuracy: 0.4127 - f1_score_metric: 0.5823 - loss: 0.8360 - val_accuracy: 0.4655 - val_f1_score_metric: 0.6086 - val_loss: 0.6972\n",
      "Epoch 9/10\n",
      "\u001b[1m96/96\u001b[0m \u001b[32m━━━━━━━━━━━━━━━━━━━━\u001b[0m\u001b[37m\u001b[0m \u001b[1m16s\u001b[0m 165ms/step - accuracy: 0.4200 - f1_score_metric: 0.5893 - loss: 0.8379 - val_accuracy: 0.4655 - val_f1_score_metric: 0.6086 - val_loss: 0.6974\n",
      "\u001b[1m238/238\u001b[0m \u001b[32m━━━━━━━━━━━━━━━━━━━━\u001b[0m\u001b[37m\u001b[0m \u001b[1m6s\u001b[0m 24ms/step\n",
      "F1 Score: 0.6011\n",
      "Training with lr=0.0005, batch_size=64, dropout=0.2, units=256\n",
      "Epoch 1/10\n"
     ]
    },
    {
     "name": "stderr",
     "output_type": "stream",
     "text": [
      "/opt/anaconda3/lib/python3.11/site-packages/keras/src/layers/core/embedding.py:90: UserWarning: Argument `input_length` is deprecated. Just remove it.\n",
      "  warnings.warn(\n"
     ]
    },
    {
     "name": "stdout",
     "output_type": "stream",
     "text": [
      "\u001b[1m96/96\u001b[0m \u001b[32m━━━━━━━━━━━━━━━━━━━━\u001b[0m\u001b[37m\u001b[0m \u001b[1m29s\u001b[0m 293ms/step - accuracy: 0.4443 - f1_score_metric: 0.5424 - loss: 0.8417 - val_accuracy: 0.4655 - val_f1_score_metric: 0.6086 - val_loss: 0.6941\n",
      "Epoch 2/10\n",
      "\u001b[1m96/96\u001b[0m \u001b[32m━━━━━━━━━━━━━━━━━━━━\u001b[0m\u001b[37m\u001b[0m \u001b[1m28s\u001b[0m 290ms/step - accuracy: 0.4278 - f1_score_metric: 0.5961 - loss: 0.8402 - val_accuracy: 0.4655 - val_f1_score_metric: 0.6086 - val_loss: 0.6948\n",
      "Epoch 3/10\n",
      "\u001b[1m96/96\u001b[0m \u001b[32m━━━━━━━━━━━━━━━━━━━━\u001b[0m\u001b[37m\u001b[0m \u001b[1m28s\u001b[0m 292ms/step - accuracy: 0.4204 - f1_score_metric: 0.5897 - loss: 0.8381 - val_accuracy: 0.4655 - val_f1_score_metric: 0.6086 - val_loss: 0.6973\n",
      "Epoch 4/10\n",
      "\u001b[1m96/96\u001b[0m \u001b[32m━━━━━━━━━━━━━━━━━━━━\u001b[0m\u001b[37m\u001b[0m \u001b[1m28s\u001b[0m 294ms/step - accuracy: 0.4283 - f1_score_metric: 0.5972 - loss: 0.8397 - val_accuracy: 0.4655 - val_f1_score_metric: 0.6086 - val_loss: 0.6955\n",
      "\u001b[1m238/238\u001b[0m \u001b[32m━━━━━━━━━━━━━━━━━━━━\u001b[0m\u001b[37m\u001b[0m \u001b[1m12s\u001b[0m 49ms/step\n",
      "F1 Score: 0.6011\n",
      "Training with lr=0.0005, batch_size=64, dropout=0.3, units=64\n",
      "Epoch 1/10\n"
     ]
    },
    {
     "name": "stderr",
     "output_type": "stream",
     "text": [
      "/opt/anaconda3/lib/python3.11/site-packages/keras/src/layers/core/embedding.py:90: UserWarning: Argument `input_length` is deprecated. Just remove it.\n",
      "  warnings.warn(\n"
     ]
    },
    {
     "name": "stdout",
     "output_type": "stream",
     "text": [
      "\u001b[1m96/96\u001b[0m \u001b[32m━━━━━━━━━━━━━━━━━━━━\u001b[0m\u001b[37m\u001b[0m \u001b[1m10s\u001b[0m 94ms/step - accuracy: 0.4815 - f1_score_metric: 0.3791 - loss: 0.8370 - val_accuracy: 0.4655 - val_f1_score_metric: 0.6086 - val_loss: 0.6977\n",
      "Epoch 2/10\n",
      "\u001b[1m96/96\u001b[0m \u001b[32m━━━━━━━━━━━━━━━━━━━━\u001b[0m\u001b[37m\u001b[0m \u001b[1m9s\u001b[0m 89ms/step - accuracy: 0.4155 - f1_score_metric: 0.5839 - loss: 0.8370 - val_accuracy: 0.4655 - val_f1_score_metric: 0.6086 - val_loss: 0.6976\n",
      "Epoch 3/10\n",
      "\u001b[1m96/96\u001b[0m \u001b[32m━━━━━━━━━━━━━━━━━━━━\u001b[0m\u001b[37m\u001b[0m \u001b[1m9s\u001b[0m 90ms/step - accuracy: 0.4229 - f1_score_metric: 0.5914 - loss: 0.8386 - val_accuracy: 0.4655 - val_f1_score_metric: 0.6086 - val_loss: 0.6960\n",
      "Epoch 4/10\n",
      "\u001b[1m96/96\u001b[0m \u001b[32m━━━━━━━━━━━━━━━━━━━━\u001b[0m\u001b[37m\u001b[0m \u001b[1m9s\u001b[0m 90ms/step - accuracy: 0.4230 - f1_score_metric: 0.5921 - loss: 0.8385 - val_accuracy: 0.4655 - val_f1_score_metric: 0.6086 - val_loss: 0.6959\n",
      "Epoch 5/10\n",
      "\u001b[1m96/96\u001b[0m \u001b[32m━━━━━━━━━━━━━━━━━━━━\u001b[0m\u001b[37m\u001b[0m \u001b[1m9s\u001b[0m 90ms/step - accuracy: 0.4301 - f1_score_metric: 0.5987 - loss: 0.8406 - val_accuracy: 0.4655 - val_f1_score_metric: 0.6086 - val_loss: 0.6957\n",
      "Epoch 6/10\n",
      "\u001b[1m96/96\u001b[0m \u001b[32m━━━━━━━━━━━━━━━━━━━━\u001b[0m\u001b[37m\u001b[0m \u001b[1m9s\u001b[0m 89ms/step - accuracy: 0.4149 - f1_score_metric: 0.5837 - loss: 0.8365 - val_accuracy: 0.4655 - val_f1_score_metric: 0.6086 - val_loss: 0.6986\n",
      "Epoch 7/10\n",
      "\u001b[1m96/96\u001b[0m \u001b[32m━━━━━━━━━━━━━━━━━━━━\u001b[0m\u001b[37m\u001b[0m \u001b[1m9s\u001b[0m 90ms/step - accuracy: 0.4188 - f1_score_metric: 0.5878 - loss: 0.8376 - val_accuracy: 0.4655 - val_f1_score_metric: 0.6086 - val_loss: 0.6975\n",
      "Epoch 8/10\n",
      "\u001b[1m96/96\u001b[0m \u001b[32m━━━━━━━━━━━━━━━━━━━━\u001b[0m\u001b[37m\u001b[0m \u001b[1m9s\u001b[0m 89ms/step - accuracy: 0.4074 - f1_score_metric: 0.5752 - loss: 0.8349 - val_accuracy: 0.4655 - val_f1_score_metric: 0.6086 - val_loss: 0.6987\n",
      "\u001b[1m238/238\u001b[0m \u001b[32m━━━━━━━━━━━━━━━━━━━━\u001b[0m\u001b[37m\u001b[0m \u001b[1m4s\u001b[0m 18ms/step\n",
      "F1 Score: 0.6011\n",
      "Training with lr=0.0005, batch_size=64, dropout=0.3, units=128\n",
      "Epoch 1/10\n"
     ]
    },
    {
     "name": "stderr",
     "output_type": "stream",
     "text": [
      "/opt/anaconda3/lib/python3.11/site-packages/keras/src/layers/core/embedding.py:90: UserWarning: Argument `input_length` is deprecated. Just remove it.\n",
      "  warnings.warn(\n"
     ]
    },
    {
     "name": "stdout",
     "output_type": "stream",
     "text": [
      "\u001b[1m96/96\u001b[0m \u001b[32m━━━━━━━━━━━━━━━━━━━━\u001b[0m\u001b[37m\u001b[0m \u001b[1m16s\u001b[0m 155ms/step - accuracy: 0.4203 - f1_score_metric: 0.5509 - loss: 0.8370 - val_accuracy: 0.4655 - val_f1_score_metric: 0.6086 - val_loss: 0.7001\n",
      "Epoch 2/10\n",
      "\u001b[1m96/96\u001b[0m \u001b[32m━━━━━━━━━━━━━━━━━━━━\u001b[0m\u001b[37m\u001b[0m \u001b[1m15s\u001b[0m 154ms/step - accuracy: 0.4265 - f1_score_metric: 0.5954 - loss: 0.8393 - val_accuracy: 0.4655 - val_f1_score_metric: 0.6086 - val_loss: 0.6954\n",
      "Epoch 3/10\n",
      "\u001b[1m96/96\u001b[0m \u001b[32m━━━━━━━━━━━━━━━━━━━━\u001b[0m\u001b[37m\u001b[0m \u001b[1m14s\u001b[0m 149ms/step - accuracy: 0.4408 - f1_score_metric: 0.6078 - loss: 0.8430 - val_accuracy: 0.4655 - val_f1_score_metric: 0.6086 - val_loss: 0.6936\n",
      "Epoch 4/10\n",
      "\u001b[1m96/96\u001b[0m \u001b[32m━━━━━━━━━━━━━━━━━━━━\u001b[0m\u001b[37m\u001b[0m \u001b[1m14s\u001b[0m 150ms/step - accuracy: 0.4263 - f1_score_metric: 0.5949 - loss: 0.8404 - val_accuracy: 0.4655 - val_f1_score_metric: 0.6086 - val_loss: 0.6971\n",
      "Epoch 5/10\n",
      "\u001b[1m96/96\u001b[0m \u001b[32m━━━━━━━━━━━━━━━━━━━━\u001b[0m\u001b[37m\u001b[0m \u001b[1m14s\u001b[0m 151ms/step - accuracy: 0.4303 - f1_score_metric: 0.5993 - loss: 0.8403 - val_accuracy: 0.4655 - val_f1_score_metric: 0.6086 - val_loss: 0.6951\n",
      "Epoch 6/10\n",
      "\u001b[1m96/96\u001b[0m \u001b[32m━━━━━━━━━━━━━━━━━━━━\u001b[0m\u001b[37m\u001b[0m \u001b[1m14s\u001b[0m 151ms/step - accuracy: 0.4170 - f1_score_metric: 0.5865 - loss: 0.8370 - val_accuracy: 0.4655 - val_f1_score_metric: 0.6086 - val_loss: 0.6976\n",
      "\u001b[1m238/238\u001b[0m \u001b[32m━━━━━━━━━━━━━━━━━━━━\u001b[0m\u001b[37m\u001b[0m \u001b[1m6s\u001b[0m 24ms/step\n",
      "F1 Score: 0.6011\n",
      "Training with lr=0.0005, batch_size=64, dropout=0.3, units=256\n",
      "Epoch 1/10\n"
     ]
    },
    {
     "name": "stderr",
     "output_type": "stream",
     "text": [
      "/opt/anaconda3/lib/python3.11/site-packages/keras/src/layers/core/embedding.py:90: UserWarning: Argument `input_length` is deprecated. Just remove it.\n",
      "  warnings.warn(\n"
     ]
    },
    {
     "name": "stdout",
     "output_type": "stream",
     "text": [
      "\u001b[1m96/96\u001b[0m \u001b[32m━━━━━━━━━━━━━━━━━━━━\u001b[0m\u001b[37m\u001b[0m \u001b[1m27s\u001b[0m 268ms/step - accuracy: 0.5031 - f1_score_metric: 0.2801 - loss: 0.8355 - val_accuracy: 0.4655 - val_f1_score_metric: 0.6086 - val_loss: 0.6963\n",
      "Epoch 2/10\n",
      "\u001b[1m96/96\u001b[0m \u001b[32m━━━━━━━━━━━━━━━━━━━━\u001b[0m\u001b[37m\u001b[0m \u001b[1m26s\u001b[0m 267ms/step - accuracy: 0.4287 - f1_score_metric: 0.5974 - loss: 0.8400 - val_accuracy: 0.4655 - val_f1_score_metric: 0.6086 - val_loss: 0.6934\n",
      "Epoch 3/10\n",
      "\u001b[1m96/96\u001b[0m \u001b[32m━━━━━━━━━━━━━━━━━━━━\u001b[0m\u001b[37m\u001b[0m \u001b[1m27s\u001b[0m 279ms/step - accuracy: 0.4121 - f1_score_metric: 0.5797 - loss: 0.8359 - val_accuracy: 0.4655 - val_f1_score_metric: 0.6086 - val_loss: 0.6966\n",
      "Epoch 4/10\n",
      "\u001b[1m96/96\u001b[0m \u001b[32m━━━━━━━━━━━━━━━━━━━━\u001b[0m\u001b[37m\u001b[0m \u001b[1m27s\u001b[0m 285ms/step - accuracy: 0.4253 - f1_score_metric: 0.5942 - loss: 0.8393 - val_accuracy: 0.4655 - val_f1_score_metric: 0.6086 - val_loss: 0.6964\n",
      "Epoch 5/10\n",
      "\u001b[1m96/96\u001b[0m \u001b[32m━━━━━━━━━━━━━━━━━━━━\u001b[0m\u001b[37m\u001b[0m \u001b[1m27s\u001b[0m 281ms/step - accuracy: 0.4156 - f1_score_metric: 0.5839 - loss: 0.8367 - val_accuracy: 0.4655 - val_f1_score_metric: 0.6086 - val_loss: 0.6979\n",
      "\u001b[1m238/238\u001b[0m \u001b[32m━━━━━━━━━━━━━━━━━━━━\u001b[0m\u001b[37m\u001b[0m \u001b[1m11s\u001b[0m 45ms/step\n",
      "F1 Score: 0.6011\n",
      "Training with lr=0.0005, batch_size=64, dropout=0.4, units=64\n",
      "Epoch 1/10\n"
     ]
    },
    {
     "name": "stderr",
     "output_type": "stream",
     "text": [
      "/opt/anaconda3/lib/python3.11/site-packages/keras/src/layers/core/embedding.py:90: UserWarning: Argument `input_length` is deprecated. Just remove it.\n",
      "  warnings.warn(\n"
     ]
    },
    {
     "name": "stdout",
     "output_type": "stream",
     "text": [
      "\u001b[1m96/96\u001b[0m \u001b[32m━━━━━━━━━━━━━━━━━━━━\u001b[0m\u001b[37m\u001b[0m \u001b[1m10s\u001b[0m 91ms/step - accuracy: 0.4225 - f1_score_metric: 0.5519 - loss: 0.8364 - val_accuracy: 0.4655 - val_f1_score_metric: 0.6086 - val_loss: 0.6977\n",
      "Epoch 2/10\n",
      "\u001b[1m96/96\u001b[0m \u001b[32m━━━━━━━━━━━━━━━━━━━━\u001b[0m\u001b[37m\u001b[0m \u001b[1m9s\u001b[0m 90ms/step - accuracy: 0.4162 - f1_score_metric: 0.5850 - loss: 0.8372 - val_accuracy: 0.4655 - val_f1_score_metric: 0.6086 - val_loss: 0.6977\n",
      "Epoch 3/10\n",
      "\u001b[1m96/96\u001b[0m \u001b[32m━━━━━━━━━━━━━━━━━━━━\u001b[0m\u001b[37m\u001b[0m \u001b[1m9s\u001b[0m 89ms/step - accuracy: 0.4262 - f1_score_metric: 0.5954 - loss: 0.8393 - val_accuracy: 0.4655 - val_f1_score_metric: 0.6086 - val_loss: 0.6949\n",
      "Epoch 4/10\n",
      "\u001b[1m96/96\u001b[0m \u001b[32m━━━━━━━━━━━━━━━━━━━━\u001b[0m\u001b[37m\u001b[0m \u001b[1m9s\u001b[0m 91ms/step - accuracy: 0.4266 - f1_score_metric: 0.5952 - loss: 0.8398 - val_accuracy: 0.4655 - val_f1_score_metric: 0.6086 - val_loss: 0.6960\n",
      "Epoch 5/10\n",
      "\u001b[1m96/96\u001b[0m \u001b[32m━━━━━━━━━━━━━━━━━━━━\u001b[0m\u001b[37m\u001b[0m \u001b[1m9s\u001b[0m 89ms/step - accuracy: 0.4288 - f1_score_metric: 0.5982 - loss: 0.8401 - val_accuracy: 0.4655 - val_f1_score_metric: 0.6086 - val_loss: 0.6952\n",
      "Epoch 6/10\n",
      "\u001b[1m96/96\u001b[0m \u001b[32m━━━━━━━━━━━━━━━━━━━━\u001b[0m\u001b[37m\u001b[0m \u001b[1m9s\u001b[0m 90ms/step - accuracy: 0.4178 - f1_score_metric: 0.5873 - loss: 0.8372 - val_accuracy: 0.4655 - val_f1_score_metric: 0.6086 - val_loss: 0.6970\n",
      "\u001b[1m238/238\u001b[0m \u001b[32m━━━━━━━━━━━━━━━━━━━━\u001b[0m\u001b[37m\u001b[0m \u001b[1m4s\u001b[0m 15ms/step\n",
      "F1 Score: 0.6011\n",
      "Training with lr=0.0005, batch_size=64, dropout=0.4, units=128\n",
      "Epoch 1/10\n"
     ]
    },
    {
     "name": "stderr",
     "output_type": "stream",
     "text": [
      "/opt/anaconda3/lib/python3.11/site-packages/keras/src/layers/core/embedding.py:90: UserWarning: Argument `input_length` is deprecated. Just remove it.\n",
      "  warnings.warn(\n"
     ]
    },
    {
     "name": "stdout",
     "output_type": "stream",
     "text": [
      "\u001b[1m96/96\u001b[0m \u001b[32m━━━━━━━━━━━━━━━━━━━━\u001b[0m\u001b[37m\u001b[0m \u001b[1m16s\u001b[0m 153ms/step - accuracy: 0.4311 - f1_score_metric: 0.5612 - loss: 0.8404 - val_accuracy: 0.4655 - val_f1_score_metric: 0.6086 - val_loss: 0.6944\n",
      "Epoch 2/10\n",
      "\u001b[1m96/96\u001b[0m \u001b[32m━━━━━━━━━━━━━━━━━━━━\u001b[0m\u001b[37m\u001b[0m \u001b[1m14s\u001b[0m 151ms/step - accuracy: 0.4251 - f1_score_metric: 0.5934 - loss: 0.8394 - val_accuracy: 0.4655 - val_f1_score_metric: 0.6086 - val_loss: 0.6957\n",
      "Epoch 3/10\n",
      "\u001b[1m96/96\u001b[0m \u001b[32m━━━━━━━━━━━━━━━━━━━━\u001b[0m\u001b[37m\u001b[0m \u001b[1m15s\u001b[0m 153ms/step - accuracy: 0.4253 - f1_score_metric: 0.5947 - loss: 0.8393 - val_accuracy: 0.4655 - val_f1_score_metric: 0.6086 - val_loss: 0.6956\n",
      "Epoch 4/10\n",
      "\u001b[1m96/96\u001b[0m \u001b[32m━━━━━━━━━━━━━━━━━━━━\u001b[0m\u001b[37m\u001b[0m \u001b[1m15s\u001b[0m 151ms/step - accuracy: 0.4216 - f1_score_metric: 0.5903 - loss: 0.8383 - val_accuracy: 0.4655 - val_f1_score_metric: 0.6086 - val_loss: 0.6962\n",
      "\u001b[1m238/238\u001b[0m \u001b[32m━━━━━━━━━━━━━━━━━━━━\u001b[0m\u001b[37m\u001b[0m \u001b[1m6s\u001b[0m 23ms/step\n",
      "F1 Score: 0.6011\n",
      "Training with lr=0.0005, batch_size=64, dropout=0.4, units=256\n",
      "Epoch 1/10\n"
     ]
    },
    {
     "name": "stderr",
     "output_type": "stream",
     "text": [
      "/opt/anaconda3/lib/python3.11/site-packages/keras/src/layers/core/embedding.py:90: UserWarning: Argument `input_length` is deprecated. Just remove it.\n",
      "  warnings.warn(\n"
     ]
    },
    {
     "name": "stdout",
     "output_type": "stream",
     "text": [
      "\u001b[1m96/96\u001b[0m \u001b[32m━━━━━━━━━━━━━━━━━━━━\u001b[0m\u001b[37m\u001b[0m \u001b[1m28s\u001b[0m 277ms/step - accuracy: 0.4442 - f1_score_metric: 0.4870 - loss: 0.8372 - val_accuracy: 0.4655 - val_f1_score_metric: 0.6086 - val_loss: 0.6974\n",
      "Epoch 2/10\n",
      "\u001b[1m96/96\u001b[0m \u001b[32m━━━━━━━━━━━━━━━━━━━━\u001b[0m\u001b[37m\u001b[0m \u001b[1m26s\u001b[0m 268ms/step - accuracy: 0.4226 - f1_score_metric: 0.5921 - loss: 0.8384 - val_accuracy: 0.4655 - val_f1_score_metric: 0.6086 - val_loss: 0.6948\n",
      "Epoch 3/10\n",
      "\u001b[1m96/96\u001b[0m \u001b[32m━━━━━━━━━━━━━━━━━━━━\u001b[0m\u001b[37m\u001b[0m \u001b[1m26s\u001b[0m 275ms/step - accuracy: 0.4161 - f1_score_metric: 0.5780 - loss: 0.8376 - val_accuracy: 0.4655 - val_f1_score_metric: 0.6086 - val_loss: 0.6955\n",
      "Epoch 4/10\n",
      "\u001b[1m96/96\u001b[0m \u001b[32m━━━━━━━━━━━━━━━━━━━━\u001b[0m\u001b[37m\u001b[0m \u001b[1m26s\u001b[0m 275ms/step - accuracy: 0.4242 - f1_score_metric: 0.5934 - loss: 0.8392 - val_accuracy: 0.4655 - val_f1_score_metric: 0.6086 - val_loss: 0.6975\n",
      "Epoch 5/10\n",
      "\u001b[1m96/96\u001b[0m \u001b[32m━━━━━━━━━━━━━━━━━━━━\u001b[0m\u001b[37m\u001b[0m \u001b[1m26s\u001b[0m 276ms/step - accuracy: 0.4215 - f1_score_metric: 0.5891 - loss: 0.8384 - val_accuracy: 0.4655 - val_f1_score_metric: 0.6086 - val_loss: 0.6964\n",
      "\u001b[1m238/238\u001b[0m \u001b[32m━━━━━━━━━━━━━━━━━━━━\u001b[0m\u001b[37m\u001b[0m \u001b[1m11s\u001b[0m 44ms/step\n",
      "F1 Score: 0.6011\n",
      "Training with lr=0.001, batch_size=16, dropout=0.2, units=64\n",
      "Epoch 1/10\n"
     ]
    },
    {
     "name": "stderr",
     "output_type": "stream",
     "text": [
      "/opt/anaconda3/lib/python3.11/site-packages/keras/src/layers/core/embedding.py:90: UserWarning: Argument `input_length` is deprecated. Just remove it.\n",
      "  warnings.warn(\n"
     ]
    },
    {
     "name": "stdout",
     "output_type": "stream",
     "text": [
      "\u001b[1m381/381\u001b[0m \u001b[32m━━━━━━━━━━━━━━━━━━━━\u001b[0m\u001b[37m\u001b[0m \u001b[1m19s\u001b[0m 47ms/step - accuracy: 0.4364 - f1_score_metric: 0.5542 - loss: 0.8405 - val_accuracy: 0.4655 - val_f1_score_metric: 0.5879 - val_loss: 0.6939\n",
      "Epoch 2/10\n",
      "\u001b[1m381/381\u001b[0m \u001b[32m━━━━━━━━━━━━━━━━━━━━\u001b[0m\u001b[37m\u001b[0m \u001b[1m18s\u001b[0m 47ms/step - accuracy: 0.4189 - f1_score_metric: 0.5811 - loss: 0.8378 - val_accuracy: 0.4655 - val_f1_score_metric: 0.5879 - val_loss: 0.6954\n",
      "Epoch 3/10\n",
      "\u001b[1m381/381\u001b[0m \u001b[32m━━━━━━━━━━━━━━━━━━━━\u001b[0m\u001b[37m\u001b[0m \u001b[1m18s\u001b[0m 47ms/step - accuracy: 0.4293 - f1_score_metric: 0.5851 - loss: 0.8402 - val_accuracy: 0.4655 - val_f1_score_metric: 0.5879 - val_loss: 0.6940\n",
      "Epoch 4/10\n",
      "\u001b[1m381/381\u001b[0m \u001b[32m━━━━━━━━━━━━━━━━━━━━\u001b[0m\u001b[37m\u001b[0m \u001b[1m18s\u001b[0m 47ms/step - accuracy: 0.4241 - f1_score_metric: 0.5180 - loss: 0.8354 - val_accuracy: 0.4655 - val_f1_score_metric: 0.5879 - val_loss: 0.7005\n",
      "\u001b[1m238/238\u001b[0m \u001b[32m━━━━━━━━━━━━━━━━━━━━\u001b[0m\u001b[37m\u001b[0m \u001b[1m4s\u001b[0m 15ms/step\n",
      "F1 Score: 0.6011\n",
      "Training with lr=0.001, batch_size=16, dropout=0.2, units=128\n",
      "Epoch 1/10\n"
     ]
    },
    {
     "name": "stderr",
     "output_type": "stream",
     "text": [
      "/opt/anaconda3/lib/python3.11/site-packages/keras/src/layers/core/embedding.py:90: UserWarning: Argument `input_length` is deprecated. Just remove it.\n",
      "  warnings.warn(\n"
     ]
    },
    {
     "name": "stdout",
     "output_type": "stream",
     "text": [
      "\u001b[1m381/381\u001b[0m \u001b[32m━━━━━━━━━━━━━━━━━━━━\u001b[0m\u001b[37m\u001b[0m \u001b[1m30s\u001b[0m 76ms/step - accuracy: 0.5019 - f1_score_metric: 0.3351 - loss: 0.8338 - val_accuracy: 0.4655 - val_f1_score_metric: 0.5879 - val_loss: 0.7027\n",
      "Epoch 2/10\n",
      "\u001b[1m381/381\u001b[0m \u001b[32m━━━━━━━━━━━━━━━━━━━━\u001b[0m\u001b[37m\u001b[0m \u001b[1m29s\u001b[0m 75ms/step - accuracy: 0.4307 - f1_score_metric: 0.5777 - loss: 0.8405 - val_accuracy: 0.4655 - val_f1_score_metric: 0.5879 - val_loss: 0.6945\n",
      "Epoch 3/10\n",
      "\u001b[1m381/381\u001b[0m \u001b[32m━━━━━━━━━━━━━━━━━━━━\u001b[0m\u001b[37m\u001b[0m \u001b[1m29s\u001b[0m 75ms/step - accuracy: 0.4183 - f1_score_metric: 0.5738 - loss: 0.8375 - val_accuracy: 0.4655 - val_f1_score_metric: 0.5879 - val_loss: 0.6974\n",
      "Epoch 4/10\n",
      "\u001b[1m381/381\u001b[0m \u001b[32m━━━━━━━━━━━━━━━━━━━━\u001b[0m\u001b[37m\u001b[0m \u001b[1m29s\u001b[0m 75ms/step - accuracy: 0.4248 - f1_score_metric: 0.5751 - loss: 0.8395 - val_accuracy: 0.4655 - val_f1_score_metric: 0.5879 - val_loss: 0.6969\n",
      "Epoch 5/10\n",
      "\u001b[1m381/381\u001b[0m \u001b[32m━━━━━━━━━━━━━━━━━━━━\u001b[0m\u001b[37m\u001b[0m \u001b[1m29s\u001b[0m 75ms/step - accuracy: 0.4208 - f1_score_metric: 0.5792 - loss: 0.8381 - val_accuracy: 0.4655 - val_f1_score_metric: 0.5879 - val_loss: 0.6979\n",
      "\u001b[1m238/238\u001b[0m \u001b[32m━━━━━━━━━━━━━━━━━━━━\u001b[0m\u001b[37m\u001b[0m \u001b[1m6s\u001b[0m 24ms/step\n",
      "F1 Score: 0.6011\n",
      "Training with lr=0.001, batch_size=16, dropout=0.2, units=256\n",
      "Epoch 1/10\n"
     ]
    },
    {
     "name": "stderr",
     "output_type": "stream",
     "text": [
      "/opt/anaconda3/lib/python3.11/site-packages/keras/src/layers/core/embedding.py:90: UserWarning: Argument `input_length` is deprecated. Just remove it.\n",
      "  warnings.warn(\n"
     ]
    },
    {
     "name": "stdout",
     "output_type": "stream",
     "text": [
      "\u001b[1m381/381\u001b[0m \u001b[32m━━━━━━━━━━━━━━━━━━━━\u001b[0m\u001b[37m\u001b[0m \u001b[1m48s\u001b[0m 122ms/step - accuracy: 0.4553 - f1_score_metric: 0.5154 - loss: 0.8417 - val_accuracy: 0.4655 - val_f1_score_metric: 0.5879 - val_loss: 0.6932\n",
      "Epoch 2/10\n",
      "\u001b[1m381/381\u001b[0m \u001b[32m━━━━━━━━━━━━━━━━━━━━\u001b[0m\u001b[37m\u001b[0m \u001b[1m47s\u001b[0m 124ms/step - accuracy: 0.4274 - f1_score_metric: 0.5709 - loss: 0.8398 - val_accuracy: 0.4655 - val_f1_score_metric: 0.5879 - val_loss: 0.6955\n",
      "Epoch 3/10\n",
      "\u001b[1m381/381\u001b[0m \u001b[32m━━━━━━━━━━━━━━━━━━━━\u001b[0m\u001b[37m\u001b[0m \u001b[1m47s\u001b[0m 122ms/step - accuracy: 0.4584 - f1_score_metric: 0.4605 - loss: 0.8362 - val_accuracy: 0.4655 - val_f1_score_metric: 0.5879 - val_loss: 0.6974\n",
      "Epoch 4/10\n",
      "\u001b[1m381/381\u001b[0m \u001b[32m━━━━━━━━━━━━━━━━━━━━\u001b[0m\u001b[37m\u001b[0m \u001b[1m46s\u001b[0m 121ms/step - accuracy: 0.4179 - f1_score_metric: 0.5798 - loss: 0.8377 - val_accuracy: 0.4655 - val_f1_score_metric: 0.5879 - val_loss: 0.7021\n",
      "\u001b[1m238/238\u001b[0m \u001b[32m━━━━━━━━━━━━━━━━━━━━\u001b[0m\u001b[37m\u001b[0m \u001b[1m11s\u001b[0m 44ms/step\n",
      "F1 Score: 0.6011\n",
      "Training with lr=0.001, batch_size=16, dropout=0.3, units=64\n",
      "Epoch 1/10\n"
     ]
    },
    {
     "name": "stderr",
     "output_type": "stream",
     "text": [
      "/opt/anaconda3/lib/python3.11/site-packages/keras/src/layers/core/embedding.py:90: UserWarning: Argument `input_length` is deprecated. Just remove it.\n",
      "  warnings.warn(\n"
     ]
    },
    {
     "name": "stdout",
     "output_type": "stream",
     "text": [
      "\u001b[1m381/381\u001b[0m \u001b[32m━━━━━━━━━━━━━━━━━━━━\u001b[0m\u001b[37m\u001b[0m \u001b[1m19s\u001b[0m 47ms/step - accuracy: 0.4768 - f1_score_metric: 0.3559 - loss: 0.8351 - val_accuracy: 0.4655 - val_f1_score_metric: 0.5879 - val_loss: 0.7060\n",
      "Epoch 2/10\n",
      "\u001b[1m381/381\u001b[0m \u001b[32m━━━━━━━━━━━━━━━━━━━━\u001b[0m\u001b[37m\u001b[0m \u001b[1m18s\u001b[0m 47ms/step - accuracy: 0.4199 - f1_score_metric: 0.5811 - loss: 0.8385 - val_accuracy: 0.4655 - val_f1_score_metric: 0.5879 - val_loss: 0.6990\n",
      "Epoch 3/10\n",
      "\u001b[1m381/381\u001b[0m \u001b[32m━━━━━━━━━━━━━━━━━━━━\u001b[0m\u001b[37m\u001b[0m \u001b[1m18s\u001b[0m 47ms/step - accuracy: 0.4243 - f1_score_metric: 0.5814 - loss: 0.8391 - val_accuracy: 0.4655 - val_f1_score_metric: 0.5879 - val_loss: 0.6966\n",
      "Epoch 4/10\n",
      "\u001b[1m381/381\u001b[0m \u001b[32m━━━━━━━━━━━━━━━━━━━━\u001b[0m\u001b[37m\u001b[0m \u001b[1m18s\u001b[0m 47ms/step - accuracy: 0.4372 - f1_score_metric: 0.5966 - loss: 0.8423 - val_accuracy: 0.4655 - val_f1_score_metric: 0.5879 - val_loss: 0.6940\n",
      "Epoch 5/10\n",
      "\u001b[1m381/381\u001b[0m \u001b[32m━━━━━━━━━━━━━━━━━━━━\u001b[0m\u001b[37m\u001b[0m \u001b[1m18s\u001b[0m 47ms/step - accuracy: 0.4215 - f1_score_metric: 0.5781 - loss: 0.8392 - val_accuracy: 0.4655 - val_f1_score_metric: 0.5879 - val_loss: 0.6975\n",
      "Epoch 6/10\n",
      "\u001b[1m381/381\u001b[0m \u001b[32m━━━━━━━━━━━━━━━━━━━━\u001b[0m\u001b[37m\u001b[0m \u001b[1m18s\u001b[0m 47ms/step - accuracy: 0.4270 - f1_score_metric: 0.5822 - loss: 0.8388 - val_accuracy: 0.4655 - val_f1_score_metric: 0.5879 - val_loss: 0.6946\n",
      "Epoch 7/10\n",
      "\u001b[1m381/381\u001b[0m \u001b[32m━━━━━━━━━━━━━━━━━━━━\u001b[0m\u001b[37m\u001b[0m \u001b[1m18s\u001b[0m 47ms/step - accuracy: 0.4158 - f1_score_metric: 0.5607 - loss: 0.8358 - val_accuracy: 0.4655 - val_f1_score_metric: 0.5879 - val_loss: 0.7013\n",
      "\u001b[1m238/238\u001b[0m \u001b[32m━━━━━━━━━━━━━━━━━━━━\u001b[0m\u001b[37m\u001b[0m \u001b[1m4s\u001b[0m 15ms/step\n",
      "F1 Score: 0.6011\n",
      "Training with lr=0.001, batch_size=16, dropout=0.3, units=128\n",
      "Epoch 1/10\n"
     ]
    },
    {
     "name": "stderr",
     "output_type": "stream",
     "text": [
      "/opt/anaconda3/lib/python3.11/site-packages/keras/src/layers/core/embedding.py:90: UserWarning: Argument `input_length` is deprecated. Just remove it.\n",
      "  warnings.warn(\n"
     ]
    },
    {
     "name": "stdout",
     "output_type": "stream",
     "text": [
      "\u001b[1m381/381\u001b[0m \u001b[32m━━━━━━━━━━━━━━━━━━━━\u001b[0m\u001b[37m\u001b[0m \u001b[1m29s\u001b[0m 73ms/step - accuracy: 0.4488 - f1_score_metric: 0.4436 - loss: 0.8388 - val_accuracy: 0.4655 - val_f1_score_metric: 0.5879 - val_loss: 0.6962\n",
      "Epoch 2/10\n",
      "\u001b[1m381/381\u001b[0m \u001b[32m━━━━━━━━━━━━━━━━━━━━\u001b[0m\u001b[37m\u001b[0m \u001b[1m28s\u001b[0m 74ms/step - accuracy: 0.4443 - f1_score_metric: 0.5249 - loss: 0.8374 - val_accuracy: 0.4655 - val_f1_score_metric: 0.5879 - val_loss: 0.6936\n",
      "Epoch 3/10\n",
      "\u001b[1m381/381\u001b[0m \u001b[32m━━━━━━━━━━━━━━━━━━━━\u001b[0m\u001b[37m\u001b[0m \u001b[1m28s\u001b[0m 74ms/step - accuracy: 0.4255 - f1_score_metric: 0.5557 - loss: 0.8372 - val_accuracy: 0.4655 - val_f1_score_metric: 0.5879 - val_loss: 0.6970\n",
      "Epoch 4/10\n",
      "\u001b[1m381/381\u001b[0m \u001b[32m━━━━━━━━━━━━━━━━━━━━\u001b[0m\u001b[37m\u001b[0m \u001b[1m28s\u001b[0m 73ms/step - accuracy: 0.4172 - f1_score_metric: 0.5707 - loss: 0.8370 - val_accuracy: 0.4655 - val_f1_score_metric: 0.5879 - val_loss: 0.7123\n",
      "Epoch 5/10\n",
      "\u001b[1m381/381\u001b[0m \u001b[32m━━━━━━━━━━━━━━━━━━━━\u001b[0m\u001b[37m\u001b[0m \u001b[1m28s\u001b[0m 74ms/step - accuracy: 0.4497 - f1_score_metric: 0.5486 - loss: 0.8382 - val_accuracy: 0.4655 - val_f1_score_metric: 0.5879 - val_loss: 0.6960\n",
      "\u001b[1m238/238\u001b[0m \u001b[32m━━━━━━━━━━━━━━━━━━━━\u001b[0m\u001b[37m\u001b[0m \u001b[1m6s\u001b[0m 24ms/step\n",
      "F1 Score: 0.6011\n",
      "Training with lr=0.001, batch_size=16, dropout=0.3, units=256\n",
      "Epoch 1/10\n"
     ]
    },
    {
     "name": "stderr",
     "output_type": "stream",
     "text": [
      "/opt/anaconda3/lib/python3.11/site-packages/keras/src/layers/core/embedding.py:90: UserWarning: Argument `input_length` is deprecated. Just remove it.\n",
      "  warnings.warn(\n"
     ]
    },
    {
     "name": "stdout",
     "output_type": "stream",
     "text": [
      "\u001b[1m381/381\u001b[0m \u001b[32m━━━━━━━━━━━━━━━━━━━━\u001b[0m\u001b[37m\u001b[0m \u001b[1m48s\u001b[0m 123ms/step - accuracy: 0.4424 - f1_score_metric: 0.4900 - loss: 0.8388 - val_accuracy: 0.4655 - val_f1_score_metric: 0.5879 - val_loss: 0.6985\n",
      "Epoch 2/10\n",
      "\u001b[1m381/381\u001b[0m \u001b[32m━━━━━━━━━━━━━━━━━━━━\u001b[0m\u001b[37m\u001b[0m \u001b[1m46s\u001b[0m 121ms/step - accuracy: 0.4330 - f1_score_metric: 0.5845 - loss: 0.8411 - val_accuracy: 0.4655 - val_f1_score_metric: 0.5879 - val_loss: 0.6942\n",
      "Epoch 3/10\n",
      "\u001b[1m381/381\u001b[0m \u001b[32m━━━━━━━━━━━━━━━━━━━━\u001b[0m\u001b[37m\u001b[0m \u001b[1m50s\u001b[0m 130ms/step - accuracy: 0.4160 - f1_score_metric: 0.5702 - loss: 0.8370 - val_accuracy: 0.4655 - val_f1_score_metric: 0.5879 - val_loss: 0.6942\n",
      "Epoch 4/10\n",
      "\u001b[1m381/381\u001b[0m \u001b[32m━━━━━━━━━━━━━━━━━━━━\u001b[0m\u001b[37m\u001b[0m \u001b[1m47s\u001b[0m 122ms/step - accuracy: 0.4256 - f1_score_metric: 0.5700 - loss: 0.8388 - val_accuracy: 0.4655 - val_f1_score_metric: 0.5879 - val_loss: 0.6964\n",
      "Epoch 5/10\n",
      "\u001b[1m381/381\u001b[0m \u001b[32m━━━━━━━━━━━━━━━━━━━━\u001b[0m\u001b[37m\u001b[0m \u001b[1m46s\u001b[0m 121ms/step - accuracy: 0.4093 - f1_score_metric: 0.5639 - loss: 0.8351 - val_accuracy: 0.4655 - val_f1_score_metric: 0.5879 - val_loss: 0.7046\n",
      "Epoch 6/10\n",
      "\u001b[1m381/381\u001b[0m \u001b[32m━━━━━━━━━━━━━━━━━━━━\u001b[0m\u001b[37m\u001b[0m \u001b[1m47s\u001b[0m 123ms/step - accuracy: 0.4337 - f1_score_metric: 0.5643 - loss: 0.8388 - val_accuracy: 0.4655 - val_f1_score_metric: 0.5879 - val_loss: 0.6975\n",
      "\u001b[1m238/238\u001b[0m \u001b[32m━━━━━━━━━━━━━━━━━━━━\u001b[0m\u001b[37m\u001b[0m \u001b[1m11s\u001b[0m 48ms/step\n",
      "F1 Score: 0.6011\n",
      "Training with lr=0.001, batch_size=16, dropout=0.4, units=64\n",
      "Epoch 1/10\n"
     ]
    },
    {
     "name": "stderr",
     "output_type": "stream",
     "text": [
      "/opt/anaconda3/lib/python3.11/site-packages/keras/src/layers/core/embedding.py:90: UserWarning: Argument `input_length` is deprecated. Just remove it.\n",
      "  warnings.warn(\n"
     ]
    },
    {
     "name": "stdout",
     "output_type": "stream",
     "text": [
      "\u001b[1m381/381\u001b[0m \u001b[32m━━━━━━━━━━━━━━━━━━━━\u001b[0m\u001b[37m\u001b[0m \u001b[1m19s\u001b[0m 48ms/step - accuracy: 0.4883 - f1_score_metric: 0.3330 - loss: 0.8362 - val_accuracy: 0.4655 - val_f1_score_metric: 0.5879 - val_loss: 0.7013\n",
      "Epoch 2/10\n",
      "\u001b[1m381/381\u001b[0m \u001b[32m━━━━━━━━━━━━━━━━━━━━\u001b[0m\u001b[37m\u001b[0m \u001b[1m18s\u001b[0m 47ms/step - accuracy: 0.4184 - f1_score_metric: 0.5800 - loss: 0.8380 - val_accuracy: 0.4655 - val_f1_score_metric: 0.5879 - val_loss: 0.6963\n",
      "Epoch 3/10\n",
      "\u001b[1m381/381\u001b[0m \u001b[32m━━━━━━━━━━━━━━━━━━━━\u001b[0m\u001b[37m\u001b[0m \u001b[1m18s\u001b[0m 47ms/step - accuracy: 0.4356 - f1_score_metric: 0.5673 - loss: 0.8402 - val_accuracy: 0.4655 - val_f1_score_metric: 0.5879 - val_loss: 0.7025\n",
      "Epoch 4/10\n",
      "\u001b[1m381/381\u001b[0m \u001b[32m━━━━━━━━━━━━━━━━━━━━\u001b[0m\u001b[37m\u001b[0m \u001b[1m18s\u001b[0m 47ms/step - accuracy: 0.4236 - f1_score_metric: 0.5823 - loss: 0.8392 - val_accuracy: 0.4655 - val_f1_score_metric: 0.5879 - val_loss: 0.6943\n",
      "Epoch 5/10\n",
      "\u001b[1m381/381\u001b[0m \u001b[32m━━━━━━━━━━━━━━━━━━━━\u001b[0m\u001b[37m\u001b[0m \u001b[1m18s\u001b[0m 47ms/step - accuracy: 0.4249 - f1_score_metric: 0.5843 - loss: 0.8398 - val_accuracy: 0.4655 - val_f1_score_metric: 0.5879 - val_loss: 0.6974\n",
      "Epoch 6/10\n",
      "\u001b[1m381/381\u001b[0m \u001b[32m━━━━━━━━━━━━━━━━━━━━\u001b[0m\u001b[37m\u001b[0m \u001b[1m18s\u001b[0m 47ms/step - accuracy: 0.4155 - f1_score_metric: 0.5738 - loss: 0.8369 - val_accuracy: 0.4655 - val_f1_score_metric: 0.5879 - val_loss: 0.6991\n",
      "Epoch 7/10\n",
      "\u001b[1m381/381\u001b[0m \u001b[32m━━━━━━━━━━━━━━━━━━━━\u001b[0m\u001b[37m\u001b[0m \u001b[1m18s\u001b[0m 47ms/step - accuracy: 0.4253 - f1_score_metric: 0.5853 - loss: 0.8394 - val_accuracy: 0.4655 - val_f1_score_metric: 0.5879 - val_loss: 0.6980\n",
      "\u001b[1m238/238\u001b[0m \u001b[32m━━━━━━━━━━━━━━━━━━━━\u001b[0m\u001b[37m\u001b[0m \u001b[1m4s\u001b[0m 15ms/step\n",
      "F1 Score: 0.6011\n",
      "Training with lr=0.001, batch_size=16, dropout=0.4, units=128\n",
      "Epoch 1/10\n"
     ]
    },
    {
     "name": "stderr",
     "output_type": "stream",
     "text": [
      "/opt/anaconda3/lib/python3.11/site-packages/keras/src/layers/core/embedding.py:90: UserWarning: Argument `input_length` is deprecated. Just remove it.\n",
      "  warnings.warn(\n"
     ]
    },
    {
     "name": "stdout",
     "output_type": "stream",
     "text": [
      "\u001b[1m381/381\u001b[0m \u001b[32m━━━━━━━━━━━━━━━━━━━━\u001b[0m\u001b[37m\u001b[0m \u001b[1m30s\u001b[0m 76ms/step - accuracy: 0.4337 - f1_score_metric: 0.5105 - loss: 0.8395 - val_accuracy: 0.4655 - val_f1_score_metric: 0.5879 - val_loss: 0.6993\n",
      "Epoch 2/10\n",
      "\u001b[1m381/381\u001b[0m \u001b[32m━━━━━━━━━━━━━━━━━━━━\u001b[0m\u001b[37m\u001b[0m \u001b[1m28s\u001b[0m 74ms/step - accuracy: 0.4218 - f1_score_metric: 0.5646 - loss: 0.8383 - val_accuracy: 0.4655 - val_f1_score_metric: 0.5879 - val_loss: 0.6945\n",
      "Epoch 3/10\n",
      "\u001b[1m381/381\u001b[0m \u001b[32m━━━━━━━━━━━━━━━━━━━━\u001b[0m\u001b[37m\u001b[0m \u001b[1m28s\u001b[0m 74ms/step - accuracy: 0.4303 - f1_score_metric: 0.5858 - loss: 0.8408 - val_accuracy: 0.4655 - val_f1_score_metric: 0.5879 - val_loss: 0.6963\n",
      "Epoch 4/10\n",
      "\u001b[1m381/381\u001b[0m \u001b[32m━━━━━━━━━━━━━━━━━━━━\u001b[0m\u001b[37m\u001b[0m \u001b[1m28s\u001b[0m 74ms/step - accuracy: 0.4333 - f1_score_metric: 0.5699 - loss: 0.8390 - val_accuracy: 0.4655 - val_f1_score_metric: 0.5879 - val_loss: 0.6950\n",
      "Epoch 5/10\n",
      "\u001b[1m381/381\u001b[0m \u001b[32m━━━━━━━━━━━━━━━━━━━━\u001b[0m\u001b[37m\u001b[0m \u001b[1m28s\u001b[0m 74ms/step - accuracy: 0.4316 - f1_score_metric: 0.5909 - loss: 0.8410 - val_accuracy: 0.4655 - val_f1_score_metric: 0.5879 - val_loss: 0.6958\n",
      "\u001b[1m238/238\u001b[0m \u001b[32m━━━━━━━━━━━━━━━━━━━━\u001b[0m\u001b[37m\u001b[0m \u001b[1m6s\u001b[0m 24ms/step\n",
      "F1 Score: 0.6011\n",
      "Training with lr=0.001, batch_size=16, dropout=0.4, units=256\n",
      "Epoch 1/10\n"
     ]
    },
    {
     "name": "stderr",
     "output_type": "stream",
     "text": [
      "/opt/anaconda3/lib/python3.11/site-packages/keras/src/layers/core/embedding.py:90: UserWarning: Argument `input_length` is deprecated. Just remove it.\n",
      "  warnings.warn(\n"
     ]
    },
    {
     "name": "stdout",
     "output_type": "stream",
     "text": [
      "\u001b[1m381/381\u001b[0m \u001b[32m━━━━━━━━━━━━━━━━━━━━\u001b[0m\u001b[37m\u001b[0m \u001b[1m50s\u001b[0m 128ms/step - accuracy: 0.4439 - f1_score_metric: 0.5035 - loss: 0.8402 - val_accuracy: 0.4655 - val_f1_score_metric: 0.5879 - val_loss: 0.6981\n",
      "Epoch 2/10\n",
      "\u001b[1m381/381\u001b[0m \u001b[32m━━━━━━━━━━━━━━━━━━━━\u001b[0m\u001b[37m\u001b[0m \u001b[1m49s\u001b[0m 129ms/step - accuracy: 0.4268 - f1_score_metric: 0.5741 - loss: 0.8397 - val_accuracy: 0.4655 - val_f1_score_metric: 0.5879 - val_loss: 0.6954\n",
      "Epoch 3/10\n",
      "\u001b[1m381/381\u001b[0m \u001b[32m━━━━━━━━━━━━━━━━━━━━\u001b[0m\u001b[37m\u001b[0m \u001b[1m50s\u001b[0m 132ms/step - accuracy: 0.4278 - f1_score_metric: 0.5851 - loss: 0.8410 - val_accuracy: 0.4655 - val_f1_score_metric: 0.5879 - val_loss: 0.6934\n",
      "Epoch 4/10\n",
      "\u001b[1m381/381\u001b[0m \u001b[32m━━━━━━━━━━━━━━━━━━━━\u001b[0m\u001b[37m\u001b[0m \u001b[1m49s\u001b[0m 127ms/step - accuracy: 0.4794 - f1_score_metric: 0.4410 - loss: 0.8368 - val_accuracy: 0.4655 - val_f1_score_metric: 0.5879 - val_loss: 0.6947\n",
      "Epoch 5/10\n",
      "\u001b[1m381/381\u001b[0m \u001b[32m━━━━━━━━━━━━━━━━━━━━\u001b[0m\u001b[37m\u001b[0m \u001b[1m48s\u001b[0m 126ms/step - accuracy: 0.4231 - f1_score_metric: 0.5767 - loss: 0.8377 - val_accuracy: 0.4655 - val_f1_score_metric: 0.5879 - val_loss: 0.6998\n",
      "Epoch 6/10\n",
      "\u001b[1m381/381\u001b[0m \u001b[32m━━━━━━━━━━━━━━━━━━━━\u001b[0m\u001b[37m\u001b[0m \u001b[1m47s\u001b[0m 124ms/step - accuracy: 0.4298 - f1_score_metric: 0.5507 - loss: 0.8375 - val_accuracy: 0.4655 - val_f1_score_metric: 0.5879 - val_loss: 0.6985\n",
      "\u001b[1m238/238\u001b[0m \u001b[32m━━━━━━━━━━━━━━━━━━━━\u001b[0m\u001b[37m\u001b[0m \u001b[1m12s\u001b[0m 50ms/step\n",
      "F1 Score: 0.6011\n",
      "Training with lr=0.001, batch_size=32, dropout=0.2, units=64\n",
      "Epoch 1/10\n"
     ]
    },
    {
     "name": "stderr",
     "output_type": "stream",
     "text": [
      "/opt/anaconda3/lib/python3.11/site-packages/keras/src/layers/core/embedding.py:90: UserWarning: Argument `input_length` is deprecated. Just remove it.\n",
      "  warnings.warn(\n"
     ]
    },
    {
     "name": "stdout",
     "output_type": "stream",
     "text": [
      "\u001b[1m191/191\u001b[0m \u001b[32m━━━━━━━━━━━━━━━━━━━━\u001b[0m\u001b[37m\u001b[0m \u001b[1m13s\u001b[0m 63ms/step - accuracy: 0.4839 - f1_score_metric: 0.3631 - loss: 0.8374 - val_accuracy: 0.4655 - val_f1_score_metric: 0.5967 - val_loss: 0.6935\n",
      "Epoch 2/10\n",
      "\u001b[1m191/191\u001b[0m \u001b[32m━━━━━━━━━━━━━━━━━━━━\u001b[0m\u001b[37m\u001b[0m \u001b[1m12s\u001b[0m 63ms/step - accuracy: 0.4316 - f1_score_metric: 0.5984 - loss: 0.8413 - val_accuracy: 0.4655 - val_f1_score_metric: 0.5967 - val_loss: 0.6939\n",
      "Epoch 3/10\n",
      "\u001b[1m191/191\u001b[0m \u001b[32m━━━━━━━━━━━━━━━━━━━━\u001b[0m\u001b[37m\u001b[0m \u001b[1m12s\u001b[0m 62ms/step - accuracy: 0.4221 - f1_score_metric: 0.5864 - loss: 0.8380 - val_accuracy: 0.4655 - val_f1_score_metric: 0.5967 - val_loss: 0.6956\n",
      "Epoch 4/10\n",
      "\u001b[1m191/191\u001b[0m \u001b[32m━━━━━━━━━━━━━━━━━━━━\u001b[0m\u001b[37m\u001b[0m \u001b[1m13s\u001b[0m 68ms/step - accuracy: 0.4272 - f1_score_metric: 0.5938 - loss: 0.8399 - val_accuracy: 0.4655 - val_f1_score_metric: 0.5967 - val_loss: 0.6954\n",
      "\u001b[1m238/238\u001b[0m \u001b[32m━━━━━━━━━━━━━━━━━━━━\u001b[0m\u001b[37m\u001b[0m \u001b[1m4s\u001b[0m 15ms/step\n",
      "F1 Score: 0.6011\n",
      "Training with lr=0.001, batch_size=32, dropout=0.2, units=128\n",
      "Epoch 1/10\n"
     ]
    },
    {
     "name": "stderr",
     "output_type": "stream",
     "text": [
      "/opt/anaconda3/lib/python3.11/site-packages/keras/src/layers/core/embedding.py:90: UserWarning: Argument `input_length` is deprecated. Just remove it.\n",
      "  warnings.warn(\n"
     ]
    },
    {
     "name": "stdout",
     "output_type": "stream",
     "text": [
      "\u001b[1m191/191\u001b[0m \u001b[32m━━━━━━━━━━━━━━━━━━━━\u001b[0m\u001b[37m\u001b[0m \u001b[1m20s\u001b[0m 99ms/step - accuracy: 0.4260 - f1_score_metric: 0.5650 - loss: 0.8392 - val_accuracy: 0.4655 - val_f1_score_metric: 0.5967 - val_loss: 0.6938\n",
      "Epoch 2/10\n",
      "\u001b[1m191/191\u001b[0m \u001b[32m━━━━━━━━━━━━━━━━━━━━\u001b[0m\u001b[37m\u001b[0m \u001b[1m18s\u001b[0m 95ms/step - accuracy: 0.4148 - f1_score_metric: 0.5764 - loss: 0.8366 - val_accuracy: 0.4655 - val_f1_score_metric: 0.5967 - val_loss: 0.7026\n",
      "Epoch 3/10\n",
      "\u001b[1m191/191\u001b[0m \u001b[32m━━━━━━━━━━━━━━━━━━━━\u001b[0m\u001b[37m\u001b[0m \u001b[1m18s\u001b[0m 95ms/step - accuracy: 0.4209 - f1_score_metric: 0.5880 - loss: 0.8388 - val_accuracy: 0.4655 - val_f1_score_metric: 0.5967 - val_loss: 0.6966\n",
      "Epoch 4/10\n",
      "\u001b[1m191/191\u001b[0m \u001b[32m━━━━━━━━━━━━━━━━━━━━\u001b[0m\u001b[37m\u001b[0m \u001b[1m18s\u001b[0m 96ms/step - accuracy: 0.4307 - f1_score_metric: 0.5877 - loss: 0.8399 - val_accuracy: 0.4655 - val_f1_score_metric: 0.5967 - val_loss: 0.6949\n",
      "\u001b[1m238/238\u001b[0m \u001b[32m━━━━━━━━━━━━━━━━━━━━\u001b[0m\u001b[37m\u001b[0m \u001b[1m6s\u001b[0m 24ms/step\n",
      "F1 Score: 0.6011\n",
      "Training with lr=0.001, batch_size=32, dropout=0.2, units=256\n",
      "Epoch 1/10\n"
     ]
    },
    {
     "name": "stderr",
     "output_type": "stream",
     "text": [
      "/opt/anaconda3/lib/python3.11/site-packages/keras/src/layers/core/embedding.py:90: UserWarning: Argument `input_length` is deprecated. Just remove it.\n",
      "  warnings.warn(\n"
     ]
    },
    {
     "name": "stdout",
     "output_type": "stream",
     "text": [
      "\u001b[1m191/191\u001b[0m \u001b[32m━━━━━━━━━━━━━━━━━━━━\u001b[0m\u001b[37m\u001b[0m \u001b[1m36s\u001b[0m 182ms/step - accuracy: 0.4487 - f1_score_metric: 0.4960 - loss: 0.8395 - val_accuracy: 0.4655 - val_f1_score_metric: 0.5967 - val_loss: 0.6946\n",
      "Epoch 2/10\n",
      "\u001b[1m191/191\u001b[0m \u001b[32m━━━━━━━━━━━━━━━━━━━━\u001b[0m\u001b[37m\u001b[0m \u001b[1m32s\u001b[0m 165ms/step - accuracy: 0.4156 - f1_score_metric: 0.5814 - loss: 0.8366 - val_accuracy: 0.4655 - val_f1_score_metric: 0.5967 - val_loss: 0.6947\n",
      "Epoch 3/10\n",
      "\u001b[1m191/191\u001b[0m \u001b[32m━━━━━━━━━━━━━━━━━━━━\u001b[0m\u001b[37m\u001b[0m \u001b[1m32s\u001b[0m 167ms/step - accuracy: 0.4177 - f1_score_metric: 0.5857 - loss: 0.8373 - val_accuracy: 0.4655 - val_f1_score_metric: 0.5967 - val_loss: 0.6983\n",
      "Epoch 4/10\n",
      "\u001b[1m191/191\u001b[0m \u001b[32m━━━━━━━━━━━━━━━━━━━━\u001b[0m\u001b[37m\u001b[0m \u001b[1m32s\u001b[0m 165ms/step - accuracy: 0.4166 - f1_score_metric: 0.5833 - loss: 0.8372 - val_accuracy: 0.4655 - val_f1_score_metric: 0.5967 - val_loss: 0.6981\n",
      "\u001b[1m238/238\u001b[0m \u001b[32m━━━━━━━━━━━━━━━━━━━━\u001b[0m\u001b[37m\u001b[0m \u001b[1m12s\u001b[0m 48ms/step\n",
      "F1 Score: 0.6011\n",
      "Training with lr=0.001, batch_size=32, dropout=0.3, units=64\n",
      "Epoch 1/10\n"
     ]
    },
    {
     "name": "stderr",
     "output_type": "stream",
     "text": [
      "/opt/anaconda3/lib/python3.11/site-packages/keras/src/layers/core/embedding.py:90: UserWarning: Argument `input_length` is deprecated. Just remove it.\n",
      "  warnings.warn(\n"
     ]
    },
    {
     "name": "stdout",
     "output_type": "stream",
     "text": [
      "\u001b[1m191/191\u001b[0m \u001b[32m━━━━━━━━━━━━━━━━━━━━\u001b[0m\u001b[37m\u001b[0m \u001b[1m13s\u001b[0m 62ms/step - accuracy: 0.4727 - f1_score_metric: 0.4495 - loss: 0.8407 - val_accuracy: 0.4655 - val_f1_score_metric: 0.5967 - val_loss: 0.6950\n",
      "Epoch 2/10\n",
      "\u001b[1m191/191\u001b[0m \u001b[32m━━━━━━━━━━━━━━━━━━━━\u001b[0m\u001b[37m\u001b[0m \u001b[1m12s\u001b[0m 63ms/step - accuracy: 0.4133 - f1_score_metric: 0.5792 - loss: 0.8361 - val_accuracy: 0.4655 - val_f1_score_metric: 0.5967 - val_loss: 0.6975\n",
      "Epoch 3/10\n",
      "\u001b[1m191/191\u001b[0m \u001b[32m━━━━━━━━━━━━━━━━━━━━\u001b[0m\u001b[37m\u001b[0m \u001b[1m12s\u001b[0m 62ms/step - accuracy: 0.4145 - f1_score_metric: 0.5815 - loss: 0.8365 - val_accuracy: 0.4655 - val_f1_score_metric: 0.5967 - val_loss: 0.6963\n",
      "Epoch 4/10\n",
      "\u001b[1m191/191\u001b[0m \u001b[32m━━━━━━━━━━━━━━━━━━━━\u001b[0m\u001b[37m\u001b[0m \u001b[1m12s\u001b[0m 62ms/step - accuracy: 0.4249 - f1_score_metric: 0.5907 - loss: 0.8391 - val_accuracy: 0.4655 - val_f1_score_metric: 0.5967 - val_loss: 0.6962\n",
      "\u001b[1m238/238\u001b[0m \u001b[32m━━━━━━━━━━━━━━━━━━━━\u001b[0m\u001b[37m\u001b[0m \u001b[1m4s\u001b[0m 15ms/step\n",
      "F1 Score: 0.6011\n",
      "Training with lr=0.001, batch_size=32, dropout=0.3, units=128\n",
      "Epoch 1/10\n"
     ]
    },
    {
     "name": "stderr",
     "output_type": "stream",
     "text": [
      "/opt/anaconda3/lib/python3.11/site-packages/keras/src/layers/core/embedding.py:90: UserWarning: Argument `input_length` is deprecated. Just remove it.\n",
      "  warnings.warn(\n"
     ]
    },
    {
     "name": "stdout",
     "output_type": "stream",
     "text": [
      "\u001b[1m191/191\u001b[0m \u001b[32m━━━━━━━━━━━━━━━━━━━━\u001b[0m\u001b[37m\u001b[0m \u001b[1m20s\u001b[0m 96ms/step - accuracy: 0.4411 - f1_score_metric: 0.5182 - loss: 0.8395 - val_accuracy: 0.4655 - val_f1_score_metric: 0.5967 - val_loss: 0.6962\n",
      "Epoch 2/10\n",
      "\u001b[1m191/191\u001b[0m \u001b[32m━━━━━━━━━━━━━━━━━━━━\u001b[0m\u001b[37m\u001b[0m \u001b[1m18s\u001b[0m 96ms/step - accuracy: 0.4291 - f1_score_metric: 0.5947 - loss: 0.8408 - val_accuracy: 0.4655 - val_f1_score_metric: 0.5967 - val_loss: 0.6941\n",
      "Epoch 3/10\n",
      "\u001b[1m191/191\u001b[0m \u001b[32m━━━━━━━━━━━━━━━━━━━━\u001b[0m\u001b[37m\u001b[0m \u001b[1m18s\u001b[0m 96ms/step - accuracy: 0.4289 - f1_score_metric: 0.5957 - loss: 0.8404 - val_accuracy: 0.4655 - val_f1_score_metric: 0.5967 - val_loss: 0.6955\n",
      "Epoch 4/10\n",
      "\u001b[1m191/191\u001b[0m \u001b[32m━━━━━━━━━━━━━━━━━━━━\u001b[0m\u001b[37m\u001b[0m \u001b[1m19s\u001b[0m 99ms/step - accuracy: 0.4203 - f1_score_metric: 0.5471 - loss: 0.8356 - val_accuracy: 0.4655 - val_f1_score_metric: 0.5967 - val_loss: 0.7063\n",
      "Epoch 5/10\n",
      "\u001b[1m191/191\u001b[0m \u001b[32m━━━━━━━━━━━━━━━━━━━━\u001b[0m\u001b[37m\u001b[0m \u001b[1m19s\u001b[0m 101ms/step - accuracy: 0.4249 - f1_score_metric: 0.5912 - loss: 0.8391 - val_accuracy: 0.4655 - val_f1_score_metric: 0.5967 - val_loss: 0.6976\n",
      "\u001b[1m238/238\u001b[0m \u001b[32m━━━━━━━━━━━━━━━━━━━━\u001b[0m\u001b[37m\u001b[0m \u001b[1m6s\u001b[0m 24ms/step\n",
      "F1 Score: 0.6011\n",
      "Training with lr=0.001, batch_size=32, dropout=0.3, units=256\n",
      "Epoch 1/10\n"
     ]
    },
    {
     "name": "stderr",
     "output_type": "stream",
     "text": [
      "/opt/anaconda3/lib/python3.11/site-packages/keras/src/layers/core/embedding.py:90: UserWarning: Argument `input_length` is deprecated. Just remove it.\n",
      "  warnings.warn(\n"
     ]
    },
    {
     "name": "stdout",
     "output_type": "stream",
     "text": [
      "\u001b[1m191/191\u001b[0m \u001b[32m━━━━━━━━━━━━━━━━━━━━\u001b[0m\u001b[37m\u001b[0m \u001b[1m33s\u001b[0m 168ms/step - accuracy: 0.4566 - f1_score_metric: 0.5140 - loss: 0.8423 - val_accuracy: 0.4655 - val_f1_score_metric: 0.5967 - val_loss: 0.6954\n",
      "Epoch 2/10\n",
      "\u001b[1m191/191\u001b[0m \u001b[32m━━━━━━━━━━━━━━━━━━━━\u001b[0m\u001b[37m\u001b[0m \u001b[1m32s\u001b[0m 166ms/step - accuracy: 0.4295 - f1_score_metric: 0.5951 - loss: 0.8406 - val_accuracy: 0.4655 - val_f1_score_metric: 0.5967 - val_loss: 0.6946\n",
      "Epoch 3/10\n",
      "\u001b[1m191/191\u001b[0m \u001b[32m━━━━━━━━━━━━━━━━━━━━\u001b[0m\u001b[37m\u001b[0m \u001b[1m33s\u001b[0m 171ms/step - accuracy: 0.4220 - f1_score_metric: 0.5805 - loss: 0.8384 - val_accuracy: 0.4655 - val_f1_score_metric: 0.5967 - val_loss: 0.6987\n",
      "Epoch 4/10\n",
      "\u001b[1m191/191\u001b[0m \u001b[32m━━━━━━━━━━━━━━━━━━━━\u001b[0m\u001b[37m\u001b[0m \u001b[1m32s\u001b[0m 169ms/step - accuracy: 0.4120 - f1_score_metric: 0.5779 - loss: 0.8364 - val_accuracy: 0.4655 - val_f1_score_metric: 0.5967 - val_loss: 0.6974\n",
      "Epoch 5/10\n",
      "\u001b[1m191/191\u001b[0m \u001b[32m━━━━━━━━━━━━━━━━━━━━\u001b[0m\u001b[37m\u001b[0m \u001b[1m33s\u001b[0m 172ms/step - accuracy: 0.4213 - f1_score_metric: 0.5677 - loss: 0.8375 - val_accuracy: 0.4655 - val_f1_score_metric: 0.5967 - val_loss: 0.7001\n",
      "\u001b[1m238/238\u001b[0m \u001b[32m━━━━━━━━━━━━━━━━━━━━\u001b[0m\u001b[37m\u001b[0m \u001b[1m12s\u001b[0m 49ms/step\n",
      "F1 Score: 0.6011\n",
      "Training with lr=0.001, batch_size=32, dropout=0.4, units=64\n",
      "Epoch 1/10\n"
     ]
    },
    {
     "name": "stderr",
     "output_type": "stream",
     "text": [
      "/opt/anaconda3/lib/python3.11/site-packages/keras/src/layers/core/embedding.py:90: UserWarning: Argument `input_length` is deprecated. Just remove it.\n",
      "  warnings.warn(\n"
     ]
    },
    {
     "name": "stdout",
     "output_type": "stream",
     "text": [
      "\u001b[1m191/191\u001b[0m \u001b[32m━━━━━━━━━━━━━━━━━━━━\u001b[0m\u001b[37m\u001b[0m \u001b[1m13s\u001b[0m 63ms/step - accuracy: 0.4234 - f1_score_metric: 0.5682 - loss: 0.8392 - val_accuracy: 0.4655 - val_f1_score_metric: 0.5967 - val_loss: 0.6985\n",
      "Epoch 2/10\n",
      "\u001b[1m191/191\u001b[0m \u001b[32m━━━━━━━━━━━━━━━━━━━━\u001b[0m\u001b[37m\u001b[0m \u001b[1m12s\u001b[0m 64ms/step - accuracy: 0.4095 - f1_score_metric: 0.5754 - loss: 0.8356 - val_accuracy: 0.4655 - val_f1_score_metric: 0.5967 - val_loss: 0.7045\n",
      "Epoch 3/10\n",
      "\u001b[1m191/191\u001b[0m \u001b[32m━━━━━━━━━━━━━━━━━━━━\u001b[0m\u001b[37m\u001b[0m \u001b[1m12s\u001b[0m 63ms/step - accuracy: 0.4256 - f1_score_metric: 0.5817 - loss: 0.8393 - val_accuracy: 0.4655 - val_f1_score_metric: 0.5967 - val_loss: 0.7003\n",
      "Epoch 4/10\n",
      "\u001b[1m191/191\u001b[0m \u001b[32m━━━━━━━━━━━━━━━━━━━━\u001b[0m\u001b[37m\u001b[0m \u001b[1m12s\u001b[0m 64ms/step - accuracy: 0.4192 - f1_score_metric: 0.5858 - loss: 0.8383 - val_accuracy: 0.4655 - val_f1_score_metric: 0.5967 - val_loss: 0.6969\n",
      "Epoch 5/10\n",
      "\u001b[1m191/191\u001b[0m \u001b[32m━━━━━━━━━━━━━━━━━━━━\u001b[0m\u001b[37m\u001b[0m \u001b[1m13s\u001b[0m 67ms/step - accuracy: 0.4276 - f1_score_metric: 0.5922 - loss: 0.8397 - val_accuracy: 0.4655 - val_f1_score_metric: 0.5967 - val_loss: 0.6946\n",
      "Epoch 6/10\n",
      "\u001b[1m191/191\u001b[0m \u001b[32m━━━━━━━━━━━━━━━━━━━━\u001b[0m\u001b[37m\u001b[0m \u001b[1m12s\u001b[0m 64ms/step - accuracy: 0.4265 - f1_score_metric: 0.5876 - loss: 0.8397 - val_accuracy: 0.4655 - val_f1_score_metric: 0.5967 - val_loss: 0.6981\n",
      "Epoch 7/10\n",
      "\u001b[1m191/191\u001b[0m \u001b[32m━━━━━━━━━━━━━━━━━━━━\u001b[0m\u001b[37m\u001b[0m \u001b[1m12s\u001b[0m 63ms/step - accuracy: 0.4069 - f1_score_metric: 0.5725 - loss: 0.8350 - val_accuracy: 0.4655 - val_f1_score_metric: 0.5967 - val_loss: 0.6983\n",
      "Epoch 8/10\n",
      "\u001b[1m191/191\u001b[0m \u001b[32m━━━━━━━━━━━━━━━━━━━━\u001b[0m\u001b[37m\u001b[0m \u001b[1m13s\u001b[0m 66ms/step - accuracy: 0.4300 - f1_score_metric: 0.5965 - loss: 0.8400 - val_accuracy: 0.4655 - val_f1_score_metric: 0.5967 - val_loss: 0.6958\n",
      "\u001b[1m238/238\u001b[0m \u001b[32m━━━━━━━━━━━━━━━━━━━━\u001b[0m\u001b[37m\u001b[0m \u001b[1m4s\u001b[0m 16ms/step\n",
      "F1 Score: 0.6011\n",
      "Training with lr=0.001, batch_size=32, dropout=0.4, units=128\n",
      "Epoch 1/10\n"
     ]
    },
    {
     "name": "stderr",
     "output_type": "stream",
     "text": [
      "/opt/anaconda3/lib/python3.11/site-packages/keras/src/layers/core/embedding.py:90: UserWarning: Argument `input_length` is deprecated. Just remove it.\n",
      "  warnings.warn(\n"
     ]
    },
    {
     "name": "stdout",
     "output_type": "stream",
     "text": [
      "\u001b[1m191/191\u001b[0m \u001b[32m━━━━━━━━━━━━━━━━━━━━\u001b[0m\u001b[37m\u001b[0m \u001b[1m20s\u001b[0m 99ms/step - accuracy: 0.4270 - f1_score_metric: 0.5698 - loss: 0.8393 - val_accuracy: 0.4655 - val_f1_score_metric: 0.5967 - val_loss: 0.6955\n",
      "Epoch 2/10\n",
      "\u001b[1m191/191\u001b[0m \u001b[32m━━━━━━━━━━━━━━━━━━━━\u001b[0m\u001b[37m\u001b[0m \u001b[1m18s\u001b[0m 96ms/step - accuracy: 0.4206 - f1_score_metric: 0.5541 - loss: 0.8356 - val_accuracy: 0.4655 - val_f1_score_metric: 0.5967 - val_loss: 0.7018\n",
      "Epoch 3/10\n",
      "\u001b[1m191/191\u001b[0m \u001b[32m━━━━━━━━━━━━━━━━━━━━\u001b[0m\u001b[37m\u001b[0m \u001b[1m19s\u001b[0m 100ms/step - accuracy: 0.4276 - f1_score_metric: 0.5794 - loss: 0.8392 - val_accuracy: 0.4655 - val_f1_score_metric: 0.5967 - val_loss: 0.6954\n",
      "Epoch 4/10\n",
      "\u001b[1m191/191\u001b[0m \u001b[32m━━━━━━━━━━━━━━━━━━━━\u001b[0m\u001b[37m\u001b[0m \u001b[1m19s\u001b[0m 101ms/step - accuracy: 0.4160 - f1_score_metric: 0.5820 - loss: 0.8369 - val_accuracy: 0.4655 - val_f1_score_metric: 0.5967 - val_loss: 0.6953\n",
      "Epoch 5/10\n",
      "\u001b[1m191/191\u001b[0m \u001b[32m━━━━━━━━━━━━━━━━━━━━\u001b[0m\u001b[37m\u001b[0m \u001b[1m20s\u001b[0m 104ms/step - accuracy: 0.4292 - f1_score_metric: 0.5716 - loss: 0.8375 - val_accuracy: 0.4655 - val_f1_score_metric: 0.5967 - val_loss: 0.6952\n",
      "Epoch 6/10\n",
      "\u001b[1m191/191\u001b[0m \u001b[32m━━━━━━━━━━━━━━━━━━━━\u001b[0m\u001b[37m\u001b[0m \u001b[1m20s\u001b[0m 102ms/step - accuracy: 0.4331 - f1_score_metric: 0.5754 - loss: 0.8397 - val_accuracy: 0.4655 - val_f1_score_metric: 0.5967 - val_loss: 0.6980\n",
      "Epoch 7/10\n",
      "\u001b[1m191/191\u001b[0m \u001b[32m━━━━━━━━━━━━━━━━━━━━\u001b[0m\u001b[37m\u001b[0m \u001b[1m19s\u001b[0m 100ms/step - accuracy: 0.4200 - f1_score_metric: 0.5869 - loss: 0.8381 - val_accuracy: 0.4655 - val_f1_score_metric: 0.5967 - val_loss: 0.6968\n",
      "Epoch 8/10\n",
      "\u001b[1m191/191\u001b[0m \u001b[32m━━━━━━━━━━━━━━━━━━━━\u001b[0m\u001b[37m\u001b[0m \u001b[1m20s\u001b[0m 104ms/step - accuracy: 0.4172 - f1_score_metric: 0.5837 - loss: 0.8373 - val_accuracy: 0.4655 - val_f1_score_metric: 0.5967 - val_loss: 0.6995\n",
      "\u001b[1m238/238\u001b[0m \u001b[32m━━━━━━━━━━━━━━━━━━━━\u001b[0m\u001b[37m\u001b[0m \u001b[1m6s\u001b[0m 24ms/step\n",
      "F1 Score: 0.6011\n",
      "Training with lr=0.001, batch_size=32, dropout=0.4, units=256\n",
      "Epoch 1/10\n"
     ]
    },
    {
     "name": "stderr",
     "output_type": "stream",
     "text": [
      "/opt/anaconda3/lib/python3.11/site-packages/keras/src/layers/core/embedding.py:90: UserWarning: Argument `input_length` is deprecated. Just remove it.\n",
      "  warnings.warn(\n"
     ]
    },
    {
     "name": "stdout",
     "output_type": "stream",
     "text": [
      "\u001b[1m191/191\u001b[0m \u001b[32m━━━━━━━━━━━━━━━━━━━━\u001b[0m\u001b[37m\u001b[0m \u001b[1m35s\u001b[0m 174ms/step - accuracy: 0.4402 - f1_score_metric: 0.4980 - loss: 0.8396 - val_accuracy: 0.4655 - val_f1_score_metric: 0.5967 - val_loss: 0.6953\n",
      "Epoch 2/10\n",
      "\u001b[1m191/191\u001b[0m \u001b[32m━━━━━━━━━━━━━━━━━━━━\u001b[0m\u001b[37m\u001b[0m \u001b[1m33s\u001b[0m 170ms/step - accuracy: 0.4239 - f1_score_metric: 0.5893 - loss: 0.8395 - val_accuracy: 0.4655 - val_f1_score_metric: 0.5967 - val_loss: 0.6956\n",
      "Epoch 3/10\n",
      "\u001b[1m191/191\u001b[0m \u001b[32m━━━━━━━━━━━━━━━━━━━━\u001b[0m\u001b[37m\u001b[0m \u001b[1m32s\u001b[0m 166ms/step - accuracy: 0.4213 - f1_score_metric: 0.5877 - loss: 0.8384 - val_accuracy: 0.4655 - val_f1_score_metric: 0.5967 - val_loss: 0.6956\n",
      "Epoch 4/10\n",
      "\u001b[1m191/191\u001b[0m \u001b[32m━━━━━━━━━━━━━━━━━━━━\u001b[0m\u001b[37m\u001b[0m \u001b[1m33s\u001b[0m 171ms/step - accuracy: 0.4427 - f1_score_metric: 0.5538 - loss: 0.8362 - val_accuracy: 0.4655 - val_f1_score_metric: 0.5967 - val_loss: 0.6977\n",
      "\u001b[1m238/238\u001b[0m \u001b[32m━━━━━━━━━━━━━━━━━━━━\u001b[0m\u001b[37m\u001b[0m \u001b[1m11s\u001b[0m 47ms/step\n",
      "F1 Score: 0.6011\n",
      "Training with lr=0.001, batch_size=64, dropout=0.2, units=64\n",
      "Epoch 1/10\n"
     ]
    },
    {
     "name": "stderr",
     "output_type": "stream",
     "text": [
      "/opt/anaconda3/lib/python3.11/site-packages/keras/src/layers/core/embedding.py:90: UserWarning: Argument `input_length` is deprecated. Just remove it.\n",
      "  warnings.warn(\n"
     ]
    },
    {
     "name": "stdout",
     "output_type": "stream",
     "text": [
      "\u001b[1m96/96\u001b[0m \u001b[32m━━━━━━━━━━━━━━━━━━━━\u001b[0m\u001b[37m\u001b[0m \u001b[1m10s\u001b[0m 93ms/step - accuracy: 0.4586 - f1_score_metric: 0.4763 - loss: 0.8395 - val_accuracy: 0.5345 - val_f1_score_metric: 0.0000e+00 - val_loss: 0.6928\n",
      "Epoch 2/10\n",
      "\u001b[1m96/96\u001b[0m \u001b[32m━━━━━━━━━━━━━━━━━━━━\u001b[0m\u001b[37m\u001b[0m \u001b[1m9s\u001b[0m 91ms/step - accuracy: 0.5086 - f1_score_metric: 0.2660 - loss: 0.8376 - val_accuracy: 0.4655 - val_f1_score_metric: 0.6086 - val_loss: 0.6988\n",
      "Epoch 3/10\n",
      "\u001b[1m96/96\u001b[0m \u001b[32m━━━━━━━━━━━━━━━━━━━━\u001b[0m\u001b[37m\u001b[0m \u001b[1m9s\u001b[0m 91ms/step - accuracy: 0.4205 - f1_score_metric: 0.5894 - loss: 0.8381 - val_accuracy: 0.4655 - val_f1_score_metric: 0.6086 - val_loss: 0.6973\n",
      "Epoch 4/10\n",
      "\u001b[1m96/96\u001b[0m \u001b[32m━━━━━━━━━━━━━━━━━━━━\u001b[0m\u001b[37m\u001b[0m \u001b[1m9s\u001b[0m 93ms/step - accuracy: 0.4143 - f1_score_metric: 0.5836 - loss: 0.8365 - val_accuracy: 0.4655 - val_f1_score_metric: 0.6086 - val_loss: 0.6973\n",
      "\u001b[1m238/238\u001b[0m \u001b[32m━━━━━━━━━━━━━━━━━━━━\u001b[0m\u001b[37m\u001b[0m \u001b[1m4s\u001b[0m 15ms/step\n",
      "F1 Score: 0.0000\n",
      "Training with lr=0.001, batch_size=64, dropout=0.2, units=128\n",
      "Epoch 1/10\n"
     ]
    },
    {
     "name": "stderr",
     "output_type": "stream",
     "text": [
      "/opt/anaconda3/lib/python3.11/site-packages/keras/src/layers/core/embedding.py:90: UserWarning: Argument `input_length` is deprecated. Just remove it.\n",
      "  warnings.warn(\n"
     ]
    },
    {
     "name": "stdout",
     "output_type": "stream",
     "text": [
      "\u001b[1m96/96\u001b[0m \u001b[32m━━━━━━━━━━━━━━━━━━━━\u001b[0m\u001b[37m\u001b[0m \u001b[1m17s\u001b[0m 161ms/step - accuracy: 0.4273 - f1_score_metric: 0.5556 - loss: 0.8376 - val_accuracy: 0.4655 - val_f1_score_metric: 0.6086 - val_loss: 0.6962\n",
      "Epoch 2/10\n",
      "\u001b[1m96/96\u001b[0m \u001b[32m━━━━━━━━━━━━━━━━━━━━\u001b[0m\u001b[37m\u001b[0m \u001b[1m15s\u001b[0m 154ms/step - accuracy: 0.4243 - f1_score_metric: 0.5940 - loss: 0.8387 - val_accuracy: 0.4655 - val_f1_score_metric: 0.6086 - val_loss: 0.6959\n",
      "Epoch 3/10\n",
      "\u001b[1m96/96\u001b[0m \u001b[32m━━━━━━━━━━━━━━━━━━━━\u001b[0m\u001b[37m\u001b[0m \u001b[1m15s\u001b[0m 153ms/step - accuracy: 0.4132 - f1_score_metric: 0.5826 - loss: 0.8361 - val_accuracy: 0.4655 - val_f1_score_metric: 0.6086 - val_loss: 0.6967\n",
      "Epoch 4/10\n",
      "\u001b[1m96/96\u001b[0m \u001b[32m━━━━━━━━━━━━━━━━━━━━\u001b[0m\u001b[37m\u001b[0m \u001b[1m15s\u001b[0m 153ms/step - accuracy: 0.4192 - f1_score_metric: 0.5886 - loss: 0.8378 - val_accuracy: 0.4655 - val_f1_score_metric: 0.6086 - val_loss: 0.6968\n",
      "Epoch 5/10\n",
      "\u001b[1m96/96\u001b[0m \u001b[32m━━━━━━━━━━━━━━━━━━━━\u001b[0m\u001b[37m\u001b[0m \u001b[1m15s\u001b[0m 156ms/step - accuracy: 0.4260 - f1_score_metric: 0.5953 - loss: 0.8393 - val_accuracy: 0.4655 - val_f1_score_metric: 0.6086 - val_loss: 0.6967\n",
      "\u001b[1m238/238\u001b[0m \u001b[32m━━━━━━━━━━━━━━━━━━━━\u001b[0m\u001b[37m\u001b[0m \u001b[1m6s\u001b[0m 24ms/step\n",
      "F1 Score: 0.6011\n",
      "Training with lr=0.001, batch_size=64, dropout=0.2, units=256\n",
      "Epoch 1/10\n"
     ]
    },
    {
     "name": "stderr",
     "output_type": "stream",
     "text": [
      "/opt/anaconda3/lib/python3.11/site-packages/keras/src/layers/core/embedding.py:90: UserWarning: Argument `input_length` is deprecated. Just remove it.\n",
      "  warnings.warn(\n"
     ]
    },
    {
     "name": "stdout",
     "output_type": "stream",
     "text": [
      "\u001b[1m96/96\u001b[0m \u001b[32m━━━━━━━━━━━━━━━━━━━━\u001b[0m\u001b[37m\u001b[0m \u001b[1m28s\u001b[0m 277ms/step - accuracy: 0.4558 - f1_score_metric: 0.4122 - loss: 0.8375 - val_accuracy: 0.4655 - val_f1_score_metric: 0.6086 - val_loss: 0.6960\n",
      "Epoch 2/10\n",
      "\u001b[1m96/96\u001b[0m \u001b[32m━━━━━━━━━━━━━━━━━━━━\u001b[0m\u001b[37m\u001b[0m \u001b[1m27s\u001b[0m 277ms/step - accuracy: 0.4246 - f1_score_metric: 0.5933 - loss: 0.8389 - val_accuracy: 0.4655 - val_f1_score_metric: 0.6086 - val_loss: 0.6952\n",
      "Epoch 3/10\n",
      "\u001b[1m96/96\u001b[0m \u001b[32m━━━━━━━━━━━━━━━━━━━━\u001b[0m\u001b[37m\u001b[0m \u001b[1m26s\u001b[0m 274ms/step - accuracy: 0.4194 - f1_score_metric: 0.5884 - loss: 0.8380 - val_accuracy: 0.4655 - val_f1_score_metric: 0.6086 - val_loss: 0.6950\n",
      "Epoch 4/10\n",
      "\u001b[1m96/96\u001b[0m \u001b[32m━━━━━━━━━━━━━━━━━━━━\u001b[0m\u001b[37m\u001b[0m \u001b[1m28s\u001b[0m 291ms/step - accuracy: 0.4273 - f1_score_metric: 0.5953 - loss: 0.8402 - val_accuracy: 0.4655 - val_f1_score_metric: 0.6086 - val_loss: 0.6969\n",
      "Epoch 5/10\n",
      "\u001b[1m96/96\u001b[0m \u001b[32m━━━━━━━━━━━━━━━━━━━━\u001b[0m\u001b[37m\u001b[0m \u001b[1m29s\u001b[0m 300ms/step - accuracy: 0.4246 - f1_score_metric: 0.5931 - loss: 0.8391 - val_accuracy: 0.4655 - val_f1_score_metric: 0.6086 - val_loss: 0.6963\n",
      "Epoch 6/10\n",
      "\u001b[1m96/96\u001b[0m \u001b[32m━━━━━━━━━━━━━━━━━━━━\u001b[0m\u001b[37m\u001b[0m \u001b[1m28s\u001b[0m 294ms/step - accuracy: 0.4256 - f1_score_metric: 0.5941 - loss: 0.8393 - val_accuracy: 0.4655 - val_f1_score_metric: 0.6086 - val_loss: 0.6969\n",
      "\u001b[1m238/238\u001b[0m \u001b[32m━━━━━━━━━━━━━━━━━━━━\u001b[0m\u001b[37m\u001b[0m \u001b[1m13s\u001b[0m 55ms/step\n",
      "F1 Score: 0.6011\n",
      "Training with lr=0.001, batch_size=64, dropout=0.3, units=64\n",
      "Epoch 1/10\n"
     ]
    },
    {
     "name": "stderr",
     "output_type": "stream",
     "text": [
      "/opt/anaconda3/lib/python3.11/site-packages/keras/src/layers/core/embedding.py:90: UserWarning: Argument `input_length` is deprecated. Just remove it.\n",
      "  warnings.warn(\n"
     ]
    },
    {
     "name": "stdout",
     "output_type": "stream",
     "text": [
      "\u001b[1m96/96\u001b[0m \u001b[32m━━━━━━━━━━━━━━━━━━━━\u001b[0m\u001b[37m\u001b[0m \u001b[1m10s\u001b[0m 96ms/step - accuracy: 0.4254 - f1_score_metric: 0.5533 - loss: 0.8372 - val_accuracy: 0.4655 - val_f1_score_metric: 0.6086 - val_loss: 0.6995\n",
      "Epoch 2/10\n",
      "\u001b[1m96/96\u001b[0m \u001b[32m━━━━━━━━━━━━━━━━━━━━\u001b[0m\u001b[37m\u001b[0m \u001b[1m9s\u001b[0m 94ms/step - accuracy: 0.4085 - f1_score_metric: 0.5768 - loss: 0.8360 - val_accuracy: 0.4655 - val_f1_score_metric: 0.6086 - val_loss: 0.6962\n",
      "Epoch 3/10\n",
      "\u001b[1m96/96\u001b[0m \u001b[32m━━━━━━━━━━━━━━━━━━━━\u001b[0m\u001b[37m\u001b[0m \u001b[1m9s\u001b[0m 96ms/step - accuracy: 0.4221 - f1_score_metric: 0.5914 - loss: 0.8384 - val_accuracy: 0.4655 - val_f1_score_metric: 0.6086 - val_loss: 0.6965\n",
      "Epoch 4/10\n",
      "\u001b[1m96/96\u001b[0m \u001b[32m━━━━━━━━━━━━━━━━━━━━\u001b[0m\u001b[37m\u001b[0m \u001b[1m9s\u001b[0m 98ms/step - accuracy: 0.4148 - f1_score_metric: 0.5829 - loss: 0.8369 - val_accuracy: 0.4655 - val_f1_score_metric: 0.6086 - val_loss: 0.6971\n",
      "Epoch 5/10\n",
      "\u001b[1m96/96\u001b[0m \u001b[32m━━━━━━━━━━━━━━━━━━━━\u001b[0m\u001b[37m\u001b[0m \u001b[1m9s\u001b[0m 92ms/step - accuracy: 0.4188 - f1_score_metric: 0.5862 - loss: 0.8378 - val_accuracy: 0.4655 - val_f1_score_metric: 0.6086 - val_loss: 0.6954\n",
      "Epoch 6/10\n",
      "\u001b[1m96/96\u001b[0m \u001b[32m━━━━━━━━━━━━━━━━━━━━\u001b[0m\u001b[37m\u001b[0m \u001b[1m9s\u001b[0m 91ms/step - accuracy: 0.4164 - f1_score_metric: 0.5856 - loss: 0.8369 - val_accuracy: 0.4655 - val_f1_score_metric: 0.6086 - val_loss: 0.6966\n",
      "Epoch 7/10\n",
      "\u001b[1m96/96\u001b[0m \u001b[32m━━━━━━━━━━━━━━━━━━━━\u001b[0m\u001b[37m\u001b[0m \u001b[1m9s\u001b[0m 93ms/step - accuracy: 0.4186 - f1_score_metric: 0.5880 - loss: 0.8374 - val_accuracy: 0.4655 - val_f1_score_metric: 0.6086 - val_loss: 0.6967\n",
      "Epoch 8/10\n",
      "\u001b[1m96/96\u001b[0m \u001b[32m━━━━━━━━━━━━━━━━━━━━\u001b[0m\u001b[37m\u001b[0m \u001b[1m9s\u001b[0m 92ms/step - accuracy: 0.4161 - f1_score_metric: 0.5849 - loss: 0.8368 - val_accuracy: 0.4655 - val_f1_score_metric: 0.6086 - val_loss: 0.6963\n",
      "\u001b[1m238/238\u001b[0m \u001b[32m━━━━━━━━━━━━━━━━━━━━\u001b[0m\u001b[37m\u001b[0m \u001b[1m4s\u001b[0m 15ms/step\n",
      "F1 Score: 0.6011\n",
      "Training with lr=0.001, batch_size=64, dropout=0.3, units=128\n",
      "Epoch 1/10\n"
     ]
    },
    {
     "name": "stderr",
     "output_type": "stream",
     "text": [
      "/opt/anaconda3/lib/python3.11/site-packages/keras/src/layers/core/embedding.py:90: UserWarning: Argument `input_length` is deprecated. Just remove it.\n",
      "  warnings.warn(\n"
     ]
    },
    {
     "name": "stdout",
     "output_type": "stream",
     "text": [
      "\u001b[1m96/96\u001b[0m \u001b[32m━━━━━━━━━━━━━━━━━━━━\u001b[0m\u001b[37m\u001b[0m \u001b[1m17s\u001b[0m 165ms/step - accuracy: 0.4430 - f1_score_metric: 0.5670 - loss: 0.8413 - val_accuracy: 0.4655 - val_f1_score_metric: 0.6086 - val_loss: 0.6937\n",
      "Epoch 2/10\n",
      "\u001b[1m96/96\u001b[0m \u001b[32m━━━━━━━━━━━━━━━━━━━━\u001b[0m\u001b[37m\u001b[0m \u001b[1m16s\u001b[0m 167ms/step - accuracy: 0.4166 - f1_score_metric: 0.5724 - loss: 0.8371 - val_accuracy: 0.4655 - val_f1_score_metric: 0.6086 - val_loss: 0.6971\n",
      "Epoch 3/10\n",
      "\u001b[1m96/96\u001b[0m \u001b[32m━━━━━━━━━━━━━━━━━━━━\u001b[0m\u001b[37m\u001b[0m \u001b[1m15s\u001b[0m 159ms/step - accuracy: 0.4232 - f1_score_metric: 0.5923 - loss: 0.8389 - val_accuracy: 0.4655 - val_f1_score_metric: 0.6086 - val_loss: 0.6953\n",
      "Epoch 4/10\n",
      "\u001b[1m96/96\u001b[0m \u001b[32m━━━━━━━━━━━━━━━━━━━━\u001b[0m\u001b[37m\u001b[0m \u001b[1m16s\u001b[0m 168ms/step - accuracy: 0.4280 - f1_score_metric: 0.5965 - loss: 0.8399 - val_accuracy: 0.4655 - val_f1_score_metric: 0.6086 - val_loss: 0.6951\n",
      "\u001b[1m238/238\u001b[0m \u001b[32m━━━━━━━━━━━━━━━━━━━━\u001b[0m\u001b[37m\u001b[0m \u001b[1m6s\u001b[0m 24ms/step\n",
      "F1 Score: 0.6011\n",
      "Training with lr=0.001, batch_size=64, dropout=0.3, units=256\n",
      "Epoch 1/10\n"
     ]
    },
    {
     "name": "stderr",
     "output_type": "stream",
     "text": [
      "/opt/anaconda3/lib/python3.11/site-packages/keras/src/layers/core/embedding.py:90: UserWarning: Argument `input_length` is deprecated. Just remove it.\n",
      "  warnings.warn(\n"
     ]
    },
    {
     "name": "stdout",
     "output_type": "stream",
     "text": [
      "\u001b[1m96/96\u001b[0m \u001b[32m━━━━━━━━━━━━━━━━━━━━\u001b[0m\u001b[37m\u001b[0m \u001b[1m28s\u001b[0m 278ms/step - accuracy: 0.4223 - f1_score_metric: 0.5579 - loss: 0.8413 - val_accuracy: 0.4655 - val_f1_score_metric: 0.6086 - val_loss: 0.6959\n",
      "Epoch 2/10\n",
      "\u001b[1m96/96\u001b[0m \u001b[32m━━━━━━━━━━━━━━━━━━━━\u001b[0m\u001b[37m\u001b[0m \u001b[1m29s\u001b[0m 300ms/step - accuracy: 0.4210 - f1_score_metric: 0.5902 - loss: 0.8381 - val_accuracy: 0.4655 - val_f1_score_metric: 0.6086 - val_loss: 0.6971\n",
      "Epoch 3/10\n",
      "\u001b[1m96/96\u001b[0m \u001b[32m━━━━━━━━━━━━━━━━━━━━\u001b[0m\u001b[37m\u001b[0m \u001b[1m31s\u001b[0m 328ms/step - accuracy: 0.4251 - f1_score_metric: 0.5063 - loss: 0.8343 - val_accuracy: 0.4655 - val_f1_score_metric: 0.6086 - val_loss: 0.6993\n",
      "Epoch 4/10\n",
      "\u001b[1m96/96\u001b[0m \u001b[32m━━━━━━━━━━━━━━━━━━━━\u001b[0m\u001b[37m\u001b[0m \u001b[1m31s\u001b[0m 321ms/step - accuracy: 0.4240 - f1_score_metric: 0.5935 - loss: 0.8389 - val_accuracy: 0.4655 - val_f1_score_metric: 0.6086 - val_loss: 0.6954\n",
      "Epoch 5/10\n",
      "\u001b[1m96/96\u001b[0m \u001b[32m━━━━━━━━━━━━━━━━━━━━\u001b[0m\u001b[37m\u001b[0m \u001b[1m31s\u001b[0m 324ms/step - accuracy: 0.4259 - f1_score_metric: 0.5171 - loss: 0.8361 - val_accuracy: 0.4655 - val_f1_score_metric: 0.6086 - val_loss: 0.6979\n",
      "Epoch 6/10\n",
      "\u001b[1m96/96\u001b[0m \u001b[32m━━━━━━━━━━━━━━━━━━━━\u001b[0m\u001b[37m\u001b[0m \u001b[1m31s\u001b[0m 325ms/step - accuracy: 0.4127 - f1_score_metric: 0.5818 - loss: 0.8367 - val_accuracy: 0.4655 - val_f1_score_metric: 0.6086 - val_loss: 0.6987\n",
      "Epoch 7/10\n",
      "\u001b[1m96/96\u001b[0m \u001b[32m━━━━━━━━━━━━━━━━━━━━\u001b[0m\u001b[37m\u001b[0m \u001b[1m31s\u001b[0m 319ms/step - accuracy: 0.4178 - f1_score_metric: 0.5870 - loss: 0.8378 - val_accuracy: 0.4655 - val_f1_score_metric: 0.6086 - val_loss: 0.6957\n",
      "\u001b[1m238/238\u001b[0m \u001b[32m━━━━━━━━━━━━━━━━━━━━\u001b[0m\u001b[37m\u001b[0m \u001b[1m12s\u001b[0m 51ms/step\n",
      "F1 Score: 0.6011\n",
      "Training with lr=0.001, batch_size=64, dropout=0.4, units=64\n",
      "Epoch 1/10\n"
     ]
    },
    {
     "name": "stderr",
     "output_type": "stream",
     "text": [
      "/opt/anaconda3/lib/python3.11/site-packages/keras/src/layers/core/embedding.py:90: UserWarning: Argument `input_length` is deprecated. Just remove it.\n",
      "  warnings.warn(\n"
     ]
    },
    {
     "name": "stdout",
     "output_type": "stream",
     "text": [
      "\u001b[1m96/96\u001b[0m \u001b[32m━━━━━━━━━━━━━━━━━━━━\u001b[0m\u001b[37m\u001b[0m \u001b[1m10s\u001b[0m 93ms/step - accuracy: 0.4545 - f1_score_metric: 0.4514 - loss: 0.8396 - val_accuracy: 0.4655 - val_f1_score_metric: 0.6086 - val_loss: 0.6982\n",
      "Epoch 2/10\n",
      "\u001b[1m96/96\u001b[0m \u001b[32m━━━━━━━━━━━━━━━━━━━━\u001b[0m\u001b[37m\u001b[0m \u001b[1m9s\u001b[0m 92ms/step - accuracy: 0.4183 - f1_score_metric: 0.5867 - loss: 0.8377 - val_accuracy: 0.4655 - val_f1_score_metric: 0.6086 - val_loss: 0.6951\n",
      "Epoch 3/10\n",
      "\u001b[1m96/96\u001b[0m \u001b[32m━━━━━━━━━━━━━━━━━━━━\u001b[0m\u001b[37m\u001b[0m \u001b[1m9s\u001b[0m 91ms/step - accuracy: 0.4415 - f1_score_metric: 0.5601 - loss: 0.8414 - val_accuracy: 0.4655 - val_f1_score_metric: 0.6086 - val_loss: 0.6986\n",
      "Epoch 4/10\n",
      "\u001b[1m96/96\u001b[0m \u001b[32m━━━━━━━━━━━━━━━━━━━━\u001b[0m\u001b[37m\u001b[0m \u001b[1m9s\u001b[0m 90ms/step - accuracy: 0.4144 - f1_score_metric: 0.5833 - loss: 0.8371 - val_accuracy: 0.4655 - val_f1_score_metric: 0.6086 - val_loss: 0.6952\n",
      "Epoch 5/10\n",
      "\u001b[1m96/96\u001b[0m \u001b[32m━━━━━━━━━━━━━━━━━━━━\u001b[0m\u001b[37m\u001b[0m \u001b[1m9s\u001b[0m 91ms/step - accuracy: 0.4198 - f1_score_metric: 0.5888 - loss: 0.8378 - val_accuracy: 0.4655 - val_f1_score_metric: 0.6086 - val_loss: 0.6969\n",
      "\u001b[1m238/238\u001b[0m \u001b[32m━━━━━━━━━━━━━━━━━━━━\u001b[0m\u001b[37m\u001b[0m \u001b[1m4s\u001b[0m 15ms/step\n",
      "F1 Score: 0.6011\n",
      "Training with lr=0.001, batch_size=64, dropout=0.4, units=128\n",
      "Epoch 1/10\n"
     ]
    },
    {
     "name": "stderr",
     "output_type": "stream",
     "text": [
      "/opt/anaconda3/lib/python3.11/site-packages/keras/src/layers/core/embedding.py:90: UserWarning: Argument `input_length` is deprecated. Just remove it.\n",
      "  warnings.warn(\n"
     ]
    },
    {
     "name": "stdout",
     "output_type": "stream",
     "text": [
      "\u001b[1m96/96\u001b[0m \u001b[32m━━━━━━━━━━━━━━━━━━━━\u001b[0m\u001b[37m\u001b[0m \u001b[1m16s\u001b[0m 157ms/step - accuracy: 0.4826 - f1_score_metric: 0.3837 - loss: 0.8364 - val_accuracy: 0.4655 - val_f1_score_metric: 0.6086 - val_loss: 0.6974\n",
      "Epoch 2/10\n",
      "\u001b[1m96/96\u001b[0m \u001b[32m━━━━━━━━━━━━━━━━━━━━\u001b[0m\u001b[37m\u001b[0m \u001b[1m15s\u001b[0m 160ms/step - accuracy: 0.4321 - f1_score_metric: 0.5570 - loss: 0.8383 - val_accuracy: 0.4655 - val_f1_score_metric: 0.6086 - val_loss: 0.7031\n",
      "Epoch 3/10\n",
      "\u001b[1m96/96\u001b[0m \u001b[32m━━━━━━━━━━━━━━━━━━━━\u001b[0m\u001b[37m\u001b[0m \u001b[1m16s\u001b[0m 163ms/step - accuracy: 0.4243 - f1_score_metric: 0.5942 - loss: 0.8388 - val_accuracy: 0.4655 - val_f1_score_metric: 0.6086 - val_loss: 0.6968\n",
      "Epoch 4/10\n",
      "\u001b[1m96/96\u001b[0m \u001b[32m━━━━━━━━━━━━━━━━━━━━\u001b[0m\u001b[37m\u001b[0m \u001b[1m16s\u001b[0m 172ms/step - accuracy: 0.4175 - f1_score_metric: 0.5873 - loss: 0.8375 - val_accuracy: 0.4655 - val_f1_score_metric: 0.6086 - val_loss: 0.6994\n",
      "Epoch 5/10\n",
      "\u001b[1m96/96\u001b[0m \u001b[32m━━━━━━━━━━━━━━━━━━━━\u001b[0m\u001b[37m\u001b[0m \u001b[1m16s\u001b[0m 167ms/step - accuracy: 0.4207 - f1_score_metric: 0.5896 - loss: 0.8382 - val_accuracy: 0.4655 - val_f1_score_metric: 0.6086 - val_loss: 0.6957\n",
      "Epoch 6/10\n",
      "\u001b[1m96/96\u001b[0m \u001b[32m━━━━━━━━━━━━━━━━━━━━\u001b[0m\u001b[37m\u001b[0m \u001b[1m15s\u001b[0m 160ms/step - accuracy: 0.4167 - f1_score_metric: 0.5862 - loss: 0.8372 - val_accuracy: 0.4655 - val_f1_score_metric: 0.6086 - val_loss: 0.6963\n",
      "Epoch 7/10\n",
      "\u001b[1m96/96\u001b[0m \u001b[32m━━━━━━━━━━━━━━━━━━━━\u001b[0m\u001b[37m\u001b[0m \u001b[1m16s\u001b[0m 162ms/step - accuracy: 0.4149 - f1_score_metric: 0.5836 - loss: 0.8366 - val_accuracy: 0.4655 - val_f1_score_metric: 0.6086 - val_loss: 0.6982\n",
      "Epoch 8/10\n",
      "\u001b[1m96/96\u001b[0m \u001b[32m━━━━━━━━━━━━━━━━━━━━\u001b[0m\u001b[37m\u001b[0m \u001b[1m16s\u001b[0m 168ms/step - accuracy: 0.4072 - f1_score_metric: 0.5763 - loss: 0.8348 - val_accuracy: 0.4655 - val_f1_score_metric: 0.6086 - val_loss: 0.7021\n",
      "\u001b[1m238/238\u001b[0m \u001b[32m━━━━━━━━━━━━━━━━━━━━\u001b[0m\u001b[37m\u001b[0m \u001b[1m6s\u001b[0m 24ms/step\n",
      "F1 Score: 0.6011\n",
      "Training with lr=0.001, batch_size=64, dropout=0.4, units=256\n",
      "Epoch 1/10\n"
     ]
    },
    {
     "name": "stderr",
     "output_type": "stream",
     "text": [
      "/opt/anaconda3/lib/python3.11/site-packages/keras/src/layers/core/embedding.py:90: UserWarning: Argument `input_length` is deprecated. Just remove it.\n",
      "  warnings.warn(\n"
     ]
    },
    {
     "name": "stdout",
     "output_type": "stream",
     "text": [
      "\u001b[1m96/96\u001b[0m \u001b[32m━━━━━━━━━━━━━━━━━━━━\u001b[0m\u001b[37m\u001b[0m \u001b[1m43s\u001b[0m 305ms/step - accuracy: 0.4318 - f1_score_metric: 0.5628 - loss: 0.8419 - val_accuracy: 0.4655 - val_f1_score_metric: 0.6086 - val_loss: 0.6932\n",
      "Epoch 2/10\n",
      "\u001b[1m96/96\u001b[0m \u001b[32m━━━━━━━━━━━━━━━━━━━━\u001b[0m\u001b[37m\u001b[0m \u001b[1m30s\u001b[0m 310ms/step - accuracy: 0.5138 - f1_score_metric: 0.2982 - loss: 0.8379 - val_accuracy: 0.4655 - val_f1_score_metric: 0.6086 - val_loss: 0.6949\n",
      "Epoch 3/10\n",
      "\u001b[1m96/96\u001b[0m \u001b[32m━━━━━━━━━━━━━━━━━━━━\u001b[0m\u001b[37m\u001b[0m \u001b[1m31s\u001b[0m 318ms/step - accuracy: 0.4261 - f1_score_metric: 0.5863 - loss: 0.8393 - val_accuracy: 0.4655 - val_f1_score_metric: 0.6086 - val_loss: 0.6943\n",
      "Epoch 4/10\n",
      "\u001b[1m96/96\u001b[0m \u001b[32m━━━━━━━━━━━━━━━━━━━━\u001b[0m\u001b[37m\u001b[0m \u001b[1m30s\u001b[0m 310ms/step - accuracy: 0.4248 - f1_score_metric: 0.5938 - loss: 0.8394 - val_accuracy: 0.4655 - val_f1_score_metric: 0.6086 - val_loss: 0.6969\n",
      "\u001b[1m238/238\u001b[0m \u001b[32m━━━━━━━━━━━━━━━━━━━━\u001b[0m\u001b[37m\u001b[0m \u001b[1m11s\u001b[0m 47ms/step\n",
      "F1 Score: 0.6011\n",
      "Best F1 Score:0.6011\n",
      "Best Parameters: {'learning_rate': 0.0001, 'batch_size': 16, 'dropout_rate': 0.2, 'gru_units': 64}\n"
     ]
    }
   ],
   "source": [
    "# Hyperpatameter Tuning\n",
    "# Custom F1- score metric\n",
    "def f1_score_metric(y_true, y_pred):\n",
    "    y_true=tf.cast(y_true,'float32')\n",
    "    y_pred=tf.round(y_pred)\n",
    "    tp=tf.reduce_sum(tf.cast(y_true * y_pred,'float32'))\n",
    "    fp=tf.reduce_sum(tf.cast((1 - y_true)*y_pred,'float32'))\n",
    "    fn=tf.reduce_sum(tf.cast(y_true*(1-y_pred),'float32'))\n",
    "\n",
    "    precision=tp/(tp + fp + tf.keras.backend.epsilon())\n",
    "    recall=tp/(tp + fn + tf.keras.backend.epsilon())\n",
    "    f1=2*(precision * recall)/(precision+recall+tf.keras.backend.epsilon())\n",
    "    return f1\n",
    "\n",
    "# Define hyperparameter\n",
    "learning_rates =[1e-4, 5e-4, 1e-3]\n",
    "batch_sizes=[16, 32, 64]\n",
    "dropouts=[0.2, 0.3, 0.4]\n",
    "gru_units=[64, 128, 256]\n",
    "\n",
    "# Save results\n",
    "best_f1=0\n",
    "best_params={}\n",
    "\n",
    "# Loop over hyperparameters\n",
    "for lr in learning_rates:\n",
    "    for batch_size in batch_sizes:\n",
    "        for dropout_rate in dropouts:\n",
    "            for units in gru_units:\n",
    "                print(f\"Training with lr={lr}, batch_size={batch_size}, dropout={dropout_rate}, units={units}\")\n",
    "                \n",
    "                # Define Model\n",
    "                model=Sequential([\n",
    "                    Embedding(input_dim=vocab_size, output_dim=embedding_dim, \n",
    "                              weights=[embedding_matrix], input_length=max_length, trainable=False),\n",
    "                    GRU(units, return_sequences=True),\n",
    "                    Dropout(dropout_rate),\n",
    "                    GRU(64),\n",
    "                    Dense(1, activation='sigmoid')\n",
    "                ])\n",
    "                \n",
    "                optimizer=Adam(learning_rate=lr)\n",
    "                model.compile(optimizer=optimizer, loss='binary_crossentropy', metrics=['accuracy', f1_score_metric])\n",
    "                \n",
    "                # Model Training\n",
    "                class_weight={0: 1, 1: 1.5}\n",
    "                early_stopping=EarlyStopping(monitor='val_loss', patience=3, restore_best_weights=True)\n",
    "                history=model.fit(\n",
    "                    train_padded,\n",
    "                    train_data['target'],\n",
    "                    validation_split=0.2,\n",
    "                    epochs=10,\n",
    "                    batch_size=batch_size,\n",
    "                    callbacks=[early_stopping],\n",
    "                    class_weight=class_weight,\n",
    "                    verbose=1\n",
    "                )\n",
    "                \n",
    "                # Prediction on validation set \n",
    "                val_predictions=model.predict(train_padded)\n",
    "                val_predictions=(val_predictions>0.5).astype(int).flatten()\n",
    "                f1=f1_score(train_data['target'], val_predictions)\n",
    "                print(f\"F1 Score: {f1:.4f}\")\n",
    "                \n",
    "                # Update best params\n",
    "                if f1>best_f1:\n",
    "                    best_f1 = f1\n",
    "                    best_params = {\n",
    "                        'learning_rate': lr,\n",
    "                        'batch_size': batch_size,\n",
    "                        'dropout_rate': dropout_rate,\n",
    "                        'gru_units': units\n",
    "                    }\n",
    "\n",
    "\n",
    "print(f\"Best F1 Score:{best_f1:.4f}\")\n",
    "print(f\"Best Parameters: {best_params}\")"
   ]
  },
  {
   "cell_type": "markdown",
   "id": "78df64bc-4e88-4989-969e-205bc0fb76d4",
   "metadata": {},
   "source": [
    "### Summary\n",
    "Best F1 Score:0.6011\n",
    "\n",
    "Best Parameters: {'learning_rate': 0.0001, 'batch_size': 16, 'dropout_rate': 0.2, 'gru_units': 64}\n",
    "\n",
    "The GRU model achieved the same F1 score (0.6011) as the LSTM model, despite using different hyperparameters. This indicates that both architectures have comparable performance on this dataset.\n",
    "I will use these pasrams to predict test datasets as well."
   ]
  },
  {
   "cell_type": "code",
   "execution_count": 95,
   "id": "4b42148f-a2f9-481d-a723-1cc313414474",
   "metadata": {},
   "outputs": [
    {
     "name": "stdout",
     "output_type": "stream",
     "text": [
      "  Model                                    Best Parameters  Best F1 Score\n",
      "0  LSTM  {'learning_rate': 0.001, 'batch_size': 64, 'dr...         0.6011\n",
      "1   GRU  {'learning_rate': 0.0001, 'batch_size': 16, 'd...         0.6011\n"
     ]
    }
   ],
   "source": [
    "# LSTM params and f1 score\n",
    "lstm_best_params={'learning_rate':0.001,'batch_size':64,'dropout_rate': 0.4,'lstm_units': 256}\n",
    "lstm_best_f1=0.6011\n",
    "\n",
    "# GRU params and f1 score\n",
    "gru_best_params={'learning_rate':0.0001,'batch_size':16,'dropout_rate': 0.2,'gru_units': 64}\n",
    "gru_best_f1=0.6011\n",
    "\n",
    "\n",
    "data={\n",
    "    'Model': ['LSTM', 'GRU'],\n",
    "    'Best Parameters': [lstm_best_params, gru_best_params],\n",
    "    'Best F1 Score': [lstm_best_f1, gru_best_f1]\n",
    "}\n",
    "\n",
    "\n",
    "df = pd.DataFrame(data)\n",
    "print(df)"
   ]
  },
  {
   "cell_type": "markdown",
   "id": "625aca66-9894-4ad0-98ce-8201db0c665c",
   "metadata": {},
   "source": [
    "Conclusion\n",
    "This project demonstrated the use of deep learning techniques (LSTM and GRU) for text classification on real-world, noisy tweet data. Pre-trained embeddings, proper handling of class imbalance, and hyperparameter tuning played key roles in improving the model's performance. While both models achieved comparable results, further improvements could be made by exploring ensemble techniques, different architectures."
   ]
  }
 ],
 "metadata": {
  "kernelspec": {
   "display_name": "Python 3 (ipykernel)",
   "language": "python",
   "name": "python3"
  },
  "language_info": {
   "codemirror_mode": {
    "name": "ipython",
    "version": 3
   },
   "file_extension": ".py",
   "mimetype": "text/x-python",
   "name": "python",
   "nbconvert_exporter": "python",
   "pygments_lexer": "ipython3",
   "version": "3.10.9"
  }
 },
 "nbformat": 4,
 "nbformat_minor": 5
}
